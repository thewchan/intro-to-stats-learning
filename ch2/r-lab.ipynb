{
 "cells": [
  {
   "cell_type": "markdown",
   "id": "841d4b9a-942e-401b-8ca2-527dbb195c6e",
   "metadata": {},
   "source": [
    "# 2.3 Lab: Introduction to R"
   ]
  },
  {
   "cell_type": "markdown",
   "id": "72e796b6-154b-4090-9e07-66011f2ed727",
   "metadata": {},
   "source": [
    "## 2.3.1 Basic Commands"
   ]
  },
  {
   "cell_type": "markdown",
   "id": "e6c4f7b0-245a-4f53-9409-f25552b77948",
   "metadata": {},
   "source": [
    "`R` uses _functions to per operations. To run a function called `funcname`, we type `funcname(input1, input2)`, where the inputs (or _arguments) `input1` and `input2` tell `R` how to run the function. A function can have any number of inputs. For example to create a vector of numbers, we use the function `c()` (for _concatenate). Any numbers inside the parenthese are joined together. The following command instruct `R` to join together the numbers 1, 3, 2, and 5, and to save them as a `vector` named `x`. When we type `x`, it gives us back the vector."
   ]
  },
  {
   "cell_type": "code",
   "execution_count": 1,
   "id": "3e98f8f4-aa6d-47c0-aea4-060386c17e5e",
   "metadata": {},
   "outputs": [
    {
     "data": {
      "text/html": [
       "<style>\n",
       ".list-inline {list-style: none; margin:0; padding: 0}\n",
       ".list-inline>li {display: inline-block}\n",
       ".list-inline>li:not(:last-child)::after {content: \"\\00b7\"; padding: 0 .5ex}\n",
       "</style>\n",
       "<ol class=list-inline><li>1</li><li>3</li><li>2</li><li>5</li></ol>\n"
      ],
      "text/latex": [
       "\\begin{enumerate*}\n",
       "\\item 1\n",
       "\\item 3\n",
       "\\item 2\n",
       "\\item 5\n",
       "\\end{enumerate*}\n"
      ],
      "text/markdown": [
       "1. 1\n",
       "2. 3\n",
       "3. 2\n",
       "4. 5\n",
       "\n",
       "\n"
      ],
      "text/plain": [
       "[1] 1 3 2 5"
      ]
     },
     "metadata": {},
     "output_type": "display_data"
    }
   ],
   "source": [
    "x <- c(1, 3, 2, 5)\n",
    "x"
   ]
  },
  {
   "cell_type": "markdown",
   "id": "1f4d0937-2251-4921-a537-c252708c22e1",
   "metadata": {},
   "source": [
    "We can also save things using `=` rather than `<-`:"
   ]
  },
  {
   "cell_type": "code",
   "execution_count": 2,
   "id": "4678c554-a98c-4f3c-8e37-b3f6f603ee8b",
   "metadata": {},
   "outputs": [
    {
     "data": {
      "text/html": [
       "<style>\n",
       ".list-inline {list-style: none; margin:0; padding: 0}\n",
       ".list-inline>li {display: inline-block}\n",
       ".list-inline>li:not(:last-child)::after {content: \"\\00b7\"; padding: 0 .5ex}\n",
       "</style>\n",
       "<ol class=list-inline><li>1</li><li>6</li><li>2</li></ol>\n"
      ],
      "text/latex": [
       "\\begin{enumerate*}\n",
       "\\item 1\n",
       "\\item 6\n",
       "\\item 2\n",
       "\\end{enumerate*}\n"
      ],
      "text/markdown": [
       "1. 1\n",
       "2. 6\n",
       "3. 2\n",
       "\n",
       "\n"
      ],
      "text/plain": [
       "[1] 1 6 2"
      ]
     },
     "metadata": {},
     "output_type": "display_data"
    },
    {
     "data": {
      "text/html": [
       "<style>\n",
       ".list-inline {list-style: none; margin:0; padding: 0}\n",
       ".list-inline>li {display: inline-block}\n",
       ".list-inline>li:not(:last-child)::after {content: \"\\00b7\"; padding: 0 .5ex}\n",
       "</style>\n",
       "<ol class=list-inline><li>1</li><li>4</li><li>3</li></ol>\n"
      ],
      "text/latex": [
       "\\begin{enumerate*}\n",
       "\\item 1\n",
       "\\item 4\n",
       "\\item 3\n",
       "\\end{enumerate*}\n"
      ],
      "text/markdown": [
       "1. 1\n",
       "2. 4\n",
       "3. 3\n",
       "\n",
       "\n"
      ],
      "text/plain": [
       "[1] 1 4 3"
      ]
     },
     "metadata": {},
     "output_type": "display_data"
    }
   ],
   "source": [
    "x = c(1, 6, 2)\n",
    "y = c(1, 4, 3)\n",
    "x\n",
    "y"
   ]
  },
  {
   "cell_type": "markdown",
   "id": "060d1379-a962-40a6-8aac-bad7d7ffe8cd",
   "metadata": {},
   "source": [
    "Typing `?funcname` will always cause `R` to open a new help file window with additional information about the function `funcname()`."
   ]
  },
  {
   "cell_type": "code",
   "execution_count": 3,
   "id": "516b3549-63c7-406e-9a9f-06850a315b79",
   "metadata": {},
   "outputs": [
    {
     "data": {
      "text/html": [
       "\n",
       "<table width=\"100%\" summary=\"page for c {base}\"><tr><td>c {base}</td><td style=\"text-align: right;\">R Documentation</td></tr></table>\n",
       "\n",
       "<h2>Combine Values into a Vector or List</h2>\n",
       "\n",
       "<h3>Description</h3>\n",
       "\n",
       "<p>This is a generic function which combines its arguments.\n",
       "</p>\n",
       "<p>The default method combines its arguments to form a vector.\n",
       "All arguments are coerced to a common type which is the type\n",
       "of the returned value, and all attributes except names are removed.\n",
       "</p>\n",
       "\n",
       "\n",
       "<h3>Usage</h3>\n",
       "\n",
       "<pre>\n",
       "## S3 Generic function\n",
       "c(...)\n",
       "\n",
       "## Default S3 method:\n",
       "c(..., recursive = FALSE, use.names = TRUE)\n",
       "</pre>\n",
       "\n",
       "\n",
       "<h3>Arguments</h3>\n",
       "\n",
       "<table summary=\"R argblock\">\n",
       "<tr valign=\"top\"><td><code>...</code></td>\n",
       "<td>\n",
       "<p>objects to be concatenated.  All <code>NULL</code> entries\n",
       "are dropped before method dispatch unless at the very beginning of the\n",
       "argument list.</p>\n",
       "</td></tr>\n",
       "<tr valign=\"top\"><td><code>recursive</code></td>\n",
       "<td>\n",
       "<p>logical.  If <code>recursive = TRUE</code>, the function\n",
       "recursively descends through lists (and pairlists) combining all\n",
       "their elements into a vector.</p>\n",
       "</td></tr>\n",
       "<tr valign=\"top\"><td><code>use.names</code></td>\n",
       "<td>\n",
       "<p>logical indicating if <code>names</code> should be\n",
       "preserved.</p>\n",
       "</td></tr>\n",
       "</table>\n",
       "\n",
       "\n",
       "<h3>Details</h3>\n",
       "\n",
       "<p>The output type is determined from the highest type of the components\n",
       "in the hierarchy NULL &lt; raw &lt; logical &lt; integer &lt; double &lt; complex &lt; character\n",
       "&lt; list &lt; expression.  Pairlists are treated as lists, whereas non-vector\n",
       "components (such as <code>name</code>s / <code>symbol</code>s and <code>call</code>s)\n",
       "are treated as one-element <code>list</code>s\n",
       "which cannot be unlisted even if <code>recursive = TRUE</code>.\n",
       "</p>\n",
       "<p>Note that in <span style=\"font-family: Courier New, Courier; color: #666666;\"><b>R</b></span> &lt; 4.1.0, <code>factor</code>s were treated only via\n",
       "their internal <code>integer</code> codes: now there is\n",
       "<code>c.factor</code> method which combines factors into a factor.\n",
       "</p>\n",
       "<p><code>c</code> is sometimes used for its side effect of removing attributes\n",
       "except names, for example to turn an <code>array</code> into a vector.\n",
       "<code>as.vector</code> is a more intuitive way to do this, but also drops\n",
       "names.  Note that methods other than the default are not required\n",
       "to do this (and they will almost certainly preserve a class attribute).\n",
       "</p>\n",
       "<p>This is a primitive function.\n",
       "</p>\n",
       "\n",
       "\n",
       "<h3>Value</h3>\n",
       "\n",
       "<p><code>NULL</code> or an expression or a vector of an appropriate mode.\n",
       "(With no arguments the value is <code>NULL</code>.)\n",
       "</p>\n",
       "\n",
       "\n",
       "<h3>S4 methods</h3>\n",
       "\n",
       "<p>This function is S4 generic, but with argument list\n",
       "<code>(x, ...)</code>.\n",
       "</p>\n",
       "\n",
       "\n",
       "<h3>References</h3>\n",
       "\n",
       "<p>Becker, R. A., Chambers, J. M. and Wilks, A. R. (1988)\n",
       "<em>The New S Language</em>.\n",
       "Wadsworth &amp; Brooks/Cole.\n",
       "</p>\n",
       "\n",
       "\n",
       "<h3>See Also</h3>\n",
       "\n",
       "<p><code>unlist</code> and <code>as.vector</code> to produce\n",
       "attribute-free vectors.\n",
       "</p>\n",
       "\n",
       "\n",
       "<h3>Examples</h3>\n",
       "\n",
       "<pre>\n",
       "c(1,7:9)\n",
       "c(1:5, 10.5, \"next\")\n",
       "\n",
       "## uses with a single argument to drop attributes\n",
       "x &lt;- 1:4\n",
       "names(x) &lt;- letters[1:4]\n",
       "x\n",
       "c(x)          # has names\n",
       "as.vector(x)  # no names\n",
       "dim(x) &lt;- c(2,2)\n",
       "x\n",
       "c(x)\n",
       "as.vector(x)\n",
       "\n",
       "## append to a list:\n",
       "ll &lt;- list(A = 1, c = \"C\")\n",
       "## do *not* use\n",
       "c(ll, d = 1:3) # which is == c(ll, as.list(c(d = 1:3)))\n",
       "## but rather\n",
       "c(ll, d = list(1:3))  # c() combining two lists\n",
       "\n",
       "c(list(A = c(B = 1)), recursive = TRUE)\n",
       "\n",
       "c(options(), recursive = TRUE)\n",
       "c(list(A = c(B = 1, C = 2), B = c(E = 7)), recursive = TRUE)\n",
       "</pre>\n",
       "\n",
       "<hr /><div style=\"text-align: center;\">[Package <em>base</em> version 4.1.3 ]</div>"
      ],
      "text/latex": [
       "\\inputencoding{utf8}\n",
       "\\HeaderA{c}{Combine Values into a Vector or List}{c}\n",
       "\\methaliasA{c.default}{c}{c.default}\n",
       "\\keyword{manip}{c}\n",
       "%\n",
       "\\begin{Description}\\relax\n",
       "This is a generic function which combines its arguments.\n",
       "\n",
       "The default method combines its arguments to form a vector.\n",
       "All arguments are coerced to a common type which is the type\n",
       "of the returned value, and all attributes except names are removed.\n",
       "\\end{Description}\n",
       "%\n",
       "\\begin{Usage}\n",
       "\\begin{verbatim}\n",
       "## S3 Generic function\n",
       "c(...)\n",
       "\n",
       "## Default S3 method:\n",
       "c(..., recursive = FALSE, use.names = TRUE)\n",
       "\\end{verbatim}\n",
       "\\end{Usage}\n",
       "%\n",
       "\\begin{Arguments}\n",
       "\\begin{ldescription}\n",
       "\\item[\\code{...}] objects to be concatenated.  All \\code{\\LinkA{NULL}{NULL}} entries\n",
       "are dropped before method dispatch unless at the very beginning of the\n",
       "argument list.\n",
       "\\item[\\code{recursive}] logical.  If \\code{recursive = TRUE}, the function\n",
       "recursively descends through lists (and pairlists) combining all\n",
       "their elements into a vector.\n",
       "\\item[\\code{use.names}] logical indicating if \\code{\\LinkA{names}{names}} should be\n",
       "preserved.\n",
       "\\end{ldescription}\n",
       "\\end{Arguments}\n",
       "%\n",
       "\\begin{Details}\\relax\n",
       "The output type is determined from the highest type of the components\n",
       "in the hierarchy NULL < raw < logical < integer < double < complex < character\n",
       "< list < expression.  Pairlists are treated as lists, whereas non-vector\n",
       "components (such as \\code{\\LinkA{name}{name}}s / \\code{symbol}s and \\code{\\LinkA{call}{call}}s)\n",
       "are treated as one-element \\code{\\LinkA{list}{list}}s\n",
       "which cannot be unlisted even if \\code{recursive = TRUE}.\n",
       "\n",
       "Note that in \\R{} < 4.1.0, \\code{\\LinkA{factor}{factor}}s were treated only via\n",
       "their internal \\code{\\LinkA{integer}{integer}} codes: now there is\n",
       "\\code{\\LinkA{c.factor}{c.factor}} method which combines factors into a factor.\n",
       "\n",
       "\\code{c} is sometimes used for its side effect of removing attributes\n",
       "except names, for example to turn an \\code{\\LinkA{array}{array}} into a vector.\n",
       "\\code{as.vector} is a more intuitive way to do this, but also drops\n",
       "names.  Note that methods other than the default are not required\n",
       "to do this (and they will almost certainly preserve a class attribute).\n",
       "\n",
       "This is a \\LinkA{primitive}{primitive} function.\n",
       "\\end{Details}\n",
       "%\n",
       "\\begin{Value}\n",
       "\\code{NULL} or an expression or a vector of an appropriate mode.\n",
       "(With no arguments the value is \\code{NULL}.)\n",
       "\\end{Value}\n",
       "%\n",
       "\\begin{Section}{S4 methods}\n",
       "This function is S4 generic, but with argument list\n",
       "\\code{(x, ...)}.\n",
       "\\end{Section}\n",
       "%\n",
       "\\begin{References}\\relax\n",
       "Becker, R. A., Chambers, J. M. and Wilks, A. R. (1988)\n",
       "\\emph{The New S Language}.\n",
       "Wadsworth \\& Brooks/Cole.\n",
       "\\end{References}\n",
       "%\n",
       "\\begin{SeeAlso}\\relax\n",
       "\\code{\\LinkA{unlist}{unlist}} and \\code{\\LinkA{as.vector}{as.vector}} to produce\n",
       "attribute-free vectors.\n",
       "\\end{SeeAlso}\n",
       "%\n",
       "\\begin{Examples}\n",
       "\\begin{ExampleCode}\n",
       "c(1,7:9)\n",
       "c(1:5, 10.5, \"next\")\n",
       "\n",
       "## uses with a single argument to drop attributes\n",
       "x <- 1:4\n",
       "names(x) <- letters[1:4]\n",
       "x\n",
       "c(x)          # has names\n",
       "as.vector(x)  # no names\n",
       "dim(x) <- c(2,2)\n",
       "x\n",
       "c(x)\n",
       "as.vector(x)\n",
       "\n",
       "## append to a list:\n",
       "ll <- list(A = 1, c = \"C\")\n",
       "## do *not* use\n",
       "c(ll, d = 1:3) # which is == c(ll, as.list(c(d = 1:3)))\n",
       "## but rather\n",
       "c(ll, d = list(1:3))  # c() combining two lists\n",
       "\n",
       "c(list(A = c(B = 1)), recursive = TRUE)\n",
       "\n",
       "c(options(), recursive = TRUE)\n",
       "c(list(A = c(B = 1, C = 2), B = c(E = 7)), recursive = TRUE)\n",
       "\\end{ExampleCode}\n",
       "\\end{Examples}"
      ],
      "text/plain": [
       "c                     package:base                     R Documentation\n",
       "\n",
       "_\bC_\bo_\bm_\bb_\bi_\bn_\be _\bV_\ba_\bl_\bu_\be_\bs _\bi_\bn_\bt_\bo _\ba _\bV_\be_\bc_\bt_\bo_\br _\bo_\br _\bL_\bi_\bs_\bt\n",
       "\n",
       "_\bD_\be_\bs_\bc_\br_\bi_\bp_\bt_\bi_\bo_\bn:\n",
       "\n",
       "     This is a generic function which combines its arguments.\n",
       "\n",
       "     The default method combines its arguments to form a vector.  All\n",
       "     arguments are coerced to a common type which is the type of the\n",
       "     returned value, and all attributes except names are removed.\n",
       "\n",
       "_\bU_\bs_\ba_\bg_\be:\n",
       "\n",
       "     ## S3 Generic function\n",
       "     c(...)\n",
       "     \n",
       "     ## Default S3 method:\n",
       "     c(..., recursive = FALSE, use.names = TRUE)\n",
       "     \n",
       "_\bA_\br_\bg_\bu_\bm_\be_\bn_\bt_\bs:\n",
       "\n",
       "     ...: objects to be concatenated.  All 'NULL' entries are dropped\n",
       "          before method dispatch unless at the very beginning of the\n",
       "          argument list.\n",
       "\n",
       "recursive: logical.  If 'recursive = TRUE', the function recursively\n",
       "          descends through lists (and pairlists) combining all their\n",
       "          elements into a vector.\n",
       "\n",
       "use.names: logical indicating if 'names' should be preserved.\n",
       "\n",
       "_\bD_\be_\bt_\ba_\bi_\bl_\bs:\n",
       "\n",
       "     The output type is determined from the highest type of the\n",
       "     components in the hierarchy NULL < raw < logical < integer <\n",
       "     double < complex < character < list < expression.  Pairlists are\n",
       "     treated as lists, whereas non-vector components (such as 'name's /\n",
       "     'symbol's and 'call's) are treated as one-element 'list's which\n",
       "     cannot be unlisted even if 'recursive = TRUE'.\n",
       "\n",
       "     Note that in R < 4.1.0, 'factor's were treated only via their\n",
       "     internal 'integer' codes: now there is 'c.factor' method which\n",
       "     combines factors into a factor.\n",
       "\n",
       "     'c' is sometimes used for its side effect of removing attributes\n",
       "     except names, for example to turn an 'array' into a vector.\n",
       "     'as.vector' is a more intuitive way to do this, but also drops\n",
       "     names.  Note that methods other than the default are not required\n",
       "     to do this (and they will almost certainly preserve a class\n",
       "     attribute).\n",
       "\n",
       "     This is a primitive function.\n",
       "\n",
       "_\bV_\ba_\bl_\bu_\be:\n",
       "\n",
       "     'NULL' or an expression or a vector of an appropriate mode.  (With\n",
       "     no arguments the value is 'NULL'.)\n",
       "\n",
       "_\bS_\b4 _\bm_\be_\bt_\bh_\bo_\bd_\bs:\n",
       "\n",
       "     This function is S4 generic, but with argument list '(x, ...)'.\n",
       "\n",
       "_\bR_\be_\bf_\be_\br_\be_\bn_\bc_\be_\bs:\n",
       "\n",
       "     Becker, R. A., Chambers, J. M. and Wilks, A. R. (1988) _The New S\n",
       "     Language_.  Wadsworth & Brooks/Cole.\n",
       "\n",
       "_\bS_\be_\be _\bA_\bl_\bs_\bo:\n",
       "\n",
       "     'unlist' and 'as.vector' to produce attribute-free vectors.\n",
       "\n",
       "_\bE_\bx_\ba_\bm_\bp_\bl_\be_\bs:\n",
       "\n",
       "     c(1,7:9)\n",
       "     c(1:5, 10.5, \"next\")\n",
       "     \n",
       "     ## uses with a single argument to drop attributes\n",
       "     x <- 1:4\n",
       "     names(x) <- letters[1:4]\n",
       "     x\n",
       "     c(x)          # has names\n",
       "     as.vector(x)  # no names\n",
       "     dim(x) <- c(2,2)\n",
       "     x\n",
       "     c(x)\n",
       "     as.vector(x)\n",
       "     \n",
       "     ## append to a list:\n",
       "     ll <- list(A = 1, c = \"C\")\n",
       "     ## do *not* use\n",
       "     c(ll, d = 1:3) # which is == c(ll, as.list(c(d = 1:3)))\n",
       "     ## but rather\n",
       "     c(ll, d = list(1:3))  # c() combining two lists\n",
       "     \n",
       "     c(list(A = c(B = 1)), recursive = TRUE)\n",
       "     \n",
       "     c(options(), recursive = TRUE)\n",
       "     c(list(A = c(B = 1, C = 2), B = c(E = 7)), recursive = TRUE)\n",
       "     "
      ]
     },
     "metadata": {},
     "output_type": "display_data"
    }
   ],
   "source": [
    "?c"
   ]
  },
  {
   "cell_type": "markdown",
   "id": "97b232f2-958a-4229-9775-5c7bb127c1c9",
   "metadata": {},
   "source": [
    "We can tell `R` to add two sets of numbers together. It will then add the first number from `x` to the first number of `y`, and so on. However, `x` and `y` should be the same length. We can check their length using the `length()` function."
   ]
  },
  {
   "cell_type": "code",
   "execution_count": 4,
   "id": "01e4c6a0-4c2d-451c-8db6-f303ebfcd1e9",
   "metadata": {},
   "outputs": [
    {
     "data": {
      "text/html": [
       "3"
      ],
      "text/latex": [
       "3"
      ],
      "text/markdown": [
       "3"
      ],
      "text/plain": [
       "[1] 3"
      ]
     },
     "metadata": {},
     "output_type": "display_data"
    }
   ],
   "source": [
    "length(x)"
   ]
  },
  {
   "cell_type": "code",
   "execution_count": 5,
   "id": "af3e55db-bee9-4473-9541-d4e04ceb09d1",
   "metadata": {},
   "outputs": [
    {
     "data": {
      "text/html": [
       "3"
      ],
      "text/latex": [
       "3"
      ],
      "text/markdown": [
       "3"
      ],
      "text/plain": [
       "[1] 3"
      ]
     },
     "metadata": {},
     "output_type": "display_data"
    }
   ],
   "source": [
    "length(y)"
   ]
  },
  {
   "cell_type": "code",
   "execution_count": 6,
   "id": "2fda4265-9338-46bf-a312-4e8705f26e3d",
   "metadata": {},
   "outputs": [
    {
     "data": {
      "text/html": [
       "<style>\n",
       ".list-inline {list-style: none; margin:0; padding: 0}\n",
       ".list-inline>li {display: inline-block}\n",
       ".list-inline>li:not(:last-child)::after {content: \"\\00b7\"; padding: 0 .5ex}\n",
       "</style>\n",
       "<ol class=list-inline><li>2</li><li>10</li><li>5</li></ol>\n"
      ],
      "text/latex": [
       "\\begin{enumerate*}\n",
       "\\item 2\n",
       "\\item 10\n",
       "\\item 5\n",
       "\\end{enumerate*}\n"
      ],
      "text/markdown": [
       "1. 2\n",
       "2. 10\n",
       "3. 5\n",
       "\n",
       "\n"
      ],
      "text/plain": [
       "[1]  2 10  5"
      ]
     },
     "metadata": {},
     "output_type": "display_data"
    }
   ],
   "source": [
    "x + y"
   ]
  },
  {
   "cell_type": "markdown",
   "id": "ef7c2922-8128-403f-93dc-aecad00fd7a9",
   "metadata": {},
   "source": [
    "The `ls()` function allows us to look at a list of all of the objects, such as data and functions, that we have saved so far. The `rm()` function can be used to delete any that we don't want."
   ]
  },
  {
   "cell_type": "code",
   "execution_count": 7,
   "id": "b0cb767d-8b62-4ed8-bd60-5f283e589b15",
   "metadata": {},
   "outputs": [
    {
     "data": {
      "text/html": [
       "<style>\n",
       ".list-inline {list-style: none; margin:0; padding: 0}\n",
       ".list-inline>li {display: inline-block}\n",
       ".list-inline>li:not(:last-child)::after {content: \"\\00b7\"; padding: 0 .5ex}\n",
       "</style>\n",
       "<ol class=list-inline><li>'x'</li><li>'y'</li></ol>\n"
      ],
      "text/latex": [
       "\\begin{enumerate*}\n",
       "\\item 'x'\n",
       "\\item 'y'\n",
       "\\end{enumerate*}\n"
      ],
      "text/markdown": [
       "1. 'x'\n",
       "2. 'y'\n",
       "\n",
       "\n"
      ],
      "text/plain": [
       "[1] \"x\" \"y\""
      ]
     },
     "metadata": {},
     "output_type": "display_data"
    }
   ],
   "source": [
    "ls()"
   ]
  },
  {
   "cell_type": "code",
   "execution_count": 8,
   "id": "3eb9bb58-b894-4045-9a90-dde16b50b8b5",
   "metadata": {},
   "outputs": [],
   "source": [
    "rm(x, y)"
   ]
  },
  {
   "cell_type": "code",
   "execution_count": 9,
   "id": "d26b64da-28b4-444d-aad8-2231d0e28858",
   "metadata": {},
   "outputs": [
    {
     "data": {
      "text/html": [],
      "text/latex": [],
      "text/markdown": [],
      "text/plain": [
       "character(0)"
      ]
     },
     "metadata": {},
     "output_type": "display_data"
    }
   ],
   "source": [
    "ls()"
   ]
  },
  {
   "cell_type": "markdown",
   "id": "d1469cd2-7e11-41c8-9b5d-65227b57e851",
   "metadata": {},
   "source": [
    "The `matrix()` function can be used to create a matrix of numbers. Before we use the `matrix()` function, we can learn more about it:"
   ]
  },
  {
   "cell_type": "code",
   "execution_count": 10,
   "id": "304841af-2a9c-4161-988e-d73061963795",
   "metadata": {},
   "outputs": [
    {
     "data": {
      "text/html": [
       "\n",
       "<table width=\"100%\" summary=\"page for matrix {base}\"><tr><td>matrix {base}</td><td style=\"text-align: right;\">R Documentation</td></tr></table>\n",
       "\n",
       "<h2>Matrices</h2>\n",
       "\n",
       "<h3>Description</h3>\n",
       "\n",
       "<p><code>matrix</code> creates a matrix from the given set of values.\n",
       "</p>\n",
       "<p><code>as.matrix</code> attempts to turn its argument into a matrix.\n",
       "</p>\n",
       "<p><code>is.matrix</code> tests if its argument is a (strict) matrix.\n",
       "</p>\n",
       "\n",
       "\n",
       "<h3>Usage</h3>\n",
       "\n",
       "<pre>\n",
       "matrix(data = NA, nrow = 1, ncol = 1, byrow = FALSE,\n",
       "       dimnames = NULL)\n",
       "\n",
       "as.matrix(x, ...)\n",
       "## S3 method for class 'data.frame'\n",
       "as.matrix(x, rownames.force = NA, ...)\n",
       "\n",
       "is.matrix(x)\n",
       "</pre>\n",
       "\n",
       "\n",
       "<h3>Arguments</h3>\n",
       "\n",
       "<table summary=\"R argblock\">\n",
       "<tr valign=\"top\"><td><code>data</code></td>\n",
       "<td>\n",
       "<p>an optional data vector (including a list or\n",
       "<code>expression</code> vector).  Non-atomic classed <span style=\"font-family: Courier New, Courier; color: #666666;\"><b>R</b></span> objects are\n",
       "coerced by <code>as.vector</code> and all attributes discarded.</p>\n",
       "</td></tr>\n",
       "<tr valign=\"top\"><td><code>nrow</code></td>\n",
       "<td>\n",
       "<p>the desired number of rows.</p>\n",
       "</td></tr>\n",
       "<tr valign=\"top\"><td><code>ncol</code></td>\n",
       "<td>\n",
       "<p>the desired number of columns.</p>\n",
       "</td></tr>\n",
       "<tr valign=\"top\"><td><code>byrow</code></td>\n",
       "<td>\n",
       "<p>logical. If <code>FALSE</code> (the default) the matrix is\n",
       "filled by columns, otherwise the matrix is filled by rows.</p>\n",
       "</td></tr>\n",
       "<tr valign=\"top\"><td><code>dimnames</code></td>\n",
       "<td>\n",
       "<p>A <code>dimnames</code> attribute for the matrix:\n",
       "<code>NULL</code> or a <code>list</code> of length 2 giving the row and column\n",
       "names respectively.  An empty list is treated as <code>NULL</code>, and a\n",
       "list of length one as row names.  The list can be named, and the\n",
       "list names will be used as names for the dimensions.</p>\n",
       "</td></tr>\n",
       "<tr valign=\"top\"><td><code>x</code></td>\n",
       "<td>\n",
       "<p>an <span style=\"font-family: Courier New, Courier; color: #666666;\"><b>R</b></span> object.</p>\n",
       "</td></tr>\n",
       "<tr valign=\"top\"><td><code>...</code></td>\n",
       "<td>\n",
       "<p>additional arguments to be passed to or from methods.</p>\n",
       "</td></tr>\n",
       "<tr valign=\"top\"><td><code>rownames.force</code></td>\n",
       "<td>\n",
       "<p>logical indicating if the resulting matrix\n",
       "should have character (rather than <code>NULL</code>)\n",
       "<code>rownames</code>.  The default, <code>NA</code>, uses <code>NULL</code>\n",
       "rownames if the data frame has &lsquo;automatic&rsquo; row.names or for a\n",
       "zero-row data frame.</p>\n",
       "</td></tr>\n",
       "</table>\n",
       "\n",
       "\n",
       "<h3>Details</h3>\n",
       "\n",
       "<p>If one of <code>nrow</code> or <code>ncol</code> is not given, an attempt is\n",
       "made to infer it from the length of <code>data</code> and the other\n",
       "parameter.  If neither is given, a one-column matrix is returned.\n",
       "</p>\n",
       "<p>If there are too few elements in <code>data</code> to fill the matrix,\n",
       "then the elements in <code>data</code> are recycled.  If <code>data</code> has\n",
       "length zero, <code>NA</code> of an appropriate type is used for atomic\n",
       "vectors (<code>0</code> for raw vectors) and <code>NULL</code> for lists.\n",
       "</p>\n",
       "<p><code>is.matrix</code> returns <code>TRUE</code> if <code>x</code> is a vector and has a\n",
       "<code>\"dim\"</code> attribute of length 2 and <code>FALSE</code> otherwise.\n",
       "Note that a <code>data.frame</code> is <strong>not</strong> a matrix by this\n",
       "test.  The function is generic: you can write methods to handle\n",
       "specific classes of objects, see InternalMethods.\n",
       "</p>\n",
       "<p><code>as.matrix</code> is a generic function.  The method for data frames\n",
       "will return a character matrix if there is only atomic columns and any\n",
       "non-(numeric/logical/complex) column, applying <code>as.vector</code>\n",
       "to factors and <code>format</code> to other non-character columns.\n",
       "Otherwise, the usual coercion hierarchy (logical &lt; integer &lt; double &lt;\n",
       "complex) will be used, e.g., all-logical data frames will be coerced\n",
       "to a logical matrix, mixed logical-integer will give a integer matrix,\n",
       "etc.\n",
       "</p>\n",
       "<p>The default method for <code>as.matrix</code> calls <code>as.vector(x)</code>, and\n",
       "hence e.g. coerces factors to character vectors.\n",
       "</p>\n",
       "<p>When coercing a vector, it produces a one-column matrix, and\n",
       "promotes the names (if any) of the vector to the rownames of the matrix.\n",
       "</p>\n",
       "<p><code>is.matrix</code> is a primitive function.\n",
       "</p>\n",
       "<p>The <code>print</code> method for a matrix gives a rectangular layout with\n",
       "dimnames or indices.  For a list matrix, the entries of length not\n",
       "one are printed in  the form <span class=\"samp\">integer,7</span> indicating the type\n",
       "and length.\n",
       "</p>\n",
       "\n",
       "\n",
       "<h3>Note</h3>\n",
       "\n",
       "<p>If you just want to convert a vector to a matrix, something like\n",
       "</p>\n",
       "<pre>  dim(x) &lt;- c(nx, ny)\n",
       "  dimnames(x) &lt;- list(row_names, col_names)\n",
       "</pre>\n",
       "<p>will avoid duplicating <code>x</code> <em>and</em> preserve\n",
       "<code>class(x)</code> which may be useful, e.g.,\n",
       "for <code>Date</code> objects.\n",
       "</p>\n",
       "\n",
       "\n",
       "<h3>References</h3>\n",
       "\n",
       "<p>Becker, R. A., Chambers, J. M. and Wilks, A. R. (1988)\n",
       "<em>The New S Language</em>.\n",
       "Wadsworth &amp; Brooks/Cole.\n",
       "</p>\n",
       "\n",
       "\n",
       "<h3>See Also</h3>\n",
       "\n",
       "<p><code>data.matrix</code>, which attempts to convert to a numeric\n",
       "matrix.\n",
       "</p>\n",
       "<p>A matrix is the special case of a two-dimensional <code>array</code>.\n",
       "Since <span style=\"font-family: Courier New, Courier; color: #666666;\"><b>R</b></span> 4.0.0, <code>inherits(m, \"array\")</code> is true for a\n",
       "<code>matrix</code> <code>m</code>.\n",
       "</p>\n",
       "\n",
       "\n",
       "<h3>Examples</h3>\n",
       "\n",
       "<pre>\n",
       "is.matrix(as.matrix(1:10))\n",
       "!is.matrix(warpbreaks)  # data.frame, NOT matrix!\n",
       "warpbreaks[1:10,]\n",
       "as.matrix(warpbreaks[1:10,])  # using as.matrix.data.frame(.) method\n",
       "\n",
       "## Example of setting row and column names\n",
       "mdat &lt;- matrix(c(1,2,3, 11,12,13), nrow = 2, ncol = 3, byrow = TRUE,\n",
       "               dimnames = list(c(\"row1\", \"row2\"),\n",
       "                               c(\"C.1\", \"C.2\", \"C.3\")))\n",
       "mdat\n",
       "</pre>\n",
       "\n",
       "<hr /><div style=\"text-align: center;\">[Package <em>base</em> version 4.1.3 ]</div>"
      ],
      "text/latex": [
       "\\inputencoding{utf8}\n",
       "\\HeaderA{matrix}{Matrices}{matrix}\n",
       "\\aliasA{as.matrix}{matrix}{as.matrix}\n",
       "\\methaliasA{as.matrix.data.frame}{matrix}{as.matrix.data.frame}\n",
       "\\methaliasA{as.matrix.default}{matrix}{as.matrix.default}\n",
       "\\aliasA{is.matrix}{matrix}{is.matrix}\n",
       "\\keyword{array}{matrix}\n",
       "\\keyword{algebra}{matrix}\n",
       "%\n",
       "\\begin{Description}\\relax\n",
       "\\code{matrix} creates a matrix from the given set of values.\n",
       "\n",
       "\\code{as.matrix} attempts to turn its argument into a matrix.\n",
       "\n",
       "\\code{is.matrix} tests if its argument is a (strict) matrix.\n",
       "\\end{Description}\n",
       "%\n",
       "\\begin{Usage}\n",
       "\\begin{verbatim}\n",
       "matrix(data = NA, nrow = 1, ncol = 1, byrow = FALSE,\n",
       "       dimnames = NULL)\n",
       "\n",
       "as.matrix(x, ...)\n",
       "## S3 method for class 'data.frame'\n",
       "as.matrix(x, rownames.force = NA, ...)\n",
       "\n",
       "is.matrix(x)\n",
       "\\end{verbatim}\n",
       "\\end{Usage}\n",
       "%\n",
       "\\begin{Arguments}\n",
       "\\begin{ldescription}\n",
       "\\item[\\code{data}] an optional data vector (including a list or\n",
       "\\code{\\LinkA{expression}{expression}} vector).  Non-atomic classed \\R{} objects are\n",
       "coerced by \\code{\\LinkA{as.vector}{as.vector}} and all attributes discarded.\n",
       "\\item[\\code{nrow}] the desired number of rows.\n",
       "\\item[\\code{ncol}] the desired number of columns.\n",
       "\\item[\\code{byrow}] logical. If \\code{FALSE} (the default) the matrix is\n",
       "filled by columns, otherwise the matrix is filled by rows.\n",
       "\\item[\\code{dimnames}] A \\code{\\LinkA{dimnames}{dimnames}} attribute for the matrix:\n",
       "\\code{NULL} or a \\code{list} of length 2 giving the row and column\n",
       "names respectively.  An empty list is treated as \\code{NULL}, and a\n",
       "list of length one as row names.  The list can be named, and the\n",
       "list names will be used as names for the dimensions.\n",
       "\\item[\\code{x}] an \\R{} object.\n",
       "\\item[\\code{...}] additional arguments to be passed to or from methods.\n",
       "\\item[\\code{rownames.force}] logical indicating if the resulting matrix\n",
       "should have character (rather than \\code{NULL})\n",
       "\\code{\\LinkA{rownames}{rownames}}.  The default, \\code{NA}, uses \\code{NULL}\n",
       "rownames if the data frame has `automatic' row.names or for a\n",
       "zero-row data frame.\n",
       "\\end{ldescription}\n",
       "\\end{Arguments}\n",
       "%\n",
       "\\begin{Details}\\relax\n",
       "If one of \\code{nrow} or \\code{ncol} is not given, an attempt is\n",
       "made to infer it from the length of \\code{data} and the other\n",
       "parameter.  If neither is given, a one-column matrix is returned.\n",
       "\n",
       "If there are too few elements in \\code{data} to fill the matrix,\n",
       "then the elements in \\code{data} are recycled.  If \\code{data} has\n",
       "length zero, \\code{NA} of an appropriate type is used for atomic\n",
       "vectors (\\code{0} for raw vectors) and \\code{NULL} for lists.\n",
       "\n",
       "\\code{is.matrix} returns \\code{TRUE} if \\code{x} is a vector and has a\n",
       "\\code{\"\\LinkA{dim}{dim}\"} attribute of length 2 and \\code{FALSE} otherwise.\n",
       "Note that a \\code{\\LinkA{data.frame}{data.frame}} is \\strong{not} a matrix by this\n",
       "test.  The function is generic: you can write methods to handle\n",
       "specific classes of objects, see \\LinkA{InternalMethods}{InternalMethods}.\n",
       "\n",
       "\\code{as.matrix} is a generic function.  The method for data frames\n",
       "will return a character matrix if there is only atomic columns and any\n",
       "non-(numeric/logical/complex) column, applying \\code{\\LinkA{as.vector}{as.vector}}\n",
       "to factors and \\code{\\LinkA{format}{format}} to other non-character columns.\n",
       "Otherwise, the usual coercion hierarchy (logical < integer < double <\n",
       "complex) will be used, e.g., all-logical data frames will be coerced\n",
       "to a logical matrix, mixed logical-integer will give a integer matrix,\n",
       "etc.\n",
       "\n",
       "The default method for \\code{as.matrix} calls \\code{as.vector(x)}, and\n",
       "hence e.g.~coerces factors to character vectors.\n",
       "\n",
       "When coercing a vector, it produces a one-column matrix, and\n",
       "promotes the names (if any) of the vector to the rownames of the matrix.\n",
       "\n",
       "\\code{is.matrix} is a \\LinkA{primitive}{primitive} function.\n",
       "\n",
       "The \\code{print} method for a matrix gives a rectangular layout with\n",
       "dimnames or indices.  For a list matrix, the entries of length not\n",
       "one are printed in  the form \\samp{integer,7} indicating the type\n",
       "and length.\n",
       "\\end{Details}\n",
       "%\n",
       "\\begin{Note}\\relax\n",
       "If you just want to convert a vector to a matrix, something like\n",
       "\\begin{alltt}  dim(x) <- c(nx, ny)\n",
       "  dimnames(x) <- list(row_names, col_names)\n",
       "\\end{alltt}\n",
       "\n",
       "will avoid duplicating \\code{x} \\emph{and} preserve\n",
       "\\code{\\LinkA{class}{class}(x)} which may be useful, e.g.,\n",
       "for \\code{\\LinkA{Date}{Date}} objects.\n",
       "\\end{Note}\n",
       "%\n",
       "\\begin{References}\\relax\n",
       "Becker, R. A., Chambers, J. M. and Wilks, A. R. (1988)\n",
       "\\emph{The New S Language}.\n",
       "Wadsworth \\& Brooks/Cole.\n",
       "\\end{References}\n",
       "%\n",
       "\\begin{SeeAlso}\\relax\n",
       "\\code{\\LinkA{data.matrix}{data.matrix}}, which attempts to convert to a numeric\n",
       "matrix.\n",
       "\n",
       "A matrix is the special case of a two-dimensional \\code{\\LinkA{array}{array}}.\n",
       "Since \\R{} 4.0.0, \\code{\\LinkA{inherits}{inherits}(m, \"array\")} is true for a\n",
       "\\code{matrix} \\code{m}.\n",
       "\\end{SeeAlso}\n",
       "%\n",
       "\\begin{Examples}\n",
       "\\begin{ExampleCode}\n",
       "is.matrix(as.matrix(1:10))\n",
       "!is.matrix(warpbreaks)  # data.frame, NOT matrix!\n",
       "warpbreaks[1:10,]\n",
       "as.matrix(warpbreaks[1:10,])  # using as.matrix.data.frame(.) method\n",
       "\n",
       "## Example of setting row and column names\n",
       "mdat <- matrix(c(1,2,3, 11,12,13), nrow = 2, ncol = 3, byrow = TRUE,\n",
       "               dimnames = list(c(\"row1\", \"row2\"),\n",
       "                               c(\"C.1\", \"C.2\", \"C.3\")))\n",
       "mdat\n",
       "\\end{ExampleCode}\n",
       "\\end{Examples}"
      ],
      "text/plain": [
       "matrix                  package:base                   R Documentation\n",
       "\n",
       "_\bM_\ba_\bt_\br_\bi_\bc_\be_\bs\n",
       "\n",
       "_\bD_\be_\bs_\bc_\br_\bi_\bp_\bt_\bi_\bo_\bn:\n",
       "\n",
       "     'matrix' creates a matrix from the given set of values.\n",
       "\n",
       "     'as.matrix' attempts to turn its argument into a matrix.\n",
       "\n",
       "     'is.matrix' tests if its argument is a (strict) matrix.\n",
       "\n",
       "_\bU_\bs_\ba_\bg_\be:\n",
       "\n",
       "     matrix(data = NA, nrow = 1, ncol = 1, byrow = FALSE,\n",
       "            dimnames = NULL)\n",
       "     \n",
       "     as.matrix(x, ...)\n",
       "     ## S3 method for class 'data.frame'\n",
       "     as.matrix(x, rownames.force = NA, ...)\n",
       "     \n",
       "     is.matrix(x)\n",
       "     \n",
       "_\bA_\br_\bg_\bu_\bm_\be_\bn_\bt_\bs:\n",
       "\n",
       "    data: an optional data vector (including a list or 'expression'\n",
       "          vector).  Non-atomic classed R objects are coerced by\n",
       "          'as.vector' and all attributes discarded.\n",
       "\n",
       "    nrow: the desired number of rows.\n",
       "\n",
       "    ncol: the desired number of columns.\n",
       "\n",
       "   byrow: logical. If 'FALSE' (the default) the matrix is filled by\n",
       "          columns, otherwise the matrix is filled by rows.\n",
       "\n",
       "dimnames: A 'dimnames' attribute for the matrix: 'NULL' or a 'list' of\n",
       "          length 2 giving the row and column names respectively.  An\n",
       "          empty list is treated as 'NULL', and a list of length one as\n",
       "          row names.  The list can be named, and the list names will be\n",
       "          used as names for the dimensions.\n",
       "\n",
       "       x: an R object.\n",
       "\n",
       "     ...: additional arguments to be passed to or from methods.\n",
       "\n",
       "rownames.force: logical indicating if the resulting matrix should have\n",
       "          character (rather than 'NULL') 'rownames'.  The default,\n",
       "          'NA', uses 'NULL' rownames if the data frame has 'automatic'\n",
       "          row.names or for a zero-row data frame.\n",
       "\n",
       "_\bD_\be_\bt_\ba_\bi_\bl_\bs:\n",
       "\n",
       "     If one of 'nrow' or 'ncol' is not given, an attempt is made to\n",
       "     infer it from the length of 'data' and the other parameter.  If\n",
       "     neither is given, a one-column matrix is returned.\n",
       "\n",
       "     If there are too few elements in 'data' to fill the matrix, then\n",
       "     the elements in 'data' are recycled.  If 'data' has length zero,\n",
       "     'NA' of an appropriate type is used for atomic vectors ('0' for\n",
       "     raw vectors) and 'NULL' for lists.\n",
       "\n",
       "     'is.matrix' returns 'TRUE' if 'x' is a vector and has a '\"dim\"'\n",
       "     attribute of length 2 and 'FALSE' otherwise.  Note that a\n",
       "     'data.frame' is *not* a matrix by this test.  The function is\n",
       "     generic: you can write methods to handle specific classes of\n",
       "     objects, see InternalMethods.\n",
       "\n",
       "     'as.matrix' is a generic function.  The method for data frames\n",
       "     will return a character matrix if there is only atomic columns and\n",
       "     any non-(numeric/logical/complex) column, applying 'as.vector' to\n",
       "     factors and 'format' to other non-character columns.  Otherwise,\n",
       "     the usual coercion hierarchy (logical < integer < double <\n",
       "     complex) will be used, e.g., all-logical data frames will be\n",
       "     coerced to a logical matrix, mixed logical-integer will give a\n",
       "     integer matrix, etc.\n",
       "\n",
       "     The default method for 'as.matrix' calls 'as.vector(x)', and hence\n",
       "     e.g. coerces factors to character vectors.\n",
       "\n",
       "     When coercing a vector, it produces a one-column matrix, and\n",
       "     promotes the names (if any) of the vector to the rownames of the\n",
       "     matrix.\n",
       "\n",
       "     'is.matrix' is a primitive function.\n",
       "\n",
       "     The 'print' method for a matrix gives a rectangular layout with\n",
       "     dimnames or indices.  For a list matrix, the entries of length not\n",
       "     one are printed in the form 'integer,7' indicating the type and\n",
       "     length.\n",
       "\n",
       "_\bN_\bo_\bt_\be:\n",
       "\n",
       "     If you just want to convert a vector to a matrix, something like\n",
       "\n",
       "       dim(x) <- c(nx, ny)\n",
       "       dimnames(x) <- list(row_names, col_names)\n",
       "     \n",
       "     will avoid duplicating 'x' _and_ preserve 'class(x)' which may be\n",
       "     useful, e.g., for 'Date' objects.\n",
       "\n",
       "_\bR_\be_\bf_\be_\br_\be_\bn_\bc_\be_\bs:\n",
       "\n",
       "     Becker, R. A., Chambers, J. M. and Wilks, A. R. (1988) _The New S\n",
       "     Language_.  Wadsworth & Brooks/Cole.\n",
       "\n",
       "_\bS_\be_\be _\bA_\bl_\bs_\bo:\n",
       "\n",
       "     'data.matrix', which attempts to convert to a numeric matrix.\n",
       "\n",
       "     A matrix is the special case of a two-dimensional 'array'.  Since\n",
       "     R 4.0.0, 'inherits(m, \"array\")' is true for a 'matrix' 'm'.\n",
       "\n",
       "_\bE_\bx_\ba_\bm_\bp_\bl_\be_\bs:\n",
       "\n",
       "     is.matrix(as.matrix(1:10))\n",
       "     !is.matrix(warpbreaks)  # data.frame, NOT matrix!\n",
       "     warpbreaks[1:10,]\n",
       "     as.matrix(warpbreaks[1:10,])  # using as.matrix.data.frame(.) method\n",
       "     \n",
       "     ## Example of setting row and column names\n",
       "     mdat <- matrix(c(1,2,3, 11,12,13), nrow = 2, ncol = 3, byrow = TRUE,\n",
       "                    dimnames = list(c(\"row1\", \"row2\"),\n",
       "                                    c(\"C.1\", \"C.2\", \"C.3\")))\n",
       "     mdat\n",
       "     "
      ]
     },
     "metadata": {},
     "output_type": "display_data"
    }
   ],
   "source": [
    "?matrix"
   ]
  },
  {
   "cell_type": "markdown",
   "id": "28903424-b6cb-490d-84a7-1d8b7a58e7c5",
   "metadata": {},
   "source": [
    "The help file reveals that the `matrix()` function takes a number of inputs, but for now we focus on the first three: the data (the entries in the matrix), the number of rows, and the number of columns. First we create a simple matrix."
   ]
  },
  {
   "cell_type": "code",
   "execution_count": 11,
   "id": "96a5cbe5-1942-4be8-bec6-50d762a97b91",
   "metadata": {},
   "outputs": [
    {
     "data": {
      "text/html": [
       "<table class=\"dataframe\">\n",
       "<caption>A matrix: 2 × 2 of type dbl</caption>\n",
       "<tbody>\n",
       "\t<tr><td>1</td><td>3</td></tr>\n",
       "\t<tr><td>2</td><td>4</td></tr>\n",
       "</tbody>\n",
       "</table>\n"
      ],
      "text/latex": [
       "A matrix: 2 × 2 of type dbl\n",
       "\\begin{tabular}{ll}\n",
       "\t 1 & 3\\\\\n",
       "\t 2 & 4\\\\\n",
       "\\end{tabular}\n"
      ],
      "text/markdown": [
       "\n",
       "A matrix: 2 × 2 of type dbl\n",
       "\n",
       "| 1 | 3 |\n",
       "| 2 | 4 |\n",
       "\n"
      ],
      "text/plain": [
       "     [,1] [,2]\n",
       "[1,] 1    3   \n",
       "[2,] 2    4   "
      ]
     },
     "metadata": {},
     "output_type": "display_data"
    }
   ],
   "source": [
    "x <- matrix(data = c(1, 2, 3, 4), nrow = 2, ncol = 2)\n",
    "x"
   ]
  },
  {
   "cell_type": "markdown",
   "id": "1eef49a5-d509-4aa7-a09c-529beeafc0c0",
   "metadata": {},
   "source": [
    "By default `R` creates matrices by successively filling in columns. Alternatively the `byrow = TRUE` option can be used to populate the matrix in order of the rows."
   ]
  },
  {
   "cell_type": "code",
   "execution_count": 12,
   "id": "33f96335-9b87-4da8-a63b-fe5e7bedad0e",
   "metadata": {},
   "outputs": [
    {
     "data": {
      "text/html": [
       "<table class=\"dataframe\">\n",
       "<caption>A matrix: 2 × 2 of type dbl</caption>\n",
       "<tbody>\n",
       "\t<tr><td>1</td><td>2</td></tr>\n",
       "\t<tr><td>3</td><td>4</td></tr>\n",
       "</tbody>\n",
       "</table>\n"
      ],
      "text/latex": [
       "A matrix: 2 × 2 of type dbl\n",
       "\\begin{tabular}{ll}\n",
       "\t 1 & 2\\\\\n",
       "\t 3 & 4\\\\\n",
       "\\end{tabular}\n"
      ],
      "text/markdown": [
       "\n",
       "A matrix: 2 × 2 of type dbl\n",
       "\n",
       "| 1 | 2 |\n",
       "| 3 | 4 |\n",
       "\n"
      ],
      "text/plain": [
       "     [,1] [,2]\n",
       "[1,] 1    2   \n",
       "[2,] 3    4   "
      ]
     },
     "metadata": {},
     "output_type": "display_data"
    }
   ],
   "source": [
    "matrix(c(1, 2, 3, 4), 2, 2, byrow = TRUE)"
   ]
  },
  {
   "cell_type": "markdown",
   "id": "223eef6e-2933-471e-8f73-9636f00b58d6",
   "metadata": {},
   "source": [
    "The `sqrt()` function returns the square root of each element of a vector or matrix. The command `x^2` raises each element of `x` to the power `2`; any powers are possible, including fractional or negative powers."
   ]
  },
  {
   "cell_type": "code",
   "execution_count": 13,
   "id": "d1e5f2bd-0d39-47a2-aaff-e96c5410a3c0",
   "metadata": {},
   "outputs": [
    {
     "data": {
      "text/html": [
       "<table class=\"dataframe\">\n",
       "<caption>A matrix: 2 × 2 of type dbl</caption>\n",
       "<tbody>\n",
       "\t<tr><td>1.000000</td><td>1.732051</td></tr>\n",
       "\t<tr><td>1.414214</td><td>2.000000</td></tr>\n",
       "</tbody>\n",
       "</table>\n"
      ],
      "text/latex": [
       "A matrix: 2 × 2 of type dbl\n",
       "\\begin{tabular}{ll}\n",
       "\t 1.000000 & 1.732051\\\\\n",
       "\t 1.414214 & 2.000000\\\\\n",
       "\\end{tabular}\n"
      ],
      "text/markdown": [
       "\n",
       "A matrix: 2 × 2 of type dbl\n",
       "\n",
       "| 1.000000 | 1.732051 |\n",
       "| 1.414214 | 2.000000 |\n",
       "\n"
      ],
      "text/plain": [
       "     [,1]     [,2]    \n",
       "[1,] 1.000000 1.732051\n",
       "[2,] 1.414214 2.000000"
      ]
     },
     "metadata": {},
     "output_type": "display_data"
    }
   ],
   "source": [
    "sqrt(x)"
   ]
  },
  {
   "cell_type": "code",
   "execution_count": 14,
   "id": "b46b7f85-3c14-445b-8659-166ccb01f5d4",
   "metadata": {},
   "outputs": [
    {
     "data": {
      "text/html": [
       "<table class=\"dataframe\">\n",
       "<caption>A matrix: 2 × 2 of type dbl</caption>\n",
       "<tbody>\n",
       "\t<tr><td>1</td><td> 9</td></tr>\n",
       "\t<tr><td>4</td><td>16</td></tr>\n",
       "</tbody>\n",
       "</table>\n"
      ],
      "text/latex": [
       "A matrix: 2 × 2 of type dbl\n",
       "\\begin{tabular}{ll}\n",
       "\t 1 &  9\\\\\n",
       "\t 4 & 16\\\\\n",
       "\\end{tabular}\n"
      ],
      "text/markdown": [
       "\n",
       "A matrix: 2 × 2 of type dbl\n",
       "\n",
       "| 1 |  9 |\n",
       "| 4 | 16 |\n",
       "\n"
      ],
      "text/plain": [
       "     [,1] [,2]\n",
       "[1,] 1     9  \n",
       "[2,] 4    16  "
      ]
     },
     "metadata": {},
     "output_type": "display_data"
    }
   ],
   "source": [
    "x^2"
   ]
  },
  {
   "cell_type": "markdown",
   "id": "b86f458f-cfb1-4fa9-b83f-fcc2770c652d",
   "metadata": {},
   "source": [
    "The `rnorm()` function generates a vector of random normal variables, with first argument `n` the sample size. Each time we call this function we will get a different answer. Here we create two correlated sets of numbers, `x` and `y`, and use the `cor()` function to compute the correlation between them."
   ]
  },
  {
   "cell_type": "code",
   "execution_count": 15,
   "id": "4237e547-b639-4078-8045-f82881296694",
   "metadata": {},
   "outputs": [
    {
     "data": {
      "text/html": [
       "<style>\n",
       ".list-inline {list-style: none; margin:0; padding: 0}\n",
       ".list-inline>li {display: inline-block}\n",
       ".list-inline>li:not(:last-child)::after {content: \"\\00b7\"; padding: 0 .5ex}\n",
       "</style>\n",
       "<ol class=list-inline><li>1.2351543002644</li><li>-0.592815965866389</li><li>-0.704103171219637</li><li>1.67101305892426</li><li>2.56668682706458</li><li>0.883725117907664</li><li>0.225269329629017</li><li>-1.78715669554485</li><li>-0.12460590832469</li><li>-0.339793204919815</li><li>-0.121737455797634</li><li>0.553429844130187</li><li>0.124417379434204</li><li>1.9827361175659</li><li>-0.197160312697716</li><li>-0.226052012175136</li><li>-0.750466496347956</li><li>-0.889856556922681</li><li>-0.788975311605512</li><li>-0.173313605847121</li><li>1.42766368173469</li><li>-1.63137128869989</li><li>0.0186393587011497</li><li>0.00478683605381493</li><li>0.381621418253063</li><li>0.585102342234175</li><li>1.05523659396089</li><li>-0.199433502636538</li><li>0.882657895027446</li><li>-1.72167588801934</li><li>-0.182135825273985</li><li>1.04465418877217</li><li>-0.201372943793893</li><li>0.0890485541716655</li><li>-1.05139546190829</li><li>0.524719072339833</li><li>0.562700909882275</li><li>0.198798147538252</li><li>-1.63945717916317</li><li>-0.423969728772576</li><li>-0.519178166699621</li><li>1.53483963095935</li><li>-0.558127020611756</li><li>-1.40249614481603</li><li>-0.694822592570734</li><li>-1.44565950981224</li><li>-1.68078161764636</li><li>-1.34372304775249</li><li>0.943086409548467</li><li>0.509239285642508</li></ol>\n"
      ],
      "text/latex": [
       "\\begin{enumerate*}\n",
       "\\item 1.2351543002644\n",
       "\\item -0.592815965866389\n",
       "\\item -0.704103171219637\n",
       "\\item 1.67101305892426\n",
       "\\item 2.56668682706458\n",
       "\\item 0.883725117907664\n",
       "\\item 0.225269329629017\n",
       "\\item -1.78715669554485\n",
       "\\item -0.12460590832469\n",
       "\\item -0.339793204919815\n",
       "\\item -0.121737455797634\n",
       "\\item 0.553429844130187\n",
       "\\item 0.124417379434204\n",
       "\\item 1.9827361175659\n",
       "\\item -0.197160312697716\n",
       "\\item -0.226052012175136\n",
       "\\item -0.750466496347956\n",
       "\\item -0.889856556922681\n",
       "\\item -0.788975311605512\n",
       "\\item -0.173313605847121\n",
       "\\item 1.42766368173469\n",
       "\\item -1.63137128869989\n",
       "\\item 0.0186393587011497\n",
       "\\item 0.00478683605381493\n",
       "\\item 0.381621418253063\n",
       "\\item 0.585102342234175\n",
       "\\item 1.05523659396089\n",
       "\\item -0.199433502636538\n",
       "\\item 0.882657895027446\n",
       "\\item -1.72167588801934\n",
       "\\item -0.182135825273985\n",
       "\\item 1.04465418877217\n",
       "\\item -0.201372943793893\n",
       "\\item 0.0890485541716655\n",
       "\\item -1.05139546190829\n",
       "\\item 0.524719072339833\n",
       "\\item 0.562700909882275\n",
       "\\item 0.198798147538252\n",
       "\\item -1.63945717916317\n",
       "\\item -0.423969728772576\n",
       "\\item -0.519178166699621\n",
       "\\item 1.53483963095935\n",
       "\\item -0.558127020611756\n",
       "\\item -1.40249614481603\n",
       "\\item -0.694822592570734\n",
       "\\item -1.44565950981224\n",
       "\\item -1.68078161764636\n",
       "\\item -1.34372304775249\n",
       "\\item 0.943086409548467\n",
       "\\item 0.509239285642508\n",
       "\\end{enumerate*}\n"
      ],
      "text/markdown": [
       "1. 1.2351543002644\n",
       "2. -0.592815965866389\n",
       "3. -0.704103171219637\n",
       "4. 1.67101305892426\n",
       "5. 2.56668682706458\n",
       "6. 0.883725117907664\n",
       "7. 0.225269329629017\n",
       "8. -1.78715669554485\n",
       "9. -0.12460590832469\n",
       "10. -0.339793204919815\n",
       "11. -0.121737455797634\n",
       "12. 0.553429844130187\n",
       "13. 0.124417379434204\n",
       "14. 1.9827361175659\n",
       "15. -0.197160312697716\n",
       "16. -0.226052012175136\n",
       "17. -0.750466496347956\n",
       "18. -0.889856556922681\n",
       "19. -0.788975311605512\n",
       "20. -0.173313605847121\n",
       "21. 1.42766368173469\n",
       "22. -1.63137128869989\n",
       "23. 0.0186393587011497\n",
       "24. 0.00478683605381493\n",
       "25. 0.381621418253063\n",
       "26. 0.585102342234175\n",
       "27. 1.05523659396089\n",
       "28. -0.199433502636538\n",
       "29. 0.882657895027446\n",
       "30. -1.72167588801934\n",
       "31. -0.182135825273985\n",
       "32. 1.04465418877217\n",
       "33. -0.201372943793893\n",
       "34. 0.0890485541716655\n",
       "35. -1.05139546190829\n",
       "36. 0.524719072339833\n",
       "37. 0.562700909882275\n",
       "38. 0.198798147538252\n",
       "39. -1.63945717916317\n",
       "40. -0.423969728772576\n",
       "41. -0.519178166699621\n",
       "42. 1.53483963095935\n",
       "43. -0.558127020611756\n",
       "44. -1.40249614481603\n",
       "45. -0.694822592570734\n",
       "46. -1.44565950981224\n",
       "47. -1.68078161764636\n",
       "48. -1.34372304775249\n",
       "49. 0.943086409548467\n",
       "50. 0.509239285642508\n",
       "\n",
       "\n"
      ],
      "text/plain": [
       " [1]  1.235154300 -0.592815966 -0.704103171  1.671013059  2.566686827\n",
       " [6]  0.883725118  0.225269330 -1.787156696 -0.124605908 -0.339793205\n",
       "[11] -0.121737456  0.553429844  0.124417379  1.982736118 -0.197160313\n",
       "[16] -0.226052012 -0.750466496 -0.889856557 -0.788975312 -0.173313606\n",
       "[21]  1.427663682 -1.631371289  0.018639359  0.004786836  0.381621418\n",
       "[26]  0.585102342  1.055236594 -0.199433503  0.882657895 -1.721675888\n",
       "[31] -0.182135825  1.044654189 -0.201372944  0.089048554 -1.051395462\n",
       "[36]  0.524719072  0.562700910  0.198798148 -1.639457179 -0.423969729\n",
       "[41] -0.519178167  1.534839631 -0.558127021 -1.402496145 -0.694822593\n",
       "[46] -1.445659510 -1.680781618 -1.343723048  0.943086410  0.509239286"
      ]
     },
     "metadata": {},
     "output_type": "display_data"
    }
   ],
   "source": [
    "x <- rnorm(50)\n",
    "x"
   ]
  },
  {
   "cell_type": "code",
   "execution_count": 16,
   "id": "d99e8aeb-b2c3-4a01-8cfd-92344a8a7457",
   "metadata": {},
   "outputs": [
    {
     "data": {
      "text/html": [
       "<style>\n",
       ".list-inline {list-style: none; margin:0; padding: 0}\n",
       ".list-inline>li {display: inline-block}\n",
       ".list-inline>li:not(:last-child)::after {content: \"\\00b7\"; padding: 0 .5ex}\n",
       "</style>\n",
       "<ol class=list-inline><li>51.2291458923063</li><li>49.5157247607861</li><li>49.3026394602775</li><li>51.7381462819567</li><li>52.528219551512</li><li>50.9897811850767</li><li>50.1310828827824</li><li>48.2390317337842</li><li>50.0423439055274</li><li>49.5548097041414</li><li>49.9341250211447</li><li>50.5577835310957</li><li>50.087142529689</li><li>51.9584770321184</li><li>49.7849816852024</li><li>49.7029508104188</li><li>49.2000100970275</li><li>48.9174815002283</li><li>48.9499579484987</li><li>49.8631499862829</li><li>51.5217407906491</li><li>48.3726707314631</li><li>50.0814175037457</li><li>49.9429719242618</li><li>50.3320804853808</li><li>50.6303443651002</li><li>50.8431244810047</li><li>49.9774559495038</li><li>51.0721414626645</li><li>48.2078472935541</li><li>49.9228470461538</li><li>51.0325969810225</li><li>49.9022453804274</li><li>50.0482325421693</li><li>48.8304045321192</li><li>50.460167183254</li><li>50.7683719761889</li><li>50.1634617008878</li><li>48.4982236025355</li><li>49.6353958010935</li><li>49.4239597995829</li><li>51.6164966074942</li><li>49.4370733906724</li><li>48.5431595623798</li><li>49.2938593256951</li><li>48.5955746879858</li><li>48.4978505287798</li><li>48.5694497244927</li><li>50.9632521162301</li><li>50.5186941729514</li></ol>\n"
      ],
      "text/latex": [
       "\\begin{enumerate*}\n",
       "\\item 51.2291458923063\n",
       "\\item 49.5157247607861\n",
       "\\item 49.3026394602775\n",
       "\\item 51.7381462819567\n",
       "\\item 52.528219551512\n",
       "\\item 50.9897811850767\n",
       "\\item 50.1310828827824\n",
       "\\item 48.2390317337842\n",
       "\\item 50.0423439055274\n",
       "\\item 49.5548097041414\n",
       "\\item 49.9341250211447\n",
       "\\item 50.5577835310957\n",
       "\\item 50.087142529689\n",
       "\\item 51.9584770321184\n",
       "\\item 49.7849816852024\n",
       "\\item 49.7029508104188\n",
       "\\item 49.2000100970275\n",
       "\\item 48.9174815002283\n",
       "\\item 48.9499579484987\n",
       "\\item 49.8631499862829\n",
       "\\item 51.5217407906491\n",
       "\\item 48.3726707314631\n",
       "\\item 50.0814175037457\n",
       "\\item 49.9429719242618\n",
       "\\item 50.3320804853808\n",
       "\\item 50.6303443651002\n",
       "\\item 50.8431244810047\n",
       "\\item 49.9774559495038\n",
       "\\item 51.0721414626645\n",
       "\\item 48.2078472935541\n",
       "\\item 49.9228470461538\n",
       "\\item 51.0325969810225\n",
       "\\item 49.9022453804274\n",
       "\\item 50.0482325421693\n",
       "\\item 48.8304045321192\n",
       "\\item 50.460167183254\n",
       "\\item 50.7683719761889\n",
       "\\item 50.1634617008878\n",
       "\\item 48.4982236025355\n",
       "\\item 49.6353958010935\n",
       "\\item 49.4239597995829\n",
       "\\item 51.6164966074942\n",
       "\\item 49.4370733906724\n",
       "\\item 48.5431595623798\n",
       "\\item 49.2938593256951\n",
       "\\item 48.5955746879858\n",
       "\\item 48.4978505287798\n",
       "\\item 48.5694497244927\n",
       "\\item 50.9632521162301\n",
       "\\item 50.5186941729514\n",
       "\\end{enumerate*}\n"
      ],
      "text/markdown": [
       "1. 51.2291458923063\n",
       "2. 49.5157247607861\n",
       "3. 49.3026394602775\n",
       "4. 51.7381462819567\n",
       "5. 52.528219551512\n",
       "6. 50.9897811850767\n",
       "7. 50.1310828827824\n",
       "8. 48.2390317337842\n",
       "9. 50.0423439055274\n",
       "10. 49.5548097041414\n",
       "11. 49.9341250211447\n",
       "12. 50.5577835310957\n",
       "13. 50.087142529689\n",
       "14. 51.9584770321184\n",
       "15. 49.7849816852024\n",
       "16. 49.7029508104188\n",
       "17. 49.2000100970275\n",
       "18. 48.9174815002283\n",
       "19. 48.9499579484987\n",
       "20. 49.8631499862829\n",
       "21. 51.5217407906491\n",
       "22. 48.3726707314631\n",
       "23. 50.0814175037457\n",
       "24. 49.9429719242618\n",
       "25. 50.3320804853808\n",
       "26. 50.6303443651002\n",
       "27. 50.8431244810047\n",
       "28. 49.9774559495038\n",
       "29. 51.0721414626645\n",
       "30. 48.2078472935541\n",
       "31. 49.9228470461538\n",
       "32. 51.0325969810225\n",
       "33. 49.9022453804274\n",
       "34. 50.0482325421693\n",
       "35. 48.8304045321192\n",
       "36. 50.460167183254\n",
       "37. 50.7683719761889\n",
       "38. 50.1634617008878\n",
       "39. 48.4982236025355\n",
       "40. 49.6353958010935\n",
       "41. 49.4239597995829\n",
       "42. 51.6164966074942\n",
       "43. 49.4370733906724\n",
       "44. 48.5431595623798\n",
       "45. 49.2938593256951\n",
       "46. 48.5955746879858\n",
       "47. 48.4978505287798\n",
       "48. 48.5694497244927\n",
       "49. 50.9632521162301\n",
       "50. 50.5186941729514\n",
       "\n",
       "\n"
      ],
      "text/plain": [
       " [1] 51.22915 49.51572 49.30264 51.73815 52.52822 50.98978 50.13108 48.23903\n",
       " [9] 50.04234 49.55481 49.93413 50.55778 50.08714 51.95848 49.78498 49.70295\n",
       "[17] 49.20001 48.91748 48.94996 49.86315 51.52174 48.37267 50.08142 49.94297\n",
       "[25] 50.33208 50.63034 50.84312 49.97746 51.07214 48.20785 49.92285 51.03260\n",
       "[33] 49.90225 50.04823 48.83040 50.46017 50.76837 50.16346 48.49822 49.63540\n",
       "[41] 49.42396 51.61650 49.43707 48.54316 49.29386 48.59557 48.49785 48.56945\n",
       "[49] 50.96325 50.51869"
      ]
     },
     "metadata": {},
     "output_type": "display_data"
    }
   ],
   "source": [
    "y <- x + rnorm(50, mean = 50, sd = .1)\n",
    "y"
   ]
  },
  {
   "cell_type": "code",
   "execution_count": 17,
   "id": "e3b3c295-1d63-40b8-848f-7be941bee7fb",
   "metadata": {},
   "outputs": [
    {
     "data": {
      "text/html": [
       "0.995317669137004"
      ],
      "text/latex": [
       "0.995317669137004"
      ],
      "text/markdown": [
       "0.995317669137004"
      ],
      "text/plain": [
       "[1] 0.9953177"
      ]
     },
     "metadata": {},
     "output_type": "display_data"
    }
   ],
   "source": [
    "cor(x, y)"
   ]
  },
  {
   "cell_type": "markdown",
   "id": "bd3870f0-5990-431c-a955-3f8c3cefc3c3",
   "metadata": {},
   "source": [
    "By default, `rnrom()` creates standard normal random variables with a mean of 0 and a standard deviation of 1. However, the mean and standard deviation can be altered using the `mean` and `sd` arguments, as illustrated above. Sometimes we want our code to reproduce the exact same set of random numbers; we can use the `set.seed()` function to do this. The `set.seed()` function takes an (arbitrary) integer argument."
   ]
  },
  {
   "cell_type": "code",
   "execution_count": 18,
   "id": "a2f2afa5-9f8f-460b-aa64-5f2de974caff",
   "metadata": {},
   "outputs": [
    {
     "data": {
      "text/html": [
       "<style>\n",
       ".list-inline {list-style: none; margin:0; padding: 0}\n",
       ".list-inline>li {display: inline-block}\n",
       ".list-inline>li:not(:last-child)::after {content: \"\\00b7\"; padding: 0 .5ex}\n",
       "</style>\n",
       "<ol class=list-inline><li>-1.14397631447974</li><li>1.34212936561501</li><li>2.18539047574276</li><li>0.536392517923731</li><li>0.0631929664685468</li><li>0.502234482468979</li><li>-0.000416724686432643</li><li>0.565819840539162</li><li>-0.572522688962623</li><li>-1.11022500727696</li><li>-0.0486871233624514</li><li>-0.695656217619366</li><li>0.828917480303335</li><li>0.206652855081802</li><li>-0.235674509102427</li><li>-0.556310491381104</li><li>-0.364754357080585</li><li>0.862355034263622</li><li>-0.63077153536771</li><li>0.313602125215739</li><li>-0.931495317661393</li><li>0.823867618473952</li><li>0.523370702077482</li><li>0.706921411979056</li><li>0.420204325601679</li><li>-0.269052154682033</li><li>-1.51031729990999</li><li>-0.69021247657504</li><li>-0.143471952443572</li><li>-1.0135274099044</li><li>1.57327373614751</li><li>0.0127465054882014</li><li>0.872647049887217</li><li>0.422066190530336</li><li>-0.0188157916578866</li><li>2.61574896890584</li><li>-0.693140174826871</li><li>-0.266321780991085</li><li>-0.720636441231524</li><li>1.36773420645149</li><li>0.264007332160512</li><li>0.632186807367191</li><li>-1.33065098578719</li><li>0.0268888182209596</li><li>1.0406363207788</li><li>1.31202379854711</li><li>-0.0300020766733214</li><li>-0.250025712488174</li><li>0.0234144856913592</li><li>1.65987065574227</li></ol>\n"
      ],
      "text/latex": [
       "\\begin{enumerate*}\n",
       "\\item -1.14397631447974\n",
       "\\item 1.34212936561501\n",
       "\\item 2.18539047574276\n",
       "\\item 0.536392517923731\n",
       "\\item 0.0631929664685468\n",
       "\\item 0.502234482468979\n",
       "\\item -0.000416724686432643\n",
       "\\item 0.565819840539162\n",
       "\\item -0.572522688962623\n",
       "\\item -1.11022500727696\n",
       "\\item -0.0486871233624514\n",
       "\\item -0.695656217619366\n",
       "\\item 0.828917480303335\n",
       "\\item 0.206652855081802\n",
       "\\item -0.235674509102427\n",
       "\\item -0.556310491381104\n",
       "\\item -0.364754357080585\n",
       "\\item 0.862355034263622\n",
       "\\item -0.63077153536771\n",
       "\\item 0.313602125215739\n",
       "\\item -0.931495317661393\n",
       "\\item 0.823867618473952\n",
       "\\item 0.523370702077482\n",
       "\\item 0.706921411979056\n",
       "\\item 0.420204325601679\n",
       "\\item -0.269052154682033\n",
       "\\item -1.51031729990999\n",
       "\\item -0.69021247657504\n",
       "\\item -0.143471952443572\n",
       "\\item -1.0135274099044\n",
       "\\item 1.57327373614751\n",
       "\\item 0.0127465054882014\n",
       "\\item 0.872647049887217\n",
       "\\item 0.422066190530336\n",
       "\\item -0.0188157916578866\n",
       "\\item 2.61574896890584\n",
       "\\item -0.693140174826871\n",
       "\\item -0.266321780991085\n",
       "\\item -0.720636441231524\n",
       "\\item 1.36773420645149\n",
       "\\item 0.264007332160512\n",
       "\\item 0.632186807367191\n",
       "\\item -1.33065098578719\n",
       "\\item 0.0268888182209596\n",
       "\\item 1.0406363207788\n",
       "\\item 1.31202379854711\n",
       "\\item -0.0300020766733214\n",
       "\\item -0.250025712488174\n",
       "\\item 0.0234144856913592\n",
       "\\item 1.65987065574227\n",
       "\\end{enumerate*}\n"
      ],
      "text/markdown": [
       "1. -1.14397631447974\n",
       "2. 1.34212936561501\n",
       "3. 2.18539047574276\n",
       "4. 0.536392517923731\n",
       "5. 0.0631929664685468\n",
       "6. 0.502234482468979\n",
       "7. -0.000416724686432643\n",
       "8. 0.565819840539162\n",
       "9. -0.572522688962623\n",
       "10. -1.11022500727696\n",
       "11. -0.0486871233624514\n",
       "12. -0.695656217619366\n",
       "13. 0.828917480303335\n",
       "14. 0.206652855081802\n",
       "15. -0.235674509102427\n",
       "16. -0.556310491381104\n",
       "17. -0.364754357080585\n",
       "18. 0.862355034263622\n",
       "19. -0.63077153536771\n",
       "20. 0.313602125215739\n",
       "21. -0.931495317661393\n",
       "22. 0.823867618473952\n",
       "23. 0.523370702077482\n",
       "24. 0.706921411979056\n",
       "25. 0.420204325601679\n",
       "26. -0.269052154682033\n",
       "27. -1.51031729990999\n",
       "28. -0.69021247657504\n",
       "29. -0.143471952443572\n",
       "30. -1.0135274099044\n",
       "31. 1.57327373614751\n",
       "32. 0.0127465054882014\n",
       "33. 0.872647049887217\n",
       "34. 0.422066190530336\n",
       "35. -0.0188157916578866\n",
       "36. 2.61574896890584\n",
       "37. -0.693140174826871\n",
       "38. -0.266321780991085\n",
       "39. -0.720636441231524\n",
       "40. 1.36773420645149\n",
       "41. 0.264007332160512\n",
       "42. 0.632186807367191\n",
       "43. -1.33065098578719\n",
       "44. 0.0268888182209596\n",
       "45. 1.0406363207788\n",
       "46. 1.31202379854711\n",
       "47. -0.0300020766733214\n",
       "48. -0.250025712488174\n",
       "49. 0.0234144856913592\n",
       "50. 1.65987065574227\n",
       "\n",
       "\n"
      ],
      "text/plain": [
       " [1] -1.1439763145  1.3421293656  2.1853904757  0.5363925179  0.0631929665\n",
       " [6]  0.5022344825 -0.0004167247  0.5658198405 -0.5725226890 -1.1102250073\n",
       "[11] -0.0486871234 -0.6956562176  0.8289174803  0.2066528551 -0.2356745091\n",
       "[16] -0.5563104914 -0.3647543571  0.8623550343 -0.6307715354  0.3136021252\n",
       "[21] -0.9314953177  0.8238676185  0.5233707021  0.7069214120  0.4202043256\n",
       "[26] -0.2690521547 -1.5103172999 -0.6902124766 -0.1434719524 -1.0135274099\n",
       "[31]  1.5732737361  0.0127465055  0.8726470499  0.4220661905 -0.0188157917\n",
       "[36]  2.6157489689 -0.6931401748 -0.2663217810 -0.7206364412  1.3677342065\n",
       "[41]  0.2640073322  0.6321868074 -1.3306509858  0.0268888182  1.0406363208\n",
       "[46]  1.3120237985 -0.0300020767 -0.2500257125  0.0234144857  1.6598706557"
      ]
     },
     "metadata": {},
     "output_type": "display_data"
    }
   ],
   "source": [
    "set.seed(1303)\n",
    "rnorm(50)"
   ]
  },
  {
   "cell_type": "markdown",
   "id": "f8f93d0f-20cd-4bab-a80a-a06dc937064e",
   "metadata": {},
   "source": [
    "We use set.seed() throughout the labs whenever we perform calculations involving random quantities. In generate this should allow the user to reproduce our results. However, as new versions of `R` become available, small discrepancies my arise between this book and the output from R."
   ]
  },
  {
   "cell_type": "markdown",
   "id": "c87cc328-78fc-4a41-9468-db6690131d8b",
   "metadata": {},
   "source": [
    "The `mean()` and `var()` functions can be used to compute the mean and variance of a vector of numbers. Applying `sqrt()` to the output of `var()` will give the standard deviation. Or we can simply use the `sd()` function."
   ]
  },
  {
   "cell_type": "code",
   "execution_count": 19,
   "id": "5c6a2a84-0504-4934-b5b2-617ca723aa16",
   "metadata": {},
   "outputs": [
    {
     "data": {
      "text/html": [
       "0.0110355710943715"
      ],
      "text/latex": [
       "0.0110355710943715"
      ],
      "text/markdown": [
       "0.0110355710943715"
      ],
      "text/plain": [
       "[1] 0.01103557"
      ]
     },
     "metadata": {},
     "output_type": "display_data"
    }
   ],
   "source": [
    "set.seed(3)\n",
    "y <- rnorm(100)\n",
    "mean(y)"
   ]
  },
  {
   "cell_type": "code",
   "execution_count": 20,
   "id": "94c81058-5890-484c-87d8-72964464c8c7",
   "metadata": {},
   "outputs": [
    {
     "data": {
      "text/html": [
       "0.732867501277449"
      ],
      "text/latex": [
       "0.732867501277449"
      ],
      "text/markdown": [
       "0.732867501277449"
      ],
      "text/plain": [
       "[1] 0.7328675"
      ]
     },
     "metadata": {},
     "output_type": "display_data"
    }
   ],
   "source": [
    "var(y)"
   ]
  },
  {
   "cell_type": "code",
   "execution_count": 21,
   "id": "89f08c5d-0695-447a-b2db-6468bec61964",
   "metadata": {},
   "outputs": [
    {
     "data": {
      "text/html": [
       "0.856076808047881"
      ],
      "text/latex": [
       "0.856076808047881"
      ],
      "text/markdown": [
       "0.856076808047881"
      ],
      "text/plain": [
       "[1] 0.8560768"
      ]
     },
     "metadata": {},
     "output_type": "display_data"
    }
   ],
   "source": [
    "sqrt(var(y))"
   ]
  },
  {
   "cell_type": "code",
   "execution_count": 22,
   "id": "8840fcd7-adae-477b-8069-4809657c2dd3",
   "metadata": {},
   "outputs": [
    {
     "data": {
      "text/html": [
       "0.856076808047881"
      ],
      "text/latex": [
       "0.856076808047881"
      ],
      "text/markdown": [
       "0.856076808047881"
      ],
      "text/plain": [
       "[1] 0.8560768"
      ]
     },
     "metadata": {},
     "output_type": "display_data"
    }
   ],
   "source": [
    "sd(y)"
   ]
  },
  {
   "cell_type": "markdown",
   "id": "56fce6e8-aad1-4813-b195-1a0607b9f4bf",
   "metadata": {},
   "source": [
    "## 2.3.2 Graphic"
   ]
  },
  {
   "cell_type": "markdown",
   "id": "b6366cf7-84a2-4bc4-96c0-9142197cd9f1",
   "metadata": {},
   "source": [
    "The `plot()` function is the primary way to plot data in R. For instance, `plot(x, y)` produces a scatterplot of the numbers in `x` versus the numbers in `y`. There are many additional options that can be passed in to the `plot()` function. For example, passing in the argument xlab will result in a label on the x-axis. To find out more information about the `plot()` function, type `?plot`."
   ]
  },
  {
   "cell_type": "code",
   "execution_count": 23,
   "id": "99f5cc09-c08f-4f26-be4b-d45876939337",
   "metadata": {},
   "outputs": [
    {
     "data": {
      "image/png": "[encoded data removed]",
      "text/plain": [
       "Plot with title \"Plot of X vs Y\""
      ]
     },
     "metadata": {
      "image/png": {
       "height": 420,
       "width": 420
      }
     },
     "output_type": "display_data"
    }
   ],
   "source": [
    "x <- rnorm(100)\n",
    "y <- rnorm(100)\n",
    "plot(x, y, xlab = \"this is the x-axis\",\n",
    "     ylab = \"this is the y-axis\",\n",
    "     main = \"Plot of X vs Y\")"
   ]
  },
  {
   "cell_type": "markdown",
   "id": "289fe0b4-f53a-4684-9985-a2bd997f8641",
   "metadata": {},
   "source": [
    "We will often want to save the output of an `R` plot. The command that we use to do this will depend on the file type that we would like to create. For instance, to create a pdf, we use the pdf() function, and to create a jpeg, we use the `jpeg()` function"
   ]
  },
  {
   "cell_type": "code",
   "execution_count": 24,
   "id": "3655fa17-29ea-435a-a730-67cba9da488b",
   "metadata": {},
   "outputs": [
    {
     "data": {
      "text/html": [
       "<strong>png:</strong> 2"
      ],
      "text/latex": [
       "\\textbf{png:} 2"
      ],
      "text/markdown": [
       "**png:** 2"
      ],
      "text/plain": [
       "png \n",
       "  2 "
      ]
     },
     "metadata": {},
     "output_type": "display_data"
    }
   ],
   "source": [
    "pdf(\"Figure.pdf\")\n",
    "plot(x, y, col = \"green\")\n",
    "dev.off()"
   ]
  },
  {
   "cell_type": "markdown",
   "id": "c8827239-8c2e-46d2-bff7-3dbc7e8f10fe",
   "metadata": {},
   "source": [
    "The function `dev.off()` indicates to `R` that we are done creating the plot. Alternatively, we can simply copy the plot window and paste it into an appropriate file type, such as a Word document."
   ]
  },
  {
   "cell_type": "markdown",
   "id": "c4b712c1-69f7-4f6e-82d4-1f9203a13402",
   "metadata": {},
   "source": [
    "The function `seq()` can be used to create a sequence of numbers. For instance, `seq(a, b)` makes a vector of integers between `a` and `b`. There are many other options: for instance, `seq(0, 1, length = 10)` makes a sequence of `10` numbers that are equally spaced between `0` and `1`. Typing `3:11` is a shorthand for `seq(3, 11)` for integer arguments."
   ]
  },
  {
   "cell_type": "code",
   "execution_count": 25,
   "id": "3891249c-1af3-4b6c-a2e6-dfca3282f2be",
   "metadata": {},
   "outputs": [
    {
     "data": {
      "text/html": [
       "<style>\n",
       ".list-inline {list-style: none; margin:0; padding: 0}\n",
       ".list-inline>li {display: inline-block}\n",
       ".list-inline>li:not(:last-child)::after {content: \"\\00b7\"; padding: 0 .5ex}\n",
       "</style>\n",
       "<ol class=list-inline><li>1</li><li>2</li><li>3</li><li>4</li><li>5</li><li>6</li><li>7</li><li>8</li><li>9</li><li>10</li></ol>\n"
      ],
      "text/latex": [
       "\\begin{enumerate*}\n",
       "\\item 1\n",
       "\\item 2\n",
       "\\item 3\n",
       "\\item 4\n",
       "\\item 5\n",
       "\\item 6\n",
       "\\item 7\n",
       "\\item 8\n",
       "\\item 9\n",
       "\\item 10\n",
       "\\end{enumerate*}\n"
      ],
      "text/markdown": [
       "1. 1\n",
       "2. 2\n",
       "3. 3\n",
       "4. 4\n",
       "5. 5\n",
       "6. 6\n",
       "7. 7\n",
       "8. 8\n",
       "9. 9\n",
       "10. 10\n",
       "\n",
       "\n"
      ],
      "text/plain": [
       " [1]  1  2  3  4  5  6  7  8  9 10"
      ]
     },
     "metadata": {},
     "output_type": "display_data"
    }
   ],
   "source": [
    "x <- seq(1, 10)\n",
    "x"
   ]
  },
  {
   "cell_type": "code",
   "execution_count": 26,
   "id": "6bd8a747-d545-4868-8212-d958aa10d6eb",
   "metadata": {},
   "outputs": [
    {
     "data": {
      "text/html": [
       "<style>\n",
       ".list-inline {list-style: none; margin:0; padding: 0}\n",
       ".list-inline>li {display: inline-block}\n",
       ".list-inline>li:not(:last-child)::after {content: \"\\00b7\"; padding: 0 .5ex}\n",
       "</style>\n",
       "<ol class=list-inline><li>1</li><li>2</li><li>3</li><li>4</li><li>5</li><li>6</li><li>7</li><li>8</li><li>9</li><li>10</li></ol>\n"
      ],
      "text/latex": [
       "\\begin{enumerate*}\n",
       "\\item 1\n",
       "\\item 2\n",
       "\\item 3\n",
       "\\item 4\n",
       "\\item 5\n",
       "\\item 6\n",
       "\\item 7\n",
       "\\item 8\n",
       "\\item 9\n",
       "\\item 10\n",
       "\\end{enumerate*}\n"
      ],
      "text/markdown": [
       "1. 1\n",
       "2. 2\n",
       "3. 3\n",
       "4. 4\n",
       "5. 5\n",
       "6. 6\n",
       "7. 7\n",
       "8. 8\n",
       "9. 9\n",
       "10. 10\n",
       "\n",
       "\n"
      ],
      "text/plain": [
       " [1]  1  2  3  4  5  6  7  8  9 10"
      ]
     },
     "metadata": {},
     "output_type": "display_data"
    }
   ],
   "source": [
    "x <- 1:10\n",
    "x"
   ]
  },
  {
   "cell_type": "code",
   "execution_count": 27,
   "id": "e9cf60d6-ab08-4fea-bce0-67948d400ca6",
   "metadata": {},
   "outputs": [
    {
     "data": {
      "text/html": [
       "<style>\n",
       ".list-inline {list-style: none; margin:0; padding: 0}\n",
       ".list-inline>li {display: inline-block}\n",
       ".list-inline>li:not(:last-child)::after {content: \"\\00b7\"; padding: 0 .5ex}\n",
       "</style>\n",
       "<ol class=list-inline><li>-3.14159265358979</li><li>-3.0133643820147</li><li>-2.88513611043961</li><li>-2.75690783886451</li><li>-2.62867956728942</li><li>-2.50045129571433</li><li>-2.37222302413923</li><li>-2.24399475256414</li><li>-2.11576648098904</li><li>-1.98753820941395</li><li>-1.85930993783886</li><li>-1.73108166626376</li><li>-1.60285339468867</li><li>-1.47462512311358</li><li>-1.34639685153848</li><li>-1.21816857996339</li><li>-1.0899403083883</li><li>-0.961712036813202</li><li>-0.833483765238109</li><li>-0.705255493663015</li><li>-0.577027222087922</li><li>-0.448798950512828</li><li>-0.320570678937734</li><li>-0.192342407362641</li><li>-0.064114135787547</li><li>0.0641141357875465</li><li>0.19234240736264</li><li>0.320570678937734</li><li>0.448798950512828</li><li>0.577027222087921</li><li>0.705255493663015</li><li>0.833483765238108</li><li>0.961712036813202</li><li>1.0899403083883</li><li>1.21816857996339</li><li>1.34639685153848</li><li>1.47462512311358</li><li>1.60285339468867</li><li>1.73108166626376</li><li>1.85930993783886</li><li>1.98753820941395</li><li>2.11576648098904</li><li>2.24399475256414</li><li>2.37222302413923</li><li>2.50045129571433</li><li>2.62867956728942</li><li>2.75690783886451</li><li>2.88513611043961</li><li>3.0133643820147</li><li>3.14159265358979</li></ol>\n"
      ],
      "text/latex": [
       "\\begin{enumerate*}\n",
       "\\item -3.14159265358979\n",
       "\\item -3.0133643820147\n",
       "\\item -2.88513611043961\n",
       "\\item -2.75690783886451\n",
       "\\item -2.62867956728942\n",
       "\\item -2.50045129571433\n",
       "\\item -2.37222302413923\n",
       "\\item -2.24399475256414\n",
       "\\item -2.11576648098904\n",
       "\\item -1.98753820941395\n",
       "\\item -1.85930993783886\n",
       "\\item -1.73108166626376\n",
       "\\item -1.60285339468867\n",
       "\\item -1.47462512311358\n",
       "\\item -1.34639685153848\n",
       "\\item -1.21816857996339\n",
       "\\item -1.0899403083883\n",
       "\\item -0.961712036813202\n",
       "\\item -0.833483765238109\n",
       "\\item -0.705255493663015\n",
       "\\item -0.577027222087922\n",
       "\\item -0.448798950512828\n",
       "\\item -0.320570678937734\n",
       "\\item -0.192342407362641\n",
       "\\item -0.064114135787547\n",
       "\\item 0.0641141357875465\n",
       "\\item 0.19234240736264\n",
       "\\item 0.320570678937734\n",
       "\\item 0.448798950512828\n",
       "\\item 0.577027222087921\n",
       "\\item 0.705255493663015\n",
       "\\item 0.833483765238108\n",
       "\\item 0.961712036813202\n",
       "\\item 1.0899403083883\n",
       "\\item 1.21816857996339\n",
       "\\item 1.34639685153848\n",
       "\\item 1.47462512311358\n",
       "\\item 1.60285339468867\n",
       "\\item 1.73108166626376\n",
       "\\item 1.85930993783886\n",
       "\\item 1.98753820941395\n",
       "\\item 2.11576648098904\n",
       "\\item 2.24399475256414\n",
       "\\item 2.37222302413923\n",
       "\\item 2.50045129571433\n",
       "\\item 2.62867956728942\n",
       "\\item 2.75690783886451\n",
       "\\item 2.88513611043961\n",
       "\\item 3.0133643820147\n",
       "\\item 3.14159265358979\n",
       "\\end{enumerate*}\n"
      ],
      "text/markdown": [
       "1. -3.14159265358979\n",
       "2. -3.0133643820147\n",
       "3. -2.88513611043961\n",
       "4. -2.75690783886451\n",
       "5. -2.62867956728942\n",
       "6. -2.50045129571433\n",
       "7. -2.37222302413923\n",
       "8. -2.24399475256414\n",
       "9. -2.11576648098904\n",
       "10. -1.98753820941395\n",
       "11. -1.85930993783886\n",
       "12. -1.73108166626376\n",
       "13. -1.60285339468867\n",
       "14. -1.47462512311358\n",
       "15. -1.34639685153848\n",
       "16. -1.21816857996339\n",
       "17. -1.0899403083883\n",
       "18. -0.961712036813202\n",
       "19. -0.833483765238109\n",
       "20. -0.705255493663015\n",
       "21. -0.577027222087922\n",
       "22. -0.448798950512828\n",
       "23. -0.320570678937734\n",
       "24. -0.192342407362641\n",
       "25. -0.064114135787547\n",
       "26. 0.0641141357875465\n",
       "27. 0.19234240736264\n",
       "28. 0.320570678937734\n",
       "29. 0.448798950512828\n",
       "30. 0.577027222087921\n",
       "31. 0.705255493663015\n",
       "32. 0.833483765238108\n",
       "33. 0.961712036813202\n",
       "34. 1.0899403083883\n",
       "35. 1.21816857996339\n",
       "36. 1.34639685153848\n",
       "37. 1.47462512311358\n",
       "38. 1.60285339468867\n",
       "39. 1.73108166626376\n",
       "40. 1.85930993783886\n",
       "41. 1.98753820941395\n",
       "42. 2.11576648098904\n",
       "43. 2.24399475256414\n",
       "44. 2.37222302413923\n",
       "45. 2.50045129571433\n",
       "46. 2.62867956728942\n",
       "47. 2.75690783886451\n",
       "48. 2.88513611043961\n",
       "49. 3.0133643820147\n",
       "50. 3.14159265358979\n",
       "\n",
       "\n"
      ],
      "text/plain": [
       " [1] -3.14159265 -3.01336438 -2.88513611 -2.75690784 -2.62867957 -2.50045130\n",
       " [7] -2.37222302 -2.24399475 -2.11576648 -1.98753821 -1.85930994 -1.73108167\n",
       "[13] -1.60285339 -1.47462512 -1.34639685 -1.21816858 -1.08994031 -0.96171204\n",
       "[19] -0.83348377 -0.70525549 -0.57702722 -0.44879895 -0.32057068 -0.19234241\n",
       "[25] -0.06411414  0.06411414  0.19234241  0.32057068  0.44879895  0.57702722\n",
       "[31]  0.70525549  0.83348377  0.96171204  1.08994031  1.21816858  1.34639685\n",
       "[37]  1.47462512  1.60285339  1.73108167  1.85930994  1.98753821  2.11576648\n",
       "[43]  2.24399475  2.37222302  2.50045130  2.62867957  2.75690784  2.88513611\n",
       "[49]  3.01336438  3.14159265"
      ]
     },
     "metadata": {},
     "output_type": "display_data"
    }
   ],
   "source": [
    "x <- seq(-pi, pi, length = 50)\n",
    "x"
   ]
  },
  {
   "cell_type": "markdown",
   "id": "6673e231-0fbf-4823-b368-efdf36e6c036",
   "metadata": {},
   "source": [
    "We will not crate some more sophisticated plots. The `contour()` function produces a _contour plot_ in order to represent three-dimensional data; it is like a topographical map. It takes three arguments:\n",
    "\n",
    "1. A vector of the `x` values (the first dimension),\n",
    "2. A vector of the `y` values (the second dimension), and\n",
    "3. A matrix whose elements correspond to the `z` value (the third dimension) for each pair of (x, y) coordinates."
   ]
  },
  {
   "cell_type": "markdown",
   "id": "8a24c725-9028-4208-b336-2db8cfd4e270",
   "metadata": {},
   "source": [
    "As with the `plot()` function, there are many other inputs that can be used to fine-tune the output of the `contour()` function. To learn more about these, take a look at the help file by typing `?contour`."
   ]
  },
  {
   "cell_type": "code",
   "execution_count": 28,
   "id": "7456e754-cb08-48a8-ac34-76d09847015d",
   "metadata": {},
   "outputs": [
    {
     "data": {
      "text/html": [
       "<table class=\"dataframe\">\n",
       "<caption>A matrix: 50 × 50 of type dbl</caption>\n",
       "<tbody>\n",
       "\t<tr><td>-0.09199967</td><td>-0.09124435</td><td>-0.08899081</td><td>-0.08527603</td><td>-0.08016103</td><td>-0.07372979</td><td>-0.06608790</td><td>-0.05736085</td><td>-0.04769194</td><td>-0.03723993</td><td>⋯</td><td>-0.03723993</td><td>-0.04769194</td><td>-0.05736085</td><td>-0.06608790</td><td>-0.07372979</td><td>-0.08016103</td><td>-0.08527603</td><td>-0.08899081</td><td>-0.09124435</td><td>-0.09199967</td></tr>\n",
       "\t<tr><td>-0.09920276</td><td>-0.09838830</td><td>-0.09595832</td><td>-0.09195270</td><td>-0.08643722</td><td>-0.07950244</td><td>-0.07126224</td><td>-0.06185191</td><td>-0.05142597</td><td>-0.04015562</td><td>⋯</td><td>-0.04015562</td><td>-0.05142597</td><td>-0.06185191</td><td>-0.07126224</td><td>-0.07950244</td><td>-0.08643722</td><td>-0.09195270</td><td>-0.09595832</td><td>-0.09838830</td><td>-0.09920276</td></tr>\n",
       "\t<tr><td>-0.10724999</td><td>-0.10636947</td><td>-0.10374236</td><td>-0.09941181</td><td>-0.09344892</td><td>-0.08595160</td><td>-0.07704296</td><td>-0.06686927</td><td>-0.05559760</td><td>-0.04341301</td><td>⋯</td><td>-0.04341301</td><td>-0.05559760</td><td>-0.06686927</td><td>-0.07704296</td><td>-0.08595160</td><td>-0.09344892</td><td>-0.09941181</td><td>-0.10374236</td><td>-0.10636947</td><td>-0.10724999</td></tr>\n",
       "\t<tr><td>-0.11627176</td><td>-0.11531717</td><td>-0.11246907</td><td>-0.10777424</td><td>-0.10130976</td><td>-0.09318177</td><td>-0.08352374</td><td>-0.07249426</td><td>-0.06027442</td><td>-0.04706487</td><td>⋯</td><td>-0.04706487</td><td>-0.06027442</td><td>-0.07249426</td><td>-0.08352374</td><td>-0.09318177</td><td>-0.10130976</td><td>-0.10777424</td><td>-0.11246907</td><td>-0.11531717</td><td>-0.11627176</td></tr>\n",
       "\t<tr><td>-0.12642295</td><td>-0.12538502</td><td>-0.12228827</td><td>-0.11718355</td><td>-0.11015468</td><td>-0.10131707</td><td>-0.09081584</td><td>-0.07882342</td><td>-0.06553672</td><td>-0.05117390</td><td>⋯</td><td>-0.05117390</td><td>-0.06553672</td><td>-0.07882342</td><td>-0.09081584</td><td>-0.10131707</td><td>-0.11015468</td><td>-0.11718355</td><td>-0.12228827</td><td>-0.12538502</td><td>-0.12642295</td></tr>\n",
       "\t<tr><td>-0.13788811</td><td>-0.13675606</td><td>-0.13337846</td><td>-0.12781080</td><td>-0.12014449</td><td>-0.11050541</td><td>-0.09905184</td><td>-0.08597183</td><td>-0.07148017</td><td>-0.05581481</td><td>⋯</td><td>-0.05581481</td><td>-0.07148017</td><td>-0.08597183</td><td>-0.09905184</td><td>-0.11050541</td><td>-0.12014449</td><td>-0.12781080</td><td>-0.13337846</td><td>-0.13675606</td><td>-0.13788811</td></tr>\n",
       "\t<tr><td>-0.15088778</td><td>-0.14964899</td><td>-0.14595297</td><td>-0.13986041</td><td>-0.13147134</td><td>-0.12092352</td><td>-0.10839014</td><td>-0.09407699</td><td>-0.07821910</td><td>-0.06107686</td><td>⋯</td><td>-0.06107686</td><td>-0.07821910</td><td>-0.09407699</td><td>-0.10839014</td><td>-0.12092352</td><td>-0.13147134</td><td>-0.13986041</td><td>-0.14595297</td><td>-0.14964899</td><td>-0.15088778</td></tr>\n",
       "\t<tr><td>-0.16568601</td><td>-0.16432573</td><td>-0.16026723</td><td>-0.15357714</td><td>-0.14436532</td><td>-0.13278303</td><td>-0.11902044</td><td>-0.10330354</td><td>-0.08589040</td><td>-0.06706694</td><td>⋯</td><td>-0.06706694</td><td>-0.08589040</td><td>-0.10330354</td><td>-0.11902044</td><td>-0.13278303</td><td>-0.14436532</td><td>-0.15357714</td><td>-0.16026723</td><td>-0.16432573</td><td>-0.16568601</td></tr>\n",
       "\t<tr><td>-0.18259945</td><td>-0.18110031</td><td>-0.17662751</td><td>-0.16925449</td><td>-0.15910231</td><td>-0.14633769</td><td>-0.13117020</td><td>-0.11384889</td><td>-0.09465820</td><td>-0.07391322</td><td>⋯</td><td>-0.07391322</td><td>-0.09465820</td><td>-0.11384889</td><td>-0.13117020</td><td>-0.14633769</td><td>-0.15910231</td><td>-0.16925449</td><td>-0.17662751</td><td>-0.18110031</td><td>-0.18259945</td></tr>\n",
       "\t<tr><td>-0.20200763</td><td>-0.20034915</td><td>-0.19540094</td><td>-0.18724425</td><td>-0.17601302</td><td>-0.16189166</td><td>-0.14511205</td><td>-0.12594970</td><td>-0.10471925</td><td>-0.08176932</td><td>⋯</td><td>-0.08176932</td><td>-0.10471925</td><td>-0.12594970</td><td>-0.14511205</td><td>-0.16189166</td><td>-0.17601302</td><td>-0.18724425</td><td>-0.19540094</td><td>-0.20034915</td><td>-0.20200763</td></tr>\n",
       "\t<tr><td>-0.22436448</td><td>-0.22252245</td><td>-0.21702661</td><td>-0.20796720</td><td>-0.19549297</td><td>-0.17980875</td><td>-0.16117208</td><td>-0.13988897</td><td>-0.11630888</td><td>-0.09081901</td><td>⋯</td><td>-0.09081901</td><td>-0.11630888</td><td>-0.13988897</td><td>-0.16117208</td><td>-0.17980875</td><td>-0.19549297</td><td>-0.20796720</td><td>-0.21702661</td><td>-0.22252245</td><td>-0.22436448</td></tr>\n",
       "\t<tr><td>-0.25020994</td><td>-0.24815572</td><td>-0.24202679</td><td>-0.23192379</td><td>-0.21801260</td><td>-0.20052166</td><td>-0.17973815</td><td>-0.15600335</td><td>-0.12970697</td><td>-0.10128082</td><td>⋯</td><td>-0.10128082</td><td>-0.12970697</td><td>-0.15600335</td><td>-0.17973815</td><td>-0.20052166</td><td>-0.21801260</td><td>-0.23192379</td><td>-0.24202679</td><td>-0.24815572</td><td>-0.25020994</td></tr>\n",
       "\t<tr><td>-0.28017962</td><td>-0.27787935</td><td>-0.27101630</td><td>-0.25970318</td><td>-0.24412574</td><td>-0.22453976</td><td>-0.20126685</td><td>-0.17468913</td><td>-0.14524303</td><td>-0.11341204</td><td>⋯</td><td>-0.11341204</td><td>-0.14524303</td><td>-0.17468913</td><td>-0.20126685</td><td>-0.22453976</td><td>-0.24412574</td><td>-0.25970318</td><td>-0.27101630</td><td>-0.27787935</td><td>-0.28017962</td></tr>\n",
       "\t<tr><td>-0.31500833</td><td>-0.31242211</td><td>-0.30470594</td><td>-0.29198650</td><td>-0.27447265</td><td>-0.25245196</td><td>-0.22628603</td><td>-0.19640448</td><td>-0.16329798</td><td>-0.12751012</td><td>⋯</td><td>-0.12751012</td><td>-0.16329798</td><td>-0.19640448</td><td>-0.22628603</td><td>-0.25245196</td><td>-0.27447265</td><td>-0.29198650</td><td>-0.30470594</td><td>-0.31242211</td><td>-0.31500833</td></tr>\n",
       "\t<tr><td>-0.35551960</td><td>-0.35260078</td><td>-0.34389228</td><td>-0.32953707</td><td>-0.30977087</td><td>-0.28491825</td><td>-0.25538727</td><td>-0.22166284</td><td>-0.18429872</td><td>-0.14390841</td><td>⋯</td><td>-0.14390841</td><td>-0.18429872</td><td>-0.22166284</td><td>-0.25538727</td><td>-0.28491825</td><td>-0.30977087</td><td>-0.32953707</td><td>-0.34389228</td><td>-0.35260078</td><td>-0.35551960</td></tr>\n",
       "\t<tr><td>-0.40258707</td><td>-0.39928184</td><td>-0.38942041</td><td>-0.37316471</td><td>-0.35078165</td><td>-0.32263877</td><td>-0.28919816</td><td>-0.25100894</td><td>-0.20869815</td><td>-0.16296054</td><td>⋯</td><td>-0.16296054</td><td>-0.20869815</td><td>-0.25100894</td><td>-0.28919816</td><td>-0.32263877</td><td>-0.35078165</td><td>-0.37316471</td><td>-0.38942041</td><td>-0.39928184</td><td>-0.40258707</td></tr>\n",
       "\t<tr><td>-0.45704468</td><td>-0.45329235</td><td>-0.44209697</td><td>-0.42364238</td><td>-0.39823158</td><td>-0.36628184</td><td>-0.32831775</td><td>-0.28496270</td><td>-0.23692857</td><td>-0.18500408</td><td>⋯</td><td>-0.18500408</td><td>-0.23692857</td><td>-0.28496270</td><td>-0.32831775</td><td>-0.36628184</td><td>-0.39823158</td><td>-0.42364238</td><td>-0.44209697</td><td>-0.45329235</td><td>-0.45704468</td></tr>\n",
       "\t<tr><td>-0.51951019</td><td>-0.51524502</td><td>-0.50251954</td><td>-0.48154270</td><td>-0.45265895</td><td>-0.41634255</td><td>-0.37318981</td><td>-0.32390931</td><td>-0.26931022</td><td>-0.21028907</td><td>⋯</td><td>-0.21028907</td><td>-0.26931022</td><td>-0.32390931</td><td>-0.37318981</td><td>-0.41634255</td><td>-0.45265895</td><td>-0.48154270</td><td>-0.50251954</td><td>-0.51524502</td><td>-0.51951019</td></tr>\n",
       "\t<tr><td>-0.59007662</td><td>-0.58523209</td><td>-0.57077808</td><td>-0.54695190</td><td>-0.51414479</td><td>-0.47289544</td><td>-0.42388115</td><td>-0.36790675</td><td>-0.30589133</td><td>-0.23885319</td><td>⋯</td><td>-0.23885319</td><td>-0.30589133</td><td>-0.36790675</td><td>-0.42388115</td><td>-0.47289544</td><td>-0.51414479</td><td>-0.54695190</td><td>-0.57077808</td><td>-0.58523209</td><td>-0.59007662</td></tr>\n",
       "\t<tr><td>-0.66783078</td><td>-0.66234790</td><td>-0.64598928</td><td>-0.61902354</td><td>-0.58189345</td><td>-0.53520868</td><td>-0.47973581</td><td>-0.41638568</td><td>-0.34619851</td><td>-0.27032678</td><td>⋯</td><td>-0.27032678</td><td>-0.34619851</td><td>-0.41638568</td><td>-0.47973581</td><td>-0.53520868</td><td>-0.58189345</td><td>-0.61902354</td><td>-0.64598928</td><td>-0.66234790</td><td>-0.66783078</td></tr>\n",
       "\t<tr><td>-0.75020983</td><td>-0.74405061</td><td>-0.72567411</td><td>-0.69538206</td><td>-0.65367185</td><td>-0.60122837</td><td>-0.53891274</td><td>-0.46774818</td><td>-0.38890320</td><td>-0.30367244</td><td>⋯</td><td>-0.30367244</td><td>-0.38890320</td><td>-0.46774818</td><td>-0.53891274</td><td>-0.60122837</td><td>-0.65367185</td><td>-0.69538206</td><td>-0.72567411</td><td>-0.74405061</td><td>-0.75020983</td></tr>\n",
       "\t<tr><td>-0.83234804</td><td>-0.82551448</td><td>-0.80512599</td><td>-0.77151735</td><td>-0.72524042</td><td>-0.66705506</td><td>-0.59791668</td><td>-0.51896052</td><td>-0.43148304</td><td>-0.33692062</td><td>⋯</td><td>-0.33692062</td><td>-0.43148304</td><td>-0.51896052</td><td>-0.59791668</td><td>-0.66705506</td><td>-0.72524042</td><td>-0.77151735</td><td>-0.80512599</td><td>-0.82551448</td><td>-0.83234804</td></tr>\n",
       "\t<tr><td>-0.90681105</td><td>-0.89936615</td><td>-0.87715367</td><td>-0.84053836</td><td>-0.79012143</td><td>-0.72673073</td><td>-0.65140713</td><td>-0.56538744</td><td>-0.47008411</td><td>-0.36706201</td><td>⋯</td><td>-0.36706201</td><td>-0.47008411</td><td>-0.56538744</td><td>-0.65140713</td><td>-0.72673073</td><td>-0.79012143</td><td>-0.84053836</td><td>-0.87715367</td><td>-0.89936615</td><td>-0.90681105</td></tr>\n",
       "\t<tr><td>-0.96432424</td><td>-0.95640716</td><td>-0.93278589</td><td>-0.89384830</td><td>-0.84023375</td><td>-0.77282259</td><td>-0.69272169</td><td>-0.60124633</td><td>-0.49989852</td><td>-0.39034239</td><td>⋯</td><td>-0.39034239</td><td>-0.49989852</td><td>-0.60124633</td><td>-0.69272169</td><td>-0.77282259</td><td>-0.84023375</td><td>-0.89384830</td><td>-0.93278589</td><td>-0.95640716</td><td>-0.96432424</td></tr>\n",
       "\t<tr><td>-0.99590621</td><td>-0.98772983</td><td>-0.96333496</td><td>-0.92312215</td><td>-0.86775170</td><td>-0.79813280</td><td>-0.71540858</td><td>-0.62093736</td><td>-0.51627038</td><td>-0.40312624</td><td>⋯</td><td>-0.40312624</td><td>-0.51627038</td><td>-0.62093736</td><td>-0.71540858</td><td>-0.79813280</td><td>-0.86775170</td><td>-0.92312215</td><td>-0.96333496</td><td>-0.98772983</td><td>-0.99590621</td></tr>\n",
       "\t<tr><td>-0.99590621</td><td>-0.98772983</td><td>-0.96333496</td><td>-0.92312215</td><td>-0.86775170</td><td>-0.79813280</td><td>-0.71540858</td><td>-0.62093736</td><td>-0.51627038</td><td>-0.40312624</td><td>⋯</td><td>-0.40312624</td><td>-0.51627038</td><td>-0.62093736</td><td>-0.71540858</td><td>-0.79813280</td><td>-0.86775170</td><td>-0.92312215</td><td>-0.96333496</td><td>-0.98772983</td><td>-0.99590621</td></tr>\n",
       "\t<tr><td>-0.96432424</td><td>-0.95640716</td><td>-0.93278589</td><td>-0.89384830</td><td>-0.84023375</td><td>-0.77282259</td><td>-0.69272169</td><td>-0.60124633</td><td>-0.49989852</td><td>-0.39034239</td><td>⋯</td><td>-0.39034239</td><td>-0.49989852</td><td>-0.60124633</td><td>-0.69272169</td><td>-0.77282259</td><td>-0.84023375</td><td>-0.89384830</td><td>-0.93278589</td><td>-0.95640716</td><td>-0.96432424</td></tr>\n",
       "\t<tr><td>-0.90681105</td><td>-0.89936615</td><td>-0.87715367</td><td>-0.84053836</td><td>-0.79012143</td><td>-0.72673073</td><td>-0.65140713</td><td>-0.56538744</td><td>-0.47008411</td><td>-0.36706201</td><td>⋯</td><td>-0.36706201</td><td>-0.47008411</td><td>-0.56538744</td><td>-0.65140713</td><td>-0.72673073</td><td>-0.79012143</td><td>-0.84053836</td><td>-0.87715367</td><td>-0.89936615</td><td>-0.90681105</td></tr>\n",
       "\t<tr><td>-0.83234804</td><td>-0.82551448</td><td>-0.80512599</td><td>-0.77151735</td><td>-0.72524042</td><td>-0.66705506</td><td>-0.59791668</td><td>-0.51896052</td><td>-0.43148304</td><td>-0.33692062</td><td>⋯</td><td>-0.33692062</td><td>-0.43148304</td><td>-0.51896052</td><td>-0.59791668</td><td>-0.66705506</td><td>-0.72524042</td><td>-0.77151735</td><td>-0.80512599</td><td>-0.82551448</td><td>-0.83234804</td></tr>\n",
       "\t<tr><td>-0.75020983</td><td>-0.74405061</td><td>-0.72567411</td><td>-0.69538206</td><td>-0.65367185</td><td>-0.60122837</td><td>-0.53891274</td><td>-0.46774818</td><td>-0.38890320</td><td>-0.30367244</td><td>⋯</td><td>-0.30367244</td><td>-0.38890320</td><td>-0.46774818</td><td>-0.53891274</td><td>-0.60122837</td><td>-0.65367185</td><td>-0.69538206</td><td>-0.72567411</td><td>-0.74405061</td><td>-0.75020983</td></tr>\n",
       "\t<tr><td>-0.66783078</td><td>-0.66234790</td><td>-0.64598928</td><td>-0.61902354</td><td>-0.58189345</td><td>-0.53520868</td><td>-0.47973581</td><td>-0.41638568</td><td>-0.34619851</td><td>-0.27032678</td><td>⋯</td><td>-0.27032678</td><td>-0.34619851</td><td>-0.41638568</td><td>-0.47973581</td><td>-0.53520868</td><td>-0.58189345</td><td>-0.61902354</td><td>-0.64598928</td><td>-0.66234790</td><td>-0.66783078</td></tr>\n",
       "\t<tr><td>-0.59007662</td><td>-0.58523209</td><td>-0.57077808</td><td>-0.54695190</td><td>-0.51414479</td><td>-0.47289544</td><td>-0.42388115</td><td>-0.36790675</td><td>-0.30589133</td><td>-0.23885319</td><td>⋯</td><td>-0.23885319</td><td>-0.30589133</td><td>-0.36790675</td><td>-0.42388115</td><td>-0.47289544</td><td>-0.51414479</td><td>-0.54695190</td><td>-0.57077808</td><td>-0.58523209</td><td>-0.59007662</td></tr>\n",
       "\t<tr><td>-0.51951019</td><td>-0.51524502</td><td>-0.50251954</td><td>-0.48154270</td><td>-0.45265895</td><td>-0.41634255</td><td>-0.37318981</td><td>-0.32390931</td><td>-0.26931022</td><td>-0.21028907</td><td>⋯</td><td>-0.21028907</td><td>-0.26931022</td><td>-0.32390931</td><td>-0.37318981</td><td>-0.41634255</td><td>-0.45265895</td><td>-0.48154270</td><td>-0.50251954</td><td>-0.51524502</td><td>-0.51951019</td></tr>\n",
       "\t<tr><td>-0.45704468</td><td>-0.45329235</td><td>-0.44209697</td><td>-0.42364238</td><td>-0.39823158</td><td>-0.36628184</td><td>-0.32831775</td><td>-0.28496270</td><td>-0.23692857</td><td>-0.18500408</td><td>⋯</td><td>-0.18500408</td><td>-0.23692857</td><td>-0.28496270</td><td>-0.32831775</td><td>-0.36628184</td><td>-0.39823158</td><td>-0.42364238</td><td>-0.44209697</td><td>-0.45329235</td><td>-0.45704468</td></tr>\n",
       "\t<tr><td>-0.40258707</td><td>-0.39928184</td><td>-0.38942041</td><td>-0.37316471</td><td>-0.35078165</td><td>-0.32263877</td><td>-0.28919816</td><td>-0.25100894</td><td>-0.20869815</td><td>-0.16296054</td><td>⋯</td><td>-0.16296054</td><td>-0.20869815</td><td>-0.25100894</td><td>-0.28919816</td><td>-0.32263877</td><td>-0.35078165</td><td>-0.37316471</td><td>-0.38942041</td><td>-0.39928184</td><td>-0.40258707</td></tr>\n",
       "\t<tr><td>-0.35551960</td><td>-0.35260078</td><td>-0.34389228</td><td>-0.32953707</td><td>-0.30977087</td><td>-0.28491825</td><td>-0.25538727</td><td>-0.22166284</td><td>-0.18429872</td><td>-0.14390841</td><td>⋯</td><td>-0.14390841</td><td>-0.18429872</td><td>-0.22166284</td><td>-0.25538727</td><td>-0.28491825</td><td>-0.30977087</td><td>-0.32953707</td><td>-0.34389228</td><td>-0.35260078</td><td>-0.35551960</td></tr>\n",
       "\t<tr><td>-0.31500833</td><td>-0.31242211</td><td>-0.30470594</td><td>-0.29198650</td><td>-0.27447265</td><td>-0.25245196</td><td>-0.22628603</td><td>-0.19640448</td><td>-0.16329798</td><td>-0.12751012</td><td>⋯</td><td>-0.12751012</td><td>-0.16329798</td><td>-0.19640448</td><td>-0.22628603</td><td>-0.25245196</td><td>-0.27447265</td><td>-0.29198650</td><td>-0.30470594</td><td>-0.31242211</td><td>-0.31500833</td></tr>\n",
       "\t<tr><td>-0.28017962</td><td>-0.27787935</td><td>-0.27101630</td><td>-0.25970318</td><td>-0.24412574</td><td>-0.22453976</td><td>-0.20126685</td><td>-0.17468913</td><td>-0.14524303</td><td>-0.11341204</td><td>⋯</td><td>-0.11341204</td><td>-0.14524303</td><td>-0.17468913</td><td>-0.20126685</td><td>-0.22453976</td><td>-0.24412574</td><td>-0.25970318</td><td>-0.27101630</td><td>-0.27787935</td><td>-0.28017962</td></tr>\n",
       "\t<tr><td>-0.25020994</td><td>-0.24815572</td><td>-0.24202679</td><td>-0.23192379</td><td>-0.21801260</td><td>-0.20052166</td><td>-0.17973815</td><td>-0.15600335</td><td>-0.12970697</td><td>-0.10128082</td><td>⋯</td><td>-0.10128082</td><td>-0.12970697</td><td>-0.15600335</td><td>-0.17973815</td><td>-0.20052166</td><td>-0.21801260</td><td>-0.23192379</td><td>-0.24202679</td><td>-0.24815572</td><td>-0.25020994</td></tr>\n",
       "\t<tr><td>-0.22436448</td><td>-0.22252245</td><td>-0.21702661</td><td>-0.20796720</td><td>-0.19549297</td><td>-0.17980875</td><td>-0.16117208</td><td>-0.13988897</td><td>-0.11630888</td><td>-0.09081901</td><td>⋯</td><td>-0.09081901</td><td>-0.11630888</td><td>-0.13988897</td><td>-0.16117208</td><td>-0.17980875</td><td>-0.19549297</td><td>-0.20796720</td><td>-0.21702661</td><td>-0.22252245</td><td>-0.22436448</td></tr>\n",
       "\t<tr><td>-0.20200763</td><td>-0.20034915</td><td>-0.19540094</td><td>-0.18724425</td><td>-0.17601302</td><td>-0.16189166</td><td>-0.14511205</td><td>-0.12594970</td><td>-0.10471925</td><td>-0.08176932</td><td>⋯</td><td>-0.08176932</td><td>-0.10471925</td><td>-0.12594970</td><td>-0.14511205</td><td>-0.16189166</td><td>-0.17601302</td><td>-0.18724425</td><td>-0.19540094</td><td>-0.20034915</td><td>-0.20200763</td></tr>\n",
       "\t<tr><td>-0.18259945</td><td>-0.18110031</td><td>-0.17662751</td><td>-0.16925449</td><td>-0.15910231</td><td>-0.14633769</td><td>-0.13117020</td><td>-0.11384889</td><td>-0.09465820</td><td>-0.07391322</td><td>⋯</td><td>-0.07391322</td><td>-0.09465820</td><td>-0.11384889</td><td>-0.13117020</td><td>-0.14633769</td><td>-0.15910231</td><td>-0.16925449</td><td>-0.17662751</td><td>-0.18110031</td><td>-0.18259945</td></tr>\n",
       "\t<tr><td>-0.16568601</td><td>-0.16432573</td><td>-0.16026723</td><td>-0.15357714</td><td>-0.14436532</td><td>-0.13278303</td><td>-0.11902044</td><td>-0.10330354</td><td>-0.08589040</td><td>-0.06706694</td><td>⋯</td><td>-0.06706694</td><td>-0.08589040</td><td>-0.10330354</td><td>-0.11902044</td><td>-0.13278303</td><td>-0.14436532</td><td>-0.15357714</td><td>-0.16026723</td><td>-0.16432573</td><td>-0.16568601</td></tr>\n",
       "\t<tr><td>-0.15088778</td><td>-0.14964899</td><td>-0.14595297</td><td>-0.13986041</td><td>-0.13147134</td><td>-0.12092352</td><td>-0.10839014</td><td>-0.09407699</td><td>-0.07821910</td><td>-0.06107686</td><td>⋯</td><td>-0.06107686</td><td>-0.07821910</td><td>-0.09407699</td><td>-0.10839014</td><td>-0.12092352</td><td>-0.13147134</td><td>-0.13986041</td><td>-0.14595297</td><td>-0.14964899</td><td>-0.15088778</td></tr>\n",
       "\t<tr><td>-0.13788811</td><td>-0.13675606</td><td>-0.13337846</td><td>-0.12781080</td><td>-0.12014449</td><td>-0.11050541</td><td>-0.09905184</td><td>-0.08597183</td><td>-0.07148017</td><td>-0.05581481</td><td>⋯</td><td>-0.05581481</td><td>-0.07148017</td><td>-0.08597183</td><td>-0.09905184</td><td>-0.11050541</td><td>-0.12014449</td><td>-0.12781080</td><td>-0.13337846</td><td>-0.13675606</td><td>-0.13788811</td></tr>\n",
       "\t<tr><td>-0.12642295</td><td>-0.12538502</td><td>-0.12228827</td><td>-0.11718355</td><td>-0.11015468</td><td>-0.10131707</td><td>-0.09081584</td><td>-0.07882342</td><td>-0.06553672</td><td>-0.05117390</td><td>⋯</td><td>-0.05117390</td><td>-0.06553672</td><td>-0.07882342</td><td>-0.09081584</td><td>-0.10131707</td><td>-0.11015468</td><td>-0.11718355</td><td>-0.12228827</td><td>-0.12538502</td><td>-0.12642295</td></tr>\n",
       "\t<tr><td>-0.11627176</td><td>-0.11531717</td><td>-0.11246907</td><td>-0.10777424</td><td>-0.10130976</td><td>-0.09318177</td><td>-0.08352374</td><td>-0.07249426</td><td>-0.06027442</td><td>-0.04706487</td><td>⋯</td><td>-0.04706487</td><td>-0.06027442</td><td>-0.07249426</td><td>-0.08352374</td><td>-0.09318177</td><td>-0.10130976</td><td>-0.10777424</td><td>-0.11246907</td><td>-0.11531717</td><td>-0.11627176</td></tr>\n",
       "\t<tr><td>-0.10724999</td><td>-0.10636947</td><td>-0.10374236</td><td>-0.09941181</td><td>-0.09344892</td><td>-0.08595160</td><td>-0.07704296</td><td>-0.06686927</td><td>-0.05559760</td><td>-0.04341301</td><td>⋯</td><td>-0.04341301</td><td>-0.05559760</td><td>-0.06686927</td><td>-0.07704296</td><td>-0.08595160</td><td>-0.09344892</td><td>-0.09941181</td><td>-0.10374236</td><td>-0.10636947</td><td>-0.10724999</td></tr>\n",
       "\t<tr><td>-0.09920276</td><td>-0.09838830</td><td>-0.09595832</td><td>-0.09195270</td><td>-0.08643722</td><td>-0.07950244</td><td>-0.07126224</td><td>-0.06185191</td><td>-0.05142597</td><td>-0.04015562</td><td>⋯</td><td>-0.04015562</td><td>-0.05142597</td><td>-0.06185191</td><td>-0.07126224</td><td>-0.07950244</td><td>-0.08643722</td><td>-0.09195270</td><td>-0.09595832</td><td>-0.09838830</td><td>-0.09920276</td></tr>\n",
       "\t<tr><td>-0.09199967</td><td>-0.09124435</td><td>-0.08899081</td><td>-0.08527603</td><td>-0.08016103</td><td>-0.07372979</td><td>-0.06608790</td><td>-0.05736085</td><td>-0.04769194</td><td>-0.03723993</td><td>⋯</td><td>-0.03723993</td><td>-0.04769194</td><td>-0.05736085</td><td>-0.06608790</td><td>-0.07372979</td><td>-0.08016103</td><td>-0.08527603</td><td>-0.08899081</td><td>-0.09124435</td><td>-0.09199967</td></tr>\n",
       "</tbody>\n",
       "</table>\n"
      ],
      "text/latex": [
       "A matrix: 50 × 50 of type dbl\n",
       "\\begin{tabular}{lllllllllllllllllllll}\n",
       "\t -0.09199967 & -0.09124435 & -0.08899081 & -0.08527603 & -0.08016103 & -0.07372979 & -0.06608790 & -0.05736085 & -0.04769194 & -0.03723993 & ⋯ & -0.03723993 & -0.04769194 & -0.05736085 & -0.06608790 & -0.07372979 & -0.08016103 & -0.08527603 & -0.08899081 & -0.09124435 & -0.09199967\\\\\n",
       "\t -0.09920276 & -0.09838830 & -0.09595832 & -0.09195270 & -0.08643722 & -0.07950244 & -0.07126224 & -0.06185191 & -0.05142597 & -0.04015562 & ⋯ & -0.04015562 & -0.05142597 & -0.06185191 & -0.07126224 & -0.07950244 & -0.08643722 & -0.09195270 & -0.09595832 & -0.09838830 & -0.09920276\\\\\n",
       "\t -0.10724999 & -0.10636947 & -0.10374236 & -0.09941181 & -0.09344892 & -0.08595160 & -0.07704296 & -0.06686927 & -0.05559760 & -0.04341301 & ⋯ & -0.04341301 & -0.05559760 & -0.06686927 & -0.07704296 & -0.08595160 & -0.09344892 & -0.09941181 & -0.10374236 & -0.10636947 & -0.10724999\\\\\n",
       "\t -0.11627176 & -0.11531717 & -0.11246907 & -0.10777424 & -0.10130976 & -0.09318177 & -0.08352374 & -0.07249426 & -0.06027442 & -0.04706487 & ⋯ & -0.04706487 & -0.06027442 & -0.07249426 & -0.08352374 & -0.09318177 & -0.10130976 & -0.10777424 & -0.11246907 & -0.11531717 & -0.11627176\\\\\n",
       "\t -0.12642295 & -0.12538502 & -0.12228827 & -0.11718355 & -0.11015468 & -0.10131707 & -0.09081584 & -0.07882342 & -0.06553672 & -0.05117390 & ⋯ & -0.05117390 & -0.06553672 & -0.07882342 & -0.09081584 & -0.10131707 & -0.11015468 & -0.11718355 & -0.12228827 & -0.12538502 & -0.12642295\\\\\n",
       "\t -0.13788811 & -0.13675606 & -0.13337846 & -0.12781080 & -0.12014449 & -0.11050541 & -0.09905184 & -0.08597183 & -0.07148017 & -0.05581481 & ⋯ & -0.05581481 & -0.07148017 & -0.08597183 & -0.09905184 & -0.11050541 & -0.12014449 & -0.12781080 & -0.13337846 & -0.13675606 & -0.13788811\\\\\n",
       "\t -0.15088778 & -0.14964899 & -0.14595297 & -0.13986041 & -0.13147134 & -0.12092352 & -0.10839014 & -0.09407699 & -0.07821910 & -0.06107686 & ⋯ & -0.06107686 & -0.07821910 & -0.09407699 & -0.10839014 & -0.12092352 & -0.13147134 & -0.13986041 & -0.14595297 & -0.14964899 & -0.15088778\\\\\n",
       "\t -0.16568601 & -0.16432573 & -0.16026723 & -0.15357714 & -0.14436532 & -0.13278303 & -0.11902044 & -0.10330354 & -0.08589040 & -0.06706694 & ⋯ & -0.06706694 & -0.08589040 & -0.10330354 & -0.11902044 & -0.13278303 & -0.14436532 & -0.15357714 & -0.16026723 & -0.16432573 & -0.16568601\\\\\n",
       "\t -0.18259945 & -0.18110031 & -0.17662751 & -0.16925449 & -0.15910231 & -0.14633769 & -0.13117020 & -0.11384889 & -0.09465820 & -0.07391322 & ⋯ & -0.07391322 & -0.09465820 & -0.11384889 & -0.13117020 & -0.14633769 & -0.15910231 & -0.16925449 & -0.17662751 & -0.18110031 & -0.18259945\\\\\n",
       "\t -0.20200763 & -0.20034915 & -0.19540094 & -0.18724425 & -0.17601302 & -0.16189166 & -0.14511205 & -0.12594970 & -0.10471925 & -0.08176932 & ⋯ & -0.08176932 & -0.10471925 & -0.12594970 & -0.14511205 & -0.16189166 & -0.17601302 & -0.18724425 & -0.19540094 & -0.20034915 & -0.20200763\\\\\n",
       "\t -0.22436448 & -0.22252245 & -0.21702661 & -0.20796720 & -0.19549297 & -0.17980875 & -0.16117208 & -0.13988897 & -0.11630888 & -0.09081901 & ⋯ & -0.09081901 & -0.11630888 & -0.13988897 & -0.16117208 & -0.17980875 & -0.19549297 & -0.20796720 & -0.21702661 & -0.22252245 & -0.22436448\\\\\n",
       "\t -0.25020994 & -0.24815572 & -0.24202679 & -0.23192379 & -0.21801260 & -0.20052166 & -0.17973815 & -0.15600335 & -0.12970697 & -0.10128082 & ⋯ & -0.10128082 & -0.12970697 & -0.15600335 & -0.17973815 & -0.20052166 & -0.21801260 & -0.23192379 & -0.24202679 & -0.24815572 & -0.25020994\\\\\n",
       "\t -0.28017962 & -0.27787935 & -0.27101630 & -0.25970318 & -0.24412574 & -0.22453976 & -0.20126685 & -0.17468913 & -0.14524303 & -0.11341204 & ⋯ & -0.11341204 & -0.14524303 & -0.17468913 & -0.20126685 & -0.22453976 & -0.24412574 & -0.25970318 & -0.27101630 & -0.27787935 & -0.28017962\\\\\n",
       "\t -0.31500833 & -0.31242211 & -0.30470594 & -0.29198650 & -0.27447265 & -0.25245196 & -0.22628603 & -0.19640448 & -0.16329798 & -0.12751012 & ⋯ & -0.12751012 & -0.16329798 & -0.19640448 & -0.22628603 & -0.25245196 & -0.27447265 & -0.29198650 & -0.30470594 & -0.31242211 & -0.31500833\\\\\n",
       "\t -0.35551960 & -0.35260078 & -0.34389228 & -0.32953707 & -0.30977087 & -0.28491825 & -0.25538727 & -0.22166284 & -0.18429872 & -0.14390841 & ⋯ & -0.14390841 & -0.18429872 & -0.22166284 & -0.25538727 & -0.28491825 & -0.30977087 & -0.32953707 & -0.34389228 & -0.35260078 & -0.35551960\\\\\n",
       "\t -0.40258707 & -0.39928184 & -0.38942041 & -0.37316471 & -0.35078165 & -0.32263877 & -0.28919816 & -0.25100894 & -0.20869815 & -0.16296054 & ⋯ & -0.16296054 & -0.20869815 & -0.25100894 & -0.28919816 & -0.32263877 & -0.35078165 & -0.37316471 & -0.38942041 & -0.39928184 & -0.40258707\\\\\n",
       "\t -0.45704468 & -0.45329235 & -0.44209697 & -0.42364238 & -0.39823158 & -0.36628184 & -0.32831775 & -0.28496270 & -0.23692857 & -0.18500408 & ⋯ & -0.18500408 & -0.23692857 & -0.28496270 & -0.32831775 & -0.36628184 & -0.39823158 & -0.42364238 & -0.44209697 & -0.45329235 & -0.45704468\\\\\n",
       "\t -0.51951019 & -0.51524502 & -0.50251954 & -0.48154270 & -0.45265895 & -0.41634255 & -0.37318981 & -0.32390931 & -0.26931022 & -0.21028907 & ⋯ & -0.21028907 & -0.26931022 & -0.32390931 & -0.37318981 & -0.41634255 & -0.45265895 & -0.48154270 & -0.50251954 & -0.51524502 & -0.51951019\\\\\n",
       "\t -0.59007662 & -0.58523209 & -0.57077808 & -0.54695190 & -0.51414479 & -0.47289544 & -0.42388115 & -0.36790675 & -0.30589133 & -0.23885319 & ⋯ & -0.23885319 & -0.30589133 & -0.36790675 & -0.42388115 & -0.47289544 & -0.51414479 & -0.54695190 & -0.57077808 & -0.58523209 & -0.59007662\\\\\n",
       "\t -0.66783078 & -0.66234790 & -0.64598928 & -0.61902354 & -0.58189345 & -0.53520868 & -0.47973581 & -0.41638568 & -0.34619851 & -0.27032678 & ⋯ & -0.27032678 & -0.34619851 & -0.41638568 & -0.47973581 & -0.53520868 & -0.58189345 & -0.61902354 & -0.64598928 & -0.66234790 & -0.66783078\\\\\n",
       "\t -0.75020983 & -0.74405061 & -0.72567411 & -0.69538206 & -0.65367185 & -0.60122837 & -0.53891274 & -0.46774818 & -0.38890320 & -0.30367244 & ⋯ & -0.30367244 & -0.38890320 & -0.46774818 & -0.53891274 & -0.60122837 & -0.65367185 & -0.69538206 & -0.72567411 & -0.74405061 & -0.75020983\\\\\n",
       "\t -0.83234804 & -0.82551448 & -0.80512599 & -0.77151735 & -0.72524042 & -0.66705506 & -0.59791668 & -0.51896052 & -0.43148304 & -0.33692062 & ⋯ & -0.33692062 & -0.43148304 & -0.51896052 & -0.59791668 & -0.66705506 & -0.72524042 & -0.77151735 & -0.80512599 & -0.82551448 & -0.83234804\\\\\n",
       "\t -0.90681105 & -0.89936615 & -0.87715367 & -0.84053836 & -0.79012143 & -0.72673073 & -0.65140713 & -0.56538744 & -0.47008411 & -0.36706201 & ⋯ & -0.36706201 & -0.47008411 & -0.56538744 & -0.65140713 & -0.72673073 & -0.79012143 & -0.84053836 & -0.87715367 & -0.89936615 & -0.90681105\\\\\n",
       "\t -0.96432424 & -0.95640716 & -0.93278589 & -0.89384830 & -0.84023375 & -0.77282259 & -0.69272169 & -0.60124633 & -0.49989852 & -0.39034239 & ⋯ & -0.39034239 & -0.49989852 & -0.60124633 & -0.69272169 & -0.77282259 & -0.84023375 & -0.89384830 & -0.93278589 & -0.95640716 & -0.96432424\\\\\n",
       "\t -0.99590621 & -0.98772983 & -0.96333496 & -0.92312215 & -0.86775170 & -0.79813280 & -0.71540858 & -0.62093736 & -0.51627038 & -0.40312624 & ⋯ & -0.40312624 & -0.51627038 & -0.62093736 & -0.71540858 & -0.79813280 & -0.86775170 & -0.92312215 & -0.96333496 & -0.98772983 & -0.99590621\\\\\n",
       "\t -0.99590621 & -0.98772983 & -0.96333496 & -0.92312215 & -0.86775170 & -0.79813280 & -0.71540858 & -0.62093736 & -0.51627038 & -0.40312624 & ⋯ & -0.40312624 & -0.51627038 & -0.62093736 & -0.71540858 & -0.79813280 & -0.86775170 & -0.92312215 & -0.96333496 & -0.98772983 & -0.99590621\\\\\n",
       "\t -0.96432424 & -0.95640716 & -0.93278589 & -0.89384830 & -0.84023375 & -0.77282259 & -0.69272169 & -0.60124633 & -0.49989852 & -0.39034239 & ⋯ & -0.39034239 & -0.49989852 & -0.60124633 & -0.69272169 & -0.77282259 & -0.84023375 & -0.89384830 & -0.93278589 & -0.95640716 & -0.96432424\\\\\n",
       "\t -0.90681105 & -0.89936615 & -0.87715367 & -0.84053836 & -0.79012143 & -0.72673073 & -0.65140713 & -0.56538744 & -0.47008411 & -0.36706201 & ⋯ & -0.36706201 & -0.47008411 & -0.56538744 & -0.65140713 & -0.72673073 & -0.79012143 & -0.84053836 & -0.87715367 & -0.89936615 & -0.90681105\\\\\n",
       "\t -0.83234804 & -0.82551448 & -0.80512599 & -0.77151735 & -0.72524042 & -0.66705506 & -0.59791668 & -0.51896052 & -0.43148304 & -0.33692062 & ⋯ & -0.33692062 & -0.43148304 & -0.51896052 & -0.59791668 & -0.66705506 & -0.72524042 & -0.77151735 & -0.80512599 & -0.82551448 & -0.83234804\\\\\n",
       "\t -0.75020983 & -0.74405061 & -0.72567411 & -0.69538206 & -0.65367185 & -0.60122837 & -0.53891274 & -0.46774818 & -0.38890320 & -0.30367244 & ⋯ & -0.30367244 & -0.38890320 & -0.46774818 & -0.53891274 & -0.60122837 & -0.65367185 & -0.69538206 & -0.72567411 & -0.74405061 & -0.75020983\\\\\n",
       "\t -0.66783078 & -0.66234790 & -0.64598928 & -0.61902354 & -0.58189345 & -0.53520868 & -0.47973581 & -0.41638568 & -0.34619851 & -0.27032678 & ⋯ & -0.27032678 & -0.34619851 & -0.41638568 & -0.47973581 & -0.53520868 & -0.58189345 & -0.61902354 & -0.64598928 & -0.66234790 & -0.66783078\\\\\n",
       "\t -0.59007662 & -0.58523209 & -0.57077808 & -0.54695190 & -0.51414479 & -0.47289544 & -0.42388115 & -0.36790675 & -0.30589133 & -0.23885319 & ⋯ & -0.23885319 & -0.30589133 & -0.36790675 & -0.42388115 & -0.47289544 & -0.51414479 & -0.54695190 & -0.57077808 & -0.58523209 & -0.59007662\\\\\n",
       "\t -0.51951019 & -0.51524502 & -0.50251954 & -0.48154270 & -0.45265895 & -0.41634255 & -0.37318981 & -0.32390931 & -0.26931022 & -0.21028907 & ⋯ & -0.21028907 & -0.26931022 & -0.32390931 & -0.37318981 & -0.41634255 & -0.45265895 & -0.48154270 & -0.50251954 & -0.51524502 & -0.51951019\\\\\n",
       "\t -0.45704468 & -0.45329235 & -0.44209697 & -0.42364238 & -0.39823158 & -0.36628184 & -0.32831775 & -0.28496270 & -0.23692857 & -0.18500408 & ⋯ & -0.18500408 & -0.23692857 & -0.28496270 & -0.32831775 & -0.36628184 & -0.39823158 & -0.42364238 & -0.44209697 & -0.45329235 & -0.45704468\\\\\n",
       "\t -0.40258707 & -0.39928184 & -0.38942041 & -0.37316471 & -0.35078165 & -0.32263877 & -0.28919816 & -0.25100894 & -0.20869815 & -0.16296054 & ⋯ & -0.16296054 & -0.20869815 & -0.25100894 & -0.28919816 & -0.32263877 & -0.35078165 & -0.37316471 & -0.38942041 & -0.39928184 & -0.40258707\\\\\n",
       "\t -0.35551960 & -0.35260078 & -0.34389228 & -0.32953707 & -0.30977087 & -0.28491825 & -0.25538727 & -0.22166284 & -0.18429872 & -0.14390841 & ⋯ & -0.14390841 & -0.18429872 & -0.22166284 & -0.25538727 & -0.28491825 & -0.30977087 & -0.32953707 & -0.34389228 & -0.35260078 & -0.35551960\\\\\n",
       "\t -0.31500833 & -0.31242211 & -0.30470594 & -0.29198650 & -0.27447265 & -0.25245196 & -0.22628603 & -0.19640448 & -0.16329798 & -0.12751012 & ⋯ & -0.12751012 & -0.16329798 & -0.19640448 & -0.22628603 & -0.25245196 & -0.27447265 & -0.29198650 & -0.30470594 & -0.31242211 & -0.31500833\\\\\n",
       "\t -0.28017962 & -0.27787935 & -0.27101630 & -0.25970318 & -0.24412574 & -0.22453976 & -0.20126685 & -0.17468913 & -0.14524303 & -0.11341204 & ⋯ & -0.11341204 & -0.14524303 & -0.17468913 & -0.20126685 & -0.22453976 & -0.24412574 & -0.25970318 & -0.27101630 & -0.27787935 & -0.28017962\\\\\n",
       "\t -0.25020994 & -0.24815572 & -0.24202679 & -0.23192379 & -0.21801260 & -0.20052166 & -0.17973815 & -0.15600335 & -0.12970697 & -0.10128082 & ⋯ & -0.10128082 & -0.12970697 & -0.15600335 & -0.17973815 & -0.20052166 & -0.21801260 & -0.23192379 & -0.24202679 & -0.24815572 & -0.25020994\\\\\n",
       "\t -0.22436448 & -0.22252245 & -0.21702661 & -0.20796720 & -0.19549297 & -0.17980875 & -0.16117208 & -0.13988897 & -0.11630888 & -0.09081901 & ⋯ & -0.09081901 & -0.11630888 & -0.13988897 & -0.16117208 & -0.17980875 & -0.19549297 & -0.20796720 & -0.21702661 & -0.22252245 & -0.22436448\\\\\n",
       "\t -0.20200763 & -0.20034915 & -0.19540094 & -0.18724425 & -0.17601302 & -0.16189166 & -0.14511205 & -0.12594970 & -0.10471925 & -0.08176932 & ⋯ & -0.08176932 & -0.10471925 & -0.12594970 & -0.14511205 & -0.16189166 & -0.17601302 & -0.18724425 & -0.19540094 & -0.20034915 & -0.20200763\\\\\n",
       "\t -0.18259945 & -0.18110031 & -0.17662751 & -0.16925449 & -0.15910231 & -0.14633769 & -0.13117020 & -0.11384889 & -0.09465820 & -0.07391322 & ⋯ & -0.07391322 & -0.09465820 & -0.11384889 & -0.13117020 & -0.14633769 & -0.15910231 & -0.16925449 & -0.17662751 & -0.18110031 & -0.18259945\\\\\n",
       "\t -0.16568601 & -0.16432573 & -0.16026723 & -0.15357714 & -0.14436532 & -0.13278303 & -0.11902044 & -0.10330354 & -0.08589040 & -0.06706694 & ⋯ & -0.06706694 & -0.08589040 & -0.10330354 & -0.11902044 & -0.13278303 & -0.14436532 & -0.15357714 & -0.16026723 & -0.16432573 & -0.16568601\\\\\n",
       "\t -0.15088778 & -0.14964899 & -0.14595297 & -0.13986041 & -0.13147134 & -0.12092352 & -0.10839014 & -0.09407699 & -0.07821910 & -0.06107686 & ⋯ & -0.06107686 & -0.07821910 & -0.09407699 & -0.10839014 & -0.12092352 & -0.13147134 & -0.13986041 & -0.14595297 & -0.14964899 & -0.15088778\\\\\n",
       "\t -0.13788811 & -0.13675606 & -0.13337846 & -0.12781080 & -0.12014449 & -0.11050541 & -0.09905184 & -0.08597183 & -0.07148017 & -0.05581481 & ⋯ & -0.05581481 & -0.07148017 & -0.08597183 & -0.09905184 & -0.11050541 & -0.12014449 & -0.12781080 & -0.13337846 & -0.13675606 & -0.13788811\\\\\n",
       "\t -0.12642295 & -0.12538502 & -0.12228827 & -0.11718355 & -0.11015468 & -0.10131707 & -0.09081584 & -0.07882342 & -0.06553672 & -0.05117390 & ⋯ & -0.05117390 & -0.06553672 & -0.07882342 & -0.09081584 & -0.10131707 & -0.11015468 & -0.11718355 & -0.12228827 & -0.12538502 & -0.12642295\\\\\n",
       "\t -0.11627176 & -0.11531717 & -0.11246907 & -0.10777424 & -0.10130976 & -0.09318177 & -0.08352374 & -0.07249426 & -0.06027442 & -0.04706487 & ⋯ & -0.04706487 & -0.06027442 & -0.07249426 & -0.08352374 & -0.09318177 & -0.10130976 & -0.10777424 & -0.11246907 & -0.11531717 & -0.11627176\\\\\n",
       "\t -0.10724999 & -0.10636947 & -0.10374236 & -0.09941181 & -0.09344892 & -0.08595160 & -0.07704296 & -0.06686927 & -0.05559760 & -0.04341301 & ⋯ & -0.04341301 & -0.05559760 & -0.06686927 & -0.07704296 & -0.08595160 & -0.09344892 & -0.09941181 & -0.10374236 & -0.10636947 & -0.10724999\\\\\n",
       "\t -0.09920276 & -0.09838830 & -0.09595832 & -0.09195270 & -0.08643722 & -0.07950244 & -0.07126224 & -0.06185191 & -0.05142597 & -0.04015562 & ⋯ & -0.04015562 & -0.05142597 & -0.06185191 & -0.07126224 & -0.07950244 & -0.08643722 & -0.09195270 & -0.09595832 & -0.09838830 & -0.09920276\\\\\n",
       "\t -0.09199967 & -0.09124435 & -0.08899081 & -0.08527603 & -0.08016103 & -0.07372979 & -0.06608790 & -0.05736085 & -0.04769194 & -0.03723993 & ⋯ & -0.03723993 & -0.04769194 & -0.05736085 & -0.06608790 & -0.07372979 & -0.08016103 & -0.08527603 & -0.08899081 & -0.09124435 & -0.09199967\\\\\n",
       "\\end{tabular}\n"
      ],
      "text/markdown": [
       "\n",
       "A matrix: 50 × 50 of type dbl\n",
       "\n",
       "| -0.09199967 | -0.09124435 | -0.08899081 | -0.08527603 | -0.08016103 | -0.07372979 | -0.06608790 | -0.05736085 | -0.04769194 | -0.03723993 | ⋯ | -0.03723993 | -0.04769194 | -0.05736085 | -0.06608790 | -0.07372979 | -0.08016103 | -0.08527603 | -0.08899081 | -0.09124435 | -0.09199967 |\n",
       "| -0.09920276 | -0.09838830 | -0.09595832 | -0.09195270 | -0.08643722 | -0.07950244 | -0.07126224 | -0.06185191 | -0.05142597 | -0.04015562 | ⋯ | -0.04015562 | -0.05142597 | -0.06185191 | -0.07126224 | -0.07950244 | -0.08643722 | -0.09195270 | -0.09595832 | -0.09838830 | -0.09920276 |\n",
       "| -0.10724999 | -0.10636947 | -0.10374236 | -0.09941181 | -0.09344892 | -0.08595160 | -0.07704296 | -0.06686927 | -0.05559760 | -0.04341301 | ⋯ | -0.04341301 | -0.05559760 | -0.06686927 | -0.07704296 | -0.08595160 | -0.09344892 | -0.09941181 | -0.10374236 | -0.10636947 | -0.10724999 |\n",
       "| -0.11627176 | -0.11531717 | -0.11246907 | -0.10777424 | -0.10130976 | -0.09318177 | -0.08352374 | -0.07249426 | -0.06027442 | -0.04706487 | ⋯ | -0.04706487 | -0.06027442 | -0.07249426 | -0.08352374 | -0.09318177 | -0.10130976 | -0.10777424 | -0.11246907 | -0.11531717 | -0.11627176 |\n",
       "| -0.12642295 | -0.12538502 | -0.12228827 | -0.11718355 | -0.11015468 | -0.10131707 | -0.09081584 | -0.07882342 | -0.06553672 | -0.05117390 | ⋯ | -0.05117390 | -0.06553672 | -0.07882342 | -0.09081584 | -0.10131707 | -0.11015468 | -0.11718355 | -0.12228827 | -0.12538502 | -0.12642295 |\n",
       "| -0.13788811 | -0.13675606 | -0.13337846 | -0.12781080 | -0.12014449 | -0.11050541 | -0.09905184 | -0.08597183 | -0.07148017 | -0.05581481 | ⋯ | -0.05581481 | -0.07148017 | -0.08597183 | -0.09905184 | -0.11050541 | -0.12014449 | -0.12781080 | -0.13337846 | -0.13675606 | -0.13788811 |\n",
       "| -0.15088778 | -0.14964899 | -0.14595297 | -0.13986041 | -0.13147134 | -0.12092352 | -0.10839014 | -0.09407699 | -0.07821910 | -0.06107686 | ⋯ | -0.06107686 | -0.07821910 | -0.09407699 | -0.10839014 | -0.12092352 | -0.13147134 | -0.13986041 | -0.14595297 | -0.14964899 | -0.15088778 |\n",
       "| -0.16568601 | -0.16432573 | -0.16026723 | -0.15357714 | -0.14436532 | -0.13278303 | -0.11902044 | -0.10330354 | -0.08589040 | -0.06706694 | ⋯ | -0.06706694 | -0.08589040 | -0.10330354 | -0.11902044 | -0.13278303 | -0.14436532 | -0.15357714 | -0.16026723 | -0.16432573 | -0.16568601 |\n",
       "| -0.18259945 | -0.18110031 | -0.17662751 | -0.16925449 | -0.15910231 | -0.14633769 | -0.13117020 | -0.11384889 | -0.09465820 | -0.07391322 | ⋯ | -0.07391322 | -0.09465820 | -0.11384889 | -0.13117020 | -0.14633769 | -0.15910231 | -0.16925449 | -0.17662751 | -0.18110031 | -0.18259945 |\n",
       "| -0.20200763 | -0.20034915 | -0.19540094 | -0.18724425 | -0.17601302 | -0.16189166 | -0.14511205 | -0.12594970 | -0.10471925 | -0.08176932 | ⋯ | -0.08176932 | -0.10471925 | -0.12594970 | -0.14511205 | -0.16189166 | -0.17601302 | -0.18724425 | -0.19540094 | -0.20034915 | -0.20200763 |\n",
       "| -0.22436448 | -0.22252245 | -0.21702661 | -0.20796720 | -0.19549297 | -0.17980875 | -0.16117208 | -0.13988897 | -0.11630888 | -0.09081901 | ⋯ | -0.09081901 | -0.11630888 | -0.13988897 | -0.16117208 | -0.17980875 | -0.19549297 | -0.20796720 | -0.21702661 | -0.22252245 | -0.22436448 |\n",
       "| -0.25020994 | -0.24815572 | -0.24202679 | -0.23192379 | -0.21801260 | -0.20052166 | -0.17973815 | -0.15600335 | -0.12970697 | -0.10128082 | ⋯ | -0.10128082 | -0.12970697 | -0.15600335 | -0.17973815 | -0.20052166 | -0.21801260 | -0.23192379 | -0.24202679 | -0.24815572 | -0.25020994 |\n",
       "| -0.28017962 | -0.27787935 | -0.27101630 | -0.25970318 | -0.24412574 | -0.22453976 | -0.20126685 | -0.17468913 | -0.14524303 | -0.11341204 | ⋯ | -0.11341204 | -0.14524303 | -0.17468913 | -0.20126685 | -0.22453976 | -0.24412574 | -0.25970318 | -0.27101630 | -0.27787935 | -0.28017962 |\n",
       "| -0.31500833 | -0.31242211 | -0.30470594 | -0.29198650 | -0.27447265 | -0.25245196 | -0.22628603 | -0.19640448 | -0.16329798 | -0.12751012 | ⋯ | -0.12751012 | -0.16329798 | -0.19640448 | -0.22628603 | -0.25245196 | -0.27447265 | -0.29198650 | -0.30470594 | -0.31242211 | -0.31500833 |\n",
       "| -0.35551960 | -0.35260078 | -0.34389228 | -0.32953707 | -0.30977087 | -0.28491825 | -0.25538727 | -0.22166284 | -0.18429872 | -0.14390841 | ⋯ | -0.14390841 | -0.18429872 | -0.22166284 | -0.25538727 | -0.28491825 | -0.30977087 | -0.32953707 | -0.34389228 | -0.35260078 | -0.35551960 |\n",
       "| -0.40258707 | -0.39928184 | -0.38942041 | -0.37316471 | -0.35078165 | -0.32263877 | -0.28919816 | -0.25100894 | -0.20869815 | -0.16296054 | ⋯ | -0.16296054 | -0.20869815 | -0.25100894 | -0.28919816 | -0.32263877 | -0.35078165 | -0.37316471 | -0.38942041 | -0.39928184 | -0.40258707 |\n",
       "| -0.45704468 | -0.45329235 | -0.44209697 | -0.42364238 | -0.39823158 | -0.36628184 | -0.32831775 | -0.28496270 | -0.23692857 | -0.18500408 | ⋯ | -0.18500408 | -0.23692857 | -0.28496270 | -0.32831775 | -0.36628184 | -0.39823158 | -0.42364238 | -0.44209697 | -0.45329235 | -0.45704468 |\n",
       "| -0.51951019 | -0.51524502 | -0.50251954 | -0.48154270 | -0.45265895 | -0.41634255 | -0.37318981 | -0.32390931 | -0.26931022 | -0.21028907 | ⋯ | -0.21028907 | -0.26931022 | -0.32390931 | -0.37318981 | -0.41634255 | -0.45265895 | -0.48154270 | -0.50251954 | -0.51524502 | -0.51951019 |\n",
       "| -0.59007662 | -0.58523209 | -0.57077808 | -0.54695190 | -0.51414479 | -0.47289544 | -0.42388115 | -0.36790675 | -0.30589133 | -0.23885319 | ⋯ | -0.23885319 | -0.30589133 | -0.36790675 | -0.42388115 | -0.47289544 | -0.51414479 | -0.54695190 | -0.57077808 | -0.58523209 | -0.59007662 |\n",
       "| -0.66783078 | -0.66234790 | -0.64598928 | -0.61902354 | -0.58189345 | -0.53520868 | -0.47973581 | -0.41638568 | -0.34619851 | -0.27032678 | ⋯ | -0.27032678 | -0.34619851 | -0.41638568 | -0.47973581 | -0.53520868 | -0.58189345 | -0.61902354 | -0.64598928 | -0.66234790 | -0.66783078 |\n",
       "| -0.75020983 | -0.74405061 | -0.72567411 | -0.69538206 | -0.65367185 | -0.60122837 | -0.53891274 | -0.46774818 | -0.38890320 | -0.30367244 | ⋯ | -0.30367244 | -0.38890320 | -0.46774818 | -0.53891274 | -0.60122837 | -0.65367185 | -0.69538206 | -0.72567411 | -0.74405061 | -0.75020983 |\n",
       "| -0.83234804 | -0.82551448 | -0.80512599 | -0.77151735 | -0.72524042 | -0.66705506 | -0.59791668 | -0.51896052 | -0.43148304 | -0.33692062 | ⋯ | -0.33692062 | -0.43148304 | -0.51896052 | -0.59791668 | -0.66705506 | -0.72524042 | -0.77151735 | -0.80512599 | -0.82551448 | -0.83234804 |\n",
       "| -0.90681105 | -0.89936615 | -0.87715367 | -0.84053836 | -0.79012143 | -0.72673073 | -0.65140713 | -0.56538744 | -0.47008411 | -0.36706201 | ⋯ | -0.36706201 | -0.47008411 | -0.56538744 | -0.65140713 | -0.72673073 | -0.79012143 | -0.84053836 | -0.87715367 | -0.89936615 | -0.90681105 |\n",
       "| -0.96432424 | -0.95640716 | -0.93278589 | -0.89384830 | -0.84023375 | -0.77282259 | -0.69272169 | -0.60124633 | -0.49989852 | -0.39034239 | ⋯ | -0.39034239 | -0.49989852 | -0.60124633 | -0.69272169 | -0.77282259 | -0.84023375 | -0.89384830 | -0.93278589 | -0.95640716 | -0.96432424 |\n",
       "| -0.99590621 | -0.98772983 | -0.96333496 | -0.92312215 | -0.86775170 | -0.79813280 | -0.71540858 | -0.62093736 | -0.51627038 | -0.40312624 | ⋯ | -0.40312624 | -0.51627038 | -0.62093736 | -0.71540858 | -0.79813280 | -0.86775170 | -0.92312215 | -0.96333496 | -0.98772983 | -0.99590621 |\n",
       "| -0.99590621 | -0.98772983 | -0.96333496 | -0.92312215 | -0.86775170 | -0.79813280 | -0.71540858 | -0.62093736 | -0.51627038 | -0.40312624 | ⋯ | -0.40312624 | -0.51627038 | -0.62093736 | -0.71540858 | -0.79813280 | -0.86775170 | -0.92312215 | -0.96333496 | -0.98772983 | -0.99590621 |\n",
       "| -0.96432424 | -0.95640716 | -0.93278589 | -0.89384830 | -0.84023375 | -0.77282259 | -0.69272169 | -0.60124633 | -0.49989852 | -0.39034239 | ⋯ | -0.39034239 | -0.49989852 | -0.60124633 | -0.69272169 | -0.77282259 | -0.84023375 | -0.89384830 | -0.93278589 | -0.95640716 | -0.96432424 |\n",
       "| -0.90681105 | -0.89936615 | -0.87715367 | -0.84053836 | -0.79012143 | -0.72673073 | -0.65140713 | -0.56538744 | -0.47008411 | -0.36706201 | ⋯ | -0.36706201 | -0.47008411 | -0.56538744 | -0.65140713 | -0.72673073 | -0.79012143 | -0.84053836 | -0.87715367 | -0.89936615 | -0.90681105 |\n",
       "| -0.83234804 | -0.82551448 | -0.80512599 | -0.77151735 | -0.72524042 | -0.66705506 | -0.59791668 | -0.51896052 | -0.43148304 | -0.33692062 | ⋯ | -0.33692062 | -0.43148304 | -0.51896052 | -0.59791668 | -0.66705506 | -0.72524042 | -0.77151735 | -0.80512599 | -0.82551448 | -0.83234804 |\n",
       "| -0.75020983 | -0.74405061 | -0.72567411 | -0.69538206 | -0.65367185 | -0.60122837 | -0.53891274 | -0.46774818 | -0.38890320 | -0.30367244 | ⋯ | -0.30367244 | -0.38890320 | -0.46774818 | -0.53891274 | -0.60122837 | -0.65367185 | -0.69538206 | -0.72567411 | -0.74405061 | -0.75020983 |\n",
       "| -0.66783078 | -0.66234790 | -0.64598928 | -0.61902354 | -0.58189345 | -0.53520868 | -0.47973581 | -0.41638568 | -0.34619851 | -0.27032678 | ⋯ | -0.27032678 | -0.34619851 | -0.41638568 | -0.47973581 | -0.53520868 | -0.58189345 | -0.61902354 | -0.64598928 | -0.66234790 | -0.66783078 |\n",
       "| -0.59007662 | -0.58523209 | -0.57077808 | -0.54695190 | -0.51414479 | -0.47289544 | -0.42388115 | -0.36790675 | -0.30589133 | -0.23885319 | ⋯ | -0.23885319 | -0.30589133 | -0.36790675 | -0.42388115 | -0.47289544 | -0.51414479 | -0.54695190 | -0.57077808 | -0.58523209 | -0.59007662 |\n",
       "| -0.51951019 | -0.51524502 | -0.50251954 | -0.48154270 | -0.45265895 | -0.41634255 | -0.37318981 | -0.32390931 | -0.26931022 | -0.21028907 | ⋯ | -0.21028907 | -0.26931022 | -0.32390931 | -0.37318981 | -0.41634255 | -0.45265895 | -0.48154270 | -0.50251954 | -0.51524502 | -0.51951019 |\n",
       "| -0.45704468 | -0.45329235 | -0.44209697 | -0.42364238 | -0.39823158 | -0.36628184 | -0.32831775 | -0.28496270 | -0.23692857 | -0.18500408 | ⋯ | -0.18500408 | -0.23692857 | -0.28496270 | -0.32831775 | -0.36628184 | -0.39823158 | -0.42364238 | -0.44209697 | -0.45329235 | -0.45704468 |\n",
       "| -0.40258707 | -0.39928184 | -0.38942041 | -0.37316471 | -0.35078165 | -0.32263877 | -0.28919816 | -0.25100894 | -0.20869815 | -0.16296054 | ⋯ | -0.16296054 | -0.20869815 | -0.25100894 | -0.28919816 | -0.32263877 | -0.35078165 | -0.37316471 | -0.38942041 | -0.39928184 | -0.40258707 |\n",
       "| -0.35551960 | -0.35260078 | -0.34389228 | -0.32953707 | -0.30977087 | -0.28491825 | -0.25538727 | -0.22166284 | -0.18429872 | -0.14390841 | ⋯ | -0.14390841 | -0.18429872 | -0.22166284 | -0.25538727 | -0.28491825 | -0.30977087 | -0.32953707 | -0.34389228 | -0.35260078 | -0.35551960 |\n",
       "| -0.31500833 | -0.31242211 | -0.30470594 | -0.29198650 | -0.27447265 | -0.25245196 | -0.22628603 | -0.19640448 | -0.16329798 | -0.12751012 | ⋯ | -0.12751012 | -0.16329798 | -0.19640448 | -0.22628603 | -0.25245196 | -0.27447265 | -0.29198650 | -0.30470594 | -0.31242211 | -0.31500833 |\n",
       "| -0.28017962 | -0.27787935 | -0.27101630 | -0.25970318 | -0.24412574 | -0.22453976 | -0.20126685 | -0.17468913 | -0.14524303 | -0.11341204 | ⋯ | -0.11341204 | -0.14524303 | -0.17468913 | -0.20126685 | -0.22453976 | -0.24412574 | -0.25970318 | -0.27101630 | -0.27787935 | -0.28017962 |\n",
       "| -0.25020994 | -0.24815572 | -0.24202679 | -0.23192379 | -0.21801260 | -0.20052166 | -0.17973815 | -0.15600335 | -0.12970697 | -0.10128082 | ⋯ | -0.10128082 | -0.12970697 | -0.15600335 | -0.17973815 | -0.20052166 | -0.21801260 | -0.23192379 | -0.24202679 | -0.24815572 | -0.25020994 |\n",
       "| -0.22436448 | -0.22252245 | -0.21702661 | -0.20796720 | -0.19549297 | -0.17980875 | -0.16117208 | -0.13988897 | -0.11630888 | -0.09081901 | ⋯ | -0.09081901 | -0.11630888 | -0.13988897 | -0.16117208 | -0.17980875 | -0.19549297 | -0.20796720 | -0.21702661 | -0.22252245 | -0.22436448 |\n",
       "| -0.20200763 | -0.20034915 | -0.19540094 | -0.18724425 | -0.17601302 | -0.16189166 | -0.14511205 | -0.12594970 | -0.10471925 | -0.08176932 | ⋯ | -0.08176932 | -0.10471925 | -0.12594970 | -0.14511205 | -0.16189166 | -0.17601302 | -0.18724425 | -0.19540094 | -0.20034915 | -0.20200763 |\n",
       "| -0.18259945 | -0.18110031 | -0.17662751 | -0.16925449 | -0.15910231 | -0.14633769 | -0.13117020 | -0.11384889 | -0.09465820 | -0.07391322 | ⋯ | -0.07391322 | -0.09465820 | -0.11384889 | -0.13117020 | -0.14633769 | -0.15910231 | -0.16925449 | -0.17662751 | -0.18110031 | -0.18259945 |\n",
       "| -0.16568601 | -0.16432573 | -0.16026723 | -0.15357714 | -0.14436532 | -0.13278303 | -0.11902044 | -0.10330354 | -0.08589040 | -0.06706694 | ⋯ | -0.06706694 | -0.08589040 | -0.10330354 | -0.11902044 | -0.13278303 | -0.14436532 | -0.15357714 | -0.16026723 | -0.16432573 | -0.16568601 |\n",
       "| -0.15088778 | -0.14964899 | -0.14595297 | -0.13986041 | -0.13147134 | -0.12092352 | -0.10839014 | -0.09407699 | -0.07821910 | -0.06107686 | ⋯ | -0.06107686 | -0.07821910 | -0.09407699 | -0.10839014 | -0.12092352 | -0.13147134 | -0.13986041 | -0.14595297 | -0.14964899 | -0.15088778 |\n",
       "| -0.13788811 | -0.13675606 | -0.13337846 | -0.12781080 | -0.12014449 | -0.11050541 | -0.09905184 | -0.08597183 | -0.07148017 | -0.05581481 | ⋯ | -0.05581481 | -0.07148017 | -0.08597183 | -0.09905184 | -0.11050541 | -0.12014449 | -0.12781080 | -0.13337846 | -0.13675606 | -0.13788811 |\n",
       "| -0.12642295 | -0.12538502 | -0.12228827 | -0.11718355 | -0.11015468 | -0.10131707 | -0.09081584 | -0.07882342 | -0.06553672 | -0.05117390 | ⋯ | -0.05117390 | -0.06553672 | -0.07882342 | -0.09081584 | -0.10131707 | -0.11015468 | -0.11718355 | -0.12228827 | -0.12538502 | -0.12642295 |\n",
       "| -0.11627176 | -0.11531717 | -0.11246907 | -0.10777424 | -0.10130976 | -0.09318177 | -0.08352374 | -0.07249426 | -0.06027442 | -0.04706487 | ⋯ | -0.04706487 | -0.06027442 | -0.07249426 | -0.08352374 | -0.09318177 | -0.10130976 | -0.10777424 | -0.11246907 | -0.11531717 | -0.11627176 |\n",
       "| -0.10724999 | -0.10636947 | -0.10374236 | -0.09941181 | -0.09344892 | -0.08595160 | -0.07704296 | -0.06686927 | -0.05559760 | -0.04341301 | ⋯ | -0.04341301 | -0.05559760 | -0.06686927 | -0.07704296 | -0.08595160 | -0.09344892 | -0.09941181 | -0.10374236 | -0.10636947 | -0.10724999 |\n",
       "| -0.09920276 | -0.09838830 | -0.09595832 | -0.09195270 | -0.08643722 | -0.07950244 | -0.07126224 | -0.06185191 | -0.05142597 | -0.04015562 | ⋯ | -0.04015562 | -0.05142597 | -0.06185191 | -0.07126224 | -0.07950244 | -0.08643722 | -0.09195270 | -0.09595832 | -0.09838830 | -0.09920276 |\n",
       "| -0.09199967 | -0.09124435 | -0.08899081 | -0.08527603 | -0.08016103 | -0.07372979 | -0.06608790 | -0.05736085 | -0.04769194 | -0.03723993 | ⋯ | -0.03723993 | -0.04769194 | -0.05736085 | -0.06608790 | -0.07372979 | -0.08016103 | -0.08527603 | -0.08899081 | -0.09124435 | -0.09199967 |\n",
       "\n"
      ],
      "text/plain": [
       "      [,1]        [,2]        [,3]        [,4]        [,5]        [,6]       \n",
       " [1,] -0.09199967 -0.09124435 -0.08899081 -0.08527603 -0.08016103 -0.07372979\n",
       " [2,] -0.09920276 -0.09838830 -0.09595832 -0.09195270 -0.08643722 -0.07950244\n",
       " [3,] -0.10724999 -0.10636947 -0.10374236 -0.09941181 -0.09344892 -0.08595160\n",
       " [4,] -0.11627176 -0.11531717 -0.11246907 -0.10777424 -0.10130976 -0.09318177\n",
       " [5,] -0.12642295 -0.12538502 -0.12228827 -0.11718355 -0.11015468 -0.10131707\n",
       " [6,] -0.13788811 -0.13675606 -0.13337846 -0.12781080 -0.12014449 -0.11050541\n",
       " [7,] -0.15088778 -0.14964899 -0.14595297 -0.13986041 -0.13147134 -0.12092352\n",
       " [8,] -0.16568601 -0.16432573 -0.16026723 -0.15357714 -0.14436532 -0.13278303\n",
       " [9,] -0.18259945 -0.18110031 -0.17662751 -0.16925449 -0.15910231 -0.14633769\n",
       "[10,] -0.20200763 -0.20034915 -0.19540094 -0.18724425 -0.17601302 -0.16189166\n",
       "[11,] -0.22436448 -0.22252245 -0.21702661 -0.20796720 -0.19549297 -0.17980875\n",
       "[12,] -0.25020994 -0.24815572 -0.24202679 -0.23192379 -0.21801260 -0.20052166\n",
       "[13,] -0.28017962 -0.27787935 -0.27101630 -0.25970318 -0.24412574 -0.22453976\n",
       "[14,] -0.31500833 -0.31242211 -0.30470594 -0.29198650 -0.27447265 -0.25245196\n",
       "[15,] -0.35551960 -0.35260078 -0.34389228 -0.32953707 -0.30977087 -0.28491825\n",
       "[16,] -0.40258707 -0.39928184 -0.38942041 -0.37316471 -0.35078165 -0.32263877\n",
       "[17,] -0.45704468 -0.45329235 -0.44209697 -0.42364238 -0.39823158 -0.36628184\n",
       "[18,] -0.51951019 -0.51524502 -0.50251954 -0.48154270 -0.45265895 -0.41634255\n",
       "[19,] -0.59007662 -0.58523209 -0.57077808 -0.54695190 -0.51414479 -0.47289544\n",
       "[20,] -0.66783078 -0.66234790 -0.64598928 -0.61902354 -0.58189345 -0.53520868\n",
       "[21,] -0.75020983 -0.74405061 -0.72567411 -0.69538206 -0.65367185 -0.60122837\n",
       "[22,] -0.83234804 -0.82551448 -0.80512599 -0.77151735 -0.72524042 -0.66705506\n",
       "[23,] -0.90681105 -0.89936615 -0.87715367 -0.84053836 -0.79012143 -0.72673073\n",
       "[24,] -0.96432424 -0.95640716 -0.93278589 -0.89384830 -0.84023375 -0.77282259\n",
       "[25,] -0.99590621 -0.98772983 -0.96333496 -0.92312215 -0.86775170 -0.79813280\n",
       "[26,] -0.99590621 -0.98772983 -0.96333496 -0.92312215 -0.86775170 -0.79813280\n",
       "[27,] -0.96432424 -0.95640716 -0.93278589 -0.89384830 -0.84023375 -0.77282259\n",
       "[28,] -0.90681105 -0.89936615 -0.87715367 -0.84053836 -0.79012143 -0.72673073\n",
       "[29,] -0.83234804 -0.82551448 -0.80512599 -0.77151735 -0.72524042 -0.66705506\n",
       "[30,] -0.75020983 -0.74405061 -0.72567411 -0.69538206 -0.65367185 -0.60122837\n",
       "[31,] -0.66783078 -0.66234790 -0.64598928 -0.61902354 -0.58189345 -0.53520868\n",
       "[32,] -0.59007662 -0.58523209 -0.57077808 -0.54695190 -0.51414479 -0.47289544\n",
       "[33,] -0.51951019 -0.51524502 -0.50251954 -0.48154270 -0.45265895 -0.41634255\n",
       "[34,] -0.45704468 -0.45329235 -0.44209697 -0.42364238 -0.39823158 -0.36628184\n",
       "[35,] -0.40258707 -0.39928184 -0.38942041 -0.37316471 -0.35078165 -0.32263877\n",
       "[36,] -0.35551960 -0.35260078 -0.34389228 -0.32953707 -0.30977087 -0.28491825\n",
       "[37,] -0.31500833 -0.31242211 -0.30470594 -0.29198650 -0.27447265 -0.25245196\n",
       "[38,] -0.28017962 -0.27787935 -0.27101630 -0.25970318 -0.24412574 -0.22453976\n",
       "[39,] -0.25020994 -0.24815572 -0.24202679 -0.23192379 -0.21801260 -0.20052166\n",
       "[40,] -0.22436448 -0.22252245 -0.21702661 -0.20796720 -0.19549297 -0.17980875\n",
       "[41,] -0.20200763 -0.20034915 -0.19540094 -0.18724425 -0.17601302 -0.16189166\n",
       "[42,] -0.18259945 -0.18110031 -0.17662751 -0.16925449 -0.15910231 -0.14633769\n",
       "[43,] -0.16568601 -0.16432573 -0.16026723 -0.15357714 -0.14436532 -0.13278303\n",
       "[44,] -0.15088778 -0.14964899 -0.14595297 -0.13986041 -0.13147134 -0.12092352\n",
       "[45,] -0.13788811 -0.13675606 -0.13337846 -0.12781080 -0.12014449 -0.11050541\n",
       "[46,] -0.12642295 -0.12538502 -0.12228827 -0.11718355 -0.11015468 -0.10131707\n",
       "[47,] -0.11627176 -0.11531717 -0.11246907 -0.10777424 -0.10130976 -0.09318177\n",
       "[48,] -0.10724999 -0.10636947 -0.10374236 -0.09941181 -0.09344892 -0.08595160\n",
       "[49,] -0.09920276 -0.09838830 -0.09595832 -0.09195270 -0.08643722 -0.07950244\n",
       "[50,] -0.09199967 -0.09124435 -0.08899081 -0.08527603 -0.08016103 -0.07372979\n",
       "      [,7]        [,8]        [,9]        [,10]       [,11] [,12]      \n",
       " [1,] -0.06608790 -0.05736085 -0.04769194 -0.03723993 <U+22EF> -0.03723993\n",
       " [2,] -0.07126224 -0.06185191 -0.05142597 -0.04015562 <U+22EF> -0.04015562\n",
       " [3,] -0.07704296 -0.06686927 -0.05559760 -0.04341301 <U+22EF> -0.04341301\n",
       " [4,] -0.08352374 -0.07249426 -0.06027442 -0.04706487 <U+22EF> -0.04706487\n",
       " [5,] -0.09081584 -0.07882342 -0.06553672 -0.05117390 <U+22EF> -0.05117390\n",
       " [6,] -0.09905184 -0.08597183 -0.07148017 -0.05581481 <U+22EF> -0.05581481\n",
       " [7,] -0.10839014 -0.09407699 -0.07821910 -0.06107686 <U+22EF> -0.06107686\n",
       " [8,] -0.11902044 -0.10330354 -0.08589040 -0.06706694 <U+22EF> -0.06706694\n",
       " [9,] -0.13117020 -0.11384889 -0.09465820 -0.07391322 <U+22EF> -0.07391322\n",
       "[10,] -0.14511205 -0.12594970 -0.10471925 -0.08176932 <U+22EF> -0.08176932\n",
       "[11,] -0.16117208 -0.13988897 -0.11630888 -0.09081901 <U+22EF> -0.09081901\n",
       "[12,] -0.17973815 -0.15600335 -0.12970697 -0.10128082 <U+22EF> -0.10128082\n",
       "[13,] -0.20126685 -0.17468913 -0.14524303 -0.11341204 <U+22EF> -0.11341204\n",
       "[14,] -0.22628603 -0.19640448 -0.16329798 -0.12751012 <U+22EF> -0.12751012\n",
       "[15,] -0.25538727 -0.22166284 -0.18429872 -0.14390841 <U+22EF> -0.14390841\n",
       "[16,] -0.28919816 -0.25100894 -0.20869815 -0.16296054 <U+22EF> -0.16296054\n",
       "[17,] -0.32831775 -0.28496270 -0.23692857 -0.18500408 <U+22EF> -0.18500408\n",
       "[18,] -0.37318981 -0.32390931 -0.26931022 -0.21028907 <U+22EF> -0.21028907\n",
       "[19,] -0.42388115 -0.36790675 -0.30589133 -0.23885319 <U+22EF> -0.23885319\n",
       "[20,] -0.47973581 -0.41638568 -0.34619851 -0.27032678 <U+22EF> -0.27032678\n",
       "[21,] -0.53891274 -0.46774818 -0.38890320 -0.30367244 <U+22EF> -0.30367244\n",
       "[22,] -0.59791668 -0.51896052 -0.43148304 -0.33692062 <U+22EF> -0.33692062\n",
       "[23,] -0.65140713 -0.56538744 -0.47008411 -0.36706201 <U+22EF> -0.36706201\n",
       "[24,] -0.69272169 -0.60124633 -0.49989852 -0.39034239 <U+22EF> -0.39034239\n",
       "[25,] -0.71540858 -0.62093736 -0.51627038 -0.40312624 <U+22EF> -0.40312624\n",
       "[26,] -0.71540858 -0.62093736 -0.51627038 -0.40312624 <U+22EF> -0.40312624\n",
       "[27,] -0.69272169 -0.60124633 -0.49989852 -0.39034239 <U+22EF> -0.39034239\n",
       "[28,] -0.65140713 -0.56538744 -0.47008411 -0.36706201 <U+22EF> -0.36706201\n",
       "[29,] -0.59791668 -0.51896052 -0.43148304 -0.33692062 <U+22EF> -0.33692062\n",
       "[30,] -0.53891274 -0.46774818 -0.38890320 -0.30367244 <U+22EF> -0.30367244\n",
       "[31,] -0.47973581 -0.41638568 -0.34619851 -0.27032678 <U+22EF> -0.27032678\n",
       "[32,] -0.42388115 -0.36790675 -0.30589133 -0.23885319 <U+22EF> -0.23885319\n",
       "[33,] -0.37318981 -0.32390931 -0.26931022 -0.21028907 <U+22EF> -0.21028907\n",
       "[34,] -0.32831775 -0.28496270 -0.23692857 -0.18500408 <U+22EF> -0.18500408\n",
       "[35,] -0.28919816 -0.25100894 -0.20869815 -0.16296054 <U+22EF> -0.16296054\n",
       "[36,] -0.25538727 -0.22166284 -0.18429872 -0.14390841 <U+22EF> -0.14390841\n",
       "[37,] -0.22628603 -0.19640448 -0.16329798 -0.12751012 <U+22EF> -0.12751012\n",
       "[38,] -0.20126685 -0.17468913 -0.14524303 -0.11341204 <U+22EF> -0.11341204\n",
       "[39,] -0.17973815 -0.15600335 -0.12970697 -0.10128082 <U+22EF> -0.10128082\n",
       "[40,] -0.16117208 -0.13988897 -0.11630888 -0.09081901 <U+22EF> -0.09081901\n",
       "[41,] -0.14511205 -0.12594970 -0.10471925 -0.08176932 <U+22EF> -0.08176932\n",
       "[42,] -0.13117020 -0.11384889 -0.09465820 -0.07391322 <U+22EF> -0.07391322\n",
       "[43,] -0.11902044 -0.10330354 -0.08589040 -0.06706694 <U+22EF> -0.06706694\n",
       "[44,] -0.10839014 -0.09407699 -0.07821910 -0.06107686 <U+22EF> -0.06107686\n",
       "[45,] -0.09905184 -0.08597183 -0.07148017 -0.05581481 <U+22EF> -0.05581481\n",
       "[46,] -0.09081584 -0.07882342 -0.06553672 -0.05117390 <U+22EF> -0.05117390\n",
       "[47,] -0.08352374 -0.07249426 -0.06027442 -0.04706487 <U+22EF> -0.04706487\n",
       "[48,] -0.07704296 -0.06686927 -0.05559760 -0.04341301 <U+22EF> -0.04341301\n",
       "[49,] -0.07126224 -0.06185191 -0.05142597 -0.04015562 <U+22EF> -0.04015562\n",
       "[50,] -0.06608790 -0.05736085 -0.04769194 -0.03723993 <U+22EF> -0.03723993\n",
       "      [,13]       [,14]       [,15]       [,16]       [,17]       [,18]      \n",
       " [1,] -0.04769194 -0.05736085 -0.06608790 -0.07372979 -0.08016103 -0.08527603\n",
       " [2,] -0.05142597 -0.06185191 -0.07126224 -0.07950244 -0.08643722 -0.09195270\n",
       " [3,] -0.05559760 -0.06686927 -0.07704296 -0.08595160 -0.09344892 -0.09941181\n",
       " [4,] -0.06027442 -0.07249426 -0.08352374 -0.09318177 -0.10130976 -0.10777424\n",
       " [5,] -0.06553672 -0.07882342 -0.09081584 -0.10131707 -0.11015468 -0.11718355\n",
       " [6,] -0.07148017 -0.08597183 -0.09905184 -0.11050541 -0.12014449 -0.12781080\n",
       " [7,] -0.07821910 -0.09407699 -0.10839014 -0.12092352 -0.13147134 -0.13986041\n",
       " [8,] -0.08589040 -0.10330354 -0.11902044 -0.13278303 -0.14436532 -0.15357714\n",
       " [9,] -0.09465820 -0.11384889 -0.13117020 -0.14633769 -0.15910231 -0.16925449\n",
       "[10,] -0.10471925 -0.12594970 -0.14511205 -0.16189166 -0.17601302 -0.18724425\n",
       "[11,] -0.11630888 -0.13988897 -0.16117208 -0.17980875 -0.19549297 -0.20796720\n",
       "[12,] -0.12970697 -0.15600335 -0.17973815 -0.20052166 -0.21801260 -0.23192379\n",
       "[13,] -0.14524303 -0.17468913 -0.20126685 -0.22453976 -0.24412574 -0.25970318\n",
       "[14,] -0.16329798 -0.19640448 -0.22628603 -0.25245196 -0.27447265 -0.29198650\n",
       "[15,] -0.18429872 -0.22166284 -0.25538727 -0.28491825 -0.30977087 -0.32953707\n",
       "[16,] -0.20869815 -0.25100894 -0.28919816 -0.32263877 -0.35078165 -0.37316471\n",
       "[17,] -0.23692857 -0.28496270 -0.32831775 -0.36628184 -0.39823158 -0.42364238\n",
       "[18,] -0.26931022 -0.32390931 -0.37318981 -0.41634255 -0.45265895 -0.48154270\n",
       "[19,] -0.30589133 -0.36790675 -0.42388115 -0.47289544 -0.51414479 -0.54695190\n",
       "[20,] -0.34619851 -0.41638568 -0.47973581 -0.53520868 -0.58189345 -0.61902354\n",
       "[21,] -0.38890320 -0.46774818 -0.53891274 -0.60122837 -0.65367185 -0.69538206\n",
       "[22,] -0.43148304 -0.51896052 -0.59791668 -0.66705506 -0.72524042 -0.77151735\n",
       "[23,] -0.47008411 -0.56538744 -0.65140713 -0.72673073 -0.79012143 -0.84053836\n",
       "[24,] -0.49989852 -0.60124633 -0.69272169 -0.77282259 -0.84023375 -0.89384830\n",
       "[25,] -0.51627038 -0.62093736 -0.71540858 -0.79813280 -0.86775170 -0.92312215\n",
       "[26,] -0.51627038 -0.62093736 -0.71540858 -0.79813280 -0.86775170 -0.92312215\n",
       "[27,] -0.49989852 -0.60124633 -0.69272169 -0.77282259 -0.84023375 -0.89384830\n",
       "[28,] -0.47008411 -0.56538744 -0.65140713 -0.72673073 -0.79012143 -0.84053836\n",
       "[29,] -0.43148304 -0.51896052 -0.59791668 -0.66705506 -0.72524042 -0.77151735\n",
       "[30,] -0.38890320 -0.46774818 -0.53891274 -0.60122837 -0.65367185 -0.69538206\n",
       "[31,] -0.34619851 -0.41638568 -0.47973581 -0.53520868 -0.58189345 -0.61902354\n",
       "[32,] -0.30589133 -0.36790675 -0.42388115 -0.47289544 -0.51414479 -0.54695190\n",
       "[33,] -0.26931022 -0.32390931 -0.37318981 -0.41634255 -0.45265895 -0.48154270\n",
       "[34,] -0.23692857 -0.28496270 -0.32831775 -0.36628184 -0.39823158 -0.42364238\n",
       "[35,] -0.20869815 -0.25100894 -0.28919816 -0.32263877 -0.35078165 -0.37316471\n",
       "[36,] -0.18429872 -0.22166284 -0.25538727 -0.28491825 -0.30977087 -0.32953707\n",
       "[37,] -0.16329798 -0.19640448 -0.22628603 -0.25245196 -0.27447265 -0.29198650\n",
       "[38,] -0.14524303 -0.17468913 -0.20126685 -0.22453976 -0.24412574 -0.25970318\n",
       "[39,] -0.12970697 -0.15600335 -0.17973815 -0.20052166 -0.21801260 -0.23192379\n",
       "[40,] -0.11630888 -0.13988897 -0.16117208 -0.17980875 -0.19549297 -0.20796720\n",
       "[41,] -0.10471925 -0.12594970 -0.14511205 -0.16189166 -0.17601302 -0.18724425\n",
       "[42,] -0.09465820 -0.11384889 -0.13117020 -0.14633769 -0.15910231 -0.16925449\n",
       "[43,] -0.08589040 -0.10330354 -0.11902044 -0.13278303 -0.14436532 -0.15357714\n",
       "[44,] -0.07821910 -0.09407699 -0.10839014 -0.12092352 -0.13147134 -0.13986041\n",
       "[45,] -0.07148017 -0.08597183 -0.09905184 -0.11050541 -0.12014449 -0.12781080\n",
       "[46,] -0.06553672 -0.07882342 -0.09081584 -0.10131707 -0.11015468 -0.11718355\n",
       "[47,] -0.06027442 -0.07249426 -0.08352374 -0.09318177 -0.10130976 -0.10777424\n",
       "[48,] -0.05559760 -0.06686927 -0.07704296 -0.08595160 -0.09344892 -0.09941181\n",
       "[49,] -0.05142597 -0.06185191 -0.07126224 -0.07950244 -0.08643722 -0.09195270\n",
       "[50,] -0.04769194 -0.05736085 -0.06608790 -0.07372979 -0.08016103 -0.08527603\n",
       "      [,19]       [,20]       [,21]      \n",
       " [1,] -0.08899081 -0.09124435 -0.09199967\n",
       " [2,] -0.09595832 -0.09838830 -0.09920276\n",
       " [3,] -0.10374236 -0.10636947 -0.10724999\n",
       " [4,] -0.11246907 -0.11531717 -0.11627176\n",
       " [5,] -0.12228827 -0.12538502 -0.12642295\n",
       " [6,] -0.13337846 -0.13675606 -0.13788811\n",
       " [7,] -0.14595297 -0.14964899 -0.15088778\n",
       " [8,] -0.16026723 -0.16432573 -0.16568601\n",
       " [9,] -0.17662751 -0.18110031 -0.18259945\n",
       "[10,] -0.19540094 -0.20034915 -0.20200763\n",
       "[11,] -0.21702661 -0.22252245 -0.22436448\n",
       "[12,] -0.24202679 -0.24815572 -0.25020994\n",
       "[13,] -0.27101630 -0.27787935 -0.28017962\n",
       "[14,] -0.30470594 -0.31242211 -0.31500833\n",
       "[15,] -0.34389228 -0.35260078 -0.35551960\n",
       "[16,] -0.38942041 -0.39928184 -0.40258707\n",
       "[17,] -0.44209697 -0.45329235 -0.45704468\n",
       "[18,] -0.50251954 -0.51524502 -0.51951019\n",
       "[19,] -0.57077808 -0.58523209 -0.59007662\n",
       "[20,] -0.64598928 -0.66234790 -0.66783078\n",
       "[21,] -0.72567411 -0.74405061 -0.75020983\n",
       "[22,] -0.80512599 -0.82551448 -0.83234804\n",
       "[23,] -0.87715367 -0.89936615 -0.90681105\n",
       "[24,] -0.93278589 -0.95640716 -0.96432424\n",
       "[25,] -0.96333496 -0.98772983 -0.99590621\n",
       "[26,] -0.96333496 -0.98772983 -0.99590621\n",
       "[27,] -0.93278589 -0.95640716 -0.96432424\n",
       "[28,] -0.87715367 -0.89936615 -0.90681105\n",
       "[29,] -0.80512599 -0.82551448 -0.83234804\n",
       "[30,] -0.72567411 -0.74405061 -0.75020983\n",
       "[31,] -0.64598928 -0.66234790 -0.66783078\n",
       "[32,] -0.57077808 -0.58523209 -0.59007662\n",
       "[33,] -0.50251954 -0.51524502 -0.51951019\n",
       "[34,] -0.44209697 -0.45329235 -0.45704468\n",
       "[35,] -0.38942041 -0.39928184 -0.40258707\n",
       "[36,] -0.34389228 -0.35260078 -0.35551960\n",
       "[37,] -0.30470594 -0.31242211 -0.31500833\n",
       "[38,] -0.27101630 -0.27787935 -0.28017962\n",
       "[39,] -0.24202679 -0.24815572 -0.25020994\n",
       "[40,] -0.21702661 -0.22252245 -0.22436448\n",
       "[41,] -0.19540094 -0.20034915 -0.20200763\n",
       "[42,] -0.17662751 -0.18110031 -0.18259945\n",
       "[43,] -0.16026723 -0.16432573 -0.16568601\n",
       "[44,] -0.14595297 -0.14964899 -0.15088778\n",
       "[45,] -0.13337846 -0.13675606 -0.13788811\n",
       "[46,] -0.12228827 -0.12538502 -0.12642295\n",
       "[47,] -0.11246907 -0.11531717 -0.11627176\n",
       "[48,] -0.10374236 -0.10636947 -0.10724999\n",
       "[49,] -0.09595832 -0.09838830 -0.09920276\n",
       "[50,] -0.08899081 -0.09124435 -0.09199967"
      ]
     },
     "metadata": {},
     "output_type": "display_data"
    }
   ],
   "source": [
    "y <- x\n",
    "f <- outer(x, y, function(x, y) cos(y) / (1 + x^2))\n",
    "f"
   ]
  },
  {
   "cell_type": "code",
   "execution_count": 29,
   "id": "1ab21115-44dc-4773-930a-9dc33ee08644",
   "metadata": {},
   "outputs": [
    {
     "data": {
      "image/png": "[encoded data removed]",
      "text/plain": [
       "plot without title"
      ]
     },
     "metadata": {
      "image/png": {
       "height": 420,
       "width": 420
      }
     },
     "output_type": "display_data"
    }
   ],
   "source": [
    "contour(x, y, f)"
   ]
  },
  {
   "cell_type": "code",
   "execution_count": 30,
   "id": "73c22d5f-568a-4d13-bcea-9df5afb95d18",
   "metadata": {},
   "outputs": [
    {
     "data": {
      "text/html": [
       "<table class=\"dataframe\">\n",
       "<caption>A matrix: 50 × 50 of type dbl</caption>\n",
       "<tbody>\n",
       "\t<tr><td> 0.000000000</td><td> 3.979203e-03</td><td> 9.129591e-03</td><td> 1.549786e-02</td><td> 2.313096e-02</td><td> 0.03207916</td><td> 4.239994e-02</td><td> 0.05416258</td><td> 6.745375e-02</td><td> 8.238385e-02</td><td>⋯</td><td> 8.238385e-02</td><td> 6.745375e-02</td><td> 0.05416258</td><td> 4.239994e-02</td><td> 0.03207916</td><td> 2.313096e-02</td><td> 1.549786e-02</td><td> 9.129591e-03</td><td> 3.979203e-03</td><td> 0.000000000</td></tr>\n",
       "\t<tr><td>-0.003979203</td><td> 0.000000e+00</td><td> 5.205574e-03</td><td> 1.168223e-02</td><td> 1.947390e-02</td><td> 0.02862681</td><td> 3.919338e-02</td><td> 0.05123691</td><td> 6.483717e-02</td><td> 8.009676e-02</td><td>⋯</td><td> 8.009676e-02</td><td> 6.483717e-02</td><td> 0.05123691</td><td> 3.919338e-02</td><td> 0.02862681</td><td> 1.947390e-02</td><td> 1.168223e-02</td><td> 5.205574e-03</td><td> 6.938894e-18</td><td>-0.003979203</td></tr>\n",
       "\t<tr><td>-0.009129591</td><td>-5.205574e-03</td><td> 0.000000e+00</td><td> 6.528631e-03</td><td> 1.441967e-02</td><td> 0.02371343</td><td> 3.445501e-02</td><td> 0.04669898</td><td> 6.051496e-02</td><td> 7.599397e-02</td><td>⋯</td><td> 7.599397e-02</td><td> 6.051496e-02</td><td> 0.04669898</td><td> 3.445501e-02</td><td> 0.02371343</td><td> 1.441967e-02</td><td> 6.528631e-03</td><td> 3.469447e-17</td><td>-5.205574e-03</td><td>-0.009129591</td></tr>\n",
       "\t<tr><td>-0.015497862</td><td>-1.168223e-02</td><td>-6.528631e-03</td><td> 0.000000e+00</td><td> 7.936896e-03</td><td> 0.01731452</td><td> 2.816833e-02</td><td> 0.04054144</td><td> 5.449004e-02</td><td> 7.008969e-02</td><td>⋯</td><td> 7.008969e-02</td><td> 5.449004e-02</td><td> 0.04054144</td><td> 2.816833e-02</td><td> 0.01731452</td><td> 7.936896e-03</td><td> 1.387779e-17</td><td>-6.528631e-03</td><td>-1.168223e-02</td><td>-0.015497862</td></tr>\n",
       "\t<tr><td>-0.023130959</td><td>-1.947390e-02</td><td>-1.441967e-02</td><td>-7.936896e-03</td><td> 0.000000e+00</td><td> 0.00941371</td><td> 2.032775e-02</td><td> 0.03277095</td><td> 4.678280e-02</td><td> 6.241956e-02</td><td>⋯</td><td> 6.241956e-02</td><td> 4.678280e-02</td><td> 0.03277095</td><td> 2.032775e-02</td><td> 0.00941371</td><td> 5.551115e-17</td><td>-7.936896e-03</td><td>-1.441967e-02</td><td>-1.947390e-02</td><td>-0.023130959</td></tr>\n",
       "\t<tr><td>-0.032079164</td><td>-2.862681e-02</td><td>-2.371343e-02</td><td>-1.731452e-02</td><td>-9.413710e-03</td><td> 0.00000000</td><td> 1.093584e-02</td><td> 0.02340560</td><td> 3.742876e-02</td><td> 5.303843e-02</td><td>⋯</td><td> 5.303843e-02</td><td> 3.742876e-02</td><td> 0.02340560</td><td> 1.093584e-02</td><td> 0.00000000</td><td>-9.413710e-03</td><td>-1.731452e-02</td><td>-2.371343e-02</td><td>-2.862681e-02</td><td>-0.032079164</td></tr>\n",
       "\t<tr><td>-0.042399937</td><td>-3.919338e-02</td><td>-3.445501e-02</td><td>-2.816833e-02</td><td>-2.032775e-02</td><td>-0.01093584</td><td> 0.000000e+00</td><td> 0.01247173</td><td> 2.647555e-02</td><td> 4.201759e-02</td><td>⋯</td><td> 4.201759e-02</td><td> 2.647555e-02</td><td> 0.01247173</td><td> 3.469447e-17</td><td>-0.01093584</td><td>-2.032775e-02</td><td>-2.816833e-02</td><td>-3.445501e-02</td><td>-3.919338e-02</td><td>-0.042399937</td></tr>\n",
       "\t<tr><td>-0.054162579</td><td>-5.123691e-02</td><td>-4.669898e-02</td><td>-4.054144e-02</td><td>-3.277095e-02</td><td>-0.02340560</td><td>-1.247173e-02</td><td> 0.00000000</td><td> 1.397925e-02</td><td> 2.944138e-02</td><td>⋯</td><td> 2.944138e-02</td><td> 1.397925e-02</td><td> 0.00000000</td><td>-1.247173e-02</td><td>-0.02340560</td><td>-3.277095e-02</td><td>-4.054144e-02</td><td>-4.669898e-02</td><td>-5.123691e-02</td><td>-0.054162579</td></tr>\n",
       "\t<tr><td>-0.067453752</td><td>-6.483717e-02</td><td>-6.051496e-02</td><td>-5.449004e-02</td><td>-4.678280e-02</td><td>-0.03742876</td><td>-2.647555e-02</td><td>-0.01397925</td><td> 0.000000e+00</td><td> 1.540302e-02</td><td>⋯</td><td> 1.540302e-02</td><td> 5.551115e-17</td><td>-0.01397925</td><td>-2.647555e-02</td><td>-0.03742876</td><td>-4.678280e-02</td><td>-5.449004e-02</td><td>-6.051496e-02</td><td>-6.483717e-02</td><td>-0.067453752</td></tr>\n",
       "\t<tr><td>-0.082383847</td><td>-8.009676e-02</td><td>-7.599397e-02</td><td>-7.008969e-02</td><td>-6.241956e-02</td><td>-0.05303843</td><td>-4.201759e-02</td><td>-0.02944138</td><td>-1.540302e-02</td><td> 0.000000e+00</td><td>⋯</td><td> 1.110223e-16</td><td>-1.540302e-02</td><td>-0.02944138</td><td>-4.201759e-02</td><td>-0.05303843</td><td>-6.241956e-02</td><td>-7.008969e-02</td><td>-7.599397e-02</td><td>-8.009676e-02</td><td>-0.082383847</td></tr>\n",
       "\t<tr><td>-0.099094019</td><td>-9.714827e-02</td><td>-9.325552e-02</td><td>-8.744234e-02</td><td>-7.976108e-02</td><td>-0.07028789</td><td>-5.912017e-02</td><td>-0.04637336</td><td>-3.217715e-02</td><td>-1.667113e-02</td><td>⋯</td><td>-1.667113e-02</td><td>-3.217715e-02</td><td>-0.04637336</td><td>-5.912017e-02</td><td>-0.07028789</td><td>-7.976108e-02</td><td>-8.744234e-02</td><td>-9.325552e-02</td><td>-9.714827e-02</td><td>-0.099094019</td></tr>\n",
       "\t<tr><td>-0.117763403</td><td>-1.161615e-01</td><td>-1.124549e-01</td><td>-1.066834e-01</td><td>-9.891776e-02</td><td>-0.08925736</td><td>-7.782824e-02</td><td>-0.06477994</td><td>-5.028206e-02</td><td>-3.452021e-02</td><td>⋯</td><td>-3.452021e-02</td><td>-5.028206e-02</td><td>-0.06477994</td><td>-7.782824e-02</td><td>-0.08925736</td><td>-9.891776e-02</td><td>-1.066834e-01</td><td>-1.124549e-01</td><td>-1.161615e-01</td><td>-0.117763403</td></tr>\n",
       "\t<tr><td>-0.138615441</td><td>-1.373499e-01</td><td>-1.337894e-01</td><td>-1.279882e-01</td><td>-1.200368e-01</td><td>-0.11006012</td><td>-9.821533e-02</td><td>-0.08468932</td><td>-6.969522e-02</td><td>-5.346869e-02</td><td>⋯</td><td>-5.346869e-02</td><td>-6.969522e-02</td><td>-0.08468932</td><td>-9.821533e-02</td><td>-0.11006012</td><td>-1.200368e-01</td><td>-1.279882e-01</td><td>-1.337894e-01</td><td>-1.373499e-01</td><td>-0.138615441</td></tr>\n",
       "\t<tr><td>-0.161921207</td><td>-1.609739e-01</td><td>-1.575022e-01</td><td>-1.515756e-01</td><td>-1.433061e-01</td><td>-0.13284620</td><td>-1.203874e-01</td><td>-0.10615708</td><td>-9.041586e-02</td><td>-7.345375e-02</td><td>⋯</td><td>-7.345375e-02</td><td>-9.041586e-02</td><td>-0.10615708</td><td>-1.203874e-01</td><td>-0.13284620</td><td>-1.433061e-01</td><td>-1.515756e-01</td><td>-1.575022e-01</td><td>-1.609739e-01</td><td>-0.161921207</td></tr>\n",
       "\t<tr><td>-0.187995724</td><td>-1.873377e-01</td><td>-1.838788e-01</td><td>-1.777050e-01</td><td>-1.689513e-01</td><td>-0.15780062</td><td>-1.444815e-01</td><td>-0.12926572</td><td>-1.124655e-01</td><td>-9.442967e-02</td><td>⋯</td><td>-9.442967e-02</td><td>-1.124655e-01</td><td>-0.12926572</td><td>-1.444815e-01</td><td>-0.15780062</td><td>-1.689513e-01</td><td>-1.777050e-01</td><td>-1.838788e-01</td><td>-1.873377e-01</td><td>-0.187995724</td></tr>\n",
       "\t<tr><td>-0.217180273</td><td>-2.167715e-01</td><td>-2.132304e-01</td><td>-2.066605e-01</td><td>-1.972219e-01</td><td>-0.18513025</td><td>-1.706548e-01</td><td>-0.15411555</td><td>-1.358808e-01</td><td>-1.163635e-01</td><td>⋯</td><td>-1.163635e-01</td><td>-1.358808e-01</td><td>-0.15411555</td><td>-1.706548e-01</td><td>-0.18513025</td><td>-1.972219e-01</td><td>-2.066605e-01</td><td>-2.132304e-01</td><td>-2.167715e-01</td><td>-0.217180273</td></tr>\n",
       "\t<tr><td>-0.249799027</td><td>-2.495887e-01</td><td>-2.458521e-01</td><td>-2.387113e-01</td><td>-2.283535e-01</td><td>-0.21503018</td><td>-1.990546e-01</td><td>-0.18079941</td><td>-1.606939e-01</td><td>-1.392202e-01</td><td>⋯</td><td>-1.392202e-01</td><td>-1.606939e-01</td><td>-0.18079941</td><td>-1.990546e-01</td><td>-0.21503018</td><td>-2.283535e-01</td><td>-2.387113e-01</td><td>-2.458521e-01</td><td>-2.495887e-01</td><td>-0.249799027</td></tr>\n",
       "\t<tr><td>-0.286072369</td><td>-2.860003e-01</td><td>-2.819395e-01</td><td>-2.740319e-01</td><td>-2.624938e-01</td><td>-0.24761532</td><td>-2.297576e-01</td><td>-0.20935052</td><td>-1.868892e-01</td><td>-1.629305e-01</td><td>⋯</td><td>-1.629305e-01</td><td>-1.868892e-01</td><td>-0.20935052</td><td>-2.297576e-01</td><td>-0.24761532</td><td>-2.624938e-01</td><td>-2.740319e-01</td><td>-2.819395e-01</td><td>-2.860003e-01</td><td>-0.286072369</td></tr>\n",
       "\t<tr><td>-0.325964037</td><td>-3.259631e-01</td><td>-3.214412e-01</td><td>-3.125608e-01</td><td>-2.995695e-01</td><td>-0.28279887</td><td>-2.626616e-01</td><td>-0.23964880</td><td>-2.143266e-01</td><td>-1.873315e-01</td><td>⋯</td><td>-1.873315e-01</td><td>-2.143266e-01</td><td>-0.23964880</td><td>-2.626616e-01</td><td>-0.28279887</td><td>-2.995695e-01</td><td>-3.125608e-01</td><td>-3.214412e-01</td><td>-3.259631e-01</td><td>-0.325964037</td></tr>\n",
       "\t<tr><td>-0.368941778</td><td>-3.689427e-01</td><td>-3.638272e-01</td><td>-3.537791e-01</td><td>-3.390788e-01</td><td>-0.32010152</td><td>-2.973143e-01</td><td>-0.27127331</td><td>-2.426191e-01</td><td>-2.120723e-01</td><td>⋯</td><td>-2.120723e-01</td><td>-2.426191e-01</td><td>-0.27127331</td><td>-2.973143e-01</td><td>-0.32010152</td><td>-3.390788e-01</td><td>-3.537791e-01</td><td>-3.638272e-01</td><td>-3.689427e-01</td><td>-0.368941778</td></tr>\n",
       "\t<tr><td>-0.413656826</td><td>-4.135956e-01</td><td>-4.077795e-01</td><td>-3.964140e-01</td><td>-3.798127e-01</td><td>-0.35839538</td><td>-3.326850e-01</td><td>-0.30330383</td><td>-2.709688e-01</td><td>-2.364863e-01</td><td>⋯</td><td>-2.364863e-01</td><td>-2.709688e-01</td><td>-0.30330383</td><td>-3.326850e-01</td><td>-0.35839538</td><td>-3.798127e-01</td><td>-3.964140e-01</td><td>-4.077795e-01</td><td>-4.135956e-01</td><td>-0.413656826</td></tr>\n",
       "\t<tr><td>-0.457618440</td><td>-4.574465e-01</td><td>-4.508774e-01</td><td>-4.381373e-01</td><td>-4.195718e-01</td><td>-0.39564398</td><td>-3.669309e-01</td><td>-0.33411923</td><td>-2.979997e-01</td><td>-2.594616e-01</td><td>⋯</td><td>-2.594616e-01</td><td>-2.979997e-01</td><td>-0.33411923</td><td>-3.669309e-01</td><td>-0.39564398</td><td>-4.195718e-01</td><td>-4.381373e-01</td><td>-4.508774e-01</td><td>-4.574465e-01</td><td>-0.457618440</td></tr>\n",
       "\t<tr><td>-0.497061934</td><td>-4.967575e-01</td><td>-4.894699e-01</td><td>-4.754434e-01</td><td>-4.550519e-01</td><td>-0.42879712</td><td>-3.973040e-01</td><td>-0.36131635</td><td>-3.216906e-01</td><td>-2.793893e-01</td><td>⋯</td><td>-2.793893e-01</td><td>-3.216906e-01</td><td>-0.36131635</td><td>-3.973040e-01</td><td>-0.42879712</td><td>-4.550519e-01</td><td>-4.754434e-01</td><td>-4.894699e-01</td><td>-4.967575e-01</td><td>-0.497061934</td></tr>\n",
       "\t<tr><td>-0.527313681</td><td>-5.268903e-01</td><td>-5.190290e-01</td><td>-5.039880e-01</td><td>-4.821627e-01</td><td>-0.45408396</td><td>-4.204135e-01</td><td>-0.38193848</td><td>-3.395653e-01</td><td>-2.943124e-01</td><td>⋯</td><td>-2.943124e-01</td><td>-3.395653e-01</td><td>-0.38193848</td><td>-4.204135e-01</td><td>-0.45408396</td><td>-4.821627e-01</td><td>-5.039880e-01</td><td>-5.190290e-01</td><td>-5.268903e-01</td><td>-0.527313681</td></tr>\n",
       "\t<tr><td>-0.543858425</td><td>-5.433644e-01</td><td>-5.351823e-01</td><td>-5.195775e-01</td><td>-4.969575e-01</td><td>-0.46786880</td><td>-4.329932e-01</td><td>-0.39314148</td><td>-3.492473e-01</td><td>-3.023594e-01</td><td>⋯</td><td>-3.023594e-01</td><td>-3.492473e-01</td><td>-0.39314148</td><td>-4.329932e-01</td><td>-0.46786880</td><td>-4.969575e-01</td><td>-5.195775e-01</td><td>-5.351823e-01</td><td>-5.433644e-01</td><td>-0.543858425</td></tr>\n",
       "\t<tr><td>-0.543858425</td><td>-5.433644e-01</td><td>-5.351823e-01</td><td>-5.195775e-01</td><td>-4.969575e-01</td><td>-0.46786880</td><td>-4.329932e-01</td><td>-0.39314148</td><td>-3.492473e-01</td><td>-3.023594e-01</td><td>⋯</td><td>-3.023594e-01</td><td>-3.492473e-01</td><td>-0.39314148</td><td>-4.329932e-01</td><td>-0.46786880</td><td>-4.969575e-01</td><td>-5.195775e-01</td><td>-5.351823e-01</td><td>-5.433644e-01</td><td>-0.543858425</td></tr>\n",
       "\t<tr><td>-0.527313681</td><td>-5.268903e-01</td><td>-5.190290e-01</td><td>-5.039880e-01</td><td>-4.821627e-01</td><td>-0.45408396</td><td>-4.204135e-01</td><td>-0.38193848</td><td>-3.395653e-01</td><td>-2.943124e-01</td><td>⋯</td><td>-2.943124e-01</td><td>-3.395653e-01</td><td>-0.38193848</td><td>-4.204135e-01</td><td>-0.45408396</td><td>-4.821627e-01</td><td>-5.039880e-01</td><td>-5.190290e-01</td><td>-5.268903e-01</td><td>-0.527313681</td></tr>\n",
       "\t<tr><td>-0.497061934</td><td>-4.967575e-01</td><td>-4.894699e-01</td><td>-4.754434e-01</td><td>-4.550519e-01</td><td>-0.42879712</td><td>-3.973040e-01</td><td>-0.36131635</td><td>-3.216906e-01</td><td>-2.793893e-01</td><td>⋯</td><td>-2.793893e-01</td><td>-3.216906e-01</td><td>-0.36131635</td><td>-3.973040e-01</td><td>-0.42879712</td><td>-4.550519e-01</td><td>-4.754434e-01</td><td>-4.894699e-01</td><td>-4.967575e-01</td><td>-0.497061934</td></tr>\n",
       "\t<tr><td>-0.457618440</td><td>-4.574465e-01</td><td>-4.508774e-01</td><td>-4.381373e-01</td><td>-4.195718e-01</td><td>-0.39564398</td><td>-3.669309e-01</td><td>-0.33411923</td><td>-2.979997e-01</td><td>-2.594616e-01</td><td>⋯</td><td>-2.594616e-01</td><td>-2.979997e-01</td><td>-0.33411923</td><td>-3.669309e-01</td><td>-0.39564398</td><td>-4.195718e-01</td><td>-4.381373e-01</td><td>-4.508774e-01</td><td>-4.574465e-01</td><td>-0.457618440</td></tr>\n",
       "\t<tr><td>-0.413656826</td><td>-4.135956e-01</td><td>-4.077795e-01</td><td>-3.964140e-01</td><td>-3.798127e-01</td><td>-0.35839538</td><td>-3.326850e-01</td><td>-0.30330383</td><td>-2.709688e-01</td><td>-2.364863e-01</td><td>⋯</td><td>-2.364863e-01</td><td>-2.709688e-01</td><td>-0.30330383</td><td>-3.326850e-01</td><td>-0.35839538</td><td>-3.798127e-01</td><td>-3.964140e-01</td><td>-4.077795e-01</td><td>-4.135956e-01</td><td>-0.413656826</td></tr>\n",
       "\t<tr><td>-0.368941778</td><td>-3.689427e-01</td><td>-3.638272e-01</td><td>-3.537791e-01</td><td>-3.390788e-01</td><td>-0.32010152</td><td>-2.973143e-01</td><td>-0.27127331</td><td>-2.426191e-01</td><td>-2.120723e-01</td><td>⋯</td><td>-2.120723e-01</td><td>-2.426191e-01</td><td>-0.27127331</td><td>-2.973143e-01</td><td>-0.32010152</td><td>-3.390788e-01</td><td>-3.537791e-01</td><td>-3.638272e-01</td><td>-3.689427e-01</td><td>-0.368941778</td></tr>\n",
       "\t<tr><td>-0.325964037</td><td>-3.259631e-01</td><td>-3.214412e-01</td><td>-3.125608e-01</td><td>-2.995695e-01</td><td>-0.28279887</td><td>-2.626616e-01</td><td>-0.23964880</td><td>-2.143266e-01</td><td>-1.873315e-01</td><td>⋯</td><td>-1.873315e-01</td><td>-2.143266e-01</td><td>-0.23964880</td><td>-2.626616e-01</td><td>-0.28279887</td><td>-2.995695e-01</td><td>-3.125608e-01</td><td>-3.214412e-01</td><td>-3.259631e-01</td><td>-0.325964037</td></tr>\n",
       "\t<tr><td>-0.286072369</td><td>-2.860003e-01</td><td>-2.819395e-01</td><td>-2.740319e-01</td><td>-2.624938e-01</td><td>-0.24761532</td><td>-2.297576e-01</td><td>-0.20935052</td><td>-1.868892e-01</td><td>-1.629305e-01</td><td>⋯</td><td>-1.629305e-01</td><td>-1.868892e-01</td><td>-0.20935052</td><td>-2.297576e-01</td><td>-0.24761532</td><td>-2.624938e-01</td><td>-2.740319e-01</td><td>-2.819395e-01</td><td>-2.860003e-01</td><td>-0.286072369</td></tr>\n",
       "\t<tr><td>-0.249799027</td><td>-2.495887e-01</td><td>-2.458521e-01</td><td>-2.387113e-01</td><td>-2.283535e-01</td><td>-0.21503018</td><td>-1.990546e-01</td><td>-0.18079941</td><td>-1.606939e-01</td><td>-1.392202e-01</td><td>⋯</td><td>-1.392202e-01</td><td>-1.606939e-01</td><td>-0.18079941</td><td>-1.990546e-01</td><td>-0.21503018</td><td>-2.283535e-01</td><td>-2.387113e-01</td><td>-2.458521e-01</td><td>-2.495887e-01</td><td>-0.249799027</td></tr>\n",
       "\t<tr><td>-0.217180273</td><td>-2.167715e-01</td><td>-2.132304e-01</td><td>-2.066605e-01</td><td>-1.972219e-01</td><td>-0.18513025</td><td>-1.706548e-01</td><td>-0.15411555</td><td>-1.358808e-01</td><td>-1.163635e-01</td><td>⋯</td><td>-1.163635e-01</td><td>-1.358808e-01</td><td>-0.15411555</td><td>-1.706548e-01</td><td>-0.18513025</td><td>-1.972219e-01</td><td>-2.066605e-01</td><td>-2.132304e-01</td><td>-2.167715e-01</td><td>-0.217180273</td></tr>\n",
       "\t<tr><td>-0.187995724</td><td>-1.873377e-01</td><td>-1.838788e-01</td><td>-1.777050e-01</td><td>-1.689513e-01</td><td>-0.15780062</td><td>-1.444815e-01</td><td>-0.12926572</td><td>-1.124655e-01</td><td>-9.442967e-02</td><td>⋯</td><td>-9.442967e-02</td><td>-1.124655e-01</td><td>-0.12926572</td><td>-1.444815e-01</td><td>-0.15780062</td><td>-1.689513e-01</td><td>-1.777050e-01</td><td>-1.838788e-01</td><td>-1.873377e-01</td><td>-0.187995724</td></tr>\n",
       "\t<tr><td>-0.161921207</td><td>-1.609739e-01</td><td>-1.575022e-01</td><td>-1.515756e-01</td><td>-1.433061e-01</td><td>-0.13284620</td><td>-1.203874e-01</td><td>-0.10615708</td><td>-9.041586e-02</td><td>-7.345375e-02</td><td>⋯</td><td>-7.345375e-02</td><td>-9.041586e-02</td><td>-0.10615708</td><td>-1.203874e-01</td><td>-0.13284620</td><td>-1.433061e-01</td><td>-1.515756e-01</td><td>-1.575022e-01</td><td>-1.609739e-01</td><td>-0.161921207</td></tr>\n",
       "\t<tr><td>-0.138615441</td><td>-1.373499e-01</td><td>-1.337894e-01</td><td>-1.279882e-01</td><td>-1.200368e-01</td><td>-0.11006012</td><td>-9.821533e-02</td><td>-0.08468932</td><td>-6.969522e-02</td><td>-5.346869e-02</td><td>⋯</td><td>-5.346869e-02</td><td>-6.969522e-02</td><td>-0.08468932</td><td>-9.821533e-02</td><td>-0.11006012</td><td>-1.200368e-01</td><td>-1.279882e-01</td><td>-1.337894e-01</td><td>-1.373499e-01</td><td>-0.138615441</td></tr>\n",
       "\t<tr><td>-0.117763403</td><td>-1.161615e-01</td><td>-1.124549e-01</td><td>-1.066834e-01</td><td>-9.891776e-02</td><td>-0.08925736</td><td>-7.782824e-02</td><td>-0.06477994</td><td>-5.028206e-02</td><td>-3.452021e-02</td><td>⋯</td><td>-3.452021e-02</td><td>-5.028206e-02</td><td>-0.06477994</td><td>-7.782824e-02</td><td>-0.08925736</td><td>-9.891776e-02</td><td>-1.066834e-01</td><td>-1.124549e-01</td><td>-1.161615e-01</td><td>-0.117763403</td></tr>\n",
       "\t<tr><td>-0.099094019</td><td>-9.714827e-02</td><td>-9.325552e-02</td><td>-8.744234e-02</td><td>-7.976108e-02</td><td>-0.07028789</td><td>-5.912017e-02</td><td>-0.04637336</td><td>-3.217715e-02</td><td>-1.667113e-02</td><td>⋯</td><td>-1.667113e-02</td><td>-3.217715e-02</td><td>-0.04637336</td><td>-5.912017e-02</td><td>-0.07028789</td><td>-7.976108e-02</td><td>-8.744234e-02</td><td>-9.325552e-02</td><td>-9.714827e-02</td><td>-0.099094019</td></tr>\n",
       "\t<tr><td>-0.082383847</td><td>-8.009676e-02</td><td>-7.599397e-02</td><td>-7.008969e-02</td><td>-6.241956e-02</td><td>-0.05303843</td><td>-4.201759e-02</td><td>-0.02944138</td><td>-1.540302e-02</td><td>-1.110223e-16</td><td>⋯</td><td> 0.000000e+00</td><td>-1.540302e-02</td><td>-0.02944138</td><td>-4.201759e-02</td><td>-0.05303843</td><td>-6.241956e-02</td><td>-7.008969e-02</td><td>-7.599397e-02</td><td>-8.009676e-02</td><td>-0.082383847</td></tr>\n",
       "\t<tr><td>-0.067453752</td><td>-6.483717e-02</td><td>-6.051496e-02</td><td>-5.449004e-02</td><td>-4.678280e-02</td><td>-0.03742876</td><td>-2.647555e-02</td><td>-0.01397925</td><td>-5.551115e-17</td><td> 1.540302e-02</td><td>⋯</td><td> 1.540302e-02</td><td> 0.000000e+00</td><td>-0.01397925</td><td>-2.647555e-02</td><td>-0.03742876</td><td>-4.678280e-02</td><td>-5.449004e-02</td><td>-6.051496e-02</td><td>-6.483717e-02</td><td>-0.067453752</td></tr>\n",
       "\t<tr><td>-0.054162579</td><td>-5.123691e-02</td><td>-4.669898e-02</td><td>-4.054144e-02</td><td>-3.277095e-02</td><td>-0.02340560</td><td>-1.247173e-02</td><td> 0.00000000</td><td> 1.397925e-02</td><td> 2.944138e-02</td><td>⋯</td><td> 2.944138e-02</td><td> 1.397925e-02</td><td> 0.00000000</td><td>-1.247173e-02</td><td>-0.02340560</td><td>-3.277095e-02</td><td>-4.054144e-02</td><td>-4.669898e-02</td><td>-5.123691e-02</td><td>-0.054162579</td></tr>\n",
       "\t<tr><td>-0.042399937</td><td>-3.919338e-02</td><td>-3.445501e-02</td><td>-2.816833e-02</td><td>-2.032775e-02</td><td>-0.01093584</td><td>-3.469447e-17</td><td> 0.01247173</td><td> 2.647555e-02</td><td> 4.201759e-02</td><td>⋯</td><td> 4.201759e-02</td><td> 2.647555e-02</td><td> 0.01247173</td><td> 0.000000e+00</td><td>-0.01093584</td><td>-2.032775e-02</td><td>-2.816833e-02</td><td>-3.445501e-02</td><td>-3.919338e-02</td><td>-0.042399937</td></tr>\n",
       "\t<tr><td>-0.032079164</td><td>-2.862681e-02</td><td>-2.371343e-02</td><td>-1.731452e-02</td><td>-9.413710e-03</td><td> 0.00000000</td><td> 1.093584e-02</td><td> 0.02340560</td><td> 3.742876e-02</td><td> 5.303843e-02</td><td>⋯</td><td> 5.303843e-02</td><td> 3.742876e-02</td><td> 0.02340560</td><td> 1.093584e-02</td><td> 0.00000000</td><td>-9.413710e-03</td><td>-1.731452e-02</td><td>-2.371343e-02</td><td>-2.862681e-02</td><td>-0.032079164</td></tr>\n",
       "\t<tr><td>-0.023130959</td><td>-1.947390e-02</td><td>-1.441967e-02</td><td>-7.936896e-03</td><td>-5.551115e-17</td><td> 0.00941371</td><td> 2.032775e-02</td><td> 0.03277095</td><td> 4.678280e-02</td><td> 6.241956e-02</td><td>⋯</td><td> 6.241956e-02</td><td> 4.678280e-02</td><td> 0.03277095</td><td> 2.032775e-02</td><td> 0.00941371</td><td> 0.000000e+00</td><td>-7.936896e-03</td><td>-1.441967e-02</td><td>-1.947390e-02</td><td>-0.023130959</td></tr>\n",
       "\t<tr><td>-0.015497862</td><td>-1.168223e-02</td><td>-6.528631e-03</td><td>-1.387779e-17</td><td> 7.936896e-03</td><td> 0.01731452</td><td> 2.816833e-02</td><td> 0.04054144</td><td> 5.449004e-02</td><td> 7.008969e-02</td><td>⋯</td><td> 7.008969e-02</td><td> 5.449004e-02</td><td> 0.04054144</td><td> 2.816833e-02</td><td> 0.01731452</td><td> 7.936896e-03</td><td> 0.000000e+00</td><td>-6.528631e-03</td><td>-1.168223e-02</td><td>-0.015497862</td></tr>\n",
       "\t<tr><td>-0.009129591</td><td>-5.205574e-03</td><td>-3.469447e-17</td><td> 6.528631e-03</td><td> 1.441967e-02</td><td> 0.02371343</td><td> 3.445501e-02</td><td> 0.04669898</td><td> 6.051496e-02</td><td> 7.599397e-02</td><td>⋯</td><td> 7.599397e-02</td><td> 6.051496e-02</td><td> 0.04669898</td><td> 3.445501e-02</td><td> 0.02371343</td><td> 1.441967e-02</td><td> 6.528631e-03</td><td> 0.000000e+00</td><td>-5.205574e-03</td><td>-0.009129591</td></tr>\n",
       "\t<tr><td>-0.003979203</td><td>-6.938894e-18</td><td> 5.205574e-03</td><td> 1.168223e-02</td><td> 1.947390e-02</td><td> 0.02862681</td><td> 3.919338e-02</td><td> 0.05123691</td><td> 6.483717e-02</td><td> 8.009676e-02</td><td>⋯</td><td> 8.009676e-02</td><td> 6.483717e-02</td><td> 0.05123691</td><td> 3.919338e-02</td><td> 0.02862681</td><td> 1.947390e-02</td><td> 1.168223e-02</td><td> 5.205574e-03</td><td> 0.000000e+00</td><td>-0.003979203</td></tr>\n",
       "\t<tr><td> 0.000000000</td><td> 3.979203e-03</td><td> 9.129591e-03</td><td> 1.549786e-02</td><td> 2.313096e-02</td><td> 0.03207916</td><td> 4.239994e-02</td><td> 0.05416258</td><td> 6.745375e-02</td><td> 8.238385e-02</td><td>⋯</td><td> 8.238385e-02</td><td> 6.745375e-02</td><td> 0.05416258</td><td> 4.239994e-02</td><td> 0.03207916</td><td> 2.313096e-02</td><td> 1.549786e-02</td><td> 9.129591e-03</td><td> 3.979203e-03</td><td> 0.000000000</td></tr>\n",
       "</tbody>\n",
       "</table>\n"
      ],
      "text/latex": [
       "A matrix: 50 × 50 of type dbl\n",
       "\\begin{tabular}{lllllllllllllllllllll}\n",
       "\t  0.000000000 &  3.979203e-03 &  9.129591e-03 &  1.549786e-02 &  2.313096e-02 &  0.03207916 &  4.239994e-02 &  0.05416258 &  6.745375e-02 &  8.238385e-02 & ⋯ &  8.238385e-02 &  6.745375e-02 &  0.05416258 &  4.239994e-02 &  0.03207916 &  2.313096e-02 &  1.549786e-02 &  9.129591e-03 &  3.979203e-03 &  0.000000000\\\\\n",
       "\t -0.003979203 &  0.000000e+00 &  5.205574e-03 &  1.168223e-02 &  1.947390e-02 &  0.02862681 &  3.919338e-02 &  0.05123691 &  6.483717e-02 &  8.009676e-02 & ⋯ &  8.009676e-02 &  6.483717e-02 &  0.05123691 &  3.919338e-02 &  0.02862681 &  1.947390e-02 &  1.168223e-02 &  5.205574e-03 &  6.938894e-18 & -0.003979203\\\\\n",
       "\t -0.009129591 & -5.205574e-03 &  0.000000e+00 &  6.528631e-03 &  1.441967e-02 &  0.02371343 &  3.445501e-02 &  0.04669898 &  6.051496e-02 &  7.599397e-02 & ⋯ &  7.599397e-02 &  6.051496e-02 &  0.04669898 &  3.445501e-02 &  0.02371343 &  1.441967e-02 &  6.528631e-03 &  3.469447e-17 & -5.205574e-03 & -0.009129591\\\\\n",
       "\t -0.015497862 & -1.168223e-02 & -6.528631e-03 &  0.000000e+00 &  7.936896e-03 &  0.01731452 &  2.816833e-02 &  0.04054144 &  5.449004e-02 &  7.008969e-02 & ⋯ &  7.008969e-02 &  5.449004e-02 &  0.04054144 &  2.816833e-02 &  0.01731452 &  7.936896e-03 &  1.387779e-17 & -6.528631e-03 & -1.168223e-02 & -0.015497862\\\\\n",
       "\t -0.023130959 & -1.947390e-02 & -1.441967e-02 & -7.936896e-03 &  0.000000e+00 &  0.00941371 &  2.032775e-02 &  0.03277095 &  4.678280e-02 &  6.241956e-02 & ⋯ &  6.241956e-02 &  4.678280e-02 &  0.03277095 &  2.032775e-02 &  0.00941371 &  5.551115e-17 & -7.936896e-03 & -1.441967e-02 & -1.947390e-02 & -0.023130959\\\\\n",
       "\t -0.032079164 & -2.862681e-02 & -2.371343e-02 & -1.731452e-02 & -9.413710e-03 &  0.00000000 &  1.093584e-02 &  0.02340560 &  3.742876e-02 &  5.303843e-02 & ⋯ &  5.303843e-02 &  3.742876e-02 &  0.02340560 &  1.093584e-02 &  0.00000000 & -9.413710e-03 & -1.731452e-02 & -2.371343e-02 & -2.862681e-02 & -0.032079164\\\\\n",
       "\t -0.042399937 & -3.919338e-02 & -3.445501e-02 & -2.816833e-02 & -2.032775e-02 & -0.01093584 &  0.000000e+00 &  0.01247173 &  2.647555e-02 &  4.201759e-02 & ⋯ &  4.201759e-02 &  2.647555e-02 &  0.01247173 &  3.469447e-17 & -0.01093584 & -2.032775e-02 & -2.816833e-02 & -3.445501e-02 & -3.919338e-02 & -0.042399937\\\\\n",
       "\t -0.054162579 & -5.123691e-02 & -4.669898e-02 & -4.054144e-02 & -3.277095e-02 & -0.02340560 & -1.247173e-02 &  0.00000000 &  1.397925e-02 &  2.944138e-02 & ⋯ &  2.944138e-02 &  1.397925e-02 &  0.00000000 & -1.247173e-02 & -0.02340560 & -3.277095e-02 & -4.054144e-02 & -4.669898e-02 & -5.123691e-02 & -0.054162579\\\\\n",
       "\t -0.067453752 & -6.483717e-02 & -6.051496e-02 & -5.449004e-02 & -4.678280e-02 & -0.03742876 & -2.647555e-02 & -0.01397925 &  0.000000e+00 &  1.540302e-02 & ⋯ &  1.540302e-02 &  5.551115e-17 & -0.01397925 & -2.647555e-02 & -0.03742876 & -4.678280e-02 & -5.449004e-02 & -6.051496e-02 & -6.483717e-02 & -0.067453752\\\\\n",
       "\t -0.082383847 & -8.009676e-02 & -7.599397e-02 & -7.008969e-02 & -6.241956e-02 & -0.05303843 & -4.201759e-02 & -0.02944138 & -1.540302e-02 &  0.000000e+00 & ⋯ &  1.110223e-16 & -1.540302e-02 & -0.02944138 & -4.201759e-02 & -0.05303843 & -6.241956e-02 & -7.008969e-02 & -7.599397e-02 & -8.009676e-02 & -0.082383847\\\\\n",
       "\t -0.099094019 & -9.714827e-02 & -9.325552e-02 & -8.744234e-02 & -7.976108e-02 & -0.07028789 & -5.912017e-02 & -0.04637336 & -3.217715e-02 & -1.667113e-02 & ⋯ & -1.667113e-02 & -3.217715e-02 & -0.04637336 & -5.912017e-02 & -0.07028789 & -7.976108e-02 & -8.744234e-02 & -9.325552e-02 & -9.714827e-02 & -0.099094019\\\\\n",
       "\t -0.117763403 & -1.161615e-01 & -1.124549e-01 & -1.066834e-01 & -9.891776e-02 & -0.08925736 & -7.782824e-02 & -0.06477994 & -5.028206e-02 & -3.452021e-02 & ⋯ & -3.452021e-02 & -5.028206e-02 & -0.06477994 & -7.782824e-02 & -0.08925736 & -9.891776e-02 & -1.066834e-01 & -1.124549e-01 & -1.161615e-01 & -0.117763403\\\\\n",
       "\t -0.138615441 & -1.373499e-01 & -1.337894e-01 & -1.279882e-01 & -1.200368e-01 & -0.11006012 & -9.821533e-02 & -0.08468932 & -6.969522e-02 & -5.346869e-02 & ⋯ & -5.346869e-02 & -6.969522e-02 & -0.08468932 & -9.821533e-02 & -0.11006012 & -1.200368e-01 & -1.279882e-01 & -1.337894e-01 & -1.373499e-01 & -0.138615441\\\\\n",
       "\t -0.161921207 & -1.609739e-01 & -1.575022e-01 & -1.515756e-01 & -1.433061e-01 & -0.13284620 & -1.203874e-01 & -0.10615708 & -9.041586e-02 & -7.345375e-02 & ⋯ & -7.345375e-02 & -9.041586e-02 & -0.10615708 & -1.203874e-01 & -0.13284620 & -1.433061e-01 & -1.515756e-01 & -1.575022e-01 & -1.609739e-01 & -0.161921207\\\\\n",
       "\t -0.187995724 & -1.873377e-01 & -1.838788e-01 & -1.777050e-01 & -1.689513e-01 & -0.15780062 & -1.444815e-01 & -0.12926572 & -1.124655e-01 & -9.442967e-02 & ⋯ & -9.442967e-02 & -1.124655e-01 & -0.12926572 & -1.444815e-01 & -0.15780062 & -1.689513e-01 & -1.777050e-01 & -1.838788e-01 & -1.873377e-01 & -0.187995724\\\\\n",
       "\t -0.217180273 & -2.167715e-01 & -2.132304e-01 & -2.066605e-01 & -1.972219e-01 & -0.18513025 & -1.706548e-01 & -0.15411555 & -1.358808e-01 & -1.163635e-01 & ⋯ & -1.163635e-01 & -1.358808e-01 & -0.15411555 & -1.706548e-01 & -0.18513025 & -1.972219e-01 & -2.066605e-01 & -2.132304e-01 & -2.167715e-01 & -0.217180273\\\\\n",
       "\t -0.249799027 & -2.495887e-01 & -2.458521e-01 & -2.387113e-01 & -2.283535e-01 & -0.21503018 & -1.990546e-01 & -0.18079941 & -1.606939e-01 & -1.392202e-01 & ⋯ & -1.392202e-01 & -1.606939e-01 & -0.18079941 & -1.990546e-01 & -0.21503018 & -2.283535e-01 & -2.387113e-01 & -2.458521e-01 & -2.495887e-01 & -0.249799027\\\\\n",
       "\t -0.286072369 & -2.860003e-01 & -2.819395e-01 & -2.740319e-01 & -2.624938e-01 & -0.24761532 & -2.297576e-01 & -0.20935052 & -1.868892e-01 & -1.629305e-01 & ⋯ & -1.629305e-01 & -1.868892e-01 & -0.20935052 & -2.297576e-01 & -0.24761532 & -2.624938e-01 & -2.740319e-01 & -2.819395e-01 & -2.860003e-01 & -0.286072369\\\\\n",
       "\t -0.325964037 & -3.259631e-01 & -3.214412e-01 & -3.125608e-01 & -2.995695e-01 & -0.28279887 & -2.626616e-01 & -0.23964880 & -2.143266e-01 & -1.873315e-01 & ⋯ & -1.873315e-01 & -2.143266e-01 & -0.23964880 & -2.626616e-01 & -0.28279887 & -2.995695e-01 & -3.125608e-01 & -3.214412e-01 & -3.259631e-01 & -0.325964037\\\\\n",
       "\t -0.368941778 & -3.689427e-01 & -3.638272e-01 & -3.537791e-01 & -3.390788e-01 & -0.32010152 & -2.973143e-01 & -0.27127331 & -2.426191e-01 & -2.120723e-01 & ⋯ & -2.120723e-01 & -2.426191e-01 & -0.27127331 & -2.973143e-01 & -0.32010152 & -3.390788e-01 & -3.537791e-01 & -3.638272e-01 & -3.689427e-01 & -0.368941778\\\\\n",
       "\t -0.413656826 & -4.135956e-01 & -4.077795e-01 & -3.964140e-01 & -3.798127e-01 & -0.35839538 & -3.326850e-01 & -0.30330383 & -2.709688e-01 & -2.364863e-01 & ⋯ & -2.364863e-01 & -2.709688e-01 & -0.30330383 & -3.326850e-01 & -0.35839538 & -3.798127e-01 & -3.964140e-01 & -4.077795e-01 & -4.135956e-01 & -0.413656826\\\\\n",
       "\t -0.457618440 & -4.574465e-01 & -4.508774e-01 & -4.381373e-01 & -4.195718e-01 & -0.39564398 & -3.669309e-01 & -0.33411923 & -2.979997e-01 & -2.594616e-01 & ⋯ & -2.594616e-01 & -2.979997e-01 & -0.33411923 & -3.669309e-01 & -0.39564398 & -4.195718e-01 & -4.381373e-01 & -4.508774e-01 & -4.574465e-01 & -0.457618440\\\\\n",
       "\t -0.497061934 & -4.967575e-01 & -4.894699e-01 & -4.754434e-01 & -4.550519e-01 & -0.42879712 & -3.973040e-01 & -0.36131635 & -3.216906e-01 & -2.793893e-01 & ⋯ & -2.793893e-01 & -3.216906e-01 & -0.36131635 & -3.973040e-01 & -0.42879712 & -4.550519e-01 & -4.754434e-01 & -4.894699e-01 & -4.967575e-01 & -0.497061934\\\\\n",
       "\t -0.527313681 & -5.268903e-01 & -5.190290e-01 & -5.039880e-01 & -4.821627e-01 & -0.45408396 & -4.204135e-01 & -0.38193848 & -3.395653e-01 & -2.943124e-01 & ⋯ & -2.943124e-01 & -3.395653e-01 & -0.38193848 & -4.204135e-01 & -0.45408396 & -4.821627e-01 & -5.039880e-01 & -5.190290e-01 & -5.268903e-01 & -0.527313681\\\\\n",
       "\t -0.543858425 & -5.433644e-01 & -5.351823e-01 & -5.195775e-01 & -4.969575e-01 & -0.46786880 & -4.329932e-01 & -0.39314148 & -3.492473e-01 & -3.023594e-01 & ⋯ & -3.023594e-01 & -3.492473e-01 & -0.39314148 & -4.329932e-01 & -0.46786880 & -4.969575e-01 & -5.195775e-01 & -5.351823e-01 & -5.433644e-01 & -0.543858425\\\\\n",
       "\t -0.543858425 & -5.433644e-01 & -5.351823e-01 & -5.195775e-01 & -4.969575e-01 & -0.46786880 & -4.329932e-01 & -0.39314148 & -3.492473e-01 & -3.023594e-01 & ⋯ & -3.023594e-01 & -3.492473e-01 & -0.39314148 & -4.329932e-01 & -0.46786880 & -4.969575e-01 & -5.195775e-01 & -5.351823e-01 & -5.433644e-01 & -0.543858425\\\\\n",
       "\t -0.527313681 & -5.268903e-01 & -5.190290e-01 & -5.039880e-01 & -4.821627e-01 & -0.45408396 & -4.204135e-01 & -0.38193848 & -3.395653e-01 & -2.943124e-01 & ⋯ & -2.943124e-01 & -3.395653e-01 & -0.38193848 & -4.204135e-01 & -0.45408396 & -4.821627e-01 & -5.039880e-01 & -5.190290e-01 & -5.268903e-01 & -0.527313681\\\\\n",
       "\t -0.497061934 & -4.967575e-01 & -4.894699e-01 & -4.754434e-01 & -4.550519e-01 & -0.42879712 & -3.973040e-01 & -0.36131635 & -3.216906e-01 & -2.793893e-01 & ⋯ & -2.793893e-01 & -3.216906e-01 & -0.36131635 & -3.973040e-01 & -0.42879712 & -4.550519e-01 & -4.754434e-01 & -4.894699e-01 & -4.967575e-01 & -0.497061934\\\\\n",
       "\t -0.457618440 & -4.574465e-01 & -4.508774e-01 & -4.381373e-01 & -4.195718e-01 & -0.39564398 & -3.669309e-01 & -0.33411923 & -2.979997e-01 & -2.594616e-01 & ⋯ & -2.594616e-01 & -2.979997e-01 & -0.33411923 & -3.669309e-01 & -0.39564398 & -4.195718e-01 & -4.381373e-01 & -4.508774e-01 & -4.574465e-01 & -0.457618440\\\\\n",
       "\t -0.413656826 & -4.135956e-01 & -4.077795e-01 & -3.964140e-01 & -3.798127e-01 & -0.35839538 & -3.326850e-01 & -0.30330383 & -2.709688e-01 & -2.364863e-01 & ⋯ & -2.364863e-01 & -2.709688e-01 & -0.30330383 & -3.326850e-01 & -0.35839538 & -3.798127e-01 & -3.964140e-01 & -4.077795e-01 & -4.135956e-01 & -0.413656826\\\\\n",
       "\t -0.368941778 & -3.689427e-01 & -3.638272e-01 & -3.537791e-01 & -3.390788e-01 & -0.32010152 & -2.973143e-01 & -0.27127331 & -2.426191e-01 & -2.120723e-01 & ⋯ & -2.120723e-01 & -2.426191e-01 & -0.27127331 & -2.973143e-01 & -0.32010152 & -3.390788e-01 & -3.537791e-01 & -3.638272e-01 & -3.689427e-01 & -0.368941778\\\\\n",
       "\t -0.325964037 & -3.259631e-01 & -3.214412e-01 & -3.125608e-01 & -2.995695e-01 & -0.28279887 & -2.626616e-01 & -0.23964880 & -2.143266e-01 & -1.873315e-01 & ⋯ & -1.873315e-01 & -2.143266e-01 & -0.23964880 & -2.626616e-01 & -0.28279887 & -2.995695e-01 & -3.125608e-01 & -3.214412e-01 & -3.259631e-01 & -0.325964037\\\\\n",
       "\t -0.286072369 & -2.860003e-01 & -2.819395e-01 & -2.740319e-01 & -2.624938e-01 & -0.24761532 & -2.297576e-01 & -0.20935052 & -1.868892e-01 & -1.629305e-01 & ⋯ & -1.629305e-01 & -1.868892e-01 & -0.20935052 & -2.297576e-01 & -0.24761532 & -2.624938e-01 & -2.740319e-01 & -2.819395e-01 & -2.860003e-01 & -0.286072369\\\\\n",
       "\t -0.249799027 & -2.495887e-01 & -2.458521e-01 & -2.387113e-01 & -2.283535e-01 & -0.21503018 & -1.990546e-01 & -0.18079941 & -1.606939e-01 & -1.392202e-01 & ⋯ & -1.392202e-01 & -1.606939e-01 & -0.18079941 & -1.990546e-01 & -0.21503018 & -2.283535e-01 & -2.387113e-01 & -2.458521e-01 & -2.495887e-01 & -0.249799027\\\\\n",
       "\t -0.217180273 & -2.167715e-01 & -2.132304e-01 & -2.066605e-01 & -1.972219e-01 & -0.18513025 & -1.706548e-01 & -0.15411555 & -1.358808e-01 & -1.163635e-01 & ⋯ & -1.163635e-01 & -1.358808e-01 & -0.15411555 & -1.706548e-01 & -0.18513025 & -1.972219e-01 & -2.066605e-01 & -2.132304e-01 & -2.167715e-01 & -0.217180273\\\\\n",
       "\t -0.187995724 & -1.873377e-01 & -1.838788e-01 & -1.777050e-01 & -1.689513e-01 & -0.15780062 & -1.444815e-01 & -0.12926572 & -1.124655e-01 & -9.442967e-02 & ⋯ & -9.442967e-02 & -1.124655e-01 & -0.12926572 & -1.444815e-01 & -0.15780062 & -1.689513e-01 & -1.777050e-01 & -1.838788e-01 & -1.873377e-01 & -0.187995724\\\\\n",
       "\t -0.161921207 & -1.609739e-01 & -1.575022e-01 & -1.515756e-01 & -1.433061e-01 & -0.13284620 & -1.203874e-01 & -0.10615708 & -9.041586e-02 & -7.345375e-02 & ⋯ & -7.345375e-02 & -9.041586e-02 & -0.10615708 & -1.203874e-01 & -0.13284620 & -1.433061e-01 & -1.515756e-01 & -1.575022e-01 & -1.609739e-01 & -0.161921207\\\\\n",
       "\t -0.138615441 & -1.373499e-01 & -1.337894e-01 & -1.279882e-01 & -1.200368e-01 & -0.11006012 & -9.821533e-02 & -0.08468932 & -6.969522e-02 & -5.346869e-02 & ⋯ & -5.346869e-02 & -6.969522e-02 & -0.08468932 & -9.821533e-02 & -0.11006012 & -1.200368e-01 & -1.279882e-01 & -1.337894e-01 & -1.373499e-01 & -0.138615441\\\\\n",
       "\t -0.117763403 & -1.161615e-01 & -1.124549e-01 & -1.066834e-01 & -9.891776e-02 & -0.08925736 & -7.782824e-02 & -0.06477994 & -5.028206e-02 & -3.452021e-02 & ⋯ & -3.452021e-02 & -5.028206e-02 & -0.06477994 & -7.782824e-02 & -0.08925736 & -9.891776e-02 & -1.066834e-01 & -1.124549e-01 & -1.161615e-01 & -0.117763403\\\\\n",
       "\t -0.099094019 & -9.714827e-02 & -9.325552e-02 & -8.744234e-02 & -7.976108e-02 & -0.07028789 & -5.912017e-02 & -0.04637336 & -3.217715e-02 & -1.667113e-02 & ⋯ & -1.667113e-02 & -3.217715e-02 & -0.04637336 & -5.912017e-02 & -0.07028789 & -7.976108e-02 & -8.744234e-02 & -9.325552e-02 & -9.714827e-02 & -0.099094019\\\\\n",
       "\t -0.082383847 & -8.009676e-02 & -7.599397e-02 & -7.008969e-02 & -6.241956e-02 & -0.05303843 & -4.201759e-02 & -0.02944138 & -1.540302e-02 & -1.110223e-16 & ⋯ &  0.000000e+00 & -1.540302e-02 & -0.02944138 & -4.201759e-02 & -0.05303843 & -6.241956e-02 & -7.008969e-02 & -7.599397e-02 & -8.009676e-02 & -0.082383847\\\\\n",
       "\t -0.067453752 & -6.483717e-02 & -6.051496e-02 & -5.449004e-02 & -4.678280e-02 & -0.03742876 & -2.647555e-02 & -0.01397925 & -5.551115e-17 &  1.540302e-02 & ⋯ &  1.540302e-02 &  0.000000e+00 & -0.01397925 & -2.647555e-02 & -0.03742876 & -4.678280e-02 & -5.449004e-02 & -6.051496e-02 & -6.483717e-02 & -0.067453752\\\\\n",
       "\t -0.054162579 & -5.123691e-02 & -4.669898e-02 & -4.054144e-02 & -3.277095e-02 & -0.02340560 & -1.247173e-02 &  0.00000000 &  1.397925e-02 &  2.944138e-02 & ⋯ &  2.944138e-02 &  1.397925e-02 &  0.00000000 & -1.247173e-02 & -0.02340560 & -3.277095e-02 & -4.054144e-02 & -4.669898e-02 & -5.123691e-02 & -0.054162579\\\\\n",
       "\t -0.042399937 & -3.919338e-02 & -3.445501e-02 & -2.816833e-02 & -2.032775e-02 & -0.01093584 & -3.469447e-17 &  0.01247173 &  2.647555e-02 &  4.201759e-02 & ⋯ &  4.201759e-02 &  2.647555e-02 &  0.01247173 &  0.000000e+00 & -0.01093584 & -2.032775e-02 & -2.816833e-02 & -3.445501e-02 & -3.919338e-02 & -0.042399937\\\\\n",
       "\t -0.032079164 & -2.862681e-02 & -2.371343e-02 & -1.731452e-02 & -9.413710e-03 &  0.00000000 &  1.093584e-02 &  0.02340560 &  3.742876e-02 &  5.303843e-02 & ⋯ &  5.303843e-02 &  3.742876e-02 &  0.02340560 &  1.093584e-02 &  0.00000000 & -9.413710e-03 & -1.731452e-02 & -2.371343e-02 & -2.862681e-02 & -0.032079164\\\\\n",
       "\t -0.023130959 & -1.947390e-02 & -1.441967e-02 & -7.936896e-03 & -5.551115e-17 &  0.00941371 &  2.032775e-02 &  0.03277095 &  4.678280e-02 &  6.241956e-02 & ⋯ &  6.241956e-02 &  4.678280e-02 &  0.03277095 &  2.032775e-02 &  0.00941371 &  0.000000e+00 & -7.936896e-03 & -1.441967e-02 & -1.947390e-02 & -0.023130959\\\\\n",
       "\t -0.015497862 & -1.168223e-02 & -6.528631e-03 & -1.387779e-17 &  7.936896e-03 &  0.01731452 &  2.816833e-02 &  0.04054144 &  5.449004e-02 &  7.008969e-02 & ⋯ &  7.008969e-02 &  5.449004e-02 &  0.04054144 &  2.816833e-02 &  0.01731452 &  7.936896e-03 &  0.000000e+00 & -6.528631e-03 & -1.168223e-02 & -0.015497862\\\\\n",
       "\t -0.009129591 & -5.205574e-03 & -3.469447e-17 &  6.528631e-03 &  1.441967e-02 &  0.02371343 &  3.445501e-02 &  0.04669898 &  6.051496e-02 &  7.599397e-02 & ⋯ &  7.599397e-02 &  6.051496e-02 &  0.04669898 &  3.445501e-02 &  0.02371343 &  1.441967e-02 &  6.528631e-03 &  0.000000e+00 & -5.205574e-03 & -0.009129591\\\\\n",
       "\t -0.003979203 & -6.938894e-18 &  5.205574e-03 &  1.168223e-02 &  1.947390e-02 &  0.02862681 &  3.919338e-02 &  0.05123691 &  6.483717e-02 &  8.009676e-02 & ⋯ &  8.009676e-02 &  6.483717e-02 &  0.05123691 &  3.919338e-02 &  0.02862681 &  1.947390e-02 &  1.168223e-02 &  5.205574e-03 &  0.000000e+00 & -0.003979203\\\\\n",
       "\t  0.000000000 &  3.979203e-03 &  9.129591e-03 &  1.549786e-02 &  2.313096e-02 &  0.03207916 &  4.239994e-02 &  0.05416258 &  6.745375e-02 &  8.238385e-02 & ⋯ &  8.238385e-02 &  6.745375e-02 &  0.05416258 &  4.239994e-02 &  0.03207916 &  2.313096e-02 &  1.549786e-02 &  9.129591e-03 &  3.979203e-03 &  0.000000000\\\\\n",
       "\\end{tabular}\n"
      ],
      "text/markdown": [
       "\n",
       "A matrix: 50 × 50 of type dbl\n",
       "\n",
       "|  0.000000000 |  3.979203e-03 |  9.129591e-03 |  1.549786e-02 |  2.313096e-02 |  0.03207916 |  4.239994e-02 |  0.05416258 |  6.745375e-02 |  8.238385e-02 | ⋯ |  8.238385e-02 |  6.745375e-02 |  0.05416258 |  4.239994e-02 |  0.03207916 |  2.313096e-02 |  1.549786e-02 |  9.129591e-03 |  3.979203e-03 |  0.000000000 |\n",
       "| -0.003979203 |  0.000000e+00 |  5.205574e-03 |  1.168223e-02 |  1.947390e-02 |  0.02862681 |  3.919338e-02 |  0.05123691 |  6.483717e-02 |  8.009676e-02 | ⋯ |  8.009676e-02 |  6.483717e-02 |  0.05123691 |  3.919338e-02 |  0.02862681 |  1.947390e-02 |  1.168223e-02 |  5.205574e-03 |  6.938894e-18 | -0.003979203 |\n",
       "| -0.009129591 | -5.205574e-03 |  0.000000e+00 |  6.528631e-03 |  1.441967e-02 |  0.02371343 |  3.445501e-02 |  0.04669898 |  6.051496e-02 |  7.599397e-02 | ⋯ |  7.599397e-02 |  6.051496e-02 |  0.04669898 |  3.445501e-02 |  0.02371343 |  1.441967e-02 |  6.528631e-03 |  3.469447e-17 | -5.205574e-03 | -0.009129591 |\n",
       "| -0.015497862 | -1.168223e-02 | -6.528631e-03 |  0.000000e+00 |  7.936896e-03 |  0.01731452 |  2.816833e-02 |  0.04054144 |  5.449004e-02 |  7.008969e-02 | ⋯ |  7.008969e-02 |  5.449004e-02 |  0.04054144 |  2.816833e-02 |  0.01731452 |  7.936896e-03 |  1.387779e-17 | -6.528631e-03 | -1.168223e-02 | -0.015497862 |\n",
       "| -0.023130959 | -1.947390e-02 | -1.441967e-02 | -7.936896e-03 |  0.000000e+00 |  0.00941371 |  2.032775e-02 |  0.03277095 |  4.678280e-02 |  6.241956e-02 | ⋯ |  6.241956e-02 |  4.678280e-02 |  0.03277095 |  2.032775e-02 |  0.00941371 |  5.551115e-17 | -7.936896e-03 | -1.441967e-02 | -1.947390e-02 | -0.023130959 |\n",
       "| -0.032079164 | -2.862681e-02 | -2.371343e-02 | -1.731452e-02 | -9.413710e-03 |  0.00000000 |  1.093584e-02 |  0.02340560 |  3.742876e-02 |  5.303843e-02 | ⋯ |  5.303843e-02 |  3.742876e-02 |  0.02340560 |  1.093584e-02 |  0.00000000 | -9.413710e-03 | -1.731452e-02 | -2.371343e-02 | -2.862681e-02 | -0.032079164 |\n",
       "| -0.042399937 | -3.919338e-02 | -3.445501e-02 | -2.816833e-02 | -2.032775e-02 | -0.01093584 |  0.000000e+00 |  0.01247173 |  2.647555e-02 |  4.201759e-02 | ⋯ |  4.201759e-02 |  2.647555e-02 |  0.01247173 |  3.469447e-17 | -0.01093584 | -2.032775e-02 | -2.816833e-02 | -3.445501e-02 | -3.919338e-02 | -0.042399937 |\n",
       "| -0.054162579 | -5.123691e-02 | -4.669898e-02 | -4.054144e-02 | -3.277095e-02 | -0.02340560 | -1.247173e-02 |  0.00000000 |  1.397925e-02 |  2.944138e-02 | ⋯ |  2.944138e-02 |  1.397925e-02 |  0.00000000 | -1.247173e-02 | -0.02340560 | -3.277095e-02 | -4.054144e-02 | -4.669898e-02 | -5.123691e-02 | -0.054162579 |\n",
       "| -0.067453752 | -6.483717e-02 | -6.051496e-02 | -5.449004e-02 | -4.678280e-02 | -0.03742876 | -2.647555e-02 | -0.01397925 |  0.000000e+00 |  1.540302e-02 | ⋯ |  1.540302e-02 |  5.551115e-17 | -0.01397925 | -2.647555e-02 | -0.03742876 | -4.678280e-02 | -5.449004e-02 | -6.051496e-02 | -6.483717e-02 | -0.067453752 |\n",
       "| -0.082383847 | -8.009676e-02 | -7.599397e-02 | -7.008969e-02 | -6.241956e-02 | -0.05303843 | -4.201759e-02 | -0.02944138 | -1.540302e-02 |  0.000000e+00 | ⋯ |  1.110223e-16 | -1.540302e-02 | -0.02944138 | -4.201759e-02 | -0.05303843 | -6.241956e-02 | -7.008969e-02 | -7.599397e-02 | -8.009676e-02 | -0.082383847 |\n",
       "| -0.099094019 | -9.714827e-02 | -9.325552e-02 | -8.744234e-02 | -7.976108e-02 | -0.07028789 | -5.912017e-02 | -0.04637336 | -3.217715e-02 | -1.667113e-02 | ⋯ | -1.667113e-02 | -3.217715e-02 | -0.04637336 | -5.912017e-02 | -0.07028789 | -7.976108e-02 | -8.744234e-02 | -9.325552e-02 | -9.714827e-02 | -0.099094019 |\n",
       "| -0.117763403 | -1.161615e-01 | -1.124549e-01 | -1.066834e-01 | -9.891776e-02 | -0.08925736 | -7.782824e-02 | -0.06477994 | -5.028206e-02 | -3.452021e-02 | ⋯ | -3.452021e-02 | -5.028206e-02 | -0.06477994 | -7.782824e-02 | -0.08925736 | -9.891776e-02 | -1.066834e-01 | -1.124549e-01 | -1.161615e-01 | -0.117763403 |\n",
       "| -0.138615441 | -1.373499e-01 | -1.337894e-01 | -1.279882e-01 | -1.200368e-01 | -0.11006012 | -9.821533e-02 | -0.08468932 | -6.969522e-02 | -5.346869e-02 | ⋯ | -5.346869e-02 | -6.969522e-02 | -0.08468932 | -9.821533e-02 | -0.11006012 | -1.200368e-01 | -1.279882e-01 | -1.337894e-01 | -1.373499e-01 | -0.138615441 |\n",
       "| -0.161921207 | -1.609739e-01 | -1.575022e-01 | -1.515756e-01 | -1.433061e-01 | -0.13284620 | -1.203874e-01 | -0.10615708 | -9.041586e-02 | -7.345375e-02 | ⋯ | -7.345375e-02 | -9.041586e-02 | -0.10615708 | -1.203874e-01 | -0.13284620 | -1.433061e-01 | -1.515756e-01 | -1.575022e-01 | -1.609739e-01 | -0.161921207 |\n",
       "| -0.187995724 | -1.873377e-01 | -1.838788e-01 | -1.777050e-01 | -1.689513e-01 | -0.15780062 | -1.444815e-01 | -0.12926572 | -1.124655e-01 | -9.442967e-02 | ⋯ | -9.442967e-02 | -1.124655e-01 | -0.12926572 | -1.444815e-01 | -0.15780062 | -1.689513e-01 | -1.777050e-01 | -1.838788e-01 | -1.873377e-01 | -0.187995724 |\n",
       "| -0.217180273 | -2.167715e-01 | -2.132304e-01 | -2.066605e-01 | -1.972219e-01 | -0.18513025 | -1.706548e-01 | -0.15411555 | -1.358808e-01 | -1.163635e-01 | ⋯ | -1.163635e-01 | -1.358808e-01 | -0.15411555 | -1.706548e-01 | -0.18513025 | -1.972219e-01 | -2.066605e-01 | -2.132304e-01 | -2.167715e-01 | -0.217180273 |\n",
       "| -0.249799027 | -2.495887e-01 | -2.458521e-01 | -2.387113e-01 | -2.283535e-01 | -0.21503018 | -1.990546e-01 | -0.18079941 | -1.606939e-01 | -1.392202e-01 | ⋯ | -1.392202e-01 | -1.606939e-01 | -0.18079941 | -1.990546e-01 | -0.21503018 | -2.283535e-01 | -2.387113e-01 | -2.458521e-01 | -2.495887e-01 | -0.249799027 |\n",
       "| -0.286072369 | -2.860003e-01 | -2.819395e-01 | -2.740319e-01 | -2.624938e-01 | -0.24761532 | -2.297576e-01 | -0.20935052 | -1.868892e-01 | -1.629305e-01 | ⋯ | -1.629305e-01 | -1.868892e-01 | -0.20935052 | -2.297576e-01 | -0.24761532 | -2.624938e-01 | -2.740319e-01 | -2.819395e-01 | -2.860003e-01 | -0.286072369 |\n",
       "| -0.325964037 | -3.259631e-01 | -3.214412e-01 | -3.125608e-01 | -2.995695e-01 | -0.28279887 | -2.626616e-01 | -0.23964880 | -2.143266e-01 | -1.873315e-01 | ⋯ | -1.873315e-01 | -2.143266e-01 | -0.23964880 | -2.626616e-01 | -0.28279887 | -2.995695e-01 | -3.125608e-01 | -3.214412e-01 | -3.259631e-01 | -0.325964037 |\n",
       "| -0.368941778 | -3.689427e-01 | -3.638272e-01 | -3.537791e-01 | -3.390788e-01 | -0.32010152 | -2.973143e-01 | -0.27127331 | -2.426191e-01 | -2.120723e-01 | ⋯ | -2.120723e-01 | -2.426191e-01 | -0.27127331 | -2.973143e-01 | -0.32010152 | -3.390788e-01 | -3.537791e-01 | -3.638272e-01 | -3.689427e-01 | -0.368941778 |\n",
       "| -0.413656826 | -4.135956e-01 | -4.077795e-01 | -3.964140e-01 | -3.798127e-01 | -0.35839538 | -3.326850e-01 | -0.30330383 | -2.709688e-01 | -2.364863e-01 | ⋯ | -2.364863e-01 | -2.709688e-01 | -0.30330383 | -3.326850e-01 | -0.35839538 | -3.798127e-01 | -3.964140e-01 | -4.077795e-01 | -4.135956e-01 | -0.413656826 |\n",
       "| -0.457618440 | -4.574465e-01 | -4.508774e-01 | -4.381373e-01 | -4.195718e-01 | -0.39564398 | -3.669309e-01 | -0.33411923 | -2.979997e-01 | -2.594616e-01 | ⋯ | -2.594616e-01 | -2.979997e-01 | -0.33411923 | -3.669309e-01 | -0.39564398 | -4.195718e-01 | -4.381373e-01 | -4.508774e-01 | -4.574465e-01 | -0.457618440 |\n",
       "| -0.497061934 | -4.967575e-01 | -4.894699e-01 | -4.754434e-01 | -4.550519e-01 | -0.42879712 | -3.973040e-01 | -0.36131635 | -3.216906e-01 | -2.793893e-01 | ⋯ | -2.793893e-01 | -3.216906e-01 | -0.36131635 | -3.973040e-01 | -0.42879712 | -4.550519e-01 | -4.754434e-01 | -4.894699e-01 | -4.967575e-01 | -0.497061934 |\n",
       "| -0.527313681 | -5.268903e-01 | -5.190290e-01 | -5.039880e-01 | -4.821627e-01 | -0.45408396 | -4.204135e-01 | -0.38193848 | -3.395653e-01 | -2.943124e-01 | ⋯ | -2.943124e-01 | -3.395653e-01 | -0.38193848 | -4.204135e-01 | -0.45408396 | -4.821627e-01 | -5.039880e-01 | -5.190290e-01 | -5.268903e-01 | -0.527313681 |\n",
       "| -0.543858425 | -5.433644e-01 | -5.351823e-01 | -5.195775e-01 | -4.969575e-01 | -0.46786880 | -4.329932e-01 | -0.39314148 | -3.492473e-01 | -3.023594e-01 | ⋯ | -3.023594e-01 | -3.492473e-01 | -0.39314148 | -4.329932e-01 | -0.46786880 | -4.969575e-01 | -5.195775e-01 | -5.351823e-01 | -5.433644e-01 | -0.543858425 |\n",
       "| -0.543858425 | -5.433644e-01 | -5.351823e-01 | -5.195775e-01 | -4.969575e-01 | -0.46786880 | -4.329932e-01 | -0.39314148 | -3.492473e-01 | -3.023594e-01 | ⋯ | -3.023594e-01 | -3.492473e-01 | -0.39314148 | -4.329932e-01 | -0.46786880 | -4.969575e-01 | -5.195775e-01 | -5.351823e-01 | -5.433644e-01 | -0.543858425 |\n",
       "| -0.527313681 | -5.268903e-01 | -5.190290e-01 | -5.039880e-01 | -4.821627e-01 | -0.45408396 | -4.204135e-01 | -0.38193848 | -3.395653e-01 | -2.943124e-01 | ⋯ | -2.943124e-01 | -3.395653e-01 | -0.38193848 | -4.204135e-01 | -0.45408396 | -4.821627e-01 | -5.039880e-01 | -5.190290e-01 | -5.268903e-01 | -0.527313681 |\n",
       "| -0.497061934 | -4.967575e-01 | -4.894699e-01 | -4.754434e-01 | -4.550519e-01 | -0.42879712 | -3.973040e-01 | -0.36131635 | -3.216906e-01 | -2.793893e-01 | ⋯ | -2.793893e-01 | -3.216906e-01 | -0.36131635 | -3.973040e-01 | -0.42879712 | -4.550519e-01 | -4.754434e-01 | -4.894699e-01 | -4.967575e-01 | -0.497061934 |\n",
       "| -0.457618440 | -4.574465e-01 | -4.508774e-01 | -4.381373e-01 | -4.195718e-01 | -0.39564398 | -3.669309e-01 | -0.33411923 | -2.979997e-01 | -2.594616e-01 | ⋯ | -2.594616e-01 | -2.979997e-01 | -0.33411923 | -3.669309e-01 | -0.39564398 | -4.195718e-01 | -4.381373e-01 | -4.508774e-01 | -4.574465e-01 | -0.457618440 |\n",
       "| -0.413656826 | -4.135956e-01 | -4.077795e-01 | -3.964140e-01 | -3.798127e-01 | -0.35839538 | -3.326850e-01 | -0.30330383 | -2.709688e-01 | -2.364863e-01 | ⋯ | -2.364863e-01 | -2.709688e-01 | -0.30330383 | -3.326850e-01 | -0.35839538 | -3.798127e-01 | -3.964140e-01 | -4.077795e-01 | -4.135956e-01 | -0.413656826 |\n",
       "| -0.368941778 | -3.689427e-01 | -3.638272e-01 | -3.537791e-01 | -3.390788e-01 | -0.32010152 | -2.973143e-01 | -0.27127331 | -2.426191e-01 | -2.120723e-01 | ⋯ | -2.120723e-01 | -2.426191e-01 | -0.27127331 | -2.973143e-01 | -0.32010152 | -3.390788e-01 | -3.537791e-01 | -3.638272e-01 | -3.689427e-01 | -0.368941778 |\n",
       "| -0.325964037 | -3.259631e-01 | -3.214412e-01 | -3.125608e-01 | -2.995695e-01 | -0.28279887 | -2.626616e-01 | -0.23964880 | -2.143266e-01 | -1.873315e-01 | ⋯ | -1.873315e-01 | -2.143266e-01 | -0.23964880 | -2.626616e-01 | -0.28279887 | -2.995695e-01 | -3.125608e-01 | -3.214412e-01 | -3.259631e-01 | -0.325964037 |\n",
       "| -0.286072369 | -2.860003e-01 | -2.819395e-01 | -2.740319e-01 | -2.624938e-01 | -0.24761532 | -2.297576e-01 | -0.20935052 | -1.868892e-01 | -1.629305e-01 | ⋯ | -1.629305e-01 | -1.868892e-01 | -0.20935052 | -2.297576e-01 | -0.24761532 | -2.624938e-01 | -2.740319e-01 | -2.819395e-01 | -2.860003e-01 | -0.286072369 |\n",
       "| -0.249799027 | -2.495887e-01 | -2.458521e-01 | -2.387113e-01 | -2.283535e-01 | -0.21503018 | -1.990546e-01 | -0.18079941 | -1.606939e-01 | -1.392202e-01 | ⋯ | -1.392202e-01 | -1.606939e-01 | -0.18079941 | -1.990546e-01 | -0.21503018 | -2.283535e-01 | -2.387113e-01 | -2.458521e-01 | -2.495887e-01 | -0.249799027 |\n",
       "| -0.217180273 | -2.167715e-01 | -2.132304e-01 | -2.066605e-01 | -1.972219e-01 | -0.18513025 | -1.706548e-01 | -0.15411555 | -1.358808e-01 | -1.163635e-01 | ⋯ | -1.163635e-01 | -1.358808e-01 | -0.15411555 | -1.706548e-01 | -0.18513025 | -1.972219e-01 | -2.066605e-01 | -2.132304e-01 | -2.167715e-01 | -0.217180273 |\n",
       "| -0.187995724 | -1.873377e-01 | -1.838788e-01 | -1.777050e-01 | -1.689513e-01 | -0.15780062 | -1.444815e-01 | -0.12926572 | -1.124655e-01 | -9.442967e-02 | ⋯ | -9.442967e-02 | -1.124655e-01 | -0.12926572 | -1.444815e-01 | -0.15780062 | -1.689513e-01 | -1.777050e-01 | -1.838788e-01 | -1.873377e-01 | -0.187995724 |\n",
       "| -0.161921207 | -1.609739e-01 | -1.575022e-01 | -1.515756e-01 | -1.433061e-01 | -0.13284620 | -1.203874e-01 | -0.10615708 | -9.041586e-02 | -7.345375e-02 | ⋯ | -7.345375e-02 | -9.041586e-02 | -0.10615708 | -1.203874e-01 | -0.13284620 | -1.433061e-01 | -1.515756e-01 | -1.575022e-01 | -1.609739e-01 | -0.161921207 |\n",
       "| -0.138615441 | -1.373499e-01 | -1.337894e-01 | -1.279882e-01 | -1.200368e-01 | -0.11006012 | -9.821533e-02 | -0.08468932 | -6.969522e-02 | -5.346869e-02 | ⋯ | -5.346869e-02 | -6.969522e-02 | -0.08468932 | -9.821533e-02 | -0.11006012 | -1.200368e-01 | -1.279882e-01 | -1.337894e-01 | -1.373499e-01 | -0.138615441 |\n",
       "| -0.117763403 | -1.161615e-01 | -1.124549e-01 | -1.066834e-01 | -9.891776e-02 | -0.08925736 | -7.782824e-02 | -0.06477994 | -5.028206e-02 | -3.452021e-02 | ⋯ | -3.452021e-02 | -5.028206e-02 | -0.06477994 | -7.782824e-02 | -0.08925736 | -9.891776e-02 | -1.066834e-01 | -1.124549e-01 | -1.161615e-01 | -0.117763403 |\n",
       "| -0.099094019 | -9.714827e-02 | -9.325552e-02 | -8.744234e-02 | -7.976108e-02 | -0.07028789 | -5.912017e-02 | -0.04637336 | -3.217715e-02 | -1.667113e-02 | ⋯ | -1.667113e-02 | -3.217715e-02 | -0.04637336 | -5.912017e-02 | -0.07028789 | -7.976108e-02 | -8.744234e-02 | -9.325552e-02 | -9.714827e-02 | -0.099094019 |\n",
       "| -0.082383847 | -8.009676e-02 | -7.599397e-02 | -7.008969e-02 | -6.241956e-02 | -0.05303843 | -4.201759e-02 | -0.02944138 | -1.540302e-02 | -1.110223e-16 | ⋯ |  0.000000e+00 | -1.540302e-02 | -0.02944138 | -4.201759e-02 | -0.05303843 | -6.241956e-02 | -7.008969e-02 | -7.599397e-02 | -8.009676e-02 | -0.082383847 |\n",
       "| -0.067453752 | -6.483717e-02 | -6.051496e-02 | -5.449004e-02 | -4.678280e-02 | -0.03742876 | -2.647555e-02 | -0.01397925 | -5.551115e-17 |  1.540302e-02 | ⋯ |  1.540302e-02 |  0.000000e+00 | -0.01397925 | -2.647555e-02 | -0.03742876 | -4.678280e-02 | -5.449004e-02 | -6.051496e-02 | -6.483717e-02 | -0.067453752 |\n",
       "| -0.054162579 | -5.123691e-02 | -4.669898e-02 | -4.054144e-02 | -3.277095e-02 | -0.02340560 | -1.247173e-02 |  0.00000000 |  1.397925e-02 |  2.944138e-02 | ⋯ |  2.944138e-02 |  1.397925e-02 |  0.00000000 | -1.247173e-02 | -0.02340560 | -3.277095e-02 | -4.054144e-02 | -4.669898e-02 | -5.123691e-02 | -0.054162579 |\n",
       "| -0.042399937 | -3.919338e-02 | -3.445501e-02 | -2.816833e-02 | -2.032775e-02 | -0.01093584 | -3.469447e-17 |  0.01247173 |  2.647555e-02 |  4.201759e-02 | ⋯ |  4.201759e-02 |  2.647555e-02 |  0.01247173 |  0.000000e+00 | -0.01093584 | -2.032775e-02 | -2.816833e-02 | -3.445501e-02 | -3.919338e-02 | -0.042399937 |\n",
       "| -0.032079164 | -2.862681e-02 | -2.371343e-02 | -1.731452e-02 | -9.413710e-03 |  0.00000000 |  1.093584e-02 |  0.02340560 |  3.742876e-02 |  5.303843e-02 | ⋯ |  5.303843e-02 |  3.742876e-02 |  0.02340560 |  1.093584e-02 |  0.00000000 | -9.413710e-03 | -1.731452e-02 | -2.371343e-02 | -2.862681e-02 | -0.032079164 |\n",
       "| -0.023130959 | -1.947390e-02 | -1.441967e-02 | -7.936896e-03 | -5.551115e-17 |  0.00941371 |  2.032775e-02 |  0.03277095 |  4.678280e-02 |  6.241956e-02 | ⋯ |  6.241956e-02 |  4.678280e-02 |  0.03277095 |  2.032775e-02 |  0.00941371 |  0.000000e+00 | -7.936896e-03 | -1.441967e-02 | -1.947390e-02 | -0.023130959 |\n",
       "| -0.015497862 | -1.168223e-02 | -6.528631e-03 | -1.387779e-17 |  7.936896e-03 |  0.01731452 |  2.816833e-02 |  0.04054144 |  5.449004e-02 |  7.008969e-02 | ⋯ |  7.008969e-02 |  5.449004e-02 |  0.04054144 |  2.816833e-02 |  0.01731452 |  7.936896e-03 |  0.000000e+00 | -6.528631e-03 | -1.168223e-02 | -0.015497862 |\n",
       "| -0.009129591 | -5.205574e-03 | -3.469447e-17 |  6.528631e-03 |  1.441967e-02 |  0.02371343 |  3.445501e-02 |  0.04669898 |  6.051496e-02 |  7.599397e-02 | ⋯ |  7.599397e-02 |  6.051496e-02 |  0.04669898 |  3.445501e-02 |  0.02371343 |  1.441967e-02 |  6.528631e-03 |  0.000000e+00 | -5.205574e-03 | -0.009129591 |\n",
       "| -0.003979203 | -6.938894e-18 |  5.205574e-03 |  1.168223e-02 |  1.947390e-02 |  0.02862681 |  3.919338e-02 |  0.05123691 |  6.483717e-02 |  8.009676e-02 | ⋯ |  8.009676e-02 |  6.483717e-02 |  0.05123691 |  3.919338e-02 |  0.02862681 |  1.947390e-02 |  1.168223e-02 |  5.205574e-03 |  0.000000e+00 | -0.003979203 |\n",
       "|  0.000000000 |  3.979203e-03 |  9.129591e-03 |  1.549786e-02 |  2.313096e-02 |  0.03207916 |  4.239994e-02 |  0.05416258 |  6.745375e-02 |  8.238385e-02 | ⋯ |  8.238385e-02 |  6.745375e-02 |  0.05416258 |  4.239994e-02 |  0.03207916 |  2.313096e-02 |  1.549786e-02 |  9.129591e-03 |  3.979203e-03 |  0.000000000 |\n",
       "\n"
      ],
      "text/plain": [
       "      [,1]         [,2]          [,3]          [,4]          [,5]         \n",
       " [1,]  0.000000000  3.979203e-03  9.129591e-03  1.549786e-02  2.313096e-02\n",
       " [2,] -0.003979203  0.000000e+00  5.205574e-03  1.168223e-02  1.947390e-02\n",
       " [3,] -0.009129591 -5.205574e-03  0.000000e+00  6.528631e-03  1.441967e-02\n",
       " [4,] -0.015497862 -1.168223e-02 -6.528631e-03  0.000000e+00  7.936896e-03\n",
       " [5,] -0.023130959 -1.947390e-02 -1.441967e-02 -7.936896e-03  0.000000e+00\n",
       " [6,] -0.032079164 -2.862681e-02 -2.371343e-02 -1.731452e-02 -9.413710e-03\n",
       " [7,] -0.042399937 -3.919338e-02 -3.445501e-02 -2.816833e-02 -2.032775e-02\n",
       " [8,] -0.054162579 -5.123691e-02 -4.669898e-02 -4.054144e-02 -3.277095e-02\n",
       " [9,] -0.067453752 -6.483717e-02 -6.051496e-02 -5.449004e-02 -4.678280e-02\n",
       "[10,] -0.082383847 -8.009676e-02 -7.599397e-02 -7.008969e-02 -6.241956e-02\n",
       "[11,] -0.099094019 -9.714827e-02 -9.325552e-02 -8.744234e-02 -7.976108e-02\n",
       "[12,] -0.117763403 -1.161615e-01 -1.124549e-01 -1.066834e-01 -9.891776e-02\n",
       "[13,] -0.138615441 -1.373499e-01 -1.337894e-01 -1.279882e-01 -1.200368e-01\n",
       "[14,] -0.161921207 -1.609739e-01 -1.575022e-01 -1.515756e-01 -1.433061e-01\n",
       "[15,] -0.187995724 -1.873377e-01 -1.838788e-01 -1.777050e-01 -1.689513e-01\n",
       "[16,] -0.217180273 -2.167715e-01 -2.132304e-01 -2.066605e-01 -1.972219e-01\n",
       "[17,] -0.249799027 -2.495887e-01 -2.458521e-01 -2.387113e-01 -2.283535e-01\n",
       "[18,] -0.286072369 -2.860003e-01 -2.819395e-01 -2.740319e-01 -2.624938e-01\n",
       "[19,] -0.325964037 -3.259631e-01 -3.214412e-01 -3.125608e-01 -2.995695e-01\n",
       "[20,] -0.368941778 -3.689427e-01 -3.638272e-01 -3.537791e-01 -3.390788e-01\n",
       "[21,] -0.413656826 -4.135956e-01 -4.077795e-01 -3.964140e-01 -3.798127e-01\n",
       "[22,] -0.457618440 -4.574465e-01 -4.508774e-01 -4.381373e-01 -4.195718e-01\n",
       "[23,] -0.497061934 -4.967575e-01 -4.894699e-01 -4.754434e-01 -4.550519e-01\n",
       "[24,] -0.527313681 -5.268903e-01 -5.190290e-01 -5.039880e-01 -4.821627e-01\n",
       "[25,] -0.543858425 -5.433644e-01 -5.351823e-01 -5.195775e-01 -4.969575e-01\n",
       "[26,] -0.543858425 -5.433644e-01 -5.351823e-01 -5.195775e-01 -4.969575e-01\n",
       "[27,] -0.527313681 -5.268903e-01 -5.190290e-01 -5.039880e-01 -4.821627e-01\n",
       "[28,] -0.497061934 -4.967575e-01 -4.894699e-01 -4.754434e-01 -4.550519e-01\n",
       "[29,] -0.457618440 -4.574465e-01 -4.508774e-01 -4.381373e-01 -4.195718e-01\n",
       "[30,] -0.413656826 -4.135956e-01 -4.077795e-01 -3.964140e-01 -3.798127e-01\n",
       "[31,] -0.368941778 -3.689427e-01 -3.638272e-01 -3.537791e-01 -3.390788e-01\n",
       "[32,] -0.325964037 -3.259631e-01 -3.214412e-01 -3.125608e-01 -2.995695e-01\n",
       "[33,] -0.286072369 -2.860003e-01 -2.819395e-01 -2.740319e-01 -2.624938e-01\n",
       "[34,] -0.249799027 -2.495887e-01 -2.458521e-01 -2.387113e-01 -2.283535e-01\n",
       "[35,] -0.217180273 -2.167715e-01 -2.132304e-01 -2.066605e-01 -1.972219e-01\n",
       "[36,] -0.187995724 -1.873377e-01 -1.838788e-01 -1.777050e-01 -1.689513e-01\n",
       "[37,] -0.161921207 -1.609739e-01 -1.575022e-01 -1.515756e-01 -1.433061e-01\n",
       "[38,] -0.138615441 -1.373499e-01 -1.337894e-01 -1.279882e-01 -1.200368e-01\n",
       "[39,] -0.117763403 -1.161615e-01 -1.124549e-01 -1.066834e-01 -9.891776e-02\n",
       "[40,] -0.099094019 -9.714827e-02 -9.325552e-02 -8.744234e-02 -7.976108e-02\n",
       "[41,] -0.082383847 -8.009676e-02 -7.599397e-02 -7.008969e-02 -6.241956e-02\n",
       "[42,] -0.067453752 -6.483717e-02 -6.051496e-02 -5.449004e-02 -4.678280e-02\n",
       "[43,] -0.054162579 -5.123691e-02 -4.669898e-02 -4.054144e-02 -3.277095e-02\n",
       "[44,] -0.042399937 -3.919338e-02 -3.445501e-02 -2.816833e-02 -2.032775e-02\n",
       "[45,] -0.032079164 -2.862681e-02 -2.371343e-02 -1.731452e-02 -9.413710e-03\n",
       "[46,] -0.023130959 -1.947390e-02 -1.441967e-02 -7.936896e-03 -5.551115e-17\n",
       "[47,] -0.015497862 -1.168223e-02 -6.528631e-03 -1.387779e-17  7.936896e-03\n",
       "[48,] -0.009129591 -5.205574e-03 -3.469447e-17  6.528631e-03  1.441967e-02\n",
       "[49,] -0.003979203 -6.938894e-18  5.205574e-03  1.168223e-02  1.947390e-02\n",
       "[50,]  0.000000000  3.979203e-03  9.129591e-03  1.549786e-02  2.313096e-02\n",
       "      [,6]        [,7]          [,8]        [,9]          [,10]         [,11]\n",
       " [1,]  0.03207916  4.239994e-02  0.05416258  6.745375e-02  8.238385e-02 <U+22EF>\n",
       " [2,]  0.02862681  3.919338e-02  0.05123691  6.483717e-02  8.009676e-02 <U+22EF>\n",
       " [3,]  0.02371343  3.445501e-02  0.04669898  6.051496e-02  7.599397e-02 <U+22EF>\n",
       " [4,]  0.01731452  2.816833e-02  0.04054144  5.449004e-02  7.008969e-02 <U+22EF>\n",
       " [5,]  0.00941371  2.032775e-02  0.03277095  4.678280e-02  6.241956e-02 <U+22EF>\n",
       " [6,]  0.00000000  1.093584e-02  0.02340560  3.742876e-02  5.303843e-02 <U+22EF>\n",
       " [7,] -0.01093584  0.000000e+00  0.01247173  2.647555e-02  4.201759e-02 <U+22EF>\n",
       " [8,] -0.02340560 -1.247173e-02  0.00000000  1.397925e-02  2.944138e-02 <U+22EF>\n",
       " [9,] -0.03742876 -2.647555e-02 -0.01397925  0.000000e+00  1.540302e-02 <U+22EF>\n",
       "[10,] -0.05303843 -4.201759e-02 -0.02944138 -1.540302e-02  0.000000e+00 <U+22EF>\n",
       "[11,] -0.07028789 -5.912017e-02 -0.04637336 -3.217715e-02 -1.667113e-02 <U+22EF>\n",
       "[12,] -0.08925736 -7.782824e-02 -0.06477994 -5.028206e-02 -3.452021e-02 <U+22EF>\n",
       "[13,] -0.11006012 -9.821533e-02 -0.08468932 -6.969522e-02 -5.346869e-02 <U+22EF>\n",
       "[14,] -0.13284620 -1.203874e-01 -0.10615708 -9.041586e-02 -7.345375e-02 <U+22EF>\n",
       "[15,] -0.15780062 -1.444815e-01 -0.12926572 -1.124655e-01 -9.442967e-02 <U+22EF>\n",
       "[16,] -0.18513025 -1.706548e-01 -0.15411555 -1.358808e-01 -1.163635e-01 <U+22EF>\n",
       "[17,] -0.21503018 -1.990546e-01 -0.18079941 -1.606939e-01 -1.392202e-01 <U+22EF>\n",
       "[18,] -0.24761532 -2.297576e-01 -0.20935052 -1.868892e-01 -1.629305e-01 <U+22EF>\n",
       "[19,] -0.28279887 -2.626616e-01 -0.23964880 -2.143266e-01 -1.873315e-01 <U+22EF>\n",
       "[20,] -0.32010152 -2.973143e-01 -0.27127331 -2.426191e-01 -2.120723e-01 <U+22EF>\n",
       "[21,] -0.35839538 -3.326850e-01 -0.30330383 -2.709688e-01 -2.364863e-01 <U+22EF>\n",
       "[22,] -0.39564398 -3.669309e-01 -0.33411923 -2.979997e-01 -2.594616e-01 <U+22EF>\n",
       "[23,] -0.42879712 -3.973040e-01 -0.36131635 -3.216906e-01 -2.793893e-01 <U+22EF>\n",
       "[24,] -0.45408396 -4.204135e-01 -0.38193848 -3.395653e-01 -2.943124e-01 <U+22EF>\n",
       "[25,] -0.46786880 -4.329932e-01 -0.39314148 -3.492473e-01 -3.023594e-01 <U+22EF>\n",
       "[26,] -0.46786880 -4.329932e-01 -0.39314148 -3.492473e-01 -3.023594e-01 <U+22EF>\n",
       "[27,] -0.45408396 -4.204135e-01 -0.38193848 -3.395653e-01 -2.943124e-01 <U+22EF>\n",
       "[28,] -0.42879712 -3.973040e-01 -0.36131635 -3.216906e-01 -2.793893e-01 <U+22EF>\n",
       "[29,] -0.39564398 -3.669309e-01 -0.33411923 -2.979997e-01 -2.594616e-01 <U+22EF>\n",
       "[30,] -0.35839538 -3.326850e-01 -0.30330383 -2.709688e-01 -2.364863e-01 <U+22EF>\n",
       "[31,] -0.32010152 -2.973143e-01 -0.27127331 -2.426191e-01 -2.120723e-01 <U+22EF>\n",
       "[32,] -0.28279887 -2.626616e-01 -0.23964880 -2.143266e-01 -1.873315e-01 <U+22EF>\n",
       "[33,] -0.24761532 -2.297576e-01 -0.20935052 -1.868892e-01 -1.629305e-01 <U+22EF>\n",
       "[34,] -0.21503018 -1.990546e-01 -0.18079941 -1.606939e-01 -1.392202e-01 <U+22EF>\n",
       "[35,] -0.18513025 -1.706548e-01 -0.15411555 -1.358808e-01 -1.163635e-01 <U+22EF>\n",
       "[36,] -0.15780062 -1.444815e-01 -0.12926572 -1.124655e-01 -9.442967e-02 <U+22EF>\n",
       "[37,] -0.13284620 -1.203874e-01 -0.10615708 -9.041586e-02 -7.345375e-02 <U+22EF>\n",
       "[38,] -0.11006012 -9.821533e-02 -0.08468932 -6.969522e-02 -5.346869e-02 <U+22EF>\n",
       "[39,] -0.08925736 -7.782824e-02 -0.06477994 -5.028206e-02 -3.452021e-02 <U+22EF>\n",
       "[40,] -0.07028789 -5.912017e-02 -0.04637336 -3.217715e-02 -1.667113e-02 <U+22EF>\n",
       "[41,] -0.05303843 -4.201759e-02 -0.02944138 -1.540302e-02 -1.110223e-16 <U+22EF>\n",
       "[42,] -0.03742876 -2.647555e-02 -0.01397925 -5.551115e-17  1.540302e-02 <U+22EF>\n",
       "[43,] -0.02340560 -1.247173e-02  0.00000000  1.397925e-02  2.944138e-02 <U+22EF>\n",
       "[44,] -0.01093584 -3.469447e-17  0.01247173  2.647555e-02  4.201759e-02 <U+22EF>\n",
       "[45,]  0.00000000  1.093584e-02  0.02340560  3.742876e-02  5.303843e-02 <U+22EF>\n",
       "[46,]  0.00941371  2.032775e-02  0.03277095  4.678280e-02  6.241956e-02 <U+22EF>\n",
       "[47,]  0.01731452  2.816833e-02  0.04054144  5.449004e-02  7.008969e-02 <U+22EF>\n",
       "[48,]  0.02371343  3.445501e-02  0.04669898  6.051496e-02  7.599397e-02 <U+22EF>\n",
       "[49,]  0.02862681  3.919338e-02  0.05123691  6.483717e-02  8.009676e-02 <U+22EF>\n",
       "[50,]  0.03207916  4.239994e-02  0.05416258  6.745375e-02  8.238385e-02 <U+22EF>\n",
       "      [,12]         [,13]         [,14]       [,15]         [,16]      \n",
       " [1,]  8.238385e-02  6.745375e-02  0.05416258  4.239994e-02  0.03207916\n",
       " [2,]  8.009676e-02  6.483717e-02  0.05123691  3.919338e-02  0.02862681\n",
       " [3,]  7.599397e-02  6.051496e-02  0.04669898  3.445501e-02  0.02371343\n",
       " [4,]  7.008969e-02  5.449004e-02  0.04054144  2.816833e-02  0.01731452\n",
       " [5,]  6.241956e-02  4.678280e-02  0.03277095  2.032775e-02  0.00941371\n",
       " [6,]  5.303843e-02  3.742876e-02  0.02340560  1.093584e-02  0.00000000\n",
       " [7,]  4.201759e-02  2.647555e-02  0.01247173  3.469447e-17 -0.01093584\n",
       " [8,]  2.944138e-02  1.397925e-02  0.00000000 -1.247173e-02 -0.02340560\n",
       " [9,]  1.540302e-02  5.551115e-17 -0.01397925 -2.647555e-02 -0.03742876\n",
       "[10,]  1.110223e-16 -1.540302e-02 -0.02944138 -4.201759e-02 -0.05303843\n",
       "[11,] -1.667113e-02 -3.217715e-02 -0.04637336 -5.912017e-02 -0.07028789\n",
       "[12,] -3.452021e-02 -5.028206e-02 -0.06477994 -7.782824e-02 -0.08925736\n",
       "[13,] -5.346869e-02 -6.969522e-02 -0.08468932 -9.821533e-02 -0.11006012\n",
       "[14,] -7.345375e-02 -9.041586e-02 -0.10615708 -1.203874e-01 -0.13284620\n",
       "[15,] -9.442967e-02 -1.124655e-01 -0.12926572 -1.444815e-01 -0.15780062\n",
       "[16,] -1.163635e-01 -1.358808e-01 -0.15411555 -1.706548e-01 -0.18513025\n",
       "[17,] -1.392202e-01 -1.606939e-01 -0.18079941 -1.990546e-01 -0.21503018\n",
       "[18,] -1.629305e-01 -1.868892e-01 -0.20935052 -2.297576e-01 -0.24761532\n",
       "[19,] -1.873315e-01 -2.143266e-01 -0.23964880 -2.626616e-01 -0.28279887\n",
       "[20,] -2.120723e-01 -2.426191e-01 -0.27127331 -2.973143e-01 -0.32010152\n",
       "[21,] -2.364863e-01 -2.709688e-01 -0.30330383 -3.326850e-01 -0.35839538\n",
       "[22,] -2.594616e-01 -2.979997e-01 -0.33411923 -3.669309e-01 -0.39564398\n",
       "[23,] -2.793893e-01 -3.216906e-01 -0.36131635 -3.973040e-01 -0.42879712\n",
       "[24,] -2.943124e-01 -3.395653e-01 -0.38193848 -4.204135e-01 -0.45408396\n",
       "[25,] -3.023594e-01 -3.492473e-01 -0.39314148 -4.329932e-01 -0.46786880\n",
       "[26,] -3.023594e-01 -3.492473e-01 -0.39314148 -4.329932e-01 -0.46786880\n",
       "[27,] -2.943124e-01 -3.395653e-01 -0.38193848 -4.204135e-01 -0.45408396\n",
       "[28,] -2.793893e-01 -3.216906e-01 -0.36131635 -3.973040e-01 -0.42879712\n",
       "[29,] -2.594616e-01 -2.979997e-01 -0.33411923 -3.669309e-01 -0.39564398\n",
       "[30,] -2.364863e-01 -2.709688e-01 -0.30330383 -3.326850e-01 -0.35839538\n",
       "[31,] -2.120723e-01 -2.426191e-01 -0.27127331 -2.973143e-01 -0.32010152\n",
       "[32,] -1.873315e-01 -2.143266e-01 -0.23964880 -2.626616e-01 -0.28279887\n",
       "[33,] -1.629305e-01 -1.868892e-01 -0.20935052 -2.297576e-01 -0.24761532\n",
       "[34,] -1.392202e-01 -1.606939e-01 -0.18079941 -1.990546e-01 -0.21503018\n",
       "[35,] -1.163635e-01 -1.358808e-01 -0.15411555 -1.706548e-01 -0.18513025\n",
       "[36,] -9.442967e-02 -1.124655e-01 -0.12926572 -1.444815e-01 -0.15780062\n",
       "[37,] -7.345375e-02 -9.041586e-02 -0.10615708 -1.203874e-01 -0.13284620\n",
       "[38,] -5.346869e-02 -6.969522e-02 -0.08468932 -9.821533e-02 -0.11006012\n",
       "[39,] -3.452021e-02 -5.028206e-02 -0.06477994 -7.782824e-02 -0.08925736\n",
       "[40,] -1.667113e-02 -3.217715e-02 -0.04637336 -5.912017e-02 -0.07028789\n",
       "[41,]  0.000000e+00 -1.540302e-02 -0.02944138 -4.201759e-02 -0.05303843\n",
       "[42,]  1.540302e-02  0.000000e+00 -0.01397925 -2.647555e-02 -0.03742876\n",
       "[43,]  2.944138e-02  1.397925e-02  0.00000000 -1.247173e-02 -0.02340560\n",
       "[44,]  4.201759e-02  2.647555e-02  0.01247173  0.000000e+00 -0.01093584\n",
       "[45,]  5.303843e-02  3.742876e-02  0.02340560  1.093584e-02  0.00000000\n",
       "[46,]  6.241956e-02  4.678280e-02  0.03277095  2.032775e-02  0.00941371\n",
       "[47,]  7.008969e-02  5.449004e-02  0.04054144  2.816833e-02  0.01731452\n",
       "[48,]  7.599397e-02  6.051496e-02  0.04669898  3.445501e-02  0.02371343\n",
       "[49,]  8.009676e-02  6.483717e-02  0.05123691  3.919338e-02  0.02862681\n",
       "[50,]  8.238385e-02  6.745375e-02  0.05416258  4.239994e-02  0.03207916\n",
       "      [,17]         [,18]         [,19]         [,20]         [,21]       \n",
       " [1,]  2.313096e-02  1.549786e-02  9.129591e-03  3.979203e-03  0.000000000\n",
       " [2,]  1.947390e-02  1.168223e-02  5.205574e-03  6.938894e-18 -0.003979203\n",
       " [3,]  1.441967e-02  6.528631e-03  3.469447e-17 -5.205574e-03 -0.009129591\n",
       " [4,]  7.936896e-03  1.387779e-17 -6.528631e-03 -1.168223e-02 -0.015497862\n",
       " [5,]  5.551115e-17 -7.936896e-03 -1.441967e-02 -1.947390e-02 -0.023130959\n",
       " [6,] -9.413710e-03 -1.731452e-02 -2.371343e-02 -2.862681e-02 -0.032079164\n",
       " [7,] -2.032775e-02 -2.816833e-02 -3.445501e-02 -3.919338e-02 -0.042399937\n",
       " [8,] -3.277095e-02 -4.054144e-02 -4.669898e-02 -5.123691e-02 -0.054162579\n",
       " [9,] -4.678280e-02 -5.449004e-02 -6.051496e-02 -6.483717e-02 -0.067453752\n",
       "[10,] -6.241956e-02 -7.008969e-02 -7.599397e-02 -8.009676e-02 -0.082383847\n",
       "[11,] -7.976108e-02 -8.744234e-02 -9.325552e-02 -9.714827e-02 -0.099094019\n",
       "[12,] -9.891776e-02 -1.066834e-01 -1.124549e-01 -1.161615e-01 -0.117763403\n",
       "[13,] -1.200368e-01 -1.279882e-01 -1.337894e-01 -1.373499e-01 -0.138615441\n",
       "[14,] -1.433061e-01 -1.515756e-01 -1.575022e-01 -1.609739e-01 -0.161921207\n",
       "[15,] -1.689513e-01 -1.777050e-01 -1.838788e-01 -1.873377e-01 -0.187995724\n",
       "[16,] -1.972219e-01 -2.066605e-01 -2.132304e-01 -2.167715e-01 -0.217180273\n",
       "[17,] -2.283535e-01 -2.387113e-01 -2.458521e-01 -2.495887e-01 -0.249799027\n",
       "[18,] -2.624938e-01 -2.740319e-01 -2.819395e-01 -2.860003e-01 -0.286072369\n",
       "[19,] -2.995695e-01 -3.125608e-01 -3.214412e-01 -3.259631e-01 -0.325964037\n",
       "[20,] -3.390788e-01 -3.537791e-01 -3.638272e-01 -3.689427e-01 -0.368941778\n",
       "[21,] -3.798127e-01 -3.964140e-01 -4.077795e-01 -4.135956e-01 -0.413656826\n",
       "[22,] -4.195718e-01 -4.381373e-01 -4.508774e-01 -4.574465e-01 -0.457618440\n",
       "[23,] -4.550519e-01 -4.754434e-01 -4.894699e-01 -4.967575e-01 -0.497061934\n",
       "[24,] -4.821627e-01 -5.039880e-01 -5.190290e-01 -5.268903e-01 -0.527313681\n",
       "[25,] -4.969575e-01 -5.195775e-01 -5.351823e-01 -5.433644e-01 -0.543858425\n",
       "[26,] -4.969575e-01 -5.195775e-01 -5.351823e-01 -5.433644e-01 -0.543858425\n",
       "[27,] -4.821627e-01 -5.039880e-01 -5.190290e-01 -5.268903e-01 -0.527313681\n",
       "[28,] -4.550519e-01 -4.754434e-01 -4.894699e-01 -4.967575e-01 -0.497061934\n",
       "[29,] -4.195718e-01 -4.381373e-01 -4.508774e-01 -4.574465e-01 -0.457618440\n",
       "[30,] -3.798127e-01 -3.964140e-01 -4.077795e-01 -4.135956e-01 -0.413656826\n",
       "[31,] -3.390788e-01 -3.537791e-01 -3.638272e-01 -3.689427e-01 -0.368941778\n",
       "[32,] -2.995695e-01 -3.125608e-01 -3.214412e-01 -3.259631e-01 -0.325964037\n",
       "[33,] -2.624938e-01 -2.740319e-01 -2.819395e-01 -2.860003e-01 -0.286072369\n",
       "[34,] -2.283535e-01 -2.387113e-01 -2.458521e-01 -2.495887e-01 -0.249799027\n",
       "[35,] -1.972219e-01 -2.066605e-01 -2.132304e-01 -2.167715e-01 -0.217180273\n",
       "[36,] -1.689513e-01 -1.777050e-01 -1.838788e-01 -1.873377e-01 -0.187995724\n",
       "[37,] -1.433061e-01 -1.515756e-01 -1.575022e-01 -1.609739e-01 -0.161921207\n",
       "[38,] -1.200368e-01 -1.279882e-01 -1.337894e-01 -1.373499e-01 -0.138615441\n",
       "[39,] -9.891776e-02 -1.066834e-01 -1.124549e-01 -1.161615e-01 -0.117763403\n",
       "[40,] -7.976108e-02 -8.744234e-02 -9.325552e-02 -9.714827e-02 -0.099094019\n",
       "[41,] -6.241956e-02 -7.008969e-02 -7.599397e-02 -8.009676e-02 -0.082383847\n",
       "[42,] -4.678280e-02 -5.449004e-02 -6.051496e-02 -6.483717e-02 -0.067453752\n",
       "[43,] -3.277095e-02 -4.054144e-02 -4.669898e-02 -5.123691e-02 -0.054162579\n",
       "[44,] -2.032775e-02 -2.816833e-02 -3.445501e-02 -3.919338e-02 -0.042399937\n",
       "[45,] -9.413710e-03 -1.731452e-02 -2.371343e-02 -2.862681e-02 -0.032079164\n",
       "[46,]  0.000000e+00 -7.936896e-03 -1.441967e-02 -1.947390e-02 -0.023130959\n",
       "[47,]  7.936896e-03  0.000000e+00 -6.528631e-03 -1.168223e-02 -0.015497862\n",
       "[48,]  1.441967e-02  6.528631e-03  0.000000e+00 -5.205574e-03 -0.009129591\n",
       "[49,]  1.947390e-02  1.168223e-02  5.205574e-03  0.000000e+00 -0.003979203\n",
       "[50,]  2.313096e-02  1.549786e-02  9.129591e-03  3.979203e-03  0.000000000"
      ]
     },
     "metadata": {},
     "output_type": "display_data"
    }
   ],
   "source": [
    "fa <- (f - t(f)) / 2\n",
    "fa"
   ]
  },
  {
   "cell_type": "code",
   "execution_count": 31,
   "id": "fdde5ad4-9583-4ac9-ade1-21f1014e9d17",
   "metadata": {},
   "outputs": [
    {
     "data": {
      "image/png": "[encoded data removed]",
      "text/plain": [
       "plot without title"
      ]
     },
     "metadata": {
      "image/png": {
       "height": 420,
       "width": 420
      }
     },
     "output_type": "display_data"
    }
   ],
   "source": [
    "contour(x, y, fa, nlevels = 15)"
   ]
  },
  {
   "cell_type": "markdown",
   "id": "6fa5a159-2d65-4723-8655-b85a3d1a6dbc",
   "metadata": {},
   "source": [
    "The `image()` funciton works the same way as `contour(0`, except that it produces a color-coded plot whose colors depend on the `z` value. This is known as a _heatmap_, and is sometimes used to plot temperature in weather forecasts. Alternatively, `persp()` can be used to produce a three-dimensional plot. The arguments `theta` and `phi` control the angles at which the plot is viewed."
   ]
  },
  {
   "cell_type": "code",
   "execution_count": 32,
   "id": "b2ceeed3-a1b8-4b0b-9cdb-cf17c57ce3c6",
   "metadata": {},
   "outputs": [
    {
     "data": {
      "image/png": "[encoded data removed]",
      "text/plain": [
       "plot without title"
      ]
     },
     "metadata": {
      "image/png": {
       "height": 420,
       "width": 420
      }
     },
     "output_type": "display_data"
    }
   ],
   "source": [
    "image(x, y, fa)"
   ]
  },
  {
   "cell_type": "code",
   "execution_count": 33,
   "id": "f100c738-ba38-4891-b278-a2de2a59cb39",
   "metadata": {},
   "outputs": [
    {
     "data": {
      "image/png": "[encoded data removed]",
      "text/plain": [
       "plot without title"
      ]
     },
     "metadata": {
      "image/png": {
       "height": 420,
       "width": 420
      }
     },
     "output_type": "display_data"
    }
   ],
   "source": [
    "persp(x, y, fa)"
   ]
  },
  {
   "cell_type": "code",
   "execution_count": 34,
   "id": "f9d2deb5-b3db-4e24-a953-b25cdd895c80",
   "metadata": {},
   "outputs": [
    {
     "data": {
      "image/png": "[encoded data removed]",
      "text/plain": [
       "plot without title"
      ]
     },
     "metadata": {
      "image/png": {
       "height": 420,
       "width": 420
      }
     },
     "output_type": "display_data"
    }
   ],
   "source": [
    "persp(x, y, fa, theta = 30)"
   ]
  },
  {
   "cell_type": "code",
   "execution_count": 35,
   "id": "a4ebfa68-7dcf-42c9-ac90-a672a6b21c7c",
   "metadata": {},
   "outputs": [
    {
     "data": {
      "image/png": "[encoded data removed]",
      "text/plain": [
       "plot without title"
      ]
     },
     "metadata": {
      "image/png": {
       "height": 420,
       "width": 420
      }
     },
     "output_type": "display_data"
    }
   ],
   "source": [
    "persp(x, y, fa, theta = 30, phi=20)"
   ]
  },
  {
   "cell_type": "code",
   "execution_count": 36,
   "id": "c8da9201-a170-40da-9788-89364fc40cb3",
   "metadata": {},
   "outputs": [
    {
     "data": {
      "image/png": "[encoded data removed]",
      "text/plain": [
       "plot without title"
      ]
     },
     "metadata": {
      "image/png": {
       "height": 420,
       "width": 420
      }
     },
     "output_type": "display_data"
    }
   ],
   "source": [
    "persp(x, y, fa, theta = 30, phi=70)"
   ]
  },
  {
   "cell_type": "code",
   "execution_count": 37,
   "id": "df38072b-bf9d-4e1b-857e-e5e9d82b3151",
   "metadata": {},
   "outputs": [
    {
     "data": {
      "image/png": "[encoded data removed]",
      "text/plain": [
       "plot without title"
      ]
     },
     "metadata": {
      "image/png": {
       "height": 420,
       "width": 420
      }
     },
     "output_type": "display_data"
    }
   ],
   "source": [
    "persp(x, y, fa, theta = 30, phi=40)"
   ]
  },
  {
   "cell_type": "markdown",
   "id": "1f538a11-58da-45a3-a3e7-b3f752abbb60",
   "metadata": {},
   "source": [
    "## 2.3.3 Indexing Data"
   ]
  },
  {
   "cell_type": "markdown",
   "id": "c07f275f-7956-473a-84d4-d932d54ff8c4",
   "metadata": {},
   "source": [
    "We often wish to examine part of a set of data. Suppose that our data is stored in the matrix `A`."
   ]
  },
  {
   "cell_type": "code",
   "execution_count": 38,
   "id": "fdfb8a4a-13f4-4dff-95cf-a3cf85238bbc",
   "metadata": {},
   "outputs": [
    {
     "data": {
      "text/html": [
       "<table class=\"dataframe\">\n",
       "<caption>A matrix: 4 × 4 of type int</caption>\n",
       "<tbody>\n",
       "\t<tr><td>1</td><td>5</td><td> 9</td><td>13</td></tr>\n",
       "\t<tr><td>2</td><td>6</td><td>10</td><td>14</td></tr>\n",
       "\t<tr><td>3</td><td>7</td><td>11</td><td>15</td></tr>\n",
       "\t<tr><td>4</td><td>8</td><td>12</td><td>16</td></tr>\n",
       "</tbody>\n",
       "</table>\n"
      ],
      "text/latex": [
       "A matrix: 4 × 4 of type int\n",
       "\\begin{tabular}{llll}\n",
       "\t 1 & 5 &  9 & 13\\\\\n",
       "\t 2 & 6 & 10 & 14\\\\\n",
       "\t 3 & 7 & 11 & 15\\\\\n",
       "\t 4 & 8 & 12 & 16\\\\\n",
       "\\end{tabular}\n"
      ],
      "text/markdown": [
       "\n",
       "A matrix: 4 × 4 of type int\n",
       "\n",
       "| 1 | 5 |  9 | 13 |\n",
       "| 2 | 6 | 10 | 14 |\n",
       "| 3 | 7 | 11 | 15 |\n",
       "| 4 | 8 | 12 | 16 |\n",
       "\n"
      ],
      "text/plain": [
       "     [,1] [,2] [,3] [,4]\n",
       "[1,] 1    5     9   13  \n",
       "[2,] 2    6    10   14  \n",
       "[3,] 3    7    11   15  \n",
       "[4,] 4    8    12   16  "
      ]
     },
     "metadata": {},
     "output_type": "display_data"
    }
   ],
   "source": [
    "A <- matrix(1:16, 4, 4)\n",
    "A"
   ]
  },
  {
   "cell_type": "markdown",
   "id": "bc4c1cca-a80f-4d86-9878-0982f21f13e2",
   "metadata": {},
   "source": [
    "Then, typing"
   ]
  },
  {
   "cell_type": "code",
   "execution_count": 39,
   "id": "23a437cf-8f6c-4a41-8304-a148cec413ba",
   "metadata": {},
   "outputs": [
    {
     "data": {
      "text/html": [
       "10"
      ],
      "text/latex": [
       "10"
      ],
      "text/markdown": [
       "10"
      ],
      "text/plain": [
       "[1] 10"
      ]
     },
     "metadata": {},
     "output_type": "display_data"
    }
   ],
   "source": [
    "A[2, 3]"
   ]
  },
  {
   "cell_type": "markdown",
   "id": "4712de50-8907-4104-b7d6-d4182cf0b40e",
   "metadata": {},
   "source": [
    "will select the element corresponding to the second row and the third column. The first number after the open-bracket symbol `[` always refers to the row, and the second number always refers to the column. We can also select multiple rows and columns at a time, by providing vectors as the indices."
   ]
  },
  {
   "cell_type": "code",
   "execution_count": 40,
   "id": "a893bb82-e8ad-493c-bc81-579338888577",
   "metadata": {},
   "outputs": [
    {
     "data": {
      "text/html": [
       "<table class=\"dataframe\">\n",
       "<caption>A matrix: 2 × 2 of type int</caption>\n",
       "<tbody>\n",
       "\t<tr><td>5</td><td>13</td></tr>\n",
       "\t<tr><td>7</td><td>15</td></tr>\n",
       "</tbody>\n",
       "</table>\n"
      ],
      "text/latex": [
       "A matrix: 2 × 2 of type int\n",
       "\\begin{tabular}{ll}\n",
       "\t 5 & 13\\\\\n",
       "\t 7 & 15\\\\\n",
       "\\end{tabular}\n"
      ],
      "text/markdown": [
       "\n",
       "A matrix: 2 × 2 of type int\n",
       "\n",
       "| 5 | 13 |\n",
       "| 7 | 15 |\n",
       "\n"
      ],
      "text/plain": [
       "     [,1] [,2]\n",
       "[1,] 5    13  \n",
       "[2,] 7    15  "
      ]
     },
     "metadata": {},
     "output_type": "display_data"
    }
   ],
   "source": [
    "A[c(1, 3), c(2, 4)]"
   ]
  },
  {
   "cell_type": "code",
   "execution_count": 42,
   "id": "ee022b0e-5c28-428a-9797-6e5a1335f9c9",
   "metadata": {},
   "outputs": [
    {
     "data": {
      "text/html": [
       "<table class=\"dataframe\">\n",
       "<caption>A matrix: 3 × 3 of type int</caption>\n",
       "<tbody>\n",
       "\t<tr><td>5</td><td> 9</td><td>13</td></tr>\n",
       "\t<tr><td>6</td><td>10</td><td>14</td></tr>\n",
       "\t<tr><td>7</td><td>11</td><td>15</td></tr>\n",
       "</tbody>\n",
       "</table>\n"
      ],
      "text/latex": [
       "A matrix: 3 × 3 of type int\n",
       "\\begin{tabular}{lll}\n",
       "\t 5 &  9 & 13\\\\\n",
       "\t 6 & 10 & 14\\\\\n",
       "\t 7 & 11 & 15\\\\\n",
       "\\end{tabular}\n"
      ],
      "text/markdown": [
       "\n",
       "A matrix: 3 × 3 of type int\n",
       "\n",
       "| 5 |  9 | 13 |\n",
       "| 6 | 10 | 14 |\n",
       "| 7 | 11 | 15 |\n",
       "\n"
      ],
      "text/plain": [
       "     [,1] [,2] [,3]\n",
       "[1,] 5     9   13  \n",
       "[2,] 6    10   14  \n",
       "[3,] 7    11   15  "
      ]
     },
     "metadata": {},
     "output_type": "display_data"
    }
   ],
   "source": [
    "A[1:3, 2:4]"
   ]
  },
  {
   "cell_type": "code",
   "execution_count": 43,
   "id": "8f7731ff-60ca-4b9e-9448-d6a0406db2ad",
   "metadata": {},
   "outputs": [
    {
     "data": {
      "text/html": [
       "<table class=\"dataframe\">\n",
       "<caption>A matrix: 2 × 4 of type int</caption>\n",
       "<tbody>\n",
       "\t<tr><td>1</td><td>5</td><td> 9</td><td>13</td></tr>\n",
       "\t<tr><td>2</td><td>6</td><td>10</td><td>14</td></tr>\n",
       "</tbody>\n",
       "</table>\n"
      ],
      "text/latex": [
       "A matrix: 2 × 4 of type int\n",
       "\\begin{tabular}{llll}\n",
       "\t 1 & 5 &  9 & 13\\\\\n",
       "\t 2 & 6 & 10 & 14\\\\\n",
       "\\end{tabular}\n"
      ],
      "text/markdown": [
       "\n",
       "A matrix: 2 × 4 of type int\n",
       "\n",
       "| 1 | 5 |  9 | 13 |\n",
       "| 2 | 6 | 10 | 14 |\n",
       "\n"
      ],
      "text/plain": [
       "     [,1] [,2] [,3] [,4]\n",
       "[1,] 1    5     9   13  \n",
       "[2,] 2    6    10   14  "
      ]
     },
     "metadata": {},
     "output_type": "display_data"
    }
   ],
   "source": [
    "A[1:2, ]"
   ]
  },
  {
   "cell_type": "code",
   "execution_count": 44,
   "id": "aa7ee5c3-8610-4271-9aad-90cfdfe0c816",
   "metadata": {},
   "outputs": [
    {
     "data": {
      "text/html": [
       "<table class=\"dataframe\">\n",
       "<caption>A matrix: 4 × 2 of type int</caption>\n",
       "<tbody>\n",
       "\t<tr><td>1</td><td>5</td></tr>\n",
       "\t<tr><td>2</td><td>6</td></tr>\n",
       "\t<tr><td>3</td><td>7</td></tr>\n",
       "\t<tr><td>4</td><td>8</td></tr>\n",
       "</tbody>\n",
       "</table>\n"
      ],
      "text/latex": [
       "A matrix: 4 × 2 of type int\n",
       "\\begin{tabular}{ll}\n",
       "\t 1 & 5\\\\\n",
       "\t 2 & 6\\\\\n",
       "\t 3 & 7\\\\\n",
       "\t 4 & 8\\\\\n",
       "\\end{tabular}\n"
      ],
      "text/markdown": [
       "\n",
       "A matrix: 4 × 2 of type int\n",
       "\n",
       "| 1 | 5 |\n",
       "| 2 | 6 |\n",
       "| 3 | 7 |\n",
       "| 4 | 8 |\n",
       "\n"
      ],
      "text/plain": [
       "     [,1] [,2]\n",
       "[1,] 1    5   \n",
       "[2,] 2    6   \n",
       "[3,] 3    7   \n",
       "[4,] 4    8   "
      ]
     },
     "metadata": {},
     "output_type": "display_data"
    }
   ],
   "source": [
    "A[, 1:2]"
   ]
  },
  {
   "cell_type": "markdown",
   "id": "e2a221e8-2433-4420-895c-4ae58a3ad6d1",
   "metadata": {},
   "source": [
    "The last two examples include either no index for the columns or no index for the rows. these indicate that `R` should include all columns or all rows, respectively. `R` treats a single row or column of a matrix as a vector."
   ]
  },
  {
   "cell_type": "code",
   "execution_count": 45,
   "id": "9a489061-664b-4516-a9d7-193fe2df2823",
   "metadata": {},
   "outputs": [
    {
     "data": {
      "text/html": [
       "<style>\n",
       ".list-inline {list-style: none; margin:0; padding: 0}\n",
       ".list-inline>li {display: inline-block}\n",
       ".list-inline>li:not(:last-child)::after {content: \"\\00b7\"; padding: 0 .5ex}\n",
       "</style>\n",
       "<ol class=list-inline><li>1</li><li>5</li><li>9</li><li>13</li></ol>\n"
      ],
      "text/latex": [
       "\\begin{enumerate*}\n",
       "\\item 1\n",
       "\\item 5\n",
       "\\item 9\n",
       "\\item 13\n",
       "\\end{enumerate*}\n"
      ],
      "text/markdown": [
       "1. 1\n",
       "2. 5\n",
       "3. 9\n",
       "4. 13\n",
       "\n",
       "\n"
      ],
      "text/plain": [
       "[1]  1  5  9 13"
      ]
     },
     "metadata": {},
     "output_type": "display_data"
    }
   ],
   "source": [
    "A[1, ]"
   ]
  },
  {
   "cell_type": "markdown",
   "id": "37fb0baa-e4e4-4ed2-aefe-5404e020064a",
   "metadata": {},
   "source": [
    "The use of a negative sign `-` in the index tells `R` to keep all rows or columns except those indicated in the index."
   ]
  },
  {
   "cell_type": "code",
   "execution_count": 46,
   "id": "389cb81a-976f-472f-8cd9-a334846fc405",
   "metadata": {},
   "outputs": [
    {
     "data": {
      "text/html": [
       "<table class=\"dataframe\">\n",
       "<caption>A matrix: 2 × 4 of type int</caption>\n",
       "<tbody>\n",
       "\t<tr><td>2</td><td>6</td><td>10</td><td>14</td></tr>\n",
       "\t<tr><td>4</td><td>8</td><td>12</td><td>16</td></tr>\n",
       "</tbody>\n",
       "</table>\n"
      ],
      "text/latex": [
       "A matrix: 2 × 4 of type int\n",
       "\\begin{tabular}{llll}\n",
       "\t 2 & 6 & 10 & 14\\\\\n",
       "\t 4 & 8 & 12 & 16\\\\\n",
       "\\end{tabular}\n"
      ],
      "text/markdown": [
       "\n",
       "A matrix: 2 × 4 of type int\n",
       "\n",
       "| 2 | 6 | 10 | 14 |\n",
       "| 4 | 8 | 12 | 16 |\n",
       "\n"
      ],
      "text/plain": [
       "     [,1] [,2] [,3] [,4]\n",
       "[1,] 2    6    10   14  \n",
       "[2,] 4    8    12   16  "
      ]
     },
     "metadata": {},
     "output_type": "display_data"
    }
   ],
   "source": [
    "A[-c(1, 3), ]"
   ]
  },
  {
   "cell_type": "code",
   "execution_count": null,
   "id": "91fb215e-39ca-410e-96e6-23b0e58ec8ee",
   "metadata": {},
   "outputs": [],
   "source": []
  }
 ],
 "metadata": {
  "kernelspec": {
   "display_name": "R",
   "language": "R",
   "name": "ir"
  },
  "language_info": {
   "codemirror_mode": "r",
   "file_extension": ".r",
   "mimetype": "text/x-r-source",
   "name": "R",
   "pygments_lexer": "r",
   "version": "4.1.3"
  }
 },
 "nbformat": 4,
 "nbformat_minor": 5
}
