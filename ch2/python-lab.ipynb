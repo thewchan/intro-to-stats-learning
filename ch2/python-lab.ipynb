{
 "cells": [
  {
   "cell_type": "markdown",
   "id": "634390db-cc9e-431d-a624-b57fc9d457b4",
   "metadata": {},
   "source": [
    "# 2.3 Lab: Introduction to R (Python Companion)"
   ]
  },
  {
   "cell_type": "markdown",
   "id": "37bd0eb1-fc13-4aa2-8dea-73faba7e7f4d",
   "metadata": {},
   "source": [
    "## 2.3.1 Basic Commands"
   ]
  },
  {
   "cell_type": "code",
   "execution_count": 1,
   "id": "ef003317-5b45-4d39-923e-be64de2b482a",
   "metadata": {},
   "outputs": [],
   "source": [
    "import numpy as np"
   ]
  },
  {
   "cell_type": "markdown",
   "id": "4445374f-666e-434c-95f2-4b92c28e50a8",
   "metadata": {},
   "source": [
    "While you can construct lists, or tuples that resembles _vectors_ in `R`, the more proper analogy of in Python would be a 1-dimensional NumPy array."
   ]
  },
  {
   "cell_type": "code",
   "execution_count": 2,
   "id": "e4484cc3-665c-4fcb-a27a-7fe940b4b75e",
   "metadata": {},
   "outputs": [
    {
     "data": {
      "text/plain": [
       "array([1, 3, 2, 5])"
      ]
     },
     "execution_count": 2,
     "metadata": {},
     "output_type": "execute_result"
    }
   ],
   "source": [
    "x = np.array([1, 3, 2, 5])\n",
    "x"
   ]
  },
  {
   "cell_type": "markdown",
   "id": "1fe1b54f-3d2a-4a28-93d6-dbc1c00bdf3b",
   "metadata": {},
   "source": [
    "In Python, there is only **one** assignment operator, `=`."
   ]
  },
  {
   "cell_type": "code",
   "execution_count": 3,
   "id": "65967a3b-19cf-4b0f-9551-1fe9273771cc",
   "metadata": {},
   "outputs": [
    {
     "name": "stdout",
     "output_type": "stream",
     "text": [
      "name 'y' is not defined\n"
     ]
    },
    {
     "data": {
      "text/plain": [
       "(array([1, 6, 2]), array([1, 4, 3]))"
      ]
     },
     "execution_count": 3,
     "metadata": {},
     "output_type": "execute_result"
    }
   ],
   "source": [
    "try:\n",
    "    y <- np.array([1, 4, 3])\n",
    "except Exception as e:\n",
    "    print(e)\n",
    "    y = np.array([1, 4, 3])\n",
    "x = np.array([1, 6, 2])\n",
    "x, y"
   ]
  },
  {
   "cell_type": "markdown",
   "id": "d15ffd28-51da-4a24-8ba3-021c43c9c43b",
   "metadata": {},
   "source": [
    "To inspect the docstring or \"help\" of a function (or any object) in Python, you can use `help()` or `funcname?`."
   ]
  },
  {
   "cell_type": "code",
   "execution_count": 4,
   "id": "bb9f5a4b-7d45-40b4-a2eb-6f0b49868fe3",
   "metadata": {},
   "outputs": [
    {
     "name": "stdout",
     "output_type": "stream",
     "text": [
      "Help on built-in function array in module numpy:\n",
      "\n",
      "array(...)\n",
      "    array(object, dtype=None, *, copy=True, order='K', subok=False, ndmin=0,\n",
      "          like=None)\n",
      "    \n",
      "    Create an array.\n",
      "    \n",
      "    Parameters\n",
      "    ----------\n",
      "    object : array_like\n",
      "        An array, any object exposing the array interface, an object whose\n",
      "        __array__ method returns an array, or any (nested) sequence.\n",
      "        If object is a scalar, a 0-dimensional array containing object is\n",
      "        returned.\n",
      "    dtype : data-type, optional\n",
      "        The desired data-type for the array.  If not given, then the type will\n",
      "        be determined as the minimum type required to hold the objects in the\n",
      "        sequence.\n",
      "    copy : bool, optional\n",
      "        If true (default), then the object is copied.  Otherwise, a copy will\n",
      "        only be made if __array__ returns a copy, if obj is a nested sequence,\n",
      "        or if a copy is needed to satisfy any of the other requirements\n",
      "        (`dtype`, `order`, etc.).\n",
      "    order : {'K', 'A', 'C', 'F'}, optional\n",
      "        Specify the memory layout of the array. If object is not an array, the\n",
      "        newly created array will be in C order (row major) unless 'F' is\n",
      "        specified, in which case it will be in Fortran order (column major).\n",
      "        If object is an array the following holds.\n",
      "    \n",
      "        ===== ========= ===================================================\n",
      "        order  no copy                     copy=True\n",
      "        ===== ========= ===================================================\n",
      "        'K'   unchanged F & C order preserved, otherwise most similar order\n",
      "        'A'   unchanged F order if input is F and not C, otherwise C order\n",
      "        'C'   C order   C order\n",
      "        'F'   F order   F order\n",
      "        ===== ========= ===================================================\n",
      "    \n",
      "        When ``copy=False`` and a copy is made for other reasons, the result is\n",
      "        the same as if ``copy=True``, with some exceptions for 'A', see the\n",
      "        Notes section. The default order is 'K'.\n",
      "    subok : bool, optional\n",
      "        If True, then sub-classes will be passed-through, otherwise\n",
      "        the returned array will be forced to be a base-class array (default).\n",
      "    ndmin : int, optional\n",
      "        Specifies the minimum number of dimensions that the resulting\n",
      "        array should have.  Ones will be prepended to the shape as\n",
      "        needed to meet this requirement.\n",
      "    like : array_like, optional\n",
      "        Reference object to allow the creation of arrays which are not\n",
      "        NumPy arrays. If an array-like passed in as ``like`` supports\n",
      "        the ``__array_function__`` protocol, the result will be defined\n",
      "        by it. In this case, it ensures the creation of an array object\n",
      "        compatible with that passed in via this argument.\n",
      "    \n",
      "        .. versionadded:: 1.20.0\n",
      "    \n",
      "    Returns\n",
      "    -------\n",
      "    out : ndarray\n",
      "        An array object satisfying the specified requirements.\n",
      "    \n",
      "    See Also\n",
      "    --------\n",
      "    empty_like : Return an empty array with shape and type of input.\n",
      "    ones_like : Return an array of ones with shape and type of input.\n",
      "    zeros_like : Return an array of zeros with shape and type of input.\n",
      "    full_like : Return a new array with shape of input filled with value.\n",
      "    empty : Return a new uninitialized array.\n",
      "    ones : Return a new array setting values to one.\n",
      "    zeros : Return a new array setting values to zero.\n",
      "    full : Return a new array of given shape filled with value.\n",
      "    \n",
      "    \n",
      "    Notes\n",
      "    -----\n",
      "    When order is 'A' and `object` is an array in neither 'C' nor 'F' order,\n",
      "    and a copy is forced by a change in dtype, then the order of the result is\n",
      "    not necessarily 'C' as expected. This is likely a bug.\n",
      "    \n",
      "    Examples\n",
      "    --------\n",
      "    >>> np.array([1, 2, 3])\n",
      "    array([1, 2, 3])\n",
      "    \n",
      "    Upcasting:\n",
      "    \n",
      "    >>> np.array([1, 2, 3.0])\n",
      "    array([ 1.,  2.,  3.])\n",
      "    \n",
      "    More than one dimension:\n",
      "    \n",
      "    >>> np.array([[1, 2], [3, 4]])\n",
      "    array([[1, 2],\n",
      "           [3, 4]])\n",
      "    \n",
      "    Minimum dimensions 2:\n",
      "    \n",
      "    >>> np.array([1, 2, 3], ndmin=2)\n",
      "    array([[1, 2, 3]])\n",
      "    \n",
      "    Type provided:\n",
      "    \n",
      "    >>> np.array([1, 2, 3], dtype=complex)\n",
      "    array([ 1.+0.j,  2.+0.j,  3.+0.j])\n",
      "    \n",
      "    Data-type consisting of more than one element:\n",
      "    \n",
      "    >>> x = np.array([(1,2),(3,4)],dtype=[('a','<i4'),('b','<i4')])\n",
      "    >>> x['a']\n",
      "    array([1, 3])\n",
      "    \n",
      "    Creating an array from sub-classes:\n",
      "    \n",
      "    >>> np.array(np.mat('1 2; 3 4'))\n",
      "    array([[1, 2],\n",
      "           [3, 4]])\n",
      "    \n",
      "    >>> np.array(np.mat('1 2; 3 4'), subok=True)\n",
      "    matrix([[1, 2],\n",
      "            [3, 4]])\n",
      "\n"
     ]
    }
   ],
   "source": [
    "help(np.array)"
   ]
  },
  {
   "cell_type": "code",
   "execution_count": 5,
   "id": "2d38f437-311e-42de-8c37-f62bf14b2a63",
   "metadata": {},
   "outputs": [
    {
     "data": {
      "text/plain": [
       "\u001b[1;31mDocstring:\u001b[0m\n",
       "array(object, dtype=None, *, copy=True, order='K', subok=False, ndmin=0,\n",
       "      like=None)\n",
       "\n",
       "Create an array.\n",
       "\n",
       "Parameters\n",
       "----------\n",
       "object : array_like\n",
       "    An array, any object exposing the array interface, an object whose\n",
       "    __array__ method returns an array, or any (nested) sequence.\n",
       "    If object is a scalar, a 0-dimensional array containing object is\n",
       "    returned.\n",
       "dtype : data-type, optional\n",
       "    The desired data-type for the array.  If not given, then the type will\n",
       "    be determined as the minimum type required to hold the objects in the\n",
       "    sequence.\n",
       "copy : bool, optional\n",
       "    If true (default), then the object is copied.  Otherwise, a copy will\n",
       "    only be made if __array__ returns a copy, if obj is a nested sequence,\n",
       "    or if a copy is needed to satisfy any of the other requirements\n",
       "    (`dtype`, `order`, etc.).\n",
       "order : {'K', 'A', 'C', 'F'}, optional\n",
       "    Specify the memory layout of the array. If object is not an array, the\n",
       "    newly created array will be in C order (row major) unless 'F' is\n",
       "    specified, in which case it will be in Fortran order (column major).\n",
       "    If object is an array the following holds.\n",
       "\n",
       "    ===== ========= ===================================================\n",
       "    order  no copy                     copy=True\n",
       "    ===== ========= ===================================================\n",
       "    'K'   unchanged F & C order preserved, otherwise most similar order\n",
       "    'A'   unchanged F order if input is F and not C, otherwise C order\n",
       "    'C'   C order   C order\n",
       "    'F'   F order   F order\n",
       "    ===== ========= ===================================================\n",
       "\n",
       "    When ``copy=False`` and a copy is made for other reasons, the result is\n",
       "    the same as if ``copy=True``, with some exceptions for 'A', see the\n",
       "    Notes section. The default order is 'K'.\n",
       "subok : bool, optional\n",
       "    If True, then sub-classes will be passed-through, otherwise\n",
       "    the returned array will be forced to be a base-class array (default).\n",
       "ndmin : int, optional\n",
       "    Specifies the minimum number of dimensions that the resulting\n",
       "    array should have.  Ones will be prepended to the shape as\n",
       "    needed to meet this requirement.\n",
       "like : array_like, optional\n",
       "    Reference object to allow the creation of arrays which are not\n",
       "    NumPy arrays. If an array-like passed in as ``like`` supports\n",
       "    the ``__array_function__`` protocol, the result will be defined\n",
       "    by it. In this case, it ensures the creation of an array object\n",
       "    compatible with that passed in via this argument.\n",
       "\n",
       "    .. versionadded:: 1.20.0\n",
       "\n",
       "Returns\n",
       "-------\n",
       "out : ndarray\n",
       "    An array object satisfying the specified requirements.\n",
       "\n",
       "See Also\n",
       "--------\n",
       "empty_like : Return an empty array with shape and type of input.\n",
       "ones_like : Return an array of ones with shape and type of input.\n",
       "zeros_like : Return an array of zeros with shape and type of input.\n",
       "full_like : Return a new array with shape of input filled with value.\n",
       "empty : Return a new uninitialized array.\n",
       "ones : Return a new array setting values to one.\n",
       "zeros : Return a new array setting values to zero.\n",
       "full : Return a new array of given shape filled with value.\n",
       "\n",
       "\n",
       "Notes\n",
       "-----\n",
       "When order is 'A' and `object` is an array in neither 'C' nor 'F' order,\n",
       "and a copy is forced by a change in dtype, then the order of the result is\n",
       "not necessarily 'C' as expected. This is likely a bug.\n",
       "\n",
       "Examples\n",
       "--------\n",
       ">>> np.array([1, 2, 3])\n",
       "array([1, 2, 3])\n",
       "\n",
       "Upcasting:\n",
       "\n",
       ">>> np.array([1, 2, 3.0])\n",
       "array([ 1.,  2.,  3.])\n",
       "\n",
       "More than one dimension:\n",
       "\n",
       ">>> np.array([[1, 2], [3, 4]])\n",
       "array([[1, 2],\n",
       "       [3, 4]])\n",
       "\n",
       "Minimum dimensions 2:\n",
       "\n",
       ">>> np.array([1, 2, 3], ndmin=2)\n",
       "array([[1, 2, 3]])\n",
       "\n",
       "Type provided:\n",
       "\n",
       ">>> np.array([1, 2, 3], dtype=complex)\n",
       "array([ 1.+0.j,  2.+0.j,  3.+0.j])\n",
       "\n",
       "Data-type consisting of more than one element:\n",
       "\n",
       ">>> x = np.array([(1,2),(3,4)],dtype=[('a','<i4'),('b','<i4')])\n",
       ">>> x['a']\n",
       "array([1, 3])\n",
       "\n",
       "Creating an array from sub-classes:\n",
       "\n",
       ">>> np.array(np.mat('1 2; 3 4'))\n",
       "array([[1, 2],\n",
       "       [3, 4]])\n",
       "\n",
       ">>> np.array(np.mat('1 2; 3 4'), subok=True)\n",
       "matrix([[1, 2],\n",
       "        [3, 4]])\n",
       "\u001b[1;31mType:\u001b[0m      builtin_function_or_method\n"
      ]
     },
     "metadata": {},
     "output_type": "display_data"
    }
   ],
   "source": [
    "np.array?"
   ]
  },
  {
   "cell_type": "markdown",
   "id": "eac1ad0a-977b-4383-97fe-cf6a230f38c8",
   "metadata": {},
   "source": [
    "The reason we need to use `np.array` here is that adding lists or tuples from base Python together with `+` will **not** yield what you might expect coming from `R`."
   ]
  },
  {
   "cell_type": "code",
   "execution_count": 6,
   "id": "1ffe8da1-bacb-41db-ad23-366d90b98b0a",
   "metadata": {},
   "outputs": [
    {
     "data": {
      "text/plain": [
       "[1, 4, 5, 1, 6, 2]"
      ]
     },
     "execution_count": 6,
     "metadata": {},
     "output_type": "execute_result"
    }
   ],
   "source": [
    "[1, 4, 5] + [1, 6, 2]"
   ]
  },
  {
   "cell_type": "code",
   "execution_count": 7,
   "id": "ce284af2-c267-469d-94bc-9a9cde00bae9",
   "metadata": {},
   "outputs": [
    {
     "data": {
      "text/plain": [
       "(1, 4, 5, 1, 6, 2)"
      ]
     },
     "execution_count": 7,
     "metadata": {},
     "output_type": "execute_result"
    }
   ],
   "source": [
    "(1, 4, 5) + (1, 6, 2)"
   ]
  },
  {
   "cell_type": "code",
   "execution_count": 8,
   "id": "4a5f2da9-02e0-4416-b42e-f579f78f6849",
   "metadata": {},
   "outputs": [
    {
     "data": {
      "text/plain": [
       "array([ 2, 10,  5])"
      ]
     },
     "execution_count": 8,
     "metadata": {},
     "output_type": "execute_result"
    }
   ],
   "source": [
    "x + y"
   ]
  },
  {
   "cell_type": "markdown",
   "id": "fbca1536-f6e1-499d-81e2-ecc56d528ab6",
   "metadata": {},
   "source": [
    "The equivalent to `length()` in `R` is `len()` in base Python. However, you can also access the `size` property in a NumPy array."
   ]
  },
  {
   "cell_type": "code",
   "execution_count": 9,
   "id": "b7c1be4b-4c8e-4347-a16f-48e6d38cbfbc",
   "metadata": {},
   "outputs": [
    {
     "data": {
      "text/plain": [
       "(3, 3)"
      ]
     },
     "execution_count": 9,
     "metadata": {},
     "output_type": "execute_result"
    }
   ],
   "source": [
    "len(x), len(y)"
   ]
  },
  {
   "cell_type": "code",
   "execution_count": 10,
   "id": "2f4e8ac1-b403-4262-82e5-47242580608e",
   "metadata": {},
   "outputs": [
    {
     "data": {
      "text/plain": [
       "3"
      ]
     },
     "execution_count": 10,
     "metadata": {},
     "output_type": "execute_result"
    }
   ],
   "source": [
    "x.size"
   ]
  },
  {
   "cell_type": "markdown",
   "id": "3215469b-1712-4e14-a889-c3250719bc56",
   "metadata": {},
   "source": [
    "To list in scope object, use `dir()`. Note that this will list all objects in scope, not just the two variables we have defined."
   ]
  },
  {
   "cell_type": "code",
   "execution_count": 11,
   "id": "fe1a41c6-ef45-4d35-8305-534b6ea43ba6",
   "metadata": {},
   "outputs": [
    {
     "data": {
      "text/plain": [
       "['In',\n",
       " 'NamespaceMagics',\n",
       " 'Out',\n",
       " '_',\n",
       " '_10',\n",
       " '_2',\n",
       " '_3',\n",
       " '_6',\n",
       " '_7',\n",
       " '_8',\n",
       " '_9',\n",
       " '__',\n",
       " '__K',\n",
       " '___',\n",
       " '__builtin__',\n",
       " '__builtins__',\n",
       " '__doc__',\n",
       " '__ipywidgets',\n",
       " '__loader__',\n",
       " '__name__',\n",
       " '__np',\n",
       " '__package__',\n",
       " '__pd',\n",
       " '__pyspark',\n",
       " '__spec__',\n",
       " '__tf',\n",
       " '__torch',\n",
       " '_check_imported',\n",
       " '_dh',\n",
       " '_i',\n",
       " '_i1',\n",
       " '_i10',\n",
       " '_i11',\n",
       " '_i2',\n",
       " '_i3',\n",
       " '_i4',\n",
       " '_i5',\n",
       " '_i6',\n",
       " '_i7',\n",
       " '_i8',\n",
       " '_i9',\n",
       " '_ih',\n",
       " '_ii',\n",
       " '_iii',\n",
       " '_jupyterlab_variableinspector_Jupyter',\n",
       " '_jupyterlab_variableinspector_default',\n",
       " '_jupyterlab_variableinspector_deletevariable',\n",
       " '_jupyterlab_variableinspector_dict_list',\n",
       " '_jupyterlab_variableinspector_displaywidget',\n",
       " '_jupyterlab_variableinspector_getcontentof',\n",
       " '_jupyterlab_variableinspector_getmatrixcontent',\n",
       " '_jupyterlab_variableinspector_getshapeof',\n",
       " '_jupyterlab_variableinspector_getsizeof',\n",
       " '_jupyterlab_variableinspector_is_matrix',\n",
       " '_jupyterlab_variableinspector_is_widget',\n",
       " '_jupyterlab_variableinspector_nms',\n",
       " '_oh',\n",
       " 'exit',\n",
       " 'get_ipython',\n",
       " 'json',\n",
       " 'np',\n",
       " 'quit',\n",
       " 'sys',\n",
       " 'x',\n",
       " 'y']"
      ]
     },
     "execution_count": 11,
     "metadata": {},
     "output_type": "execute_result"
    }
   ],
   "source": [
    "dir()"
   ]
  },
  {
   "cell_type": "markdown",
   "id": "1d9ff94a-7fca-4736-acab-526ff46d6f4d",
   "metadata": {},
   "source": [
    "To remove variables from scope (or more accurately, delete their name in the name space), use `del()`. Note that this is not considered very Pythonic."
   ]
  },
  {
   "cell_type": "code",
   "execution_count": 12,
   "id": "9c4115e3-d166-451a-b9fe-b49d2d223fd6",
   "metadata": {},
   "outputs": [
    {
     "data": {
      "text/plain": [
       "['In',\n",
       " 'NamespaceMagics',\n",
       " 'Out',\n",
       " '_',\n",
       " '_10',\n",
       " '_11',\n",
       " '_2',\n",
       " '_3',\n",
       " '_6',\n",
       " '_7',\n",
       " '_8',\n",
       " '_9',\n",
       " '__',\n",
       " '__K',\n",
       " '___',\n",
       " '__builtin__',\n",
       " '__builtins__',\n",
       " '__doc__',\n",
       " '__ipywidgets',\n",
       " '__loader__',\n",
       " '__name__',\n",
       " '__np',\n",
       " '__package__',\n",
       " '__pd',\n",
       " '__pyspark',\n",
       " '__spec__',\n",
       " '__tf',\n",
       " '__torch',\n",
       " '_check_imported',\n",
       " '_dh',\n",
       " '_i',\n",
       " '_i1',\n",
       " '_i10',\n",
       " '_i11',\n",
       " '_i12',\n",
       " '_i2',\n",
       " '_i3',\n",
       " '_i4',\n",
       " '_i5',\n",
       " '_i6',\n",
       " '_i7',\n",
       " '_i8',\n",
       " '_i9',\n",
       " '_ih',\n",
       " '_ii',\n",
       " '_iii',\n",
       " '_jupyterlab_variableinspector_Jupyter',\n",
       " '_jupyterlab_variableinspector_default',\n",
       " '_jupyterlab_variableinspector_deletevariable',\n",
       " '_jupyterlab_variableinspector_dict_list',\n",
       " '_jupyterlab_variableinspector_displaywidget',\n",
       " '_jupyterlab_variableinspector_getcontentof',\n",
       " '_jupyterlab_variableinspector_getmatrixcontent',\n",
       " '_jupyterlab_variableinspector_getshapeof',\n",
       " '_jupyterlab_variableinspector_getsizeof',\n",
       " '_jupyterlab_variableinspector_is_matrix',\n",
       " '_jupyterlab_variableinspector_is_widget',\n",
       " '_jupyterlab_variableinspector_nms',\n",
       " '_oh',\n",
       " 'exit',\n",
       " 'get_ipython',\n",
       " 'json',\n",
       " 'np',\n",
       " 'quit',\n",
       " 'sys']"
      ]
     },
     "execution_count": 12,
     "metadata": {},
     "output_type": "execute_result"
    }
   ],
   "source": [
    "del x; del y\n",
    "dir()"
   ]
  },
  {
   "cell_type": "markdown",
   "id": "25c87598-806e-4029-bf7d-cb3908badbf2",
   "metadata": {},
   "source": [
    "In NumPy, \"vectors\" are simply 1-dimensional arrays, so there is no separate `matrix` function. There is, actually, an `np.matrix()` function but it is not often used."
   ]
  },
  {
   "cell_type": "code",
   "execution_count": 13,
   "id": "e3581b16-e840-4037-a5b4-5aa67111c891",
   "metadata": {},
   "outputs": [
    {
     "data": {
      "text/plain": [
       "array([[1, 3],\n",
       "       [2, 4]])"
      ]
     },
     "execution_count": 13,
     "metadata": {},
     "output_type": "execute_result"
    }
   ],
   "source": [
    "x = np.array(object=[[1, 3], [2, 4]])\n",
    "x"
   ]
  },
  {
   "cell_type": "markdown",
   "id": "72348fe8-dc56-4a7a-8c1c-ae65529ae708",
   "metadata": {},
   "source": [
    "The function `np.array()` does not accept inputs for its dimensions, but you can use NumPy array's `.reshape()` method to reshape the array to whatever valid dimension you'd like."
   ]
  },
  {
   "cell_type": "code",
   "execution_count": 14,
   "id": "134bea39-5f54-4e15-bfde-bc9248a863bf",
   "metadata": {},
   "outputs": [
    {
     "data": {
      "text/plain": [
       "array([[1, 3],\n",
       "       [2, 4]])"
      ]
     },
     "execution_count": 14,
     "metadata": {},
     "output_type": "execute_result"
    }
   ],
   "source": [
    "x = np.array([1, 3, 2, 4]).reshape([2, 2])\n",
    "x"
   ]
  },
  {
   "cell_type": "markdown",
   "id": "ebe430a6-6d2d-4b34-a5c4-dc8fdb2eb9a5",
   "metadata": {},
   "source": [
    "Note that in Python the accepted code style is that there should not be white space surrounding the `=` when passing parameters as arguments to functions or methods. Hence `np.array(object = [1, 2, 3])` is not the accepted convention; rather `np.array(object=[1, 2, 3])` is. Regardless this is only a style issue, the Python interpreter will not raise an exception."
   ]
  },
  {
   "cell_type": "markdown",
   "id": "8aefceb1-d560-45c3-8752-4865886f3c00",
   "metadata": {},
   "source": [
    "Base Python do not provide a square root function, but we can import an `sqrt()` function from the `math` standard library. In this case, however, because we want the square root to be able to applied onto NumPy arrays, this will not work. We'd have to use the `np.sqrt()` function from NumPy instead."
   ]
  },
  {
   "cell_type": "code",
   "execution_count": 15,
   "id": "733e3f69-d145-4288-aac6-f43eebaa8e62",
   "metadata": {},
   "outputs": [
    {
     "name": "stdout",
     "output_type": "stream",
     "text": [
      "only size-1 arrays can be converted to Python scalars\n"
     ]
    }
   ],
   "source": [
    "from math import sqrt\n",
    "\n",
    "try:\n",
    "    sqrt(x)\n",
    "except TypeError as e:\n",
    "    print(e)"
   ]
  },
  {
   "cell_type": "code",
   "execution_count": 16,
   "id": "d77f3c55-c0a3-4245-b137-7a6cb51dde12",
   "metadata": {},
   "outputs": [
    {
     "data": {
      "text/plain": [
       "array([[1.        , 1.73205081],\n",
       "       [1.41421356, 2.        ]])"
      ]
     },
     "execution_count": 16,
     "metadata": {},
     "output_type": "execute_result"
    }
   ],
   "source": [
    "np.sqrt(x)"
   ]
  },
  {
   "cell_type": "markdown",
   "id": "fcf48579-8b7e-40f0-8ec8-ae32b6566afc",
   "metadata": {},
   "source": [
    "It is common for `^` to be used as a raise to power operator in various programming language, including `R`. This is not the case for Python, as `^` is reserved for for the bitwise _XOR_ operation. Use `**` for raising to the power. In contrast to `sqrt()`, this base Python operator _does_ work for NumPy arrays."
   ]
  },
  {
   "cell_type": "code",
   "execution_count": 17,
   "id": "381e9708-1859-45e7-9408-fb5dc3013612",
   "metadata": {},
   "outputs": [
    {
     "data": {
      "text/plain": [
       "array([[ 1,  9],\n",
       "       [ 4, 16]])"
      ]
     },
     "execution_count": 17,
     "metadata": {},
     "output_type": "execute_result"
    }
   ],
   "source": [
    "x**2"
   ]
  },
  {
   "cell_type": "markdown",
   "id": "a14f66e2-a6fd-452e-a7da-06389e8441e5",
   "metadata": {},
   "source": [
    "The Python standard library `random` does provide functions (e.g., `random()`) similar to `R`'s `rnorm()` functionality. However, similar to above, it is better in our use case to stick with the functions provided by NumPy to ensure the work best with NumPy arrays. We'd need to refer to the documentation to find the corresponding argument for `mean` and `sd` in `R`'s `rnorm`; it is `loc` and `scale`, respectively."
   ]
  },
  {
   "cell_type": "code",
   "execution_count": 18,
   "id": "808c2afb-9e90-474e-9a90-7893b286d583",
   "metadata": {},
   "outputs": [
    {
     "data": {
      "text/plain": [
       "array([ 0.10599655,  1.57561847,  1.52500709,  0.60172442, -1.1274105 ,\n",
       "       -1.55348148,  0.55947324,  1.71291945, -2.41869999, -0.13829576,\n",
       "       -0.67493919,  1.1170329 ,  1.71057055,  0.83725151, -1.22907733,\n",
       "       -0.79997545, -1.84915254, -0.56368953, -0.76591372,  0.89088653,\n",
       "       -2.42822605, -0.33577301, -0.21675129,  2.41528022,  0.09986515,\n",
       "        0.78203231,  0.47163393, -1.94795701, -0.30030801, -0.93783238,\n",
       "        1.58699364,  0.07010215,  1.90747202, -1.31680367, -0.89175235,\n",
       "       -1.73997116, -0.53261561,  1.25902473,  0.05955402, -0.16366748,\n",
       "        1.31825448,  1.2472773 ,  2.25211863, -2.33485472,  1.33596252,\n",
       "       -1.96975922, -0.38290035,  1.01328431,  1.00523716, -0.7276235 ])"
      ]
     },
     "execution_count": 18,
     "metadata": {},
     "output_type": "execute_result"
    }
   ],
   "source": [
    "x = np.random.normal(size=50)\n",
    "x"
   ]
  },
  {
   "cell_type": "code",
   "execution_count": 19,
   "id": "90fa13d0-24cb-4035-856b-4db08c9e2f57",
   "metadata": {},
   "outputs": [
    {
     "data": {
      "text/plain": [
       "array([50.03875324, 51.56582765, 51.53032345, 50.53739734, 48.72262152,\n",
       "       48.33456463, 50.64338721, 51.84254221, 47.52162192, 49.98358432,\n",
       "       49.27088137, 51.14965505, 51.57646791, 50.88846029, 48.6998097 ,\n",
       "       49.36517175, 48.24203959, 49.28439826, 49.15690491, 50.84781496,\n",
       "       47.51365627, 49.82860635, 49.71550215, 52.38728666, 50.15333856,\n",
       "       50.93475202, 50.38539045, 47.88798088, 49.69322654, 49.07275203,\n",
       "       51.65876052, 50.1185302 , 51.78637551, 48.52162621, 49.22179913,\n",
       "       48.23277088, 49.35847667, 51.19596482, 49.8426065 , 49.9097247 ,\n",
       "       51.16554487, 51.19667997, 52.27820586, 47.73001664, 51.45108737,\n",
       "       48.12361382, 49.67810094, 50.98381609, 50.90807631, 49.15863922])"
      ]
     },
     "execution_count": 19,
     "metadata": {},
     "output_type": "execute_result"
    }
   ],
   "source": [
    "y = x + np.random.normal(loc=50, scale=0.1, size=50)\n",
    "y"
   ]
  },
  {
   "cell_type": "markdown",
   "id": "06b213bf-40e0-4c1c-b1f0-1c65ce6533e6",
   "metadata": {},
   "source": [
    "Similarly, we will use the `np.corrcoef()` as the analogy to `cor` in `R`. Note that this NumPy function will return a correlation coefficient matrix, instead of a single value."
   ]
  },
  {
   "cell_type": "code",
   "execution_count": 20,
   "id": "06844c3b-8913-4c7c-a907-ecc825ab4c62",
   "metadata": {},
   "outputs": [
    {
     "data": {
      "text/plain": [
       "array([[1.        , 0.99722252],\n",
       "       [0.99722252, 1.        ]])"
      ]
     },
     "execution_count": 20,
     "metadata": {},
     "output_type": "execute_result"
    }
   ],
   "source": [
    "np.corrcoef(x, y)"
   ]
  },
  {
   "cell_type": "markdown",
   "id": "fd2e054a-0b4b-4982-b986-331972e15a0a",
   "metadata": {},
   "source": [
    "NumPy supports setting the randomization seed as well via the `np.random.seed()` function.\n",
    "\n",
    "Side note: The dot `.` operator has special meaning in Python. In `R` it is simply a character that can be used arbitrarily as part of any function names etc., in Python `.` is used to _access_ a member contain within a given object. So, `np.random.seed()` is how we'd access the `seed()` function contain inside the `np.random` module. In turn, `np.random` is how we access the `random` module contained within NumPy (imported here as `np`)."
   ]
  },
  {
   "cell_type": "code",
   "execution_count": 21,
   "id": "876702eb-8512-490a-a269-d33b2bee9527",
   "metadata": {},
   "outputs": [
    {
     "data": {
      "text/plain": [
       "array([-0.03425693,  0.06035959,  0.45511859, -0.36593175, -1.6773304 ,\n",
       "        0.5910023 ,  0.41090101,  0.46972388, -1.50462476, -0.70082238,\n",
       "        1.43196963,  0.35474484,  1.67574682,  1.62741373,  0.27015354,\n",
       "        0.15248539,  0.11593596,  0.89272237, -2.16627436,  0.26787192,\n",
       "        0.36658207,  2.72335408,  0.44060293,  0.36036757,  0.38119264,\n",
       "       -0.27845602,  1.73458476, -1.48138111, -0.47556927, -0.1932596 ,\n",
       "        0.68115816, -0.05143463, -0.59151688,  0.02292374, -0.12259196,\n",
       "        0.50633508,  0.63181139, -0.2443932 ,  0.39847385, -1.2716468 ,\n",
       "        0.43167303, -1.36491646,  0.91004701,  0.65707308, -0.080445  ,\n",
       "       -1.12057881, -1.31479423,  0.26394714, -0.59459381, -0.07624482])"
      ]
     },
     "execution_count": 21,
     "metadata": {},
     "output_type": "execute_result"
    }
   ],
   "source": [
    "np.random.seed(1303)\n",
    "np.random.normal(size=50)"
   ]
  },
  {
   "cell_type": "markdown",
   "id": "175dfe7e-743d-4a84-8b9e-557f1aa1157a",
   "metadata": {},
   "source": [
    "There is a corresponding function for getting means or other summary statistics from an array in NumPy. Often times you can either use the base function, like `np.mean()`, or use the array method `.mean()`. The results are equivalent."
   ]
  },
  {
   "cell_type": "code",
   "execution_count": 22,
   "id": "00653227-49a4-4312-8779-806bbd841f6c",
   "metadata": {},
   "outputs": [
    {
     "data": {
      "text/plain": [
       "-0.10863707440606224"
      ]
     },
     "execution_count": 22,
     "metadata": {},
     "output_type": "execute_result"
    }
   ],
   "source": [
    "np.random.seed(3)\n",
    "y = np.random.normal(size=100)\n",
    "np.mean(y)"
   ]
  },
  {
   "cell_type": "code",
   "execution_count": 23,
   "id": "2358dd2f-6cce-4cd4-aee3-07c59f2c7cff",
   "metadata": {},
   "outputs": [
    {
     "data": {
      "text/plain": [
       "-0.10863707440606224"
      ]
     },
     "execution_count": 23,
     "metadata": {},
     "output_type": "execute_result"
    }
   ],
   "source": [
    "y.mean()"
   ]
  },
  {
   "cell_type": "code",
   "execution_count": 24,
   "id": "6a84fc93-42e0-47da-aad8-e0b5faf4e4ff",
   "metadata": {},
   "outputs": [
    {
     "data": {
      "text/plain": [
       "(1.132081888283007, 1.132081888283007)"
      ]
     },
     "execution_count": 24,
     "metadata": {},
     "output_type": "execute_result"
    }
   ],
   "source": [
    "np.var(y), y.var()"
   ]
  },
  {
   "cell_type": "code",
   "execution_count": 25,
   "id": "d105fac0-cb2f-453f-abb8-a429859989dc",
   "metadata": {},
   "outputs": [
    {
     "data": {
      "text/plain": [
       "(1.0639933685333791, 1.0639933685333791, 1.0639933685333791)"
      ]
     },
     "execution_count": 25,
     "metadata": {},
     "output_type": "execute_result"
    }
   ],
   "source": [
    "np.std(y), y.std(), np.sqrt(y.var())"
   ]
  },
  {
   "cell_type": "markdown",
   "id": "39eaa56d-a0c6-4b2d-a532-cca8d8592fd4",
   "metadata": {},
   "source": [
    "## 2.3.2 Graphic"
   ]
  },
  {
   "cell_type": "markdown",
   "id": "935c0d7a-a332-448f-83c2-f962e7282b73",
   "metadata": {},
   "source": [
    "Base Python, or for that matter the Python Standard Library, does not provide any plotting functionality. There are many possible plotting, graphics, or visualization packages that work well with NumPy arrays (and later, Pandas dataframes). For quick and dirty plotting needs, we often turn to Matplotlib. Note the Matplotlib works substantially different from `plot()` in `R` and might take somet time to get use to."
   ]
  },
  {
   "cell_type": "code",
   "execution_count": 26,
   "id": "8f271d90-10a6-43ea-b274-6ffe6bf22a41",
   "metadata": {},
   "outputs": [
    {
     "data": {
      "text/plain": [
       "Text(0.5, 1.0, 'Plot of X vs Y')"
      ]
     },
     "execution_count": 26,
     "metadata": {},
     "output_type": "execute_result"
    },
    {
     "data": {
      "image/png": "[encoded data removed]",
      "text/plain": [
       "<Figure size 400x400 with 1 Axes>"
      ]
     },
     "metadata": {},
     "output_type": "display_data"
    }
   ],
   "source": [
    "import matplotlib.pyplot as plt\n",
    "\n",
    "x = np.random.normal(size=100)\n",
    "y = np.random.normal(size=100)\n",
    "\n",
    "fig, ax = plt.subplots(figsize=(4, 4))\n",
    "# We CAN use ax.plot(), but the default for that function are line plots\n",
    "ax.scatter(x, y)\n",
    "ax.set_xlabel(\"this is the x-axis\")\n",
    "ax.set_ylabel(\"this is the y-axis\")\n",
    "ax.set_title(\"Plot of X vs Y\")"
   ]
  },
  {
   "cell_type": "markdown",
   "id": "b4c8ded0-04cc-482f-8286-ba49049f10ef",
   "metadata": {},
   "source": [
    "To save plots to a file in Python, we will have to rely, generally, for such functionality to be implemented by the plotting library itself. Therefore the method will vary from library form library. In Matplotlib, we can use the `figure.savefig()` method. The file format is inferred from the file name or it can by specified via the `format` parameter, and sometimes additional rendering backend will need to beinstalled."
   ]
  },
  {
   "cell_type": "code",
   "execution_count": 27,
   "id": "bb0a5029-a542-46a0-87de-cb14fe12394a",
   "metadata": {},
   "outputs": [],
   "source": [
    "fig.savefig(\"Figure_python.pdf\")"
   ]
  },
  {
   "cell_type": "markdown",
   "id": "b047bec9-0a3d-466e-8897-8d1dc0970521",
   "metadata": {},
   "source": [
    "There are several different types of sequence data types in Python, and the difference between them are often important in the context of Python programming. For our purposes, the \"list\" data type, which in Python is implemented as a _mutable_ sequence of values. They are declared by the `[...]` literal or the `list()` function, although the latter is discouraged."
   ]
  },
  {
   "cell_type": "code",
   "execution_count": 28,
   "id": "ce1f4b25-85d1-42d3-9add-f0734e45fa85",
   "metadata": {},
   "outputs": [
    {
     "data": {
      "text/plain": [
       "[1, 2, 3, 4, 5, 6, 7, 8, 9, 10]"
      ]
     },
     "execution_count": 28,
     "metadata": {},
     "output_type": "execute_result"
    }
   ],
   "source": [
    "[1, 2, 3, 4, 5, 6, 7, 8, 9, 10]"
   ]
  },
  {
   "cell_type": "markdown",
   "id": "c98c0e9c-4d88-44a0-8b69-ea2ea11bf68b",
   "metadata": {},
   "source": [
    "To get the `R` behavior of generated a sequence of values by naming it's starting and ending value, one way to do so is to use `range()`. The `range()` function does not generate a sequence, but rather an object called a _generator_ in Python, which is _lazily_ evaluated. We can feed the `range` generator object to `list()` to generate a list. Note that indexing works very different in python. In this case the specifying the end of a sequence is always exclusionary, meaning if we specify 10 as the end of a sequence the value 10 will not be included."
   ]
  },
  {
   "cell_type": "code",
   "execution_count": 29,
   "id": "edec6b8c-dd24-4240-b4f9-9e35bbd05078",
   "metadata": {},
   "outputs": [
    {
     "data": {
      "text/plain": [
       "[1, 2, 3, 4, 5, 6, 7, 8, 9]"
      ]
     },
     "execution_count": 29,
     "metadata": {},
     "output_type": "execute_result"
    }
   ],
   "source": [
    "list(range(1, 10))"
   ]
  },
  {
   "cell_type": "code",
   "execution_count": 30,
   "id": "fffa4387-293e-4f14-ac29-c3c3b88093d1",
   "metadata": {},
   "outputs": [
    {
     "data": {
      "text/plain": [
       "[1, 2, 3, 4, 5, 6, 7, 8, 9, 10]"
      ]
     },
     "execution_count": 30,
     "metadata": {},
     "output_type": "execute_result"
    }
   ],
   "source": [
    "list(range(1, 11))"
   ]
  },
  {
   "cell_type": "markdown",
   "id": "461b4700-4146-4a63-958d-a0c106e49ebf",
   "metadata": {},
   "source": [
    "A more versatile (and more Pythonic way) is use use a \"list comprehension\", which is a sort of an abbreviated for-loop:"
   ]
  },
  {
   "cell_type": "code",
   "execution_count": 31,
   "id": "fe1510cc-868d-484c-a03d-0432fb61eda4",
   "metadata": {},
   "outputs": [
    {
     "data": {
      "text/plain": [
       "[1, 2, 3, 4, 5, 6, 7, 8, 9, 10]"
      ]
     },
     "execution_count": 31,
     "metadata": {},
     "output_type": "execute_result"
    }
   ],
   "source": [
    "[num for num in range(1, 11)]"
   ]
  },
  {
   "cell_type": "markdown",
   "id": "0820b8c1-01ac-4e88-a04f-3c96e984b7c8",
   "metadata": {},
   "source": [
    "The list comprehension is more verbose in this use case, but it is more versatile as we will see later on."
   ]
  },
  {
   "cell_type": "markdown",
   "id": "a5225d4c-982d-495e-baad-02aa168d9e6b",
   "metadata": {},
   "source": [
    "Mathematics constants are generally implemented in the `math` standard library. Unfortunately, there isn't an easy way to specify the desired final length of a list or sequence in base Python. The `range()` function does accept a `step` parameter indicating what intervals should between each element of the sequence, but not a \"length\" parameter or anything like that. For something like that we will have to turn to NumPy again. The `np.linspace()` function accepts a `num` parameter, and generated a linear interpolated sequence of numbers between start and end (in this case, end is **NOT** exclusionary, it behaves as expected.)"
   ]
  },
  {
   "cell_type": "code",
   "execution_count": 32,
   "id": "7bff8c5a-2404-41d3-9a29-67a4d52481ee",
   "metadata": {},
   "outputs": [
    {
     "data": {
      "text/plain": [
       "array([-3.14159265, -3.01336438, -2.88513611, -2.75690784, -2.62867957,\n",
       "       -2.5004513 , -2.37222302, -2.24399475, -2.11576648, -1.98753821,\n",
       "       -1.85930994, -1.73108167, -1.60285339, -1.47462512, -1.34639685,\n",
       "       -1.21816858, -1.08994031, -0.96171204, -0.83348377, -0.70525549,\n",
       "       -0.57702722, -0.44879895, -0.32057068, -0.19234241, -0.06411414,\n",
       "        0.06411414,  0.19234241,  0.32057068,  0.44879895,  0.57702722,\n",
       "        0.70525549,  0.83348377,  0.96171204,  1.08994031,  1.21816858,\n",
       "        1.34639685,  1.47462512,  1.60285339,  1.73108167,  1.85930994,\n",
       "        1.98753821,  2.11576648,  2.24399475,  2.37222302,  2.5004513 ,\n",
       "        2.62867957,  2.75690784,  2.88513611,  3.01336438,  3.14159265])"
      ]
     },
     "execution_count": 32,
     "metadata": {},
     "output_type": "execute_result"
    }
   ],
   "source": [
    "import math\n",
    "\n",
    "x = np.linspace(-math.pi, math.pi, 50)\n",
    "x"
   ]
  },
  {
   "cell_type": "markdown",
   "id": "9520d1aa-d0d5-4b79-ba54-3221cf74e775",
   "metadata": {},
   "source": [
    "Matplotlib provides a `contour()` function as well that works similarly. However, it does not label the lines by default. We will need to call the axis method `clabel()` to draw it.\n",
    "\n",
    "Also, while there is a `np.outer()` function for outer product, it does not accept generic functions to apply to the elements of the two arrays. Therefore, the best way to go about this is to reshape one of the array to a column, then apply the function as a broadcast between the two array.\n",
    "\n",
    "One last thing; Python uses the `def` keyword to define function. However, `def` does not support inline function definition within other statements or expression. To do so, we have to use the `lambda` keyword instead. Lambda expressions are anonymous functions in Python, and they are limited to one expression and one line only. It's syntax is `lambda [*args]: expression`. Where `[*args]` is an objected list of arguments delimited by commas."
   ]
  },
  {
   "cell_type": "code",
   "execution_count": 33,
   "id": "1a182b9c-a9b4-4b8b-a7db-e10bc847d6d9",
   "metadata": {},
   "outputs": [
    {
     "data": {
      "text/plain": [
       "array([[-0.09199967, -0.09920276, -0.10724999, ..., -0.10724999,\n",
       "        -0.09920276, -0.09199967],\n",
       "       [-0.09124435, -0.0983883 , -0.10636947, ..., -0.10636947,\n",
       "        -0.0983883 , -0.09124435],\n",
       "       [-0.08899081, -0.09595832, -0.10374236, ..., -0.10374236,\n",
       "        -0.09595832, -0.08899081],\n",
       "       ...,\n",
       "       [-0.08899081, -0.09595832, -0.10374236, ..., -0.10374236,\n",
       "        -0.09595832, -0.08899081],\n",
       "       [-0.09124435, -0.0983883 , -0.10636947, ..., -0.10636947,\n",
       "        -0.0983883 , -0.09124435],\n",
       "       [-0.09199967, -0.09920276, -0.10724999, ..., -0.10724999,\n",
       "        -0.09920276, -0.09199967]])"
      ]
     },
     "execution_count": 33,
     "metadata": {},
     "output_type": "execute_result"
    }
   ],
   "source": [
    "y = x\n",
    "f = (lambda x, y: np.cos(y) / (1 + x**2))(x, y.reshape(-1, 1))\n",
    "f"
   ]
  },
  {
   "cell_type": "code",
   "execution_count": 34,
   "id": "a6f7f0d9-811e-4afb-ba85-e7bb5ebf6e03",
   "metadata": {},
   "outputs": [
    {
     "data": {
      "text/plain": [
       "<a list of 11 text.Text objects>"
      ]
     },
     "execution_count": 34,
     "metadata": {},
     "output_type": "execute_result"
    },
    {
     "data": {
      "image/png": "[encoded data removed]",
      "text/plain": [
       "<Figure size 400x400 with 1 Axes>"
      ]
     },
     "metadata": {},
     "output_type": "display_data"
    }
   ],
   "source": [
    "fig, ax = plt.subplots(figsize=(4, 4))\n",
    "contour_plot = ax.contour(x, y, f)\n",
    "ax.clabel(contour_plot, contour_plot.levels)"
   ]
  },
  {
   "cell_type": "markdown",
   "id": "5c5925af-9946-4144-8097-a2848659cc78",
   "metadata": {},
   "source": [
    "There exist a `np.transpose()` function to transpose matrices in NumPy, but you can also access the `.T` property of any NumPy array to obtain the transposed array. Any NumPy array also has an `.transpose()` method that is equivalent to `np.tranpose()`."
   ]
  },
  {
   "cell_type": "code",
   "execution_count": 35,
   "id": "0981090d-f591-4e85-9d7d-7d5f6fab383e",
   "metadata": {},
   "outputs": [
    {
     "data": {
      "text/plain": [
       "array([[ 0.00000000e+00, -3.97920285e-03, -9.12959065e-03, ...,\n",
       "        -9.12959065e-03, -3.97920285e-03,  0.00000000e+00],\n",
       "       [ 3.97920285e-03,  0.00000000e+00, -5.20557437e-03, ...,\n",
       "        -5.20557437e-03, -6.93889390e-18,  3.97920285e-03],\n",
       "       [ 9.12959065e-03,  5.20557437e-03,  0.00000000e+00, ...,\n",
       "        -3.46944695e-17,  5.20557437e-03,  9.12959065e-03],\n",
       "       ...,\n",
       "       [ 9.12959065e-03,  5.20557437e-03,  3.46944695e-17, ...,\n",
       "         0.00000000e+00,  5.20557437e-03,  9.12959065e-03],\n",
       "       [ 3.97920285e-03,  6.93889390e-18, -5.20557437e-03, ...,\n",
       "        -5.20557437e-03,  0.00000000e+00,  3.97920285e-03],\n",
       "       [ 0.00000000e+00, -3.97920285e-03, -9.12959065e-03, ...,\n",
       "        -9.12959065e-03, -3.97920285e-03,  0.00000000e+00]])"
      ]
     },
     "execution_count": 35,
     "metadata": {},
     "output_type": "execute_result"
    }
   ],
   "source": [
    "fa = (f - f.T) / 2\n",
    "fa"
   ]
  },
  {
   "cell_type": "code",
   "execution_count": 36,
   "id": "654db71e-1786-4303-8616-2b6e95f9c031",
   "metadata": {},
   "outputs": [
    {
     "data": {
      "text/plain": [
       "<a list of 24 text.Text objects>"
      ]
     },
     "execution_count": 36,
     "metadata": {},
     "output_type": "execute_result"
    },
    {
     "data": {
      "image/png": "[encoded data removed]",
      "text/plain": [
       "<Figure size 400x400 with 1 Axes>"
      ]
     },
     "metadata": {},
     "output_type": "display_data"
    }
   ],
   "source": [
    "fig, ax = plt.subplots(figsize=(4, 4))\n",
    "contour_plot = ax.contour(x, y, fa, levels=15)\n",
    "ax.clabel(contour_plot, contour_plot.levels)"
   ]
  },
  {
   "cell_type": "markdown",
   "id": "f95f9ecc-0844-40be-be64-73a6a506e129",
   "metadata": {},
   "source": [
    "To generate a heatmap like that of `image()` from `R`, Matplotlib provides the `imshow()` function that is very similar. However, it does not accept X and Y coordinates, but we can specify the extent of the heatmap with the the `extent` parameter."
   ]
  },
  {
   "cell_type": "code",
   "execution_count": 37,
   "id": "84f29c2a-3787-473a-84ea-99aa653c3833",
   "metadata": {},
   "outputs": [
    {
     "data": {
      "text/plain": [
       "<matplotlib.image.AxesImage at 0x15ec63ec1f0>"
      ]
     },
     "execution_count": 37,
     "metadata": {},
     "output_type": "execute_result"
    },
    {
     "data": {
      "image/png": "[encoded data removed]",
      "text/plain": [
       "<Figure size 400x400 with 1 Axes>"
      ]
     },
     "metadata": {},
     "output_type": "display_data"
    }
   ],
   "source": [
    "fig, ax = plt.subplots(figsize=(4, 4))\n",
    "ax.imshow(fa, extent=[x[0], x[-1], y[0], y[-1]], cmap=\"hot\")"
   ]
  },
  {
   "cell_type": "markdown",
   "id": "0f8464c5-a247-4f9c-83dc-0930d5d34253",
   "metadata": {},
   "source": [
    "Similarly, Matplotlib supplies a `plot_surface()` function for 3D plotting. To use this we must initialize the axis of the Matplotlib `figure` object with `projection=\"3d\"`. Then, we can use the `.view_init()` method of the axis object to rotate the plot with three parameters, `elve`, `azim`, and `roll`."
   ]
  },
  {
   "cell_type": "code",
   "execution_count": 38,
   "id": "c448bd9e-1b90-4782-98a8-68cbb2d927b0",
   "metadata": {},
   "outputs": [
    {
     "data": {
      "image/png": "[encoded data removed]",
      "text/plain": [
       "<Figure size 600x600 with 1 Axes>"
      ]
     },
     "metadata": {},
     "output_type": "display_data"
    }
   ],
   "source": [
    "fig = plt.figure(figsize=(6, 6))\n",
    "ax = fig.add_subplot(111, projection=\"3d\")\n",
    "ax.plot_surface(x, y, fa, alpha=0.5, cmap=\"viridis\")\n",
    "ax.view_init(elev=None, azim=0, roll=0)"
   ]
  },
  {
   "cell_type": "markdown",
   "id": "826e5748-3d10-471e-b688-272d51884fc1",
   "metadata": {},
   "source": [
    "## 2.3.3 Indexing Data"
   ]
  },
  {
   "cell_type": "markdown",
   "id": "2d54fc6c-6440-46f8-8965-c0deb1e0bb8b",
   "metadata": {},
   "source": [
    "Several things of note here. Generally, it is not idiomatic/Pythonic to name variables with capital letters, although we will do so here just to conform. In machine learning we do often use `X` to represent the feature table. Although, again, this isn't very descriptive and therefore not idiomatic. Instead of a matrix, we will create a 2-dimensional array with `np.array()`. Note that the `:` notation is available in Python, but it does not behave exactly the same way as `R`; it can only be used for indexing, not for making sequences. One final note is that after reshaping to `(4, 4)`, we need to transpose the matrix via `.T` as NumPy construct arrays by row first."
   ]
  },
  {
   "cell_type": "code",
   "execution_count": 51,
   "id": "c62948a9-6e07-4a8c-978b-e6c787c3e356",
   "metadata": {},
   "outputs": [
    {
     "data": {
      "text/plain": [
       "array([[ 1,  5,  9, 13],\n",
       "       [ 2,  6, 10, 14],\n",
       "       [ 3,  7, 11, 15],\n",
       "       [ 4,  8, 12, 16]])"
      ]
     },
     "execution_count": 51,
     "metadata": {},
     "output_type": "execute_result"
    }
   ],
   "source": [
    "A = np.array([num for num in range(1, 17)]).reshape((4, 4)).T\n",
    "A"
   ]
  },
  {
   "cell_type": "markdown",
   "id": "eb5751a8-9708-4dbd-8caa-b86658d6e407",
   "metadata": {},
   "source": [
    "The `[]` notations is indeed also used for indexing in Python and NumPy. Broadly speaking this is the \"subscript\" operator, and can be used on native Python objects and lists and tuples. The biggest difference here is that Python, like most programming languages, but not like `R` or MATLAB, are 0th-indexed, meaning the beginning of any sequences is always `0`, not `1` like in `R`. So, to index the element in matrix `A` at the second row and the third column, we would in fact have to index via `[1, 2]`, and not `[2, 3]`."
   ]
  },
  {
   "cell_type": "code",
   "execution_count": 55,
   "id": "2a4062fd-1206-485a-80ac-9ca32966603f",
   "metadata": {},
   "outputs": [
    {
     "data": {
      "text/plain": [
       "10"
      ]
     },
     "execution_count": 55,
     "metadata": {},
     "output_type": "execute_result"
    }
   ],
   "source": [
    "A[1, 2]"
   ]
  },
  {
   "cell_type": "markdown",
   "id": "afe076fc-716f-4b21-9518-f8ffb1be6d20",
   "metadata": {},
   "source": [
    "To index multiple columns and rows, unfortunately NumPy arrays behvae quite differently from `R` matrices. If we try to do this the same ways as `R`:"
   ]
  },
  {
   "cell_type": "code",
   "execution_count": 77,
   "id": "07da12d4-0d01-455c-b7dc-43994b858c70",
   "metadata": {},
   "outputs": [
    {
     "data": {
      "text/plain": [
       "array([ 5, 15])"
      ]
     },
     "execution_count": 77,
     "metadata": {},
     "output_type": "execute_result"
    }
   ],
   "source": [
    "A[[0, 2], [1, 3]]"
   ]
  },
  {
   "cell_type": "markdown",
   "id": "2ceac59c-c82b-4fd7-b9b5-a3ef1bdef633",
   "metadata": {},
   "source": [
    "It would only return two elements, as NumPy indexing actually interpret that as two sets of coordinates, and hence it returned the element at first row and 2nd column (`5`), and the element at the 3rd row and the 4th column (`15`). There are several ways to overcome this and get the `R` behavior. First, we can use the internal function `np.ix_()`:"
   ]
  },
  {
   "cell_type": "code",
   "execution_count": 80,
   "id": "e1a19cc1-6c0f-4f78-b364-160bbe486b30",
   "metadata": {},
   "outputs": [
    {
     "data": {
      "text/plain": [
       "array([[ 5, 13],\n",
       "       [ 7, 15]])"
      ]
     },
     "execution_count": 80,
     "metadata": {},
     "output_type": "execute_result"
    }
   ],
   "source": [
    "A[np.ix_([0, 2], [1, 3])]"
   ]
  },
  {
   "cell_type": "markdown",
   "id": "f6728c11-8db5-4f8e-a936-a17ebcc16892",
   "metadata": {},
   "source": [
    "Another way is to use broadcasting."
   ]
  },
  {
   "cell_type": "code",
   "execution_count": 83,
   "id": "98b469cc-2176-4127-8602-c39d684ab87b",
   "metadata": {},
   "outputs": [
    {
     "data": {
      "text/plain": [
       "array([[ 5, 13],\n",
       "       [ 7, 15]])"
      ]
     },
     "execution_count": 83,
     "metadata": {},
     "output_type": "execute_result"
    }
   ],
   "source": [
    "A[[[0], [2]], [1, 3]]"
   ]
  },
  {
   "cell_type": "markdown",
   "id": "66e7a0e0-88dc-44ef-9d24-f238385a9d1c",
   "metadata": {},
   "source": [
    "Broadcasting in NumPy refers to when NumPy attempts to \"stretch\" or \"broadcast\" a smaller array to match up with a larger array in order to perform operations on them. The above notation may seem more similar to `R` but it may actually be less intuitive. Regardless, use whichever method that works better for you."
   ]
  },
  {
   "cell_type": "markdown",
   "id": "f9ac85a8-2ecd-4609-b53b-aa12370a1634",
   "metadata": {},
   "source": [
    "If we want to index by sequence, we must remember that Python indexing is exclusionary in the end. Indexing by sequences in Python is referred to as \"slicing\". In `R`, `A[1:3, 2:4]` \"slices\" the row 1 through 3, and column 2 through 4, resulting in a 3 by 3 matrix. To accomplish the same slice in NumPy, we must translate that to 0-indexing. So row 1 through 3 would be `0:3` (row 0, to just before row 2, yielding row 0, 1, and 2). Then to slice from the second column to the fourth, we use `1:`. We leave the what follows the `:` blank here to signify to Python we want it to slice to the end. This will yield column 1 to the end; three columns total."
   ]
  },
  {
   "cell_type": "code",
   "execution_count": 87,
   "id": "05ef509f-d2eb-41ef-afbf-d32a1fe5d7d1",
   "metadata": {},
   "outputs": [
    {
     "data": {
      "text/plain": [
       "array([[ 5,  9, 13],\n",
       "       [ 6, 10, 14],\n",
       "       [ 7, 11, 15]])"
      ]
     },
     "execution_count": 90,
     "metadata": {},
     "output_type": "execute_result"
    }
   ],
   "source": [
    "A[0:3, 1:]"
   ]
  },
  {
   "cell_type": "code",
   "execution_count": 93,
   "id": "faf1c2a7-060a-48fa-a815-d85e2ce54e76",
   "metadata": {},
   "outputs": [
    {
     "data": {
      "text/plain": [
       "array([[ 1,  5,  9, 13],\n",
       "       [ 2,  6, 10, 14]])"
      ]
     },
     "execution_count": 93,
     "metadata": {},
     "output_type": "execute_result"
    }
   ],
   "source": [
    "A[0:2]"
   ]
  },
  {
   "cell_type": "markdown",
   "id": "766abe7f-289a-4042-ac12-8cfbb426c156",
   "metadata": {},
   "source": [
    "To select all rows but just a continuous slice of columns, it is not sufficient to leave blank before the comma, we must supply an empty `:`."
   ]
  },
  {
   "cell_type": "code",
   "execution_count": 94,
   "id": "e960350b-cea9-41f9-acfd-5e55f46fa905",
   "metadata": {},
   "outputs": [
    {
     "data": {
      "text/plain": [
       "array([[1, 5],\n",
       "       [2, 6],\n",
       "       [3, 7],\n",
       "       [4, 8]])"
      ]
     },
     "execution_count": 94,
     "metadata": {},
     "output_type": "execute_result"
    }
   ],
   "source": [
    "A[:, 0:2]"
   ]
  },
  {
   "cell_type": "code",
   "execution_count": 95,
   "id": "4ba98597-afe7-44ca-9729-682d7cd7a25f",
   "metadata": {},
   "outputs": [
    {
     "data": {
      "text/plain": [
       "array([ 1,  5,  9, 13])"
      ]
     },
     "execution_count": 95,
     "metadata": {},
     "output_type": "execute_result"
    }
   ],
   "source": [
    "A[0]"
   ]
  },
  {
   "cell_type": "code",
   "execution_count": 101,
   "id": "5a152330-89ea-4364-ad96-c95907ff2c0f",
   "metadata": {},
   "outputs": [
    {
     "data": {
      "text/plain": [
       "array([[ 2,  6, 10, 14],\n",
       "       [ 4,  8, 12, 16]])"
      ]
     },
     "execution_count": 101,
     "metadata": {},
     "output_type": "execute_result"
    }
   ],
   "source": [
    "np.delete(A, (0, 2), 0)"
   ]
  },
  {
   "cell_type": "code",
   "execution_count": null,
   "id": "2bb42a31-bdbc-4a31-afa7-694f46fdff8a",
   "metadata": {},
   "outputs": [],
   "source": []
  }
 ],
 "metadata": {
  "kernelspec": {
   "display_name": "Python 3 (ipykernel)",
   "language": "python",
   "name": "python3"
  },
  "language_info": {
   "codemirror_mode": {
    "name": "ipython",
    "version": 3
   },
   "file_extension": ".py",
   "mimetype": "text/x-python",
   "name": "python",
   "nbconvert_exporter": "python",
   "pygments_lexer": "ipython3",
   "version": "3.10.6"
  }
 },
 "nbformat": 4,
 "nbformat_minor": 5
}
