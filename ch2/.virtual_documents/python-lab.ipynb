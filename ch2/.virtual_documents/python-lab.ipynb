import numpy as np


x = np.array([1, 3, 2, 5])
x


try:
    y <- np.array([1, 4, 3])
except Exception as e:
    print(e)
    y = np.array([1, 4, 3])
x = np.array([1, 6, 2])
x, y


help(np.array)


get_ipython().run_line_magic('pinfo',  'np.array')


[1, 4, 5] + [1, 6, 2]


(1, 4, 5) + (1, 6, 2)


x + y


len(x), len(y)


x.size


dir()


del x; del y
dir()


x = np.array(object=[[1, 3], [2, 4]])
x


x = np.array([1, 3, 2, 4]).reshape([2, 2])
x


from math import sqrt

try:
    sqrt(x)
except TypeError as e:
    print(e)


np.sqrt(x)


x**2


x = np.random.normal(size=50)
x


y = x + np.random.normal(loc=50, scale=0.1, size=50)
y


np.corrcoef(x, y)


np.random.seed(1303)
np.random.normal(size=50)


np.random.seed(3)
y = np.random.normal(size=100)
np.mean(y)


y.mean()


np.var(y), y.var()


np.std(y), y.std(), np.sqrt(y.var())


import matplotlib.pyplot as plt

x = np.random.normal(size=100)
y = np.random.normal(size=100)

fig, ax = plt.subplots(figsize=(4, 4))
# We CAN use ax.plot(), but the default for that function are line plots
ax.scatter(x, y)
ax.set_xlabel("this is the x-axis")
ax.set_ylabel("this is the y-axis")
ax.set_title("Plot of X vs Y")


fig.savefig("Figure_python.pdf")


[1, 2, 3, 4, 5, 6, 7, 8, 9, 10]


list(range(1, 10))


list(range(1, 11))


[num for num in range(1, 11)]


import math

x = np.linspace(-math.pi, math.pi, 50)
x


y = x
f = (lambda x, y: np.cos(y) / (1 + x**2))(x, y.reshape(-1, 1))
f


fig, ax = plt.subplots(figsize=(4, 4))
contour_plot = ax.contour(x, y, f)
ax.clabel(contour_plot, contour_plot.levels)


fa = (f - f.T) / 2
fa


fig, ax = plt.subplots(figsize=(4, 4))
contour_plot = ax.contour(x, y, fa, levels=15)
ax.clabel(contour_plot, contour_plot.levels)


fig, ax = plt.subplots(figsize=(4, 4))
ax.imshow(fa, extent=[x[0], x[-1], y[0], y[-1]], cmap="hot")


fig = plt.figure(figsize=(6, 6))
ax = fig.add_subplot(111, projection="3d")
ax.plot_surface(x, y, fa, alpha=0.5, cmap="viridis")
ax.view_init(elev=None, azim=0, roll=0)


A = np.array([num for num in range(1, 17)]).reshape((4, 4)).T
A


A[1, 2]


A[[0, 2], [1, 3]]


A[np.ix_([0, 2], [1, 3])]


A[[[0], [2]], [1, 3]]


A[0:3, 1:]


A[0:2]


A[:, 0:2]


A[0]


np.delete(A, (0, 2), 0)



