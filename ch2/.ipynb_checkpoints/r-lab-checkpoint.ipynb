{
 "cells": [
  {
   "cell_type": "markdown",
   "id": "e6c4f7b0-245a-4f53-9409-f25552b77948",
   "metadata": {},
   "source": [
    "`R` uses _functions to per operations. To run a function called `funcname`, we type `funcname(input1, input2)`, where the inputs (or _arguments) `input1` and `input2` tell `R` how to run the function. A function can have any number of inputs. For example to create a vector of numbers, we use the function `c()` (for _concatenate). Any numbers inside the parenthese are joined together. The following command instruct `R` to join together the numbers 1, 3, 2, and 5, and to save them as a `vector` named `x`. When we type `x`, it gives us back the vector."
   ]
  },
  {
   "cell_type": "code",
   "execution_count": 1,
   "id": "3e98f8f4-aa6d-47c0-aea4-060386c17e5e",
   "metadata": {},
   "outputs": [
    {
     "data": {
      "text/html": [
       "<style>\n",
       ".list-inline {list-style: none; margin:0; padding: 0}\n",
       ".list-inline>li {display: inline-block}\n",
       ".list-inline>li:not(:last-child)::after {content: \"\\00b7\"; padding: 0 .5ex}\n",
       "</style>\n",
       "<ol class=list-inline><li>1</li><li>3</li><li>2</li><li>5</li></ol>\n"
      ],
      "text/latex": [
       "\\begin{enumerate*}\n",
       "\\item 1\n",
       "\\item 3\n",
       "\\item 2\n",
       "\\item 5\n",
       "\\end{enumerate*}\n"
      ],
      "text/markdown": [
       "1. 1\n",
       "2. 3\n",
       "3. 2\n",
       "4. 5\n",
       "\n",
       "\n"
      ],
      "text/plain": [
       "[1] 1 3 2 5"
      ]
     },
     "metadata": {},
     "output_type": "display_data"
    }
   ],
   "source": [
    "x <- c(1, 3, 2, 5)\n",
    "x"
   ]
  },
  {
   "cell_type": "markdown",
   "id": "1f4d0937-2251-4921-a537-c252708c22e1",
   "metadata": {},
   "source": [
    "We can also save things using `=` rather than `<-`:"
   ]
  },
  {
   "cell_type": "code",
   "execution_count": 2,
   "id": "4678c554-a98c-4f3c-8e37-b3f6f603ee8b",
   "metadata": {},
   "outputs": [
    {
     "data": {
      "text/html": [
       "<style>\n",
       ".list-inline {list-style: none; margin:0; padding: 0}\n",
       ".list-inline>li {display: inline-block}\n",
       ".list-inline>li:not(:last-child)::after {content: \"\\00b7\"; padding: 0 .5ex}\n",
       "</style>\n",
       "<ol class=list-inline><li>1</li><li>6</li><li>2</li></ol>\n"
      ],
      "text/latex": [
       "\\begin{enumerate*}\n",
       "\\item 1\n",
       "\\item 6\n",
       "\\item 2\n",
       "\\end{enumerate*}\n"
      ],
      "text/markdown": [
       "1. 1\n",
       "2. 6\n",
       "3. 2\n",
       "\n",
       "\n"
      ],
      "text/plain": [
       "[1] 1 6 2"
      ]
     },
     "metadata": {},
     "output_type": "display_data"
    },
    {
     "data": {
      "text/html": [
       "<style>\n",
       ".list-inline {list-style: none; margin:0; padding: 0}\n",
       ".list-inline>li {display: inline-block}\n",
       ".list-inline>li:not(:last-child)::after {content: \"\\00b7\"; padding: 0 .5ex}\n",
       "</style>\n",
       "<ol class=list-inline><li>1</li><li>4</li><li>3</li></ol>\n"
      ],
      "text/latex": [
       "\\begin{enumerate*}\n",
       "\\item 1\n",
       "\\item 4\n",
       "\\item 3\n",
       "\\end{enumerate*}\n"
      ],
      "text/markdown": [
       "1. 1\n",
       "2. 4\n",
       "3. 3\n",
       "\n",
       "\n"
      ],
      "text/plain": [
       "[1] 1 4 3"
      ]
     },
     "metadata": {},
     "output_type": "display_data"
    }
   ],
   "source": [
    "x = c(1, 6, 2)\n",
    "y = c(1, 4, 3)\n",
    "x\n",
    "y"
   ]
  },
  {
   "cell_type": "markdown",
   "id": "060d1379-a962-40a6-8aac-bad7d7ffe8cd",
   "metadata": {},
   "source": [
    "Typing `?funcname` will always cause `R` to open a new help file window with additional information about the function `funcname()`."
   ]
  },
  {
   "cell_type": "code",
   "execution_count": 3,
   "id": "516b3549-63c7-406e-9a9f-06850a315b79",
   "metadata": {},
   "outputs": [
    {
     "data": {
      "text/html": [
       "\n",
       "<table width=\"100%\" summary=\"page for c {base}\"><tr><td>c {base}</td><td style=\"text-align: right;\">R Documentation</td></tr></table>\n",
       "\n",
       "<h2>Combine Values into a Vector or List</h2>\n",
       "\n",
       "<h3>Description</h3>\n",
       "\n",
       "<p>This is a generic function which combines its arguments.\n",
       "</p>\n",
       "<p>The default method combines its arguments to form a vector.\n",
       "All arguments are coerced to a common type which is the type\n",
       "of the returned value, and all attributes except names are removed.\n",
       "</p>\n",
       "\n",
       "\n",
       "<h3>Usage</h3>\n",
       "\n",
       "<pre>\n",
       "## S3 Generic function\n",
       "c(...)\n",
       "\n",
       "## Default S3 method:\n",
       "c(..., recursive = FALSE, use.names = TRUE)\n",
       "</pre>\n",
       "\n",
       "\n",
       "<h3>Arguments</h3>\n",
       "\n",
       "<table summary=\"R argblock\">\n",
       "<tr valign=\"top\"><td><code>...</code></td>\n",
       "<td>\n",
       "<p>objects to be concatenated.  All <code>NULL</code> entries\n",
       "are dropped before method dispatch unless at the very beginning of the\n",
       "argument list.</p>\n",
       "</td></tr>\n",
       "<tr valign=\"top\"><td><code>recursive</code></td>\n",
       "<td>\n",
       "<p>logical.  If <code>recursive = TRUE</code>, the function\n",
       "recursively descends through lists (and pairlists) combining all\n",
       "their elements into a vector.</p>\n",
       "</td></tr>\n",
       "<tr valign=\"top\"><td><code>use.names</code></td>\n",
       "<td>\n",
       "<p>logical indicating if <code>names</code> should be\n",
       "preserved.</p>\n",
       "</td></tr>\n",
       "</table>\n",
       "\n",
       "\n",
       "<h3>Details</h3>\n",
       "\n",
       "<p>The output type is determined from the highest type of the components\n",
       "in the hierarchy NULL &lt; raw &lt; logical &lt; integer &lt; double &lt; complex &lt; character\n",
       "&lt; list &lt; expression.  Pairlists are treated as lists, whereas non-vector\n",
       "components (such as <code>name</code>s / <code>symbol</code>s and <code>call</code>s)\n",
       "are treated as one-element <code>list</code>s\n",
       "which cannot be unlisted even if <code>recursive = TRUE</code>.\n",
       "</p>\n",
       "<p>Note that in <span style=\"font-family: Courier New, Courier; color: #666666;\"><b>R</b></span> &lt; 4.1.0, <code>factor</code>s were treated only via\n",
       "their internal <code>integer</code> codes: now there is\n",
       "<code>c.factor</code> method which combines factors into a factor.\n",
       "</p>\n",
       "<p><code>c</code> is sometimes used for its side effect of removing attributes\n",
       "except names, for example to turn an <code>array</code> into a vector.\n",
       "<code>as.vector</code> is a more intuitive way to do this, but also drops\n",
       "names.  Note that methods other than the default are not required\n",
       "to do this (and they will almost certainly preserve a class attribute).\n",
       "</p>\n",
       "<p>This is a primitive function.\n",
       "</p>\n",
       "\n",
       "\n",
       "<h3>Value</h3>\n",
       "\n",
       "<p><code>NULL</code> or an expression or a vector of an appropriate mode.\n",
       "(With no arguments the value is <code>NULL</code>.)\n",
       "</p>\n",
       "\n",
       "\n",
       "<h3>S4 methods</h3>\n",
       "\n",
       "<p>This function is S4 generic, but with argument list\n",
       "<code>(x, ...)</code>.\n",
       "</p>\n",
       "\n",
       "\n",
       "<h3>References</h3>\n",
       "\n",
       "<p>Becker, R. A., Chambers, J. M. and Wilks, A. R. (1988)\n",
       "<em>The New S Language</em>.\n",
       "Wadsworth &amp; Brooks/Cole.\n",
       "</p>\n",
       "\n",
       "\n",
       "<h3>See Also</h3>\n",
       "\n",
       "<p><code>unlist</code> and <code>as.vector</code> to produce\n",
       "attribute-free vectors.\n",
       "</p>\n",
       "\n",
       "\n",
       "<h3>Examples</h3>\n",
       "\n",
       "<pre>\n",
       "c(1,7:9)\n",
       "c(1:5, 10.5, \"next\")\n",
       "\n",
       "## uses with a single argument to drop attributes\n",
       "x &lt;- 1:4\n",
       "names(x) &lt;- letters[1:4]\n",
       "x\n",
       "c(x)          # has names\n",
       "as.vector(x)  # no names\n",
       "dim(x) &lt;- c(2,2)\n",
       "x\n",
       "c(x)\n",
       "as.vector(x)\n",
       "\n",
       "## append to a list:\n",
       "ll &lt;- list(A = 1, c = \"C\")\n",
       "## do *not* use\n",
       "c(ll, d = 1:3) # which is == c(ll, as.list(c(d = 1:3)))\n",
       "## but rather\n",
       "c(ll, d = list(1:3))  # c() combining two lists\n",
       "\n",
       "c(list(A = c(B = 1)), recursive = TRUE)\n",
       "\n",
       "c(options(), recursive = TRUE)\n",
       "c(list(A = c(B = 1, C = 2), B = c(E = 7)), recursive = TRUE)\n",
       "</pre>\n",
       "\n",
       "<hr /><div style=\"text-align: center;\">[Package <em>base</em> version 4.1.3 ]</div>"
      ],
      "text/latex": [
       "\\inputencoding{utf8}\n",
       "\\HeaderA{c}{Combine Values into a Vector or List}{c}\n",
       "\\methaliasA{c.default}{c}{c.default}\n",
       "\\keyword{manip}{c}\n",
       "%\n",
       "\\begin{Description}\\relax\n",
       "This is a generic function which combines its arguments.\n",
       "\n",
       "The default method combines its arguments to form a vector.\n",
       "All arguments are coerced to a common type which is the type\n",
       "of the returned value, and all attributes except names are removed.\n",
       "\\end{Description}\n",
       "%\n",
       "\\begin{Usage}\n",
       "\\begin{verbatim}\n",
       "## S3 Generic function\n",
       "c(...)\n",
       "\n",
       "## Default S3 method:\n",
       "c(..., recursive = FALSE, use.names = TRUE)\n",
       "\\end{verbatim}\n",
       "\\end{Usage}\n",
       "%\n",
       "\\begin{Arguments}\n",
       "\\begin{ldescription}\n",
       "\\item[\\code{...}] objects to be concatenated.  All \\code{\\LinkA{NULL}{NULL}} entries\n",
       "are dropped before method dispatch unless at the very beginning of the\n",
       "argument list.\n",
       "\\item[\\code{recursive}] logical.  If \\code{recursive = TRUE}, the function\n",
       "recursively descends through lists (and pairlists) combining all\n",
       "their elements into a vector.\n",
       "\\item[\\code{use.names}] logical indicating if \\code{\\LinkA{names}{names}} should be\n",
       "preserved.\n",
       "\\end{ldescription}\n",
       "\\end{Arguments}\n",
       "%\n",
       "\\begin{Details}\\relax\n",
       "The output type is determined from the highest type of the components\n",
       "in the hierarchy NULL < raw < logical < integer < double < complex < character\n",
       "< list < expression.  Pairlists are treated as lists, whereas non-vector\n",
       "components (such as \\code{\\LinkA{name}{name}}s / \\code{symbol}s and \\code{\\LinkA{call}{call}}s)\n",
       "are treated as one-element \\code{\\LinkA{list}{list}}s\n",
       "which cannot be unlisted even if \\code{recursive = TRUE}.\n",
       "\n",
       "Note that in \\R{} < 4.1.0, \\code{\\LinkA{factor}{factor}}s were treated only via\n",
       "their internal \\code{\\LinkA{integer}{integer}} codes: now there is\n",
       "\\code{\\LinkA{c.factor}{c.factor}} method which combines factors into a factor.\n",
       "\n",
       "\\code{c} is sometimes used for its side effect of removing attributes\n",
       "except names, for example to turn an \\code{\\LinkA{array}{array}} into a vector.\n",
       "\\code{as.vector} is a more intuitive way to do this, but also drops\n",
       "names.  Note that methods other than the default are not required\n",
       "to do this (and they will almost certainly preserve a class attribute).\n",
       "\n",
       "This is a \\LinkA{primitive}{primitive} function.\n",
       "\\end{Details}\n",
       "%\n",
       "\\begin{Value}\n",
       "\\code{NULL} or an expression or a vector of an appropriate mode.\n",
       "(With no arguments the value is \\code{NULL}.)\n",
       "\\end{Value}\n",
       "%\n",
       "\\begin{Section}{S4 methods}\n",
       "This function is S4 generic, but with argument list\n",
       "\\code{(x, ...)}.\n",
       "\\end{Section}\n",
       "%\n",
       "\\begin{References}\\relax\n",
       "Becker, R. A., Chambers, J. M. and Wilks, A. R. (1988)\n",
       "\\emph{The New S Language}.\n",
       "Wadsworth \\& Brooks/Cole.\n",
       "\\end{References}\n",
       "%\n",
       "\\begin{SeeAlso}\\relax\n",
       "\\code{\\LinkA{unlist}{unlist}} and \\code{\\LinkA{as.vector}{as.vector}} to produce\n",
       "attribute-free vectors.\n",
       "\\end{SeeAlso}\n",
       "%\n",
       "\\begin{Examples}\n",
       "\\begin{ExampleCode}\n",
       "c(1,7:9)\n",
       "c(1:5, 10.5, \"next\")\n",
       "\n",
       "## uses with a single argument to drop attributes\n",
       "x <- 1:4\n",
       "names(x) <- letters[1:4]\n",
       "x\n",
       "c(x)          # has names\n",
       "as.vector(x)  # no names\n",
       "dim(x) <- c(2,2)\n",
       "x\n",
       "c(x)\n",
       "as.vector(x)\n",
       "\n",
       "## append to a list:\n",
       "ll <- list(A = 1, c = \"C\")\n",
       "## do *not* use\n",
       "c(ll, d = 1:3) # which is == c(ll, as.list(c(d = 1:3)))\n",
       "## but rather\n",
       "c(ll, d = list(1:3))  # c() combining two lists\n",
       "\n",
       "c(list(A = c(B = 1)), recursive = TRUE)\n",
       "\n",
       "c(options(), recursive = TRUE)\n",
       "c(list(A = c(B = 1, C = 2), B = c(E = 7)), recursive = TRUE)\n",
       "\\end{ExampleCode}\n",
       "\\end{Examples}"
      ],
      "text/plain": [
       "c                     package:base                     R Documentation\n",
       "\n",
       "_\bC_\bo_\bm_\bb_\bi_\bn_\be _\bV_\ba_\bl_\bu_\be_\bs _\bi_\bn_\bt_\bo _\ba _\bV_\be_\bc_\bt_\bo_\br _\bo_\br _\bL_\bi_\bs_\bt\n",
       "\n",
       "_\bD_\be_\bs_\bc_\br_\bi_\bp_\bt_\bi_\bo_\bn:\n",
       "\n",
       "     This is a generic function which combines its arguments.\n",
       "\n",
       "     The default method combines its arguments to form a vector.  All\n",
       "     arguments are coerced to a common type which is the type of the\n",
       "     returned value, and all attributes except names are removed.\n",
       "\n",
       "_\bU_\bs_\ba_\bg_\be:\n",
       "\n",
       "     ## S3 Generic function\n",
       "     c(...)\n",
       "     \n",
       "     ## Default S3 method:\n",
       "     c(..., recursive = FALSE, use.names = TRUE)\n",
       "     \n",
       "_\bA_\br_\bg_\bu_\bm_\be_\bn_\bt_\bs:\n",
       "\n",
       "     ...: objects to be concatenated.  All 'NULL' entries are dropped\n",
       "          before method dispatch unless at the very beginning of the\n",
       "          argument list.\n",
       "\n",
       "recursive: logical.  If 'recursive = TRUE', the function recursively\n",
       "          descends through lists (and pairlists) combining all their\n",
       "          elements into a vector.\n",
       "\n",
       "use.names: logical indicating if 'names' should be preserved.\n",
       "\n",
       "_\bD_\be_\bt_\ba_\bi_\bl_\bs:\n",
       "\n",
       "     The output type is determined from the highest type of the\n",
       "     components in the hierarchy NULL < raw < logical < integer <\n",
       "     double < complex < character < list < expression.  Pairlists are\n",
       "     treated as lists, whereas non-vector components (such as 'name's /\n",
       "     'symbol's and 'call's) are treated as one-element 'list's which\n",
       "     cannot be unlisted even if 'recursive = TRUE'.\n",
       "\n",
       "     Note that in R < 4.1.0, 'factor's were treated only via their\n",
       "     internal 'integer' codes: now there is 'c.factor' method which\n",
       "     combines factors into a factor.\n",
       "\n",
       "     'c' is sometimes used for its side effect of removing attributes\n",
       "     except names, for example to turn an 'array' into a vector.\n",
       "     'as.vector' is a more intuitive way to do this, but also drops\n",
       "     names.  Note that methods other than the default are not required\n",
       "     to do this (and they will almost certainly preserve a class\n",
       "     attribute).\n",
       "\n",
       "     This is a primitive function.\n",
       "\n",
       "_\bV_\ba_\bl_\bu_\be:\n",
       "\n",
       "     'NULL' or an expression or a vector of an appropriate mode.  (With\n",
       "     no arguments the value is 'NULL'.)\n",
       "\n",
       "_\bS_\b4 _\bm_\be_\bt_\bh_\bo_\bd_\bs:\n",
       "\n",
       "     This function is S4 generic, but with argument list '(x, ...)'.\n",
       "\n",
       "_\bR_\be_\bf_\be_\br_\be_\bn_\bc_\be_\bs:\n",
       "\n",
       "     Becker, R. A., Chambers, J. M. and Wilks, A. R. (1988) _The New S\n",
       "     Language_.  Wadsworth & Brooks/Cole.\n",
       "\n",
       "_\bS_\be_\be _\bA_\bl_\bs_\bo:\n",
       "\n",
       "     'unlist' and 'as.vector' to produce attribute-free vectors.\n",
       "\n",
       "_\bE_\bx_\ba_\bm_\bp_\bl_\be_\bs:\n",
       "\n",
       "     c(1,7:9)\n",
       "     c(1:5, 10.5, \"next\")\n",
       "     \n",
       "     ## uses with a single argument to drop attributes\n",
       "     x <- 1:4\n",
       "     names(x) <- letters[1:4]\n",
       "     x\n",
       "     c(x)          # has names\n",
       "     as.vector(x)  # no names\n",
       "     dim(x) <- c(2,2)\n",
       "     x\n",
       "     c(x)\n",
       "     as.vector(x)\n",
       "     \n",
       "     ## append to a list:\n",
       "     ll <- list(A = 1, c = \"C\")\n",
       "     ## do *not* use\n",
       "     c(ll, d = 1:3) # which is == c(ll, as.list(c(d = 1:3)))\n",
       "     ## but rather\n",
       "     c(ll, d = list(1:3))  # c() combining two lists\n",
       "     \n",
       "     c(list(A = c(B = 1)), recursive = TRUE)\n",
       "     \n",
       "     c(options(), recursive = TRUE)\n",
       "     c(list(A = c(B = 1, C = 2), B = c(E = 7)), recursive = TRUE)\n",
       "     "
      ]
     },
     "metadata": {},
     "output_type": "display_data"
    }
   ],
   "source": [
    "?c"
   ]
  },
  {
   "cell_type": "markdown",
   "id": "97b232f2-958a-4229-9775-5c7bb127c1c9",
   "metadata": {},
   "source": [
    "We can tell `R` to add two sets of numbers together. It will then add the first number from `x` to the first number of `y`, and so on. However, `x` and `y` should be the same length. We can check their length using the `length()` function."
   ]
  },
  {
   "cell_type": "code",
   "execution_count": 4,
   "id": "01e4c6a0-4c2d-451c-8db6-f303ebfcd1e9",
   "metadata": {},
   "outputs": [
    {
     "data": {
      "text/html": [
       "3"
      ],
      "text/latex": [
       "3"
      ],
      "text/markdown": [
       "3"
      ],
      "text/plain": [
       "[1] 3"
      ]
     },
     "metadata": {},
     "output_type": "display_data"
    }
   ],
   "source": [
    "length(x)"
   ]
  },
  {
   "cell_type": "code",
   "execution_count": 5,
   "id": "af3e55db-bee9-4473-9541-d4e04ceb09d1",
   "metadata": {},
   "outputs": [
    {
     "data": {
      "text/html": [
       "3"
      ],
      "text/latex": [
       "3"
      ],
      "text/markdown": [
       "3"
      ],
      "text/plain": [
       "[1] 3"
      ]
     },
     "metadata": {},
     "output_type": "display_data"
    }
   ],
   "source": [
    "length(y)"
   ]
  },
  {
   "cell_type": "code",
   "execution_count": 6,
   "id": "2fda4265-9338-46bf-a312-4e8705f26e3d",
   "metadata": {},
   "outputs": [
    {
     "data": {
      "text/html": [
       "<style>\n",
       ".list-inline {list-style: none; margin:0; padding: 0}\n",
       ".list-inline>li {display: inline-block}\n",
       ".list-inline>li:not(:last-child)::after {content: \"\\00b7\"; padding: 0 .5ex}\n",
       "</style>\n",
       "<ol class=list-inline><li>2</li><li>10</li><li>5</li></ol>\n"
      ],
      "text/latex": [
       "\\begin{enumerate*}\n",
       "\\item 2\n",
       "\\item 10\n",
       "\\item 5\n",
       "\\end{enumerate*}\n"
      ],
      "text/markdown": [
       "1. 2\n",
       "2. 10\n",
       "3. 5\n",
       "\n",
       "\n"
      ],
      "text/plain": [
       "[1]  2 10  5"
      ]
     },
     "metadata": {},
     "output_type": "display_data"
    }
   ],
   "source": [
    "x + y"
   ]
  },
  {
   "cell_type": "markdown",
   "id": "ef7c2922-8128-403f-93dc-aecad00fd7a9",
   "metadata": {},
   "source": [
    "The `ls()` function allows us to look at a list of all of the objects, such as data and functions, that we have saved so far. The `rm()` function can be used to delete any that we don't want."
   ]
  },
  {
   "cell_type": "code",
   "execution_count": 7,
   "id": "b0cb767d-8b62-4ed8-bd60-5f283e589b15",
   "metadata": {},
   "outputs": [
    {
     "data": {
      "text/html": [
       "<style>\n",
       ".list-inline {list-style: none; margin:0; padding: 0}\n",
       ".list-inline>li {display: inline-block}\n",
       ".list-inline>li:not(:last-child)::after {content: \"\\00b7\"; padding: 0 .5ex}\n",
       "</style>\n",
       "<ol class=list-inline><li>'x'</li><li>'y'</li></ol>\n"
      ],
      "text/latex": [
       "\\begin{enumerate*}\n",
       "\\item 'x'\n",
       "\\item 'y'\n",
       "\\end{enumerate*}\n"
      ],
      "text/markdown": [
       "1. 'x'\n",
       "2. 'y'\n",
       "\n",
       "\n"
      ],
      "text/plain": [
       "[1] \"x\" \"y\""
      ]
     },
     "metadata": {},
     "output_type": "display_data"
    }
   ],
   "source": [
    "ls()"
   ]
  },
  {
   "cell_type": "code",
   "execution_count": 8,
   "id": "3eb9bb58-b894-4045-9a90-dde16b50b8b5",
   "metadata": {},
   "outputs": [],
   "source": [
    "rm(x, y)"
   ]
  },
  {
   "cell_type": "code",
   "execution_count": 9,
   "id": "d26b64da-28b4-444d-aad8-2231d0e28858",
   "metadata": {},
   "outputs": [
    {
     "data": {
      "text/html": [],
      "text/latex": [],
      "text/markdown": [],
      "text/plain": [
       "character(0)"
      ]
     },
     "metadata": {},
     "output_type": "display_data"
    }
   ],
   "source": [
    "ls()"
   ]
  },
  {
   "cell_type": "markdown",
   "id": "d1469cd2-7e11-41c8-9b5d-65227b57e851",
   "metadata": {},
   "source": [
    "The `matrix()` function can be used to create a matrix of numbers. Before we use the `matrix()` function, we can learn more about it:"
   ]
  },
  {
   "cell_type": "code",
   "execution_count": 10,
   "id": "304841af-2a9c-4161-988e-d73061963795",
   "metadata": {},
   "outputs": [
    {
     "data": {
      "text/html": [
       "\n",
       "<table width=\"100%\" summary=\"page for matrix {base}\"><tr><td>matrix {base}</td><td style=\"text-align: right;\">R Documentation</td></tr></table>\n",
       "\n",
       "<h2>Matrices</h2>\n",
       "\n",
       "<h3>Description</h3>\n",
       "\n",
       "<p><code>matrix</code> creates a matrix from the given set of values.\n",
       "</p>\n",
       "<p><code>as.matrix</code> attempts to turn its argument into a matrix.\n",
       "</p>\n",
       "<p><code>is.matrix</code> tests if its argument is a (strict) matrix.\n",
       "</p>\n",
       "\n",
       "\n",
       "<h3>Usage</h3>\n",
       "\n",
       "<pre>\n",
       "matrix(data = NA, nrow = 1, ncol = 1, byrow = FALSE,\n",
       "       dimnames = NULL)\n",
       "\n",
       "as.matrix(x, ...)\n",
       "## S3 method for class 'data.frame'\n",
       "as.matrix(x, rownames.force = NA, ...)\n",
       "\n",
       "is.matrix(x)\n",
       "</pre>\n",
       "\n",
       "\n",
       "<h3>Arguments</h3>\n",
       "\n",
       "<table summary=\"R argblock\">\n",
       "<tr valign=\"top\"><td><code>data</code></td>\n",
       "<td>\n",
       "<p>an optional data vector (including a list or\n",
       "<code>expression</code> vector).  Non-atomic classed <span style=\"font-family: Courier New, Courier; color: #666666;\"><b>R</b></span> objects are\n",
       "coerced by <code>as.vector</code> and all attributes discarded.</p>\n",
       "</td></tr>\n",
       "<tr valign=\"top\"><td><code>nrow</code></td>\n",
       "<td>\n",
       "<p>the desired number of rows.</p>\n",
       "</td></tr>\n",
       "<tr valign=\"top\"><td><code>ncol</code></td>\n",
       "<td>\n",
       "<p>the desired number of columns.</p>\n",
       "</td></tr>\n",
       "<tr valign=\"top\"><td><code>byrow</code></td>\n",
       "<td>\n",
       "<p>logical. If <code>FALSE</code> (the default) the matrix is\n",
       "filled by columns, otherwise the matrix is filled by rows.</p>\n",
       "</td></tr>\n",
       "<tr valign=\"top\"><td><code>dimnames</code></td>\n",
       "<td>\n",
       "<p>A <code>dimnames</code> attribute for the matrix:\n",
       "<code>NULL</code> or a <code>list</code> of length 2 giving the row and column\n",
       "names respectively.  An empty list is treated as <code>NULL</code>, and a\n",
       "list of length one as row names.  The list can be named, and the\n",
       "list names will be used as names for the dimensions.</p>\n",
       "</td></tr>\n",
       "<tr valign=\"top\"><td><code>x</code></td>\n",
       "<td>\n",
       "<p>an <span style=\"font-family: Courier New, Courier; color: #666666;\"><b>R</b></span> object.</p>\n",
       "</td></tr>\n",
       "<tr valign=\"top\"><td><code>...</code></td>\n",
       "<td>\n",
       "<p>additional arguments to be passed to or from methods.</p>\n",
       "</td></tr>\n",
       "<tr valign=\"top\"><td><code>rownames.force</code></td>\n",
       "<td>\n",
       "<p>logical indicating if the resulting matrix\n",
       "should have character (rather than <code>NULL</code>)\n",
       "<code>rownames</code>.  The default, <code>NA</code>, uses <code>NULL</code>\n",
       "rownames if the data frame has &lsquo;automatic&rsquo; row.names or for a\n",
       "zero-row data frame.</p>\n",
       "</td></tr>\n",
       "</table>\n",
       "\n",
       "\n",
       "<h3>Details</h3>\n",
       "\n",
       "<p>If one of <code>nrow</code> or <code>ncol</code> is not given, an attempt is\n",
       "made to infer it from the length of <code>data</code> and the other\n",
       "parameter.  If neither is given, a one-column matrix is returned.\n",
       "</p>\n",
       "<p>If there are too few elements in <code>data</code> to fill the matrix,\n",
       "then the elements in <code>data</code> are recycled.  If <code>data</code> has\n",
       "length zero, <code>NA</code> of an appropriate type is used for atomic\n",
       "vectors (<code>0</code> for raw vectors) and <code>NULL</code> for lists.\n",
       "</p>\n",
       "<p><code>is.matrix</code> returns <code>TRUE</code> if <code>x</code> is a vector and has a\n",
       "<code>\"dim\"</code> attribute of length 2 and <code>FALSE</code> otherwise.\n",
       "Note that a <code>data.frame</code> is <strong>not</strong> a matrix by this\n",
       "test.  The function is generic: you can write methods to handle\n",
       "specific classes of objects, see InternalMethods.\n",
       "</p>\n",
       "<p><code>as.matrix</code> is a generic function.  The method for data frames\n",
       "will return a character matrix if there is only atomic columns and any\n",
       "non-(numeric/logical/complex) column, applying <code>as.vector</code>\n",
       "to factors and <code>format</code> to other non-character columns.\n",
       "Otherwise, the usual coercion hierarchy (logical &lt; integer &lt; double &lt;\n",
       "complex) will be used, e.g., all-logical data frames will be coerced\n",
       "to a logical matrix, mixed logical-integer will give a integer matrix,\n",
       "etc.\n",
       "</p>\n",
       "<p>The default method for <code>as.matrix</code> calls <code>as.vector(x)</code>, and\n",
       "hence e.g. coerces factors to character vectors.\n",
       "</p>\n",
       "<p>When coercing a vector, it produces a one-column matrix, and\n",
       "promotes the names (if any) of the vector to the rownames of the matrix.\n",
       "</p>\n",
       "<p><code>is.matrix</code> is a primitive function.\n",
       "</p>\n",
       "<p>The <code>print</code> method for a matrix gives a rectangular layout with\n",
       "dimnames or indices.  For a list matrix, the entries of length not\n",
       "one are printed in  the form <span class=\"samp\">integer,7</span> indicating the type\n",
       "and length.\n",
       "</p>\n",
       "\n",
       "\n",
       "<h3>Note</h3>\n",
       "\n",
       "<p>If you just want to convert a vector to a matrix, something like\n",
       "</p>\n",
       "<pre>  dim(x) &lt;- c(nx, ny)\n",
       "  dimnames(x) &lt;- list(row_names, col_names)\n",
       "</pre>\n",
       "<p>will avoid duplicating <code>x</code> <em>and</em> preserve\n",
       "<code>class(x)</code> which may be useful, e.g.,\n",
       "for <code>Date</code> objects.\n",
       "</p>\n",
       "\n",
       "\n",
       "<h3>References</h3>\n",
       "\n",
       "<p>Becker, R. A., Chambers, J. M. and Wilks, A. R. (1988)\n",
       "<em>The New S Language</em>.\n",
       "Wadsworth &amp; Brooks/Cole.\n",
       "</p>\n",
       "\n",
       "\n",
       "<h3>See Also</h3>\n",
       "\n",
       "<p><code>data.matrix</code>, which attempts to convert to a numeric\n",
       "matrix.\n",
       "</p>\n",
       "<p>A matrix is the special case of a two-dimensional <code>array</code>.\n",
       "Since <span style=\"font-family: Courier New, Courier; color: #666666;\"><b>R</b></span> 4.0.0, <code>inherits(m, \"array\")</code> is true for a\n",
       "<code>matrix</code> <code>m</code>.\n",
       "</p>\n",
       "\n",
       "\n",
       "<h3>Examples</h3>\n",
       "\n",
       "<pre>\n",
       "is.matrix(as.matrix(1:10))\n",
       "!is.matrix(warpbreaks)  # data.frame, NOT matrix!\n",
       "warpbreaks[1:10,]\n",
       "as.matrix(warpbreaks[1:10,])  # using as.matrix.data.frame(.) method\n",
       "\n",
       "## Example of setting row and column names\n",
       "mdat &lt;- matrix(c(1,2,3, 11,12,13), nrow = 2, ncol = 3, byrow = TRUE,\n",
       "               dimnames = list(c(\"row1\", \"row2\"),\n",
       "                               c(\"C.1\", \"C.2\", \"C.3\")))\n",
       "mdat\n",
       "</pre>\n",
       "\n",
       "<hr /><div style=\"text-align: center;\">[Package <em>base</em> version 4.1.3 ]</div>"
      ],
      "text/latex": [
       "\\inputencoding{utf8}\n",
       "\\HeaderA{matrix}{Matrices}{matrix}\n",
       "\\aliasA{as.matrix}{matrix}{as.matrix}\n",
       "\\methaliasA{as.matrix.data.frame}{matrix}{as.matrix.data.frame}\n",
       "\\methaliasA{as.matrix.default}{matrix}{as.matrix.default}\n",
       "\\aliasA{is.matrix}{matrix}{is.matrix}\n",
       "\\keyword{array}{matrix}\n",
       "\\keyword{algebra}{matrix}\n",
       "%\n",
       "\\begin{Description}\\relax\n",
       "\\code{matrix} creates a matrix from the given set of values.\n",
       "\n",
       "\\code{as.matrix} attempts to turn its argument into a matrix.\n",
       "\n",
       "\\code{is.matrix} tests if its argument is a (strict) matrix.\n",
       "\\end{Description}\n",
       "%\n",
       "\\begin{Usage}\n",
       "\\begin{verbatim}\n",
       "matrix(data = NA, nrow = 1, ncol = 1, byrow = FALSE,\n",
       "       dimnames = NULL)\n",
       "\n",
       "as.matrix(x, ...)\n",
       "## S3 method for class 'data.frame'\n",
       "as.matrix(x, rownames.force = NA, ...)\n",
       "\n",
       "is.matrix(x)\n",
       "\\end{verbatim}\n",
       "\\end{Usage}\n",
       "%\n",
       "\\begin{Arguments}\n",
       "\\begin{ldescription}\n",
       "\\item[\\code{data}] an optional data vector (including a list or\n",
       "\\code{\\LinkA{expression}{expression}} vector).  Non-atomic classed \\R{} objects are\n",
       "coerced by \\code{\\LinkA{as.vector}{as.vector}} and all attributes discarded.\n",
       "\\item[\\code{nrow}] the desired number of rows.\n",
       "\\item[\\code{ncol}] the desired number of columns.\n",
       "\\item[\\code{byrow}] logical. If \\code{FALSE} (the default) the matrix is\n",
       "filled by columns, otherwise the matrix is filled by rows.\n",
       "\\item[\\code{dimnames}] A \\code{\\LinkA{dimnames}{dimnames}} attribute for the matrix:\n",
       "\\code{NULL} or a \\code{list} of length 2 giving the row and column\n",
       "names respectively.  An empty list is treated as \\code{NULL}, and a\n",
       "list of length one as row names.  The list can be named, and the\n",
       "list names will be used as names for the dimensions.\n",
       "\\item[\\code{x}] an \\R{} object.\n",
       "\\item[\\code{...}] additional arguments to be passed to or from methods.\n",
       "\\item[\\code{rownames.force}] logical indicating if the resulting matrix\n",
       "should have character (rather than \\code{NULL})\n",
       "\\code{\\LinkA{rownames}{rownames}}.  The default, \\code{NA}, uses \\code{NULL}\n",
       "rownames if the data frame has `automatic' row.names or for a\n",
       "zero-row data frame.\n",
       "\\end{ldescription}\n",
       "\\end{Arguments}\n",
       "%\n",
       "\\begin{Details}\\relax\n",
       "If one of \\code{nrow} or \\code{ncol} is not given, an attempt is\n",
       "made to infer it from the length of \\code{data} and the other\n",
       "parameter.  If neither is given, a one-column matrix is returned.\n",
       "\n",
       "If there are too few elements in \\code{data} to fill the matrix,\n",
       "then the elements in \\code{data} are recycled.  If \\code{data} has\n",
       "length zero, \\code{NA} of an appropriate type is used for atomic\n",
       "vectors (\\code{0} for raw vectors) and \\code{NULL} for lists.\n",
       "\n",
       "\\code{is.matrix} returns \\code{TRUE} if \\code{x} is a vector and has a\n",
       "\\code{\"\\LinkA{dim}{dim}\"} attribute of length 2 and \\code{FALSE} otherwise.\n",
       "Note that a \\code{\\LinkA{data.frame}{data.frame}} is \\strong{not} a matrix by this\n",
       "test.  The function is generic: you can write methods to handle\n",
       "specific classes of objects, see \\LinkA{InternalMethods}{InternalMethods}.\n",
       "\n",
       "\\code{as.matrix} is a generic function.  The method for data frames\n",
       "will return a character matrix if there is only atomic columns and any\n",
       "non-(numeric/logical/complex) column, applying \\code{\\LinkA{as.vector}{as.vector}}\n",
       "to factors and \\code{\\LinkA{format}{format}} to other non-character columns.\n",
       "Otherwise, the usual coercion hierarchy (logical < integer < double <\n",
       "complex) will be used, e.g., all-logical data frames will be coerced\n",
       "to a logical matrix, mixed logical-integer will give a integer matrix,\n",
       "etc.\n",
       "\n",
       "The default method for \\code{as.matrix} calls \\code{as.vector(x)}, and\n",
       "hence e.g.~coerces factors to character vectors.\n",
       "\n",
       "When coercing a vector, it produces a one-column matrix, and\n",
       "promotes the names (if any) of the vector to the rownames of the matrix.\n",
       "\n",
       "\\code{is.matrix} is a \\LinkA{primitive}{primitive} function.\n",
       "\n",
       "The \\code{print} method for a matrix gives a rectangular layout with\n",
       "dimnames or indices.  For a list matrix, the entries of length not\n",
       "one are printed in  the form \\samp{integer,7} indicating the type\n",
       "and length.\n",
       "\\end{Details}\n",
       "%\n",
       "\\begin{Note}\\relax\n",
       "If you just want to convert a vector to a matrix, something like\n",
       "\\begin{alltt}  dim(x) <- c(nx, ny)\n",
       "  dimnames(x) <- list(row_names, col_names)\n",
       "\\end{alltt}\n",
       "\n",
       "will avoid duplicating \\code{x} \\emph{and} preserve\n",
       "\\code{\\LinkA{class}{class}(x)} which may be useful, e.g.,\n",
       "for \\code{\\LinkA{Date}{Date}} objects.\n",
       "\\end{Note}\n",
       "%\n",
       "\\begin{References}\\relax\n",
       "Becker, R. A., Chambers, J. M. and Wilks, A. R. (1988)\n",
       "\\emph{The New S Language}.\n",
       "Wadsworth \\& Brooks/Cole.\n",
       "\\end{References}\n",
       "%\n",
       "\\begin{SeeAlso}\\relax\n",
       "\\code{\\LinkA{data.matrix}{data.matrix}}, which attempts to convert to a numeric\n",
       "matrix.\n",
       "\n",
       "A matrix is the special case of a two-dimensional \\code{\\LinkA{array}{array}}.\n",
       "Since \\R{} 4.0.0, \\code{\\LinkA{inherits}{inherits}(m, \"array\")} is true for a\n",
       "\\code{matrix} \\code{m}.\n",
       "\\end{SeeAlso}\n",
       "%\n",
       "\\begin{Examples}\n",
       "\\begin{ExampleCode}\n",
       "is.matrix(as.matrix(1:10))\n",
       "!is.matrix(warpbreaks)  # data.frame, NOT matrix!\n",
       "warpbreaks[1:10,]\n",
       "as.matrix(warpbreaks[1:10,])  # using as.matrix.data.frame(.) method\n",
       "\n",
       "## Example of setting row and column names\n",
       "mdat <- matrix(c(1,2,3, 11,12,13), nrow = 2, ncol = 3, byrow = TRUE,\n",
       "               dimnames = list(c(\"row1\", \"row2\"),\n",
       "                               c(\"C.1\", \"C.2\", \"C.3\")))\n",
       "mdat\n",
       "\\end{ExampleCode}\n",
       "\\end{Examples}"
      ],
      "text/plain": [
       "matrix                  package:base                   R Documentation\n",
       "\n",
       "_\bM_\ba_\bt_\br_\bi_\bc_\be_\bs\n",
       "\n",
       "_\bD_\be_\bs_\bc_\br_\bi_\bp_\bt_\bi_\bo_\bn:\n",
       "\n",
       "     'matrix' creates a matrix from the given set of values.\n",
       "\n",
       "     'as.matrix' attempts to turn its argument into a matrix.\n",
       "\n",
       "     'is.matrix' tests if its argument is a (strict) matrix.\n",
       "\n",
       "_\bU_\bs_\ba_\bg_\be:\n",
       "\n",
       "     matrix(data = NA, nrow = 1, ncol = 1, byrow = FALSE,\n",
       "            dimnames = NULL)\n",
       "     \n",
       "     as.matrix(x, ...)\n",
       "     ## S3 method for class 'data.frame'\n",
       "     as.matrix(x, rownames.force = NA, ...)\n",
       "     \n",
       "     is.matrix(x)\n",
       "     \n",
       "_\bA_\br_\bg_\bu_\bm_\be_\bn_\bt_\bs:\n",
       "\n",
       "    data: an optional data vector (including a list or 'expression'\n",
       "          vector).  Non-atomic classed R objects are coerced by\n",
       "          'as.vector' and all attributes discarded.\n",
       "\n",
       "    nrow: the desired number of rows.\n",
       "\n",
       "    ncol: the desired number of columns.\n",
       "\n",
       "   byrow: logical. If 'FALSE' (the default) the matrix is filled by\n",
       "          columns, otherwise the matrix is filled by rows.\n",
       "\n",
       "dimnames: A 'dimnames' attribute for the matrix: 'NULL' or a 'list' of\n",
       "          length 2 giving the row and column names respectively.  An\n",
       "          empty list is treated as 'NULL', and a list of length one as\n",
       "          row names.  The list can be named, and the list names will be\n",
       "          used as names for the dimensions.\n",
       "\n",
       "       x: an R object.\n",
       "\n",
       "     ...: additional arguments to be passed to or from methods.\n",
       "\n",
       "rownames.force: logical indicating if the resulting matrix should have\n",
       "          character (rather than 'NULL') 'rownames'.  The default,\n",
       "          'NA', uses 'NULL' rownames if the data frame has 'automatic'\n",
       "          row.names or for a zero-row data frame.\n",
       "\n",
       "_\bD_\be_\bt_\ba_\bi_\bl_\bs:\n",
       "\n",
       "     If one of 'nrow' or 'ncol' is not given, an attempt is made to\n",
       "     infer it from the length of 'data' and the other parameter.  If\n",
       "     neither is given, a one-column matrix is returned.\n",
       "\n",
       "     If there are too few elements in 'data' to fill the matrix, then\n",
       "     the elements in 'data' are recycled.  If 'data' has length zero,\n",
       "     'NA' of an appropriate type is used for atomic vectors ('0' for\n",
       "     raw vectors) and 'NULL' for lists.\n",
       "\n",
       "     'is.matrix' returns 'TRUE' if 'x' is a vector and has a '\"dim\"'\n",
       "     attribute of length 2 and 'FALSE' otherwise.  Note that a\n",
       "     'data.frame' is *not* a matrix by this test.  The function is\n",
       "     generic: you can write methods to handle specific classes of\n",
       "     objects, see InternalMethods.\n",
       "\n",
       "     'as.matrix' is a generic function.  The method for data frames\n",
       "     will return a character matrix if there is only atomic columns and\n",
       "     any non-(numeric/logical/complex) column, applying 'as.vector' to\n",
       "     factors and 'format' to other non-character columns.  Otherwise,\n",
       "     the usual coercion hierarchy (logical < integer < double <\n",
       "     complex) will be used, e.g., all-logical data frames will be\n",
       "     coerced to a logical matrix, mixed logical-integer will give a\n",
       "     integer matrix, etc.\n",
       "\n",
       "     The default method for 'as.matrix' calls 'as.vector(x)', and hence\n",
       "     e.g. coerces factors to character vectors.\n",
       "\n",
       "     When coercing a vector, it produces a one-column matrix, and\n",
       "     promotes the names (if any) of the vector to the rownames of the\n",
       "     matrix.\n",
       "\n",
       "     'is.matrix' is a primitive function.\n",
       "\n",
       "     The 'print' method for a matrix gives a rectangular layout with\n",
       "     dimnames or indices.  For a list matrix, the entries of length not\n",
       "     one are printed in the form 'integer,7' indicating the type and\n",
       "     length.\n",
       "\n",
       "_\bN_\bo_\bt_\be:\n",
       "\n",
       "     If you just want to convert a vector to a matrix, something like\n",
       "\n",
       "       dim(x) <- c(nx, ny)\n",
       "       dimnames(x) <- list(row_names, col_names)\n",
       "     \n",
       "     will avoid duplicating 'x' _and_ preserve 'class(x)' which may be\n",
       "     useful, e.g., for 'Date' objects.\n",
       "\n",
       "_\bR_\be_\bf_\be_\br_\be_\bn_\bc_\be_\bs:\n",
       "\n",
       "     Becker, R. A., Chambers, J. M. and Wilks, A. R. (1988) _The New S\n",
       "     Language_.  Wadsworth & Brooks/Cole.\n",
       "\n",
       "_\bS_\be_\be _\bA_\bl_\bs_\bo:\n",
       "\n",
       "     'data.matrix', which attempts to convert to a numeric matrix.\n",
       "\n",
       "     A matrix is the special case of a two-dimensional 'array'.  Since\n",
       "     R 4.0.0, 'inherits(m, \"array\")' is true for a 'matrix' 'm'.\n",
       "\n",
       "_\bE_\bx_\ba_\bm_\bp_\bl_\be_\bs:\n",
       "\n",
       "     is.matrix(as.matrix(1:10))\n",
       "     !is.matrix(warpbreaks)  # data.frame, NOT matrix!\n",
       "     warpbreaks[1:10,]\n",
       "     as.matrix(warpbreaks[1:10,])  # using as.matrix.data.frame(.) method\n",
       "     \n",
       "     ## Example of setting row and column names\n",
       "     mdat <- matrix(c(1,2,3, 11,12,13), nrow = 2, ncol = 3, byrow = TRUE,\n",
       "                    dimnames = list(c(\"row1\", \"row2\"),\n",
       "                                    c(\"C.1\", \"C.2\", \"C.3\")))\n",
       "     mdat\n",
       "     "
      ]
     },
     "metadata": {},
     "output_type": "display_data"
    }
   ],
   "source": [
    "?matrix"
   ]
  },
  {
   "cell_type": "markdown",
   "id": "28903424-b6cb-490d-84a7-1d8b7a58e7c5",
   "metadata": {},
   "source": [
    "The help file reveals that the `matrix()` function takes a number of inputs, but for now we focus on the first three: the data (the entries in the matrix), the number of rows, and the number of columns. First we create a simple matrix."
   ]
  },
  {
   "cell_type": "code",
   "execution_count": 11,
   "id": "96a5cbe5-1942-4be8-bec6-50d762a97b91",
   "metadata": {},
   "outputs": [
    {
     "data": {
      "text/html": [
       "<table class=\"dataframe\">\n",
       "<caption>A matrix: 2 × 2 of type dbl</caption>\n",
       "<tbody>\n",
       "\t<tr><td>1</td><td>3</td></tr>\n",
       "\t<tr><td>2</td><td>4</td></tr>\n",
       "</tbody>\n",
       "</table>\n"
      ],
      "text/latex": [
       "A matrix: 2 × 2 of type dbl\n",
       "\\begin{tabular}{ll}\n",
       "\t 1 & 3\\\\\n",
       "\t 2 & 4\\\\\n",
       "\\end{tabular}\n"
      ],
      "text/markdown": [
       "\n",
       "A matrix: 2 × 2 of type dbl\n",
       "\n",
       "| 1 | 3 |\n",
       "| 2 | 4 |\n",
       "\n"
      ],
      "text/plain": [
       "     [,1] [,2]\n",
       "[1,] 1    3   \n",
       "[2,] 2    4   "
      ]
     },
     "metadata": {},
     "output_type": "display_data"
    }
   ],
   "source": [
    "x <- matrix(data = c(1, 2, 3, 4), nrow = 2, ncol = 2)\n",
    "x"
   ]
  },
  {
   "cell_type": "markdown",
   "id": "1eef49a5-d509-4aa7-a09c-529beeafc0c0",
   "metadata": {},
   "source": [
    "By default `R` creates matrices by successively filling in columns. Alternatively the `byrow = TRUE` option can be used to populate the matrix in order of the rows."
   ]
  },
  {
   "cell_type": "code",
   "execution_count": 12,
   "id": "33f96335-9b87-4da8-a63b-fe5e7bedad0e",
   "metadata": {},
   "outputs": [
    {
     "data": {
      "text/html": [
       "<table class=\"dataframe\">\n",
       "<caption>A matrix: 2 × 2 of type dbl</caption>\n",
       "<tbody>\n",
       "\t<tr><td>1</td><td>2</td></tr>\n",
       "\t<tr><td>3</td><td>4</td></tr>\n",
       "</tbody>\n",
       "</table>\n"
      ],
      "text/latex": [
       "A matrix: 2 × 2 of type dbl\n",
       "\\begin{tabular}{ll}\n",
       "\t 1 & 2\\\\\n",
       "\t 3 & 4\\\\\n",
       "\\end{tabular}\n"
      ],
      "text/markdown": [
       "\n",
       "A matrix: 2 × 2 of type dbl\n",
       "\n",
       "| 1 | 2 |\n",
       "| 3 | 4 |\n",
       "\n"
      ],
      "text/plain": [
       "     [,1] [,2]\n",
       "[1,] 1    2   \n",
       "[2,] 3    4   "
      ]
     },
     "metadata": {},
     "output_type": "display_data"
    }
   ],
   "source": [
    "matrix(c(1, 2, 3, 4), 2, 2, byrow = TRUE)"
   ]
  },
  {
   "cell_type": "markdown",
   "id": "223eef6e-2933-471e-8f73-9636f00b58d6",
   "metadata": {},
   "source": [
    "The `sqrt()` function returns the square root of each element of a vector or matrix. The command `x^2` raises each element of `x` to the power `2`; any powers are possible, including fractional or negative powers."
   ]
  },
  {
   "cell_type": "code",
   "execution_count": 13,
   "id": "d1e5f2bd-0d39-47a2-aaff-e96c5410a3c0",
   "metadata": {},
   "outputs": [
    {
     "data": {
      "text/html": [
       "<table class=\"dataframe\">\n",
       "<caption>A matrix: 2 × 2 of type dbl</caption>\n",
       "<tbody>\n",
       "\t<tr><td>1.000000</td><td>1.732051</td></tr>\n",
       "\t<tr><td>1.414214</td><td>2.000000</td></tr>\n",
       "</tbody>\n",
       "</table>\n"
      ],
      "text/latex": [
       "A matrix: 2 × 2 of type dbl\n",
       "\\begin{tabular}{ll}\n",
       "\t 1.000000 & 1.732051\\\\\n",
       "\t 1.414214 & 2.000000\\\\\n",
       "\\end{tabular}\n"
      ],
      "text/markdown": [
       "\n",
       "A matrix: 2 × 2 of type dbl\n",
       "\n",
       "| 1.000000 | 1.732051 |\n",
       "| 1.414214 | 2.000000 |\n",
       "\n"
      ],
      "text/plain": [
       "     [,1]     [,2]    \n",
       "[1,] 1.000000 1.732051\n",
       "[2,] 1.414214 2.000000"
      ]
     },
     "metadata": {},
     "output_type": "display_data"
    }
   ],
   "source": [
    "sqrt(x)"
   ]
  },
  {
   "cell_type": "code",
   "execution_count": null,
   "id": "b46b7f85-3c14-445b-8659-166ccb01f5d4",
   "metadata": {},
   "outputs": [],
   "source": []
  }
 ],
 "metadata": {
  "kernelspec": {
   "display_name": "R",
   "language": "R",
   "name": "ir"
  },
  "language_info": {
   "codemirror_mode": "r",
   "file_extension": ".r",
   "mimetype": "text/x-r-source",
   "name": "R",
   "pygments_lexer": "r",
   "version": "4.1.3"
  }
 },
 "nbformat": 4,
 "nbformat_minor": 5
}
