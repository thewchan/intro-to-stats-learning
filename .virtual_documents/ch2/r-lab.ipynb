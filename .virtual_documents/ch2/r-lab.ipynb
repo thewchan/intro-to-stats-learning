x <- c(1, 3, 2, 5)
x


x = c(1, 6, 2)
y = c(1, 4, 3)
x
y


?c


length(x)


length(y)


x + y


ls()


rm(x, y)


ls()


?matrix


x <- matrix(data = c(1, 2, 3, 4), nrow = 2, ncol = 2)
x


matrix(c(1, 2, 3, 4), 2, 2, byrow = TRUE)


sqrt(x)


x^2


x <- rnorm(50)
x


y <- x + rnorm(50, mean = 50, sd = .1)
y


cor(x, y)


set.seed(1303)
rnorm(50)


set.seed(3)
y <- rnorm(100)
mean(y)


var(y)


sqrt(var(y))


sd(y)


x <- rnorm(100)
y <- rnorm(100)
plot(x, y, xlab = "this is the x-axis",
     ylab = "this is the y-axis",
     main = "Plot of X vs Y")


pdf("Figure.pdf")
plot(x, y, col = "green")
dev.off()


x <- seq(1, 10)
x


x <- 1:10
x


x <- seq(-pi, pi, length = 50)
x


y <- x
f <- outer(x, y, function(x, y) cos(y) / (1 + x^2))
f


contour(x, y, f)


fa <- (f - t(f)) / 2
fa


contour(x, y, fa, nlevels = 15)


image(x, y, fa)


persp(x, y, fa)


persp(x, y, fa, theta = 30)


persp(x, y, fa, theta = 30, phi=20)


persp(x, y, fa, theta = 30, phi=70)


persp(x, y, fa, theta = 30, phi=40)


A <- matrix(1:16, 4, 4)
A


A[2, 3]


A[c(1, 3), c(2, 4)]


A[1:3, 2:4]


A[1:2, ]


A[, 1:2]


A[1, ]


A[-c(1, 3), ]


dim(A)


Auto <- read.table("Auto.data")


Auto


View(Auto)


head(Auto)


Auto <- read.table("Auto.data", header = TRUE, na.strings = "?", stringsAsFactors = TRUE)
Auto


Auto <- read.csv("Auto.csv", na.strings = "?", stringsAsFactors = TRUE)
Auto


dim(Auto)


Auto <- na.omit(Auto)
dim(Auto)


names(Auto)


tryCatch(
    expr = { plot(cylinders, mpg) },
    error = function(e) { print(e) }
)


plot(Auto$cylinders, Auto$mpg)


?attach


attach(Auto)
plot(cylinders, mpg)


cylinders <- as.factor(cylinders)
cylinders


plot(cylinders, mpg)


plot(cylinders, mpg, col = "red")


plot(cylinders, mpg, col = "red", varwidth = TRUE)


plot(cylinders, mpg, col = "red", varwidth = TRUE, horizontal = TRUE)


plot(cylinders, mpg, col = "red", varwidth = TRUE, xlab = "cylinders", ylab = "MPG")


hist(mpg)


hist(mpg, col = 2)


hist(mpg, col = 2, breaks = 15)


pairs(Auto)


pairs(
    ~ mpg + displacement + horsepower + weight + acceleration,
    data = Auto
)


plot(horsepower, mpg)
identify(horsepower, mpg, name)


summary(Auto)


summary(mpg)


college <- read.csv("College.csv", stringsAsFactors = TRUE)
head(college)


rownames(college) <- college[, 1]
head(college)


college <- college[, -1]
head(college)


summary(college)


pairs(college[, 1:10])


plot(college$Private, college$Outstate, xlab = "Private", ylab = "Outstate")


?rep


?nrow


Elite <- rep("No", nrow(college))
Elite[college$Top10perc > 50] <- "Yes"
Elite <- as.factor(Elite)
college <- data.frame(college, Elite)
head(college)


summary(college$Elite)


plot(college$Elite, college$Outstate, xlab = "Elite", ylab = "Outstate")


par(mfrow = c(2, 2))
hist(college$Apps)
hist(college$Accept)
hist(college$Enroll)
hist(college$Top10perc)



